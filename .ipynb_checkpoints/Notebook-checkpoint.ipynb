{
 "cells": [
  {
   "cell_type": "code",
   "execution_count": 2,
   "id": "044ba71d",
   "metadata": {},
   "outputs": [
    {
     "name": "stderr",
     "output_type": "stream",
     "text": [
      "/home/musiliandrew/anaconda3/lib/python3.10/site-packages/pandas/core/arrays/masked.py:60: UserWarning: Pandas requires version '1.3.6' or newer of 'bottleneck' (version '1.3.5' currently installed).\n",
      "  from pandas.core import (\n"
     ]
    }
   ],
   "source": [
    "import yfinance as yf\n",
    "import pandas as pd\n",
    "import time\n",
    "import requests"
   ]
  },
  {
   "cell_type": "code",
   "execution_count": 6,
   "id": "07109bbc",
   "metadata": {},
   "outputs": [
    {
     "name": "stdout",
     "output_type": "stream",
     "text": [
      "['AAPL', 'NVDA', 'MSFT', 'GOOG', 'GOOGL', 'AMZN', 'META', 'TSLA', 'AVGO', 'BRK.B', 'WMT', 'JPM', 'LLY', 'V', 'UNH', 'XOM', 'MA', 'ORCL', 'COST', 'HD', 'PG', 'NFLX', 'BAC', 'JNJ', 'CRM', 'ABBV', 'CVX', 'KO', 'MRK', 'WFC', 'TMUS', 'CSCO', 'AXP', 'ACN', 'NOW', 'BX', 'TMO', 'MS', 'ISRG', 'GS', 'LIN', 'IBM', 'MCD', 'PEP', 'DIS', 'GE', 'AMD', 'ABT', 'PM', 'QCOM', 'ADBE', 'CAT', 'TXN', 'INTU', 'DHR', 'VZ', 'BKNG', 'RTX', 'T', 'BLK', 'PLTR', 'SPGI', 'PFE', 'C', 'ANET', 'AMAT', 'LOW', 'AMGN', 'BSX', 'HON', 'NEE', 'PGR', 'UBER', 'SYK', 'UNP', 'CMCSA', 'COP', 'ETN', 'SCHW', 'TJX', 'KKR', 'BA', 'ADP', 'DE', 'FI', 'GILD', 'MU', 'LMT', 'PANW', 'BMY', 'MDT', 'VRTX', 'UPS', 'ADI', 'CB', 'GEV', 'SBUX', 'NKE', 'MMC', 'PLD', 'LRCX', 'KLAC', 'CEG', 'APO', 'ELV', 'SO', 'PYPL', 'CRWD', 'SHW', 'EQIX', 'TT', 'MO', 'APH', 'MCO', 'ICE', 'INTC', 'PH', 'AMT', 'WM', 'ABNB', 'CDNS', 'DUK', 'CME', 'PNC', 'USB', 'CI', 'CTAS', 'WELL', 'SNPS', 'CMG', 'AON', 'HCA', 'MSI', 'EOG', 'MAR', 'DELL', 'MDLZ', 'REGN', 'ZTS', 'MMM', 'ITW', 'MCK', 'GD', 'COF', 'TDG', 'AJG', 'CL', 'FTNT', 'WMB', 'ORLY', 'NOC', 'EMR', 'APD', 'BDX', 'ECL', 'FDX', 'WDAY', 'RSG', 'CVS', 'KMI', 'SPG', 'CSX', 'RCL', 'ADSK', 'OKE', 'CARR', 'TGT', 'TFC', 'BK', 'HLT', 'DLR', 'MET', 'AFL', 'VST', 'FCX', 'PCAR', 'SLB', 'GM', 'ROP', 'CHTR', 'TRV', 'NSC', 'CPRT', 'NXPI', 'AZO', 'GWW', 'JCI', 'FANG', 'SRE', 'AMP', 'PAYX', 'PSA', 'AEP', 'ALL', 'HWM', 'CMI', 'OXY', 'FICO', 'ROST', 'PSX']\n"
     ]
    }
   ],
   "source": [
    "# A module to read the tickers file \n",
    "def readfile(filename:str):\n",
    "    \n",
    "    try:\n",
    "        with open(filename, 'r') as file:\n",
    "            tickers = [line.strip() for line in file]\n",
    "        return tickers\n",
    "    \n",
    "    except FileNotFoundError:\n",
    "        print(f\"Error: File '{filename}' not found.\")\n",
    "    \n",
    "    except Exception as e:\n",
    "        print(f\"Error reading file: {e}\")\n",
    "              \n",
    "# reading file\n",
    "tickers_list = readfile('tickers.txt')\n",
    "print(tickers_list)\n",
    "\n",
    "# 5 years time period:\n",
    "start_date = '2018-01-01'\n",
    "end_date = '2023-12-31'"
   ]
  },
  {
   "cell_type": "code",
   "execution_count": null,
   "id": "349a154f",
   "metadata": {},
   "outputs": [],
   "source": [
    "# creating empty Dataframes to store data\n",
    "daily_prices = pd.DataFrame()\n",
    "annual_financials = pd.DataFrame()\n",
    "\n",
    "\n",
    "# Function to download daily stock prices and trading volume\n",
    "def download_stock_prices(tickers, start_date, end_date):\n",
    "    global daily prices\n",
    "    for ticker in tickers:\n",
    "        print(\"Downloading data for {ticker}...\")\n",
    "        try:\n",
    "            # using yfinance to fetch data\n",
    "            data = yf.download(ticker, start_date, end_date)\n",
    "            data['Ticker']= ticker # add ticker column\n",
    "            daily_prices = pd.concat([daily_prices, data])\n",
    "        except Exception as e:\n",
    "            print(f\"Error downloading {ticker}: {e})\n",
    "        time.sleep()"
   ]
  }
 ],
 "metadata": {
  "kernelspec": {
   "display_name": "Python 3 (ipykernel)",
   "language": "python",
   "name": "python3"
  },
  "language_info": {
   "codemirror_mode": {
    "name": "ipython",
    "version": 3
   },
   "file_extension": ".py",
   "mimetype": "text/x-python",
   "name": "python",
   "nbconvert_exporter": "python",
   "pygments_lexer": "ipython3",
   "version": "3.10.9"
  }
 },
 "nbformat": 4,
 "nbformat_minor": 5
}
