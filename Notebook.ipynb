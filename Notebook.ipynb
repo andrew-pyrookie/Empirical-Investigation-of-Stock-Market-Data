{
 "cells": [
  {
   "cell_type": "code",
   "execution_count": 1,
   "id": "044ba71d",
   "metadata": {},
   "outputs": [
    {
     "name": "stderr",
     "output_type": "stream",
     "text": [
      "/home/musiliandrew/anaconda3/lib/python3.10/site-packages/pandas/core/arrays/masked.py:60: UserWarning: Pandas requires version '1.3.6' or newer of 'bottleneck' (version '1.3.5' currently installed).\n",
      "  from pandas.core import (\n"
     ]
    }
   ],
   "source": [
    "import yfinance as yf\n",
    "import pandas as pd\n",
    "import time\n",
    "import requests"
   ]
  },
  {
   "cell_type": "code",
   "execution_count": 2,
   "id": "07109bbc",
   "metadata": {},
   "outputs": [],
   "source": [
    "import json\n",
    "\n",
    "# A module to read the tickers file \n",
    "def readfile(filename:str, limit: int =200):\n",
    "    \n",
    "    try:\n",
    "        with open(filename, 'r') as file:\n",
    "            #parsing the json data\n",
    "            data = json.load(file)\n",
    "            \n",
    "            tickers = [entry['ticker'] for entry in data.values()][:limit]\n",
    "            company_names = [entry['title'] for entry in data.values()][:limit]\n",
    "            \n",
    "        return tickers, company_names\n",
    "    \n",
    "    except FileNotFoundError:\n",
    "        print(f\"Error: File '{filename}' not found.\")\n",
    "    \n",
    "    except Exception as e:\n",
    "        print(f\"Error reading file: {e}\")\n",
    "              \n",
    "# reading file\n",
    "tickers, company_names = readfile('company_tickers.json', limit=200)\n",
    "\n",
    "\n",
    "# 5 years time period:\n",
    "start_date = '2017-12-31'\n",
    "end_date = '2024-01-02'"
   ]
  },
  {
   "cell_type": "code",
   "execution_count": 3,
   "id": "fd943240",
   "metadata": {},
   "outputs": [
    {
     "name": "stdout",
     "output_type": "stream",
     "text": [
      "GOOGL\n"
     ]
    }
   ],
   "source": [
    "print(tickers[3])"
   ]
  },
  {
   "cell_type": "code",
   "execution_count": 16,
   "id": "349a154f",
   "metadata": {},
   "outputs": [
    {
     "name": "stderr",
     "output_type": "stream",
     "text": [
      "[*********************100%***********************]  1 of 1 completed\n"
     ]
    },
    {
     "name": "stdout",
     "output_type": "stream",
     "text": [
      "Saved data for AAPL to (ticker).csv\n"
     ]
    },
    {
     "name": "stderr",
     "output_type": "stream",
     "text": [
      "[*********************100%***********************]  1 of 1 completed\n"
     ]
    },
    {
     "name": "stdout",
     "output_type": "stream",
     "text": [
      "Saved data for NVDA to (ticker).csv\n"
     ]
    },
    {
     "name": "stderr",
     "output_type": "stream",
     "text": [
      "[*********************100%***********************]  1 of 1 completed\n"
     ]
    },
    {
     "name": "stdout",
     "output_type": "stream",
     "text": [
      "Saved data for MSFT to (ticker).csv\n"
     ]
    },
    {
     "name": "stderr",
     "output_type": "stream",
     "text": [
      "[*********************100%***********************]  1 of 1 completed\n"
     ]
    },
    {
     "name": "stdout",
     "output_type": "stream",
     "text": [
      "Saved data for GOOGL to (ticker).csv\n"
     ]
    },
    {
     "name": "stderr",
     "output_type": "stream",
     "text": [
      "[*********************100%***********************]  1 of 1 completed\n"
     ]
    },
    {
     "name": "stdout",
     "output_type": "stream",
     "text": [
      "Saved data for AMZN to (ticker).csv\n"
     ]
    },
    {
     "name": "stderr",
     "output_type": "stream",
     "text": [
      "[*********************100%***********************]  1 of 1 completed\n"
     ]
    },
    {
     "name": "stdout",
     "output_type": "stream",
     "text": [
      "Saved data for META to (ticker).csv\n"
     ]
    },
    {
     "name": "stderr",
     "output_type": "stream",
     "text": [
      "[*********************100%***********************]  1 of 1 completed\n"
     ]
    },
    {
     "name": "stdout",
     "output_type": "stream",
     "text": [
      "Saved data for TSLA to (ticker).csv\n"
     ]
    },
    {
     "name": "stderr",
     "output_type": "stream",
     "text": [
      "[*********************100%***********************]  1 of 1 completed\n"
     ]
    },
    {
     "name": "stdout",
     "output_type": "stream",
     "text": [
      "Saved data for AVGO to (ticker).csv\n"
     ]
    },
    {
     "name": "stderr",
     "output_type": "stream",
     "text": [
      "[*********************100%***********************]  1 of 1 completed\n"
     ]
    },
    {
     "name": "stdout",
     "output_type": "stream",
     "text": [
      "Saved data for BRK-B to (ticker).csv\n"
     ]
    },
    {
     "name": "stderr",
     "output_type": "stream",
     "text": [
      "[*********************100%***********************]  1 of 1 completed\n"
     ]
    },
    {
     "name": "stdout",
     "output_type": "stream",
     "text": [
      "Saved data for WMT to (ticker).csv\n"
     ]
    },
    {
     "name": "stderr",
     "output_type": "stream",
     "text": [
      "[*********************100%***********************]  1 of 1 completed\n"
     ]
    },
    {
     "name": "stdout",
     "output_type": "stream",
     "text": [
      "Saved data for LLY to (ticker).csv\n"
     ]
    },
    {
     "name": "stderr",
     "output_type": "stream",
     "text": [
      "[*********************100%***********************]  1 of 1 completed\n"
     ]
    },
    {
     "name": "stdout",
     "output_type": "stream",
     "text": [
      "Saved data for JPM to (ticker).csv\n"
     ]
    },
    {
     "name": "stderr",
     "output_type": "stream",
     "text": [
      "[*********************100%***********************]  1 of 1 completed\n"
     ]
    },
    {
     "name": "stdout",
     "output_type": "stream",
     "text": [
      "Saved data for V to (ticker).csv\n"
     ]
    },
    {
     "name": "stderr",
     "output_type": "stream",
     "text": [
      "[*********************100%***********************]  1 of 1 completed\n"
     ]
    },
    {
     "name": "stdout",
     "output_type": "stream",
     "text": [
      "Saved data for SPY to (ticker).csv\n"
     ]
    },
    {
     "name": "stderr",
     "output_type": "stream",
     "text": [
      "[*********************100%***********************]  1 of 1 completed\n"
     ]
    },
    {
     "name": "stdout",
     "output_type": "stream",
     "text": [
      "Saved data for UNH to (ticker).csv\n"
     ]
    },
    {
     "name": "stderr",
     "output_type": "stream",
     "text": [
      "[*********************100%***********************]  1 of 1 completed\n"
     ]
    },
    {
     "name": "stdout",
     "output_type": "stream",
     "text": [
      "Saved data for XOM to (ticker).csv\n"
     ]
    },
    {
     "name": "stderr",
     "output_type": "stream",
     "text": [
      "[*********************100%***********************]  1 of 1 completed\n"
     ]
    },
    {
     "name": "stdout",
     "output_type": "stream",
     "text": [
      "Saved data for MA to (ticker).csv\n"
     ]
    },
    {
     "name": "stderr",
     "output_type": "stream",
     "text": [
      "[*********************100%***********************]  1 of 1 completed\n"
     ]
    },
    {
     "name": "stdout",
     "output_type": "stream",
     "text": [
      "Saved data for ORCL to (ticker).csv\n"
     ]
    },
    {
     "name": "stderr",
     "output_type": "stream",
     "text": [
      "[*********************100%***********************]  1 of 1 completed\n"
     ]
    },
    {
     "name": "stdout",
     "output_type": "stream",
     "text": [
      "Saved data for COST to (ticker).csv\n"
     ]
    },
    {
     "name": "stderr",
     "output_type": "stream",
     "text": [
      "[*********************100%***********************]  1 of 1 completed\n"
     ]
    },
    {
     "name": "stdout",
     "output_type": "stream",
     "text": [
      "Saved data for HD to (ticker).csv\n"
     ]
    },
    {
     "name": "stderr",
     "output_type": "stream",
     "text": [
      "[*********************100%***********************]  1 of 1 completed\n"
     ]
    },
    {
     "name": "stdout",
     "output_type": "stream",
     "text": [
      "Saved data for NVO to (ticker).csv\n"
     ]
    },
    {
     "name": "stderr",
     "output_type": "stream",
     "text": [
      "[*********************100%***********************]  1 of 1 completed\n"
     ]
    },
    {
     "name": "stdout",
     "output_type": "stream",
     "text": [
      "Saved data for PG to (ticker).csv\n"
     ]
    },
    {
     "name": "stderr",
     "output_type": "stream",
     "text": [
      "[*********************100%***********************]  1 of 1 completed\n"
     ]
    },
    {
     "name": "stdout",
     "output_type": "stream",
     "text": [
      "Saved data for NFLX to (ticker).csv\n"
     ]
    },
    {
     "name": "stderr",
     "output_type": "stream",
     "text": [
      "[*********************100%***********************]  1 of 1 completed\n"
     ]
    },
    {
     "name": "stdout",
     "output_type": "stream",
     "text": [
      "Saved data for BAC to (ticker).csv\n"
     ]
    },
    {
     "name": "stderr",
     "output_type": "stream",
     "text": [
      "[*********************100%***********************]  1 of 1 completed\n"
     ]
    },
    {
     "name": "stdout",
     "output_type": "stream",
     "text": [
      "Saved data for JNJ to (ticker).csv\n"
     ]
    },
    {
     "name": "stderr",
     "output_type": "stream",
     "text": [
      "[*********************100%***********************]  1 of 1 completed\n"
     ]
    },
    {
     "name": "stdout",
     "output_type": "stream",
     "text": [
      "Saved data for ABBV to (ticker).csv\n"
     ]
    },
    {
     "name": "stderr",
     "output_type": "stream",
     "text": [
      "[*********************100%***********************]  1 of 1 completed\n"
     ]
    },
    {
     "name": "stdout",
     "output_type": "stream",
     "text": [
      "Saved data for CRM to (ticker).csv\n"
     ]
    },
    {
     "name": "stderr",
     "output_type": "stream",
     "text": [
      "[*********************100%***********************]  1 of 1 completed\n"
     ]
    },
    {
     "name": "stdout",
     "output_type": "stream",
     "text": [
      "Saved data for SAP to (ticker).csv\n"
     ]
    },
    {
     "name": "stderr",
     "output_type": "stream",
     "text": [
      "[*********************100%***********************]  1 of 1 completed\n"
     ]
    },
    {
     "name": "stdout",
     "output_type": "stream",
     "text": [
      "Saved data for ASML to (ticker).csv\n"
     ]
    },
    {
     "name": "stderr",
     "output_type": "stream",
     "text": [
      "[*********************100%***********************]  1 of 1 completed\n"
     ]
    },
    {
     "name": "stdout",
     "output_type": "stream",
     "text": [
      "Saved data for RCIT to (ticker).csv\n"
     ]
    },
    {
     "name": "stderr",
     "output_type": "stream",
     "text": [
      "[*********************100%***********************]  1 of 1 completed\n"
     ]
    },
    {
     "name": "stdout",
     "output_type": "stream",
     "text": [
      "Saved data for CVX to (ticker).csv\n"
     ]
    },
    {
     "name": "stderr",
     "output_type": "stream",
     "text": [
      "[*********************100%***********************]  1 of 1 completed\n"
     ]
    },
    {
     "name": "stdout",
     "output_type": "stream",
     "text": [
      "Saved data for KO to (ticker).csv\n"
     ]
    },
    {
     "name": "stderr",
     "output_type": "stream",
     "text": [
      "[*********************100%***********************]  1 of 1 completed\n"
     ]
    },
    {
     "name": "stdout",
     "output_type": "stream",
     "text": [
      "Saved data for MRK to (ticker).csv\n"
     ]
    },
    {
     "name": "stderr",
     "output_type": "stream",
     "text": [
      "[*********************100%***********************]  1 of 1 completed\n"
     ]
    },
    {
     "name": "stdout",
     "output_type": "stream",
     "text": [
      "Saved data for TMUS to (ticker).csv\n"
     ]
    },
    {
     "name": "stderr",
     "output_type": "stream",
     "text": [
      "[*********************100%***********************]  1 of 1 completed\n"
     ]
    },
    {
     "name": "stdout",
     "output_type": "stream",
     "text": [
      "Saved data for TM to (ticker).csv\n"
     ]
    },
    {
     "name": "stderr",
     "output_type": "stream",
     "text": [
      "[*********************100%***********************]  1 of 1 completed\n"
     ]
    },
    {
     "name": "stdout",
     "output_type": "stream",
     "text": [
      "Saved data for CSCO to (ticker).csv\n"
     ]
    },
    {
     "name": "stderr",
     "output_type": "stream",
     "text": [
      "[*********************100%***********************]  1 of 1 completed\n"
     ]
    },
    {
     "name": "stdout",
     "output_type": "stream",
     "text": [
      "Saved data for WFC to (ticker).csv\n"
     ]
    },
    {
     "name": "stderr",
     "output_type": "stream",
     "text": [
      "[*********************100%***********************]  1 of 1 completed\n"
     ]
    },
    {
     "name": "stdout",
     "output_type": "stream",
     "text": [
      "Saved data for ACN to (ticker).csv\n"
     ]
    },
    {
     "name": "stderr",
     "output_type": "stream",
     "text": [
      "[*********************100%***********************]  1 of 1 completed\n"
     ]
    },
    {
     "name": "stdout",
     "output_type": "stream",
     "text": [
      "Saved data for NOW to (ticker).csv\n"
     ]
    },
    {
     "name": "stderr",
     "output_type": "stream",
     "text": [
      "[*********************100%***********************]  1 of 1 completed\n"
     ]
    },
    {
     "name": "stdout",
     "output_type": "stream",
     "text": [
      "Saved data for AZN to (ticker).csv\n"
     ]
    },
    {
     "name": "stderr",
     "output_type": "stream",
     "text": [
      "[*********************100%***********************]  1 of 1 completed\n"
     ]
    },
    {
     "name": "stdout",
     "output_type": "stream",
     "text": [
      "Saved data for TMO to (ticker).csv\n"
     ]
    },
    {
     "name": "stderr",
     "output_type": "stream",
     "text": [
      "[*********************100%***********************]  1 of 1 completed\n"
     ]
    },
    {
     "name": "stdout",
     "output_type": "stream",
     "text": [
      "Saved data for AXP to (ticker).csv\n"
     ]
    },
    {
     "name": "stderr",
     "output_type": "stream",
     "text": [
      "[*********************100%***********************]  1 of 1 completed\n"
     ]
    },
    {
     "name": "stdout",
     "output_type": "stream",
     "text": [
      "Saved data for IBM to (ticker).csv\n"
     ]
    },
    {
     "name": "stderr",
     "output_type": "stream",
     "text": [
      "[*********************100%***********************]  1 of 1 completed\n"
     ]
    },
    {
     "name": "stdout",
     "output_type": "stream",
     "text": [
      "Saved data for MCD to (ticker).csv\n"
     ]
    },
    {
     "name": "stderr",
     "output_type": "stream",
     "text": [
      "[*********************100%***********************]  1 of 1 completed\n"
     ]
    },
    {
     "name": "stdout",
     "output_type": "stream",
     "text": [
      "Saved data for BX to (ticker).csv\n"
     ]
    },
    {
     "name": "stderr",
     "output_type": "stream",
     "text": [
      "[*********************100%***********************]  1 of 1 completed\n"
     ]
    },
    {
     "name": "stdout",
     "output_type": "stream",
     "text": [
      "Saved data for QQQ to (ticker).csv\n"
     ]
    },
    {
     "name": "stderr",
     "output_type": "stream",
     "text": [
      "[*********************100%***********************]  1 of 1 completed\n"
     ]
    },
    {
     "name": "stdout",
     "output_type": "stream",
     "text": [
      "Saved data for MS to (ticker).csv\n"
     ]
    },
    {
     "name": "stderr",
     "output_type": "stream",
     "text": [
      "[*********************100%***********************]  1 of 1 completed\n"
     ]
    },
    {
     "name": "stdout",
     "output_type": "stream",
     "text": [
      "Saved data for NVS to (ticker).csv\n"
     ]
    },
    {
     "name": "stderr",
     "output_type": "stream",
     "text": [
      "[*********************100%***********************]  1 of 1 completed\n"
     ]
    },
    {
     "name": "stdout",
     "output_type": "stream",
     "text": [
      "Saved data for DIS to (ticker).csv\n"
     ]
    },
    {
     "name": "stderr",
     "output_type": "stream",
     "text": [
      "[*********************100%***********************]  1 of 1 completed\n"
     ]
    },
    {
     "name": "stdout",
     "output_type": "stream",
     "text": [
      "Saved data for LIN to (ticker).csv\n"
     ]
    },
    {
     "name": "stderr",
     "output_type": "stream",
     "text": [
      "[*********************100%***********************]  1 of 1 completed\n"
     ]
    },
    {
     "name": "stdout",
     "output_type": "stream",
     "text": [
      "Saved data for SHEL to (ticker).csv\n"
     ]
    },
    {
     "name": "stderr",
     "output_type": "stream",
     "text": [
      "[*********************100%***********************]  1 of 1 completed\n"
     ]
    },
    {
     "name": "stdout",
     "output_type": "stream",
     "text": [
      "Saved data for PEP to (ticker).csv\n"
     ]
    },
    {
     "name": "stderr",
     "output_type": "stream",
     "text": [
      "[*********************100%***********************]  1 of 1 completed\n"
     ]
    },
    {
     "name": "stdout",
     "output_type": "stream",
     "text": [
      "Saved data for ISRG to (ticker).csv\n"
     ]
    },
    {
     "name": "stderr",
     "output_type": "stream",
     "text": [
      "[*********************100%***********************]  1 of 1 completed\n"
     ]
    },
    {
     "name": "stdout",
     "output_type": "stream",
     "text": [
      "Saved data for ABT to (ticker).csv\n"
     ]
    },
    {
     "name": "stderr",
     "output_type": "stream",
     "text": [
      "[*********************100%***********************]  1 of 1 completed\n"
     ]
    },
    {
     "name": "stdout",
     "output_type": "stream",
     "text": [
      "Saved data for BABA to (ticker).csv\n"
     ]
    },
    {
     "name": "stderr",
     "output_type": "stream",
     "text": [
      "[*********************100%***********************]  1 of 1 completed\n"
     ]
    },
    {
     "name": "stdout",
     "output_type": "stream",
     "text": [
      "Saved data for AMD to (ticker).csv\n"
     ]
    },
    {
     "name": "stderr",
     "output_type": "stream",
     "text": [
      "[*********************100%***********************]  1 of 1 completed\n"
     ]
    },
    {
     "name": "stdout",
     "output_type": "stream",
     "text": [
      "Saved data for GE to (ticker).csv\n"
     ]
    },
    {
     "name": "stderr",
     "output_type": "stream",
     "text": [
      "[*********************100%***********************]  1 of 1 completed\n"
     ]
    },
    {
     "name": "stdout",
     "output_type": "stream",
     "text": [
      "Saved data for PM to (ticker).csv\n"
     ]
    },
    {
     "name": "stderr",
     "output_type": "stream",
     "text": [
      "[*********************100%***********************]  1 of 1 completed\n"
     ]
    },
    {
     "name": "stdout",
     "output_type": "stream",
     "text": [
      "Saved data for ADBE to (ticker).csv\n"
     ]
    },
    {
     "name": "stderr",
     "output_type": "stream",
     "text": [
      "[*********************100%***********************]  1 of 1 completed\n"
     ]
    },
    {
     "name": "stdout",
     "output_type": "stream",
     "text": [
      "Saved data for HSBC to (ticker).csv\n"
     ]
    },
    {
     "name": "stderr",
     "output_type": "stream",
     "text": [
      "[*********************100%***********************]  1 of 1 completed\n"
     ]
    },
    {
     "name": "stdout",
     "output_type": "stream",
     "text": [
      "Saved data for GS to (ticker).csv\n"
     ]
    },
    {
     "name": "stderr",
     "output_type": "stream",
     "text": [
      "[*********************100%***********************]  1 of 1 completed\n"
     ]
    },
    {
     "name": "stdout",
     "output_type": "stream",
     "text": [
      "Saved data for INTU to (ticker).csv\n"
     ]
    },
    {
     "name": "stderr",
     "output_type": "stream",
     "text": [
      "[*********************100%***********************]  1 of 1 completed\n"
     ]
    },
    {
     "name": "stdout",
     "output_type": "stream",
     "text": [
      "Saved data for QCOM to (ticker).csv\n"
     ]
    },
    {
     "name": "stderr",
     "output_type": "stream",
     "text": [
      "[*********************100%***********************]  1 of 1 completed\n"
     ]
    },
    {
     "name": "stdout",
     "output_type": "stream",
     "text": [
      "Saved data for TXN to (ticker).csv\n"
     ]
    },
    {
     "name": "stderr",
     "output_type": "stream",
     "text": [
      "[*********************100%***********************]  1 of 1 completed\n"
     ]
    },
    {
     "name": "stdout",
     "output_type": "stream",
     "text": [
      "Saved data for CAT to (ticker).csv\n"
     ]
    },
    {
     "name": "stderr",
     "output_type": "stream",
     "text": [
      "[*********************100%***********************]  1 of 1 completed\n"
     ]
    },
    {
     "name": "stdout",
     "output_type": "stream",
     "text": [
      "Saved data for DHR to (ticker).csv\n"
     ]
    },
    {
     "name": "stderr",
     "output_type": "stream",
     "text": [
      "[*********************100%***********************]  1 of 1 completed\n"
     ]
    },
    {
     "name": "stdout",
     "output_type": "stream",
     "text": [
      "Saved data for RY to (ticker).csv\n"
     ]
    },
    {
     "name": "stderr",
     "output_type": "stream",
     "text": [
      "[*********************100%***********************]  1 of 1 completed\n"
     ]
    },
    {
     "name": "stdout",
     "output_type": "stream",
     "text": [
      "Saved data for VZ to (ticker).csv\n"
     ]
    },
    {
     "name": "stderr",
     "output_type": "stream",
     "text": [
      "[*********************100%***********************]  1 of 1 completed\n"
     ]
    },
    {
     "name": "stdout",
     "output_type": "stream",
     "text": [
      "Saved data for BKNG to (ticker).csv\n"
     ]
    },
    {
     "name": "stderr",
     "output_type": "stream",
     "text": [
      "[*********************100%***********************]  1 of 1 completed\n"
     ]
    },
    {
     "name": "stdout",
     "output_type": "stream",
     "text": [
      "Saved data for T to (ticker).csv\n"
     ]
    },
    {
     "name": "stderr",
     "output_type": "stream",
     "text": [
      "[*********************100%***********************]  1 of 1 completed\n"
     ]
    },
    {
     "name": "stdout",
     "output_type": "stream",
     "text": [
      "Saved data for RTX to (ticker).csv\n"
     ]
    },
    {
     "name": "stderr",
     "output_type": "stream",
     "text": [
      "[*********************100%***********************]  1 of 1 completed\n"
     ]
    },
    {
     "name": "stdout",
     "output_type": "stream",
     "text": [
      "Saved data for PLTR to (ticker).csv\n"
     ]
    },
    {
     "name": "stderr",
     "output_type": "stream",
     "text": [
      "[*********************100%***********************]  1 of 1 completed\n"
     ]
    },
    {
     "name": "stdout",
     "output_type": "stream",
     "text": [
      "Saved data for PFE to (ticker).csv\n"
     ]
    },
    {
     "name": "stderr",
     "output_type": "stream",
     "text": [
      "[*********************100%***********************]  1 of 1 completed\n"
     ]
    },
    {
     "name": "stdout",
     "output_type": "stream",
     "text": [
      "Saved data for HDB to (ticker).csv\n"
     ]
    },
    {
     "name": "stderr",
     "output_type": "stream",
     "text": [
      "[*********************100%***********************]  1 of 1 completed\n"
     ]
    },
    {
     "name": "stdout",
     "output_type": "stream",
     "text": [
      "Saved data for SPGI to (ticker).csv\n"
     ]
    },
    {
     "name": "stderr",
     "output_type": "stream",
     "text": [
      "[*********************100%***********************]  1 of 1 completed\n"
     ]
    },
    {
     "name": "stdout",
     "output_type": "stream",
     "text": [
      "Saved data for FMX to (ticker).csv\n"
     ]
    },
    {
     "name": "stderr",
     "output_type": "stream",
     "text": [
      "[*********************100%***********************]  1 of 1 completed\n"
     ]
    },
    {
     "name": "stdout",
     "output_type": "stream",
     "text": [
      "Saved data for BLK to (ticker).csv\n"
     ]
    },
    {
     "name": "stderr",
     "output_type": "stream",
     "text": [
      "[*********************100%***********************]  1 of 1 completed\n"
     ]
    },
    {
     "name": "stdout",
     "output_type": "stream",
     "text": [
      "Saved data for ARM to (ticker).csv\n"
     ]
    },
    {
     "name": "stderr",
     "output_type": "stream",
     "text": [
      "[*********************100%***********************]  1 of 1 completed\n"
     ]
    },
    {
     "name": "stdout",
     "output_type": "stream",
     "text": [
      "Saved data for ANET to (ticker).csv\n"
     ]
    },
    {
     "name": "stderr",
     "output_type": "stream",
     "text": [
      "[*********************100%***********************]  1 of 1 completed\n"
     ]
    },
    {
     "name": "stdout",
     "output_type": "stream",
     "text": [
      "Saved data for HON to (ticker).csv\n"
     ]
    },
    {
     "name": "stderr",
     "output_type": "stream",
     "text": [
      "[*********************100%***********************]  1 of 1 completed\n"
     ]
    },
    {
     "name": "stdout",
     "output_type": "stream",
     "text": [
      "Saved data for AMAT to (ticker).csv\n"
     ]
    },
    {
     "name": "stderr",
     "output_type": "stream",
     "text": [
      "[*********************100%***********************]  1 of 1 completed\n"
     ]
    },
    {
     "name": "stdout",
     "output_type": "stream",
     "text": [
      "Saved data for AMGN to (ticker).csv\n"
     ]
    },
    {
     "name": "stderr",
     "output_type": "stream",
     "text": [
      "[*********************100%***********************]  1 of 1 completed\n"
     ]
    },
    {
     "name": "stdout",
     "output_type": "stream",
     "text": [
      "Saved data for BSX to (ticker).csv\n"
     ]
    },
    {
     "name": "stderr",
     "output_type": "stream",
     "text": [
      "[*********************100%***********************]  1 of 1 completed\n"
     ]
    },
    {
     "name": "stdout",
     "output_type": "stream",
     "text": [
      "Saved data for LOW to (ticker).csv\n"
     ]
    },
    {
     "name": "stderr",
     "output_type": "stream",
     "text": [
      "[*********************100%***********************]  1 of 1 completed\n"
     ]
    },
    {
     "name": "stdout",
     "output_type": "stream",
     "text": [
      "Saved data for CMCSA to (ticker).csv\n"
     ]
    },
    {
     "name": "stderr",
     "output_type": "stream",
     "text": [
      "[*********************100%***********************]  1 of 1 completed\n"
     ]
    },
    {
     "name": "stdout",
     "output_type": "stream",
     "text": [
      "Saved data for SYK to (ticker).csv\n"
     ]
    },
    {
     "name": "stderr",
     "output_type": "stream",
     "text": [
      "[*********************100%***********************]  1 of 1 completed\n"
     ]
    },
    {
     "name": "stdout",
     "output_type": "stream",
     "text": [
      "Saved data for UBER to (ticker).csv\n"
     ]
    },
    {
     "name": "stderr",
     "output_type": "stream",
     "text": [
      "[*********************100%***********************]  1 of 1 completed\n"
     ]
    },
    {
     "name": "stdout",
     "output_type": "stream",
     "text": [
      "Saved data for NEE to (ticker).csv\n"
     ]
    },
    {
     "name": "stderr",
     "output_type": "stream",
     "text": [
      "[*********************100%***********************]  1 of 1 completed\n"
     ]
    },
    {
     "name": "stdout",
     "output_type": "stream",
     "text": [
      "Saved data for PGR to (ticker).csv\n"
     ]
    },
    {
     "name": "stderr",
     "output_type": "stream",
     "text": [
      "[*********************100%***********************]  1 of 1 completed\n"
     ]
    },
    {
     "name": "stdout",
     "output_type": "stream",
     "text": [
      "Saved data for MUFG to (ticker).csv\n"
     ]
    },
    {
     "name": "stderr",
     "output_type": "stream",
     "text": [
      "[*********************100%***********************]  1 of 1 completed\n"
     ]
    },
    {
     "name": "stdout",
     "output_type": "stream",
     "text": [
      "Saved data for UNP to (ticker).csv\n"
     ]
    },
    {
     "name": "stderr",
     "output_type": "stream",
     "text": [
      "[*********************100%***********************]  1 of 1 completed\n"
     ]
    },
    {
     "name": "stdout",
     "output_type": "stream",
     "text": [
      "Saved data for C to (ticker).csv\n"
     ]
    },
    {
     "name": "stderr",
     "output_type": "stream",
     "text": [
      "[*********************100%***********************]  1 of 1 completed\n"
     ]
    },
    {
     "name": "stdout",
     "output_type": "stream",
     "text": [
      "Saved data for ETN to (ticker).csv\n"
     ]
    },
    {
     "name": "stderr",
     "output_type": "stream",
     "text": [
      "[*********************100%***********************]  1 of 1 completed\n"
     ]
    },
    {
     "name": "stdout",
     "output_type": "stream",
     "text": [
      "Saved data for TJX to (ticker).csv\n"
     ]
    },
    {
     "name": "stderr",
     "output_type": "stream",
     "text": [
      "[*********************100%***********************]  1 of 1 completed\n"
     ]
    },
    {
     "name": "stdout",
     "output_type": "stream",
     "text": [
      "Saved data for SHOP to (ticker).csv\n"
     ]
    },
    {
     "name": "stderr",
     "output_type": "stream",
     "text": [
      "[*********************100%***********************]  1 of 1 completed\n"
     ]
    },
    {
     "name": "stdout",
     "output_type": "stream",
     "text": [
      "Saved data for SCHW to (ticker).csv\n"
     ]
    },
    {
     "name": "stderr",
     "output_type": "stream",
     "text": [
      "[*********************100%***********************]  1 of 1 completed\n"
     ]
    },
    {
     "name": "stdout",
     "output_type": "stream",
     "text": [
      "Saved data for PDD to (ticker).csv\n"
     ]
    },
    {
     "name": "stderr",
     "output_type": "stream",
     "text": [
      "[*********************100%***********************]  1 of 1 completed\n"
     ]
    },
    {
     "name": "stdout",
     "output_type": "stream",
     "text": [
      "Saved data for COP to (ticker).csv\n"
     ]
    },
    {
     "name": "stderr",
     "output_type": "stream",
     "text": [
      "[*********************100%***********************]  1 of 1 completed\n"
     ]
    },
    {
     "name": "stdout",
     "output_type": "stream",
     "text": [
      "Saved data for KKR to (ticker).csv\n"
     ]
    },
    {
     "name": "stderr",
     "output_type": "stream",
     "text": [
      "[*********************100%***********************]  1 of 1 completed\n"
     ]
    },
    {
     "name": "stdout",
     "output_type": "stream",
     "text": [
      "Saved data for BA to (ticker).csv\n"
     ]
    },
    {
     "name": "stderr",
     "output_type": "stream",
     "text": [
      "[*********************100%***********************]  1 of 1 completed\n"
     ]
    },
    {
     "name": "stdout",
     "output_type": "stream",
     "text": [
      "Saved data for TTE to (ticker).csv\n"
     ]
    },
    {
     "name": "stderr",
     "output_type": "stream",
     "text": [
      "[*********************100%***********************]  1 of 1 completed\n"
     ]
    },
    {
     "name": "stdout",
     "output_type": "stream",
     "text": [
      "Saved data for EADSY to (ticker).csv\n"
     ]
    },
    {
     "name": "stderr",
     "output_type": "stream",
     "text": [
      "[*********************100%***********************]  1 of 1 completed\n"
     ]
    },
    {
     "name": "stdout",
     "output_type": "stream",
     "text": [
      "Saved data for BHP to (ticker).csv\n"
     ]
    },
    {
     "name": "stderr",
     "output_type": "stream",
     "text": [
      "[*********************100%***********************]  1 of 1 completed\n"
     ]
    },
    {
     "name": "stdout",
     "output_type": "stream",
     "text": [
      "Saved data for SNY to (ticker).csv\n"
     ]
    },
    {
     "name": "stderr",
     "output_type": "stream",
     "text": [
      "[*********************100%***********************]  1 of 1 completed\n"
     ]
    },
    {
     "name": "stdout",
     "output_type": "stream",
     "text": [
      "Saved data for SONY to (ticker).csv\n"
     ]
    },
    {
     "name": "stderr",
     "output_type": "stream",
     "text": [
      "[*********************100%***********************]  1 of 1 completed\n"
     ]
    },
    {
     "name": "stdout",
     "output_type": "stream",
     "text": [
      "Saved data for RTNTF to (ticker).csv\n"
     ]
    },
    {
     "name": "stderr",
     "output_type": "stream",
     "text": [
      "[*********************100%***********************]  1 of 1 completed\n"
     ]
    },
    {
     "name": "stdout",
     "output_type": "stream",
     "text": [
      "Saved data for ADP to (ticker).csv\n"
     ]
    },
    {
     "name": "stderr",
     "output_type": "stream",
     "text": [
      "[*********************100%***********************]  1 of 1 completed\n"
     ]
    },
    {
     "name": "stdout",
     "output_type": "stream",
     "text": [
      "Saved data for FI to (ticker).csv\n"
     ]
    },
    {
     "name": "stderr",
     "output_type": "stream",
     "text": [
      "[*********************100%***********************]  1 of 1 completed\n"
     ]
    },
    {
     "name": "stdout",
     "output_type": "stream",
     "text": [
      "Saved data for BMY to (ticker).csv\n"
     ]
    },
    {
     "name": "stderr",
     "output_type": "stream",
     "text": [
      "[*********************100%***********************]  1 of 1 completed\n"
     ]
    },
    {
     "name": "stdout",
     "output_type": "stream",
     "text": [
      "Saved data for PANW to (ticker).csv\n"
     ]
    },
    {
     "name": "stderr",
     "output_type": "stream",
     "text": [
      "[*********************100%***********************]  1 of 1 completed\n"
     ]
    },
    {
     "name": "stdout",
     "output_type": "stream",
     "text": [
      "Saved data for DE to (ticker).csv\n"
     ]
    },
    {
     "name": "stderr",
     "output_type": "stream",
     "text": [
      "[*********************100%***********************]  1 of 1 completed\n"
     ]
    },
    {
     "name": "stdout",
     "output_type": "stream",
     "text": [
      "Saved data for GILD to (ticker).csv\n"
     ]
    },
    {
     "name": "stderr",
     "output_type": "stream",
     "text": [
      "[*********************100%***********************]  1 of 1 completed\n"
     ]
    },
    {
     "name": "stdout",
     "output_type": "stream",
     "text": [
      "Saved data for MU to (ticker).csv\n"
     ]
    },
    {
     "name": "stderr",
     "output_type": "stream",
     "text": [
      "[*********************100%***********************]  1 of 1 completed\n"
     ]
    },
    {
     "name": "stdout",
     "output_type": "stream",
     "text": [
      "Saved data for LMT to (ticker).csv\n"
     ]
    },
    {
     "name": "stderr",
     "output_type": "stream",
     "text": [
      "[*********************100%***********************]  1 of 1 completed\n"
     ]
    },
    {
     "name": "stdout",
     "output_type": "stream",
     "text": [
      "Saved data for APP to (ticker).csv\n"
     ]
    },
    {
     "name": "stderr",
     "output_type": "stream",
     "text": [
      "[*********************100%***********************]  1 of 1 completed\n"
     ]
    },
    {
     "name": "stdout",
     "output_type": "stream",
     "text": [
      "Saved data for ADI to (ticker).csv\n"
     ]
    },
    {
     "name": "stderr",
     "output_type": "stream",
     "text": [
      "[*********************100%***********************]  1 of 1 completed\n"
     ]
    },
    {
     "name": "stdout",
     "output_type": "stream",
     "text": [
      "Saved data for UBS to (ticker).csv\n"
     ]
    },
    {
     "name": "stderr",
     "output_type": "stream",
     "text": [
      "[*********************100%***********************]  1 of 1 completed\n"
     ]
    },
    {
     "name": "stdout",
     "output_type": "stream",
     "text": [
      "Saved data for NKE to (ticker).csv\n"
     ]
    },
    {
     "name": "stderr",
     "output_type": "stream",
     "text": [
      "[*********************100%***********************]  1 of 1 completed\n"
     ]
    },
    {
     "name": "stdout",
     "output_type": "stream",
     "text": [
      "Saved data for VRTX to (ticker).csv\n"
     ]
    },
    {
     "name": "stderr",
     "output_type": "stream",
     "text": [
      "[*********************100%***********************]  1 of 1 completed\n"
     ]
    },
    {
     "name": "stdout",
     "output_type": "stream",
     "text": [
      "Saved data for UPS to (ticker).csv\n"
     ]
    },
    {
     "name": "stderr",
     "output_type": "stream",
     "text": [
      "[*********************100%***********************]  1 of 1 completed\n"
     ]
    },
    {
     "name": "stdout",
     "output_type": "stream",
     "text": [
      "Saved data for SBUX to (ticker).csv\n"
     ]
    },
    {
     "name": "stderr",
     "output_type": "stream",
     "text": [
      "[*********************100%***********************]  1 of 1 completed\n"
     ]
    },
    {
     "name": "stdout",
     "output_type": "stream",
     "text": [
      "Saved data for CB to (ticker).csv\n"
     ]
    },
    {
     "name": "stderr",
     "output_type": "stream",
     "text": [
      "[*********************100%***********************]  1 of 1 completed\n"
     ]
    },
    {
     "name": "stdout",
     "output_type": "stream",
     "text": [
      "Saved data for MDT to (ticker).csv\n"
     ]
    },
    {
     "name": "stderr",
     "output_type": "stream",
     "text": [
      "[*********************100%***********************]  1 of 1 completed\n"
     ]
    },
    {
     "name": "stdout",
     "output_type": "stream",
     "text": [
      "Saved data for MMC to (ticker).csv\n"
     ]
    },
    {
     "name": "stderr",
     "output_type": "stream",
     "text": [
      "[*********************100%***********************]  1 of 1 completed\n"
     ]
    },
    {
     "name": "stdout",
     "output_type": "stream",
     "text": [
      "Saved data for IBN to (ticker).csv\n"
     ]
    },
    {
     "name": "stderr",
     "output_type": "stream",
     "text": [
      "[*********************100%***********************]  1 of 1 completed\n",
      "\n",
      "1 Failed download:\n",
      "['GEV']: YFPricesMissingError('$%ticker%: possibly delisted; no price data found  (1d 2017-12-31 -> 2024-01-02) (Yahoo error = \"Data doesn\\'t exist for startDate = 1514696400, endDate = 1704171600\")')\n"
     ]
    },
    {
     "name": "stdout",
     "output_type": "stream",
     "text": [
      "Saved data for GEV to (ticker).csv\n"
     ]
    },
    {
     "name": "stderr",
     "output_type": "stream",
     "text": [
      "[*********************100%***********************]  1 of 1 completed\n"
     ]
    },
    {
     "name": "stdout",
     "output_type": "stream",
     "text": [
      "Saved data for MRVL to (ticker).csv\n"
     ]
    },
    {
     "name": "stderr",
     "output_type": "stream",
     "text": [
      "[*********************100%***********************]  1 of 1 completed\n"
     ]
    },
    {
     "name": "stdout",
     "output_type": "stream",
     "text": [
      "Saved data for LRCX to (ticker).csv\n"
     ]
    },
    {
     "name": "stderr",
     "output_type": "stream",
     "text": [
      "[*********************100%***********************]  1 of 1 completed\n"
     ]
    },
    {
     "name": "stdout",
     "output_type": "stream",
     "text": [
      "Saved data for CEG to (ticker).csv\n"
     ]
    },
    {
     "name": "stderr",
     "output_type": "stream",
     "text": [
      "[*********************100%***********************]  1 of 1 completed\n"
     ]
    },
    {
     "name": "stdout",
     "output_type": "stream",
     "text": [
      "Saved data for PLD to (ticker).csv\n"
     ]
    },
    {
     "name": "stderr",
     "output_type": "stream",
     "text": [
      "[*********************100%***********************]  1 of 1 completed\n"
     ]
    },
    {
     "name": "stdout",
     "output_type": "stream",
     "text": [
      "Saved data for RIO to (ticker).csv\n"
     ]
    },
    {
     "name": "stderr",
     "output_type": "stream",
     "text": [
      "[*********************100%***********************]  1 of 1 completed\n"
     ]
    },
    {
     "name": "stdout",
     "output_type": "stream",
     "text": [
      "Saved data for ENB to (ticker).csv\n"
     ]
    },
    {
     "name": "stderr",
     "output_type": "stream",
     "text": [
      "[*********************100%***********************]  1 of 1 completed\n"
     ]
    },
    {
     "name": "stdout",
     "output_type": "stream",
     "text": [
      "Saved data for TD to (ticker).csv\n"
     ]
    },
    {
     "name": "stderr",
     "output_type": "stream",
     "text": [
      "[*********************100%***********************]  1 of 1 completed\n"
     ]
    },
    {
     "name": "stdout",
     "output_type": "stream",
     "text": [
      "Saved data for INFY to (ticker).csv\n"
     ]
    },
    {
     "name": "stderr",
     "output_type": "stream",
     "text": [
      "[*********************100%***********************]  1 of 1 completed\n"
     ]
    },
    {
     "name": "stdout",
     "output_type": "stream",
     "text": [
      "Saved data for SPOT to (ticker).csv\n"
     ]
    },
    {
     "name": "stderr",
     "output_type": "stream",
     "text": [
      "[*********************100%***********************]  1 of 1 completed\n"
     ]
    },
    {
     "name": "stdout",
     "output_type": "stream",
     "text": [
      "Saved data for AIQUY to (ticker).csv\n"
     ]
    },
    {
     "name": "stderr",
     "output_type": "stream",
     "text": [
      "[*********************100%***********************]  1 of 1 completed\n"
     ]
    },
    {
     "name": "stdout",
     "output_type": "stream",
     "text": [
      "Saved data for SMFG to (ticker).csv\n"
     ]
    },
    {
     "name": "stderr",
     "output_type": "stream",
     "text": [
      "[*********************100%***********************]  1 of 1 completed\n"
     ]
    },
    {
     "name": "stdout",
     "output_type": "stream",
     "text": [
      "Saved data for KLAC to (ticker).csv\n"
     ]
    },
    {
     "name": "stderr",
     "output_type": "stream",
     "text": [
      "[*********************100%***********************]  1 of 1 completed\n"
     ]
    },
    {
     "name": "stdout",
     "output_type": "stream",
     "text": [
      "Saved data for BUD to (ticker).csv\n"
     ]
    },
    {
     "name": "stderr",
     "output_type": "stream",
     "text": [
      "[*********************100%***********************]  1 of 1 completed\n"
     ]
    },
    {
     "name": "stdout",
     "output_type": "stream",
     "text": [
      "Saved data for MELI to (ticker).csv\n"
     ]
    },
    {
     "name": "stderr",
     "output_type": "stream",
     "text": [
      "[*********************100%***********************]  1 of 1 completed\n"
     ]
    },
    {
     "name": "stdout",
     "output_type": "stream",
     "text": [
      "Saved data for SO to (ticker).csv\n"
     ]
    },
    {
     "name": "stderr",
     "output_type": "stream",
     "text": [
      "[*********************100%***********************]  1 of 1 completed\n"
     ]
    },
    {
     "name": "stdout",
     "output_type": "stream",
     "text": [
      "Saved data for ELV to (ticker).csv\n"
     ]
    },
    {
     "name": "stderr",
     "output_type": "stream",
     "text": [
      "[*********************100%***********************]  1 of 1 completed\n"
     ]
    },
    {
     "name": "stdout",
     "output_type": "stream",
     "text": [
      "Saved data for APO to (ticker).csv\n"
     ]
    },
    {
     "name": "stderr",
     "output_type": "stream",
     "text": [
      "[*********************100%***********************]  1 of 1 completed\n"
     ]
    },
    {
     "name": "stdout",
     "output_type": "stream",
     "text": [
      "Saved data for CFRUY to (ticker).csv\n"
     ]
    },
    {
     "name": "stderr",
     "output_type": "stream",
     "text": [
      "[*********************100%***********************]  1 of 1 completed\n"
     ]
    },
    {
     "name": "stdout",
     "output_type": "stream",
     "text": [
      "Saved data for EQIX to (ticker).csv\n"
     ]
    },
    {
     "name": "stderr",
     "output_type": "stream",
     "text": [
      "[*********************100%***********************]  1 of 1 completed\n"
     ]
    },
    {
     "name": "stdout",
     "output_type": "stream",
     "text": [
      "Saved data for RELX to (ticker).csv\n"
     ]
    },
    {
     "name": "stderr",
     "output_type": "stream",
     "text": [
      "[*********************100%***********************]  1 of 1 completed\n"
     ]
    },
    {
     "name": "stdout",
     "output_type": "stream",
     "text": [
      "Saved data for CRWD to (ticker).csv\n"
     ]
    },
    {
     "name": "stderr",
     "output_type": "stream",
     "text": [
      "[*********************100%***********************]  1 of 1 completed\n"
     ]
    },
    {
     "name": "stdout",
     "output_type": "stream",
     "text": [
      "Saved data for MO to (ticker).csv\n"
     ]
    },
    {
     "name": "stderr",
     "output_type": "stream",
     "text": [
      "[*********************100%***********************]  1 of 1 completed\n"
     ]
    },
    {
     "name": "stdout",
     "output_type": "stream",
     "text": [
      "Saved data for APH to (ticker).csv\n"
     ]
    },
    {
     "name": "stderr",
     "output_type": "stream",
     "text": [
      "[*********************100%***********************]  1 of 1 completed\n"
     ]
    },
    {
     "name": "stdout",
     "output_type": "stream",
     "text": [
      "Saved data for TT to (ticker).csv\n"
     ]
    },
    {
     "name": "stderr",
     "output_type": "stream",
     "text": [
      "[*********************100%***********************]  1 of 1 completed\n"
     ]
    },
    {
     "name": "stdout",
     "output_type": "stream",
     "text": [
      "Saved data for BN to (ticker).csv\n"
     ]
    },
    {
     "name": "stderr",
     "output_type": "stream",
     "text": [
      "[*********************100%***********************]  1 of 1 completed\n"
     ]
    },
    {
     "name": "stdout",
     "output_type": "stream",
     "text": [
      "Saved data for PYPL to (ticker).csv\n"
     ]
    },
    {
     "name": "stderr",
     "output_type": "stream",
     "text": [
      "[*********************100%***********************]  1 of 1 completed\n"
     ]
    },
    {
     "name": "stdout",
     "output_type": "stream",
     "text": [
      "Saved data for BP to (ticker).csv\n"
     ]
    },
    {
     "name": "stderr",
     "output_type": "stream",
     "text": [
      "[*********************100%***********************]  1 of 1 completed\n"
     ]
    },
    {
     "name": "stdout",
     "output_type": "stream",
     "text": [
      "Saved data for SHW to (ticker).csv\n"
     ]
    },
    {
     "name": "stderr",
     "output_type": "stream",
     "text": [
      "[*********************100%***********************]  1 of 1 completed\n"
     ]
    },
    {
     "name": "stdout",
     "output_type": "stream",
     "text": [
      "Saved data for INTC to (ticker).csv\n"
     ]
    },
    {
     "name": "stderr",
     "output_type": "stream",
     "text": [
      "[*********************100%***********************]  1 of 1 completed\n"
     ]
    },
    {
     "name": "stdout",
     "output_type": "stream",
     "text": [
      "Saved data for WM to (ticker).csv\n"
     ]
    },
    {
     "name": "stderr",
     "output_type": "stream",
     "text": [
      "[*********************100%***********************]  1 of 1 completed\n"
     ]
    },
    {
     "name": "stdout",
     "output_type": "stream",
     "text": [
      "Saved data for PBR to (ticker).csv\n"
     ]
    },
    {
     "name": "stderr",
     "output_type": "stream",
     "text": [
      "[*********************100%***********************]  1 of 1 completed\n"
     ]
    },
    {
     "name": "stdout",
     "output_type": "stream",
     "text": [
      "Saved data for CDNS to (ticker).csv\n"
     ]
    },
    {
     "name": "stderr",
     "output_type": "stream",
     "text": [
      "[*********************100%***********************]  1 of 1 completed\n"
     ]
    },
    {
     "name": "stdout",
     "output_type": "stream",
     "text": [
      "Saved data for CME to (ticker).csv\n"
     ]
    },
    {
     "name": "stderr",
     "output_type": "stream",
     "text": [
      "[*********************100%***********************]  1 of 1 completed\n"
     ]
    },
    {
     "name": "stdout",
     "output_type": "stream",
     "text": [
      "Saved data for DUK to (ticker).csv\n"
     ]
    },
    {
     "name": "stderr",
     "output_type": "stream",
     "text": [
      "[*********************100%***********************]  1 of 1 completed\n"
     ]
    },
    {
     "name": "stdout",
     "output_type": "stream",
     "text": [
      "Saved data for ICE to (ticker).csv\n"
     ]
    },
    {
     "name": "stderr",
     "output_type": "stream",
     "text": [
      "[*********************100%***********************]  1 of 1 completed\n"
     ]
    },
    {
     "name": "stdout",
     "output_type": "stream",
     "text": [
      "Saved data for MCO to (ticker).csv\n"
     ]
    },
    {
     "name": "stderr",
     "output_type": "stream",
     "text": [
      "[*********************100%***********************]  1 of 1 completed\n"
     ]
    },
    {
     "name": "stdout",
     "output_type": "stream",
     "text": [
      "Saved data for MSTR to (ticker).csv\n"
     ]
    },
    {
     "name": "stderr",
     "output_type": "stream",
     "text": [
      "[*********************100%***********************]  1 of 1 completed\n"
     ]
    },
    {
     "name": "stdout",
     "output_type": "stream",
     "text": [
      "Saved data for ABNB to (ticker).csv\n"
     ]
    },
    {
     "name": "stderr",
     "output_type": "stream",
     "text": [
      "[*********************100%***********************]  1 of 1 completed\n"
     ]
    },
    {
     "name": "stdout",
     "output_type": "stream",
     "text": [
      "Saved data for AMT to (ticker).csv\n"
     ]
    },
    {
     "name": "stderr",
     "output_type": "stream",
     "text": [
      "[*********************100%***********************]  1 of 1 completed\n"
     ]
    },
    {
     "name": "stdout",
     "output_type": "stream",
     "text": [
      "Saved data for PH to (ticker).csv\n"
     ]
    },
    {
     "name": "stderr",
     "output_type": "stream",
     "text": [
      "[*********************100%***********************]  1 of 1 completed\n"
     ]
    },
    {
     "name": "stdout",
     "output_type": "stream",
     "text": [
      "Saved data for DELL to (ticker).csv\n"
     ]
    },
    {
     "name": "stderr",
     "output_type": "stream",
     "text": [
      "[*********************100%***********************]  1 of 1 completed\n"
     ]
    },
    {
     "name": "stdout",
     "output_type": "stream",
     "text": [
      "Saved data for BTI to (ticker).csv\n"
     ]
    },
    {
     "name": "stderr",
     "output_type": "stream",
     "text": [
      "[*********************100%***********************]  1 of 1 completed\n"
     ]
    },
    {
     "name": "stdout",
     "output_type": "stream",
     "text": [
      "Saved data for IBKR to (ticker).csv\n"
     ]
    },
    {
     "name": "stderr",
     "output_type": "stream",
     "text": [
      "[*********************100%***********************]  1 of 1 completed\n"
     ]
    },
    {
     "name": "stdout",
     "output_type": "stream",
     "text": [
      "Saved data for TOELY to (ticker).csv\n"
     ]
    },
    {
     "name": "stderr",
     "output_type": "stream",
     "text": [
      "[*********************100%***********************]  1 of 1 completed\n"
     ]
    },
    {
     "name": "stdout",
     "output_type": "stream",
     "text": [
      "Saved data for WELL to (ticker).csv\n"
     ]
    },
    {
     "name": "stderr",
     "output_type": "stream",
     "text": [
      "[*********************100%***********************]  1 of 1 completed\n"
     ]
    },
    {
     "name": "stdout",
     "output_type": "stream",
     "text": [
      "Saved data for CI to (ticker).csv\n"
     ]
    },
    {
     "name": "stderr",
     "output_type": "stream",
     "text": [
      "[*********************100%***********************]  1 of 1 completed\n"
     ]
    },
    {
     "name": "stdout",
     "output_type": "stream",
     "text": [
      "Saved data for CMG to (ticker).csv\n"
     ]
    },
    {
     "name": "stderr",
     "output_type": "stream",
     "text": [
      "[*********************100%***********************]  1 of 1 completed\n"
     ]
    },
    {
     "name": "stdout",
     "output_type": "stream",
     "text": [
      "Saved data for RACE to (ticker).csv\n"
     ]
    },
    {
     "name": "stderr",
     "output_type": "stream",
     "text": [
      "[*********************100%***********************]  1 of 1 completed\n"
     ]
    },
    {
     "name": "stdout",
     "output_type": "stream",
     "text": [
      "Saved data for HCA to (ticker).csv\n"
     ]
    },
    {
     "name": "stderr",
     "output_type": "stream",
     "text": [
      "[*********************100%***********************]  1 of 1 completed\n"
     ]
    },
    {
     "name": "stdout",
     "output_type": "stream",
     "text": [
      "Saved data for CTAS to (ticker).csv\n"
     ]
    },
    {
     "name": "stderr",
     "output_type": "stream",
     "text": [
      "[*********************100%***********************]  1 of 1 completed\n"
     ]
    },
    {
     "name": "stdout",
     "output_type": "stream",
     "text": [
      "Saved data for SNPS to (ticker).csv\n"
     ]
    },
    {
     "name": "stderr",
     "output_type": "stream",
     "text": [
      "[*********************100%***********************]  1 of 1 completed\n"
     ]
    },
    {
     "name": "stdout",
     "output_type": "stream",
     "text": [
      "Saved data for REGN to (ticker).csv\n"
     ]
    },
    {
     "name": "stderr",
     "output_type": "stream",
     "text": [
      "[*********************100%***********************]  1 of 1 completed\n"
     ]
    },
    {
     "name": "stdout",
     "output_type": "stream",
     "text": [
      "Saved data for MSI to (ticker).csv\n"
     ]
    },
    {
     "name": "stderr",
     "output_type": "stream",
     "text": [
      "[*********************100%***********************]  1 of 1 completed\n"
     ]
    },
    {
     "name": "stdout",
     "output_type": "stream",
     "text": [
      "Saved data for AON to (ticker).csv\n"
     ]
    },
    {
     "name": "stderr",
     "output_type": "stream",
     "text": [
      "[*********************100%***********************]  1 of 1 completed\n"
     ]
    },
    {
     "name": "stdout",
     "output_type": "stream",
     "text": [
      "Saved data for MDLZ to (ticker).csv\n"
     ]
    },
    {
     "name": "stderr",
     "output_type": "stream",
     "text": [
      "[*********************100%***********************]  1 of 1 completed\n"
     ]
    },
    {
     "name": "stdout",
     "output_type": "stream",
     "text": [
      "Saved data for MAR to (ticker).csv\n"
     ]
    },
    {
     "name": "stderr",
     "output_type": "stream",
     "text": [
      "[*********************100%***********************]  1 of 1 completed\n"
     ]
    },
    {
     "name": "stdout",
     "output_type": "stream",
     "text": [
      "Saved data for PNC to (ticker).csv\n"
     ]
    },
    {
     "name": "stderr",
     "output_type": "stream",
     "text": [
      "[*********************100%***********************]  1 of 1 completed\n"
     ]
    },
    {
     "name": "stdout",
     "output_type": "stream",
     "text": [
      "Saved data for SCCO to (ticker).csv\n"
     ]
    },
    {
     "name": "stderr",
     "output_type": "stream",
     "text": [
      "[*********************100%***********************]  1 of 1 completed\n"
     ]
    },
    {
     "name": "stdout",
     "output_type": "stream",
     "text": [
      "Saved data for MCK to (ticker).csv\n"
     ]
    },
    {
     "name": "stderr",
     "output_type": "stream",
     "text": [
      "[*********************100%***********************]  1 of 1 completed\n"
     ]
    },
    {
     "name": "stdout",
     "output_type": "stream",
     "text": [
      "Saved data for EOG to (ticker).csv\n"
     ]
    },
    {
     "name": "stderr",
     "output_type": "stream",
     "text": [
      "[*********************100%***********************]  1 of 1 completed\n"
     ]
    },
    {
     "name": "stdout",
     "output_type": "stream",
     "text": [
      "Saved data for ZTS to (ticker).csv\n"
     ]
    },
    {
     "name": "stderr",
     "output_type": "stream",
     "text": [
      "[*********************100%***********************]  1 of 1 completed\n"
     ]
    },
    {
     "name": "stdout",
     "output_type": "stream",
     "text": [
      "Saved data for USB to (ticker).csv\n"
     ]
    },
    {
     "name": "stderr",
     "output_type": "stream",
     "text": [
      "[*********************100%***********************]  1 of 1 completed\n"
     ]
    },
    {
     "name": "stdout",
     "output_type": "stream",
     "text": [
      "Saved data for FTNT to (ticker).csv\n"
     ]
    },
    {
     "name": "stderr",
     "output_type": "stream",
     "text": [
      "[*********************100%***********************]  1 of 1 completed\n"
     ]
    },
    {
     "name": "stdout",
     "output_type": "stream",
     "text": [
      "Saved data for ITW to (ticker).csv\n"
     ]
    },
    {
     "name": "stderr",
     "output_type": "stream",
     "text": [
      "[*********************100%***********************]  1 of 1 completed\n"
     ]
    },
    {
     "name": "stdout",
     "output_type": "stream",
     "text": [
      "Saved data for AJG to (ticker).csv\n"
     ]
    },
    {
     "name": "stderr",
     "output_type": "stream",
     "text": [
      "[*********************100%***********************]  1 of 1 completed\n"
     ]
    },
    {
     "name": "stdout",
     "output_type": "stream",
     "text": [
      "Saved data for GD to (ticker).csv\n"
     ]
    },
    {
     "name": "stderr",
     "output_type": "stream",
     "text": [
      "[*********************100%***********************]  1 of 1 completed\n"
     ]
    },
    {
     "name": "stdout",
     "output_type": "stream",
     "text": [
      "Saved data for MMM to (ticker).csv\n"
     ]
    },
    {
     "name": "stderr",
     "output_type": "stream",
     "text": [
      "[*********************100%***********************]  1 of 1 completed\n"
     ]
    },
    {
     "name": "stdout",
     "output_type": "stream",
     "text": [
      "Saved data for BMO to (ticker).csv\n"
     ]
    },
    {
     "name": "stderr",
     "output_type": "stream",
     "text": [
      "[*********************100%***********************]  1 of 1 completed\n"
     ]
    },
    {
     "name": "stdout",
     "output_type": "stream",
     "text": [
      "Saved data for TDG to (ticker).csv\n"
     ]
    },
    {
     "name": "stderr",
     "output_type": "stream",
     "text": [
      "[*********************100%***********************]  1 of 1 completed\n"
     ]
    },
    {
     "name": "stdout",
     "output_type": "stream",
     "text": [
      "Saved data for SAN to (ticker).csv\n"
     ]
    },
    {
     "name": "stderr",
     "output_type": "stream",
     "text": [
      "[*********************100%***********************]  1 of 1 completed\n"
     ]
    },
    {
     "name": "stdout",
     "output_type": "stream",
     "text": [
      "Saved data for DASH to (ticker).csv\n"
     ]
    },
    {
     "name": "stderr",
     "output_type": "stream",
     "text": [
      "[*********************100%***********************]  1 of 1 completed\n"
     ]
    },
    {
     "name": "stdout",
     "output_type": "stream",
     "text": [
      "Saved data for CL to (ticker).csv\n"
     ]
    },
    {
     "name": "stderr",
     "output_type": "stream",
     "text": [
      "[*********************100%***********************]  1 of 1 completed\n"
     ]
    },
    {
     "name": "stdout",
     "output_type": "stream",
     "text": [
      "Saved data for TRI to (ticker).csv\n"
     ]
    },
    {
     "name": "stderr",
     "output_type": "stream",
     "text": [
      "\r",
      "[*********************100%***********************]  1 of 1 completed"
     ]
    },
    {
     "name": "stdout",
     "output_type": "stream",
     "text": [
      "Saved data for BNS to (ticker).csv\n",
      "All stock data downloaded\n"
     ]
    },
    {
     "name": "stderr",
     "output_type": "stream",
     "text": [
      "\n"
     ]
    }
   ],
   "source": [
    "# Function to download daily stock prices and trading volume\n",
    "def download_stock_prices(tickers, start_date, end_date):\n",
    "    for ticker in tickers:\n",
    "        try:\n",
    "            stock_data = yf.download(ticker, start=start_date, end=end_date)\n",
    "            \n",
    "            stock_data.to_csv(f\"{ticker}.csv\")\n",
    "            print(f\"Saved data for {ticker} to (ticker).csv\")\n",
    "        except Exception as e:\n",
    "            print(f\"Error fetching data for {ticker}: {e}\")\n",
    "    print(\"All stock data downloaded\")\n",
    "\n",
    "download_stock_prices(tickers, start_date, end_date)\n"
   ]
  },
  {
   "cell_type": "code",
   "execution_count": 20,
   "id": "406c4ce5",
   "metadata": {},
   "outputs": [
    {
     "name": "stdout",
     "output_type": "stream",
     "text": [
      "Downloading data for AAPL.\n",
      "Downloading data for NVDA.\n",
      "Downloading data for MSFT.\n",
      "Downloading data for GOOGL.\n",
      "Downloading data for AMZN.\n",
      "Downloading data for META.\n",
      "Downloading data for TSLA.\n",
      "Downloading data for AVGO.\n",
      "Downloading data for BRK-B.\n",
      "Error processing BRK-B: 'Current Assets'\n",
      "Downloading data for WMT.\n",
      "Downloading data for LLY.\n",
      "Downloading data for JPM.\n",
      "Error processing JPM: 'Current Assets'\n",
      "Downloading data for V.\n",
      "Downloading data for SPY.\n",
      "Error processing SPY: 'Total Assets'\n",
      "Downloading data for UNH.\n",
      "Downloading data for XOM.\n",
      "Downloading data for MA.\n",
      "Downloading data for ORCL.\n",
      "Downloading data for COST.\n",
      "Downloading data for HD.\n",
      "Downloading data for NVO.\n",
      "Downloading data for PG.\n",
      "Downloading data for NFLX.\n",
      "Downloading data for BAC.\n",
      "Error processing BAC: 'Current Assets'\n",
      "Downloading data for JNJ.\n",
      "Downloading data for ABBV.\n",
      "Downloading data for CRM.\n",
      "Downloading data for SAP.\n",
      "Downloading data for ASML.\n",
      "Downloading data for RCIT.\n",
      "Error processing RCIT: 'Total Assets'\n",
      "Downloading data for CVX.\n",
      "Downloading data for KO.\n",
      "Downloading data for MRK.\n",
      "Downloading data for TMUS.\n",
      "Downloading data for TM.\n",
      "Downloading data for CSCO.\n",
      "Downloading data for WFC.\n",
      "Error processing WFC: 'Current Assets'\n",
      "Downloading data for ACN.\n",
      "Downloading data for NOW.\n",
      "Downloading data for AZN.\n",
      "Downloading data for TMO.\n",
      "Downloading data for AXP.\n",
      "Error processing AXP: 'Current Assets'\n",
      "Downloading data for IBM.\n",
      "Downloading data for MCD.\n",
      "Downloading data for BX.\n",
      "Error processing BX: 'Current Assets'\n",
      "Downloading data for QQQ.\n",
      "Error processing QQQ: 'Total Assets'\n",
      "Downloading data for MS.\n",
      "Error processing MS: 'Current Assets'\n",
      "Downloading data for NVS.\n",
      "Downloading data for DIS.\n",
      "Downloading data for LIN.\n",
      "Downloading data for SHEL.\n",
      "Downloading data for PEP.\n",
      "Downloading data for ISRG.\n",
      "Downloading data for ABT.\n",
      "Downloading data for BABA.\n",
      "Downloading data for AMD.\n",
      "Downloading data for GE.\n",
      "Downloading data for PM.\n",
      "Downloading data for ADBE.\n",
      "Downloading data for HSBC.\n",
      "Error processing HSBC: 'Current Assets'\n",
      "Downloading data for GS.\n",
      "Error processing GS: 'Current Assets'\n",
      "Downloading data for INTU.\n",
      "Downloading data for QCOM.\n",
      "Downloading data for TXN.\n",
      "Downloading data for CAT.\n",
      "Downloading data for DHR.\n",
      "Downloading data for RY.\n",
      "Error processing RY: 'Current Assets'\n",
      "Downloading data for VZ.\n",
      "Downloading data for BKNG.\n",
      "Error processing BKNG: 'Cost Of Revenue'\n",
      "Downloading data for T.\n",
      "Downloading data for RTX.\n",
      "Downloading data for PLTR.\n",
      "Downloading data for PFE.\n",
      "Downloading data for HDB.\n",
      "Error processing HDB: 'Current Assets'\n",
      "Downloading data for SPGI.\n",
      "Downloading data for FMX.\n",
      "Downloading data for BLK.\n",
      "Downloading data for ARM.\n",
      "Downloading data for ANET.\n",
      "Downloading data for HON.\n",
      "Downloading data for AMAT.\n",
      "Downloading data for AMGN.\n",
      "Downloading data for BSX.\n",
      "Downloading data for LOW.\n",
      "Downloading data for CMCSA.\n",
      "Downloading data for SYK.\n",
      "Downloading data for UBER.\n",
      "Downloading data for NEE.\n",
      "Downloading data for PGR.\n",
      "Error processing PGR: 'Current Assets'\n",
      "Downloading data for MUFG.\n",
      "Error processing MUFG: 'Current Assets'\n",
      "Downloading data for UNP.\n",
      "Downloading data for C.\n",
      "Error processing C: 'Current Assets'\n",
      "Downloading data for ETN.\n",
      "Downloading data for TJX.\n",
      "Downloading data for SHOP.\n",
      "Downloading data for SCHW.\n",
      "Error processing SCHW: 'Current Assets'\n",
      "Downloading data for PDD.\n",
      "Downloading data for COP.\n",
      "Downloading data for KKR.\n",
      "Downloading data for BA.\n",
      "Downloading data for TTE.\n",
      "Downloading data for EADSY.\n",
      "Downloading data for BHP.\n",
      "Downloading data for SNY.\n",
      "Downloading data for SONY.\n",
      "Downloading data for RTNTF.\n",
      "Downloading data for ADP.\n",
      "Downloading data for FI.\n",
      "Downloading data for BMY.\n",
      "Downloading data for PANW.\n",
      "Downloading data for DE.\n",
      "Downloading data for GILD.\n",
      "Downloading data for MU.\n",
      "Downloading data for LMT.\n",
      "Downloading data for APP.\n",
      "Downloading data for ADI.\n",
      "Downloading data for UBS.\n",
      "Error processing UBS: 'Current Assets'\n",
      "Downloading data for NKE.\n",
      "Downloading data for VRTX.\n",
      "Downloading data for UPS.\n",
      "Downloading data for SBUX.\n",
      "Downloading data for CB.\n",
      "Error processing CB: 'Current Assets'\n",
      "Downloading data for MDT.\n",
      "Downloading data for MMC.\n",
      "Downloading data for IBN.\n",
      "Error processing IBN: 'Current Assets'\n",
      "Downloading data for GEV.\n",
      "Downloading data for MRVL.\n",
      "Downloading data for LRCX.\n",
      "Downloading data for CEG.\n",
      "Downloading data for PLD.\n",
      "Downloading data for RIO.\n",
      "Downloading data for ENB.\n",
      "Downloading data for TD.\n",
      "Error processing TD: 'Current Assets'\n",
      "Downloading data for INFY.\n",
      "Downloading data for SPOT.\n",
      "Downloading data for AIQUY.\n",
      "Downloading data for SMFG.\n",
      "Error processing SMFG: 'Current Assets'\n",
      "Downloading data for KLAC.\n",
      "Downloading data for BUD.\n",
      "Downloading data for MELI.\n",
      "Downloading data for SO.\n",
      "Downloading data for ELV.\n",
      "Error processing ELV: 'Current Assets'\n",
      "Downloading data for APO.\n",
      "Downloading data for CFRUY.\n",
      "Downloading data for EQIX.\n",
      "Downloading data for RELX.\n",
      "Downloading data for CRWD.\n",
      "Downloading data for MO.\n",
      "Downloading data for APH.\n",
      "Downloading data for TT.\n",
      "Downloading data for BN.\n",
      "Downloading data for PYPL.\n",
      "Downloading data for BP.\n",
      "Downloading data for SHW.\n",
      "Downloading data for INTC.\n",
      "Downloading data for WM.\n",
      "Downloading data for PBR.\n",
      "Downloading data for CDNS.\n",
      "Downloading data for CME.\n",
      "Downloading data for DUK.\n",
      "Downloading data for ICE.\n",
      "Downloading data for MCO.\n",
      "Downloading data for MSTR.\n",
      "Downloading data for ABNB.\n",
      "Downloading data for AMT.\n",
      "Downloading data for PH.\n",
      "Downloading data for DELL.\n",
      "Downloading data for BTI.\n",
      "Downloading data for IBKR.\n",
      "Downloading data for TOELY.\n",
      "Downloading data for WELL.\n",
      "Downloading data for CI.\n",
      "Error processing CI: 'Current Assets'\n",
      "Downloading data for CMG.\n",
      "Downloading data for RACE.\n",
      "Downloading data for HCA.\n",
      "Downloading data for CTAS.\n",
      "Downloading data for SNPS.\n",
      "Downloading data for REGN.\n",
      "Downloading data for MSI.\n",
      "Downloading data for AON.\n",
      "Downloading data for MDLZ.\n",
      "Downloading data for MAR.\n",
      "Downloading data for PNC.\n",
      "Error processing PNC: 'Current Assets'\n",
      "Downloading data for SCCO.\n",
      "Downloading data for MCK.\n",
      "Downloading data for EOG.\n",
      "Downloading data for ZTS.\n",
      "Downloading data for USB.\n",
      "Error processing USB: 'Current Assets'\n",
      "Downloading data for FTNT.\n",
      "Downloading data for ITW.\n",
      "Downloading data for AJG.\n",
      "Downloading data for GD.\n",
      "Downloading data for MMM.\n",
      "Downloading data for BMO.\n",
      "Error processing BMO: 'Current Assets'\n",
      "Downloading data for TDG.\n",
      "Downloading data for SAN.\n",
      "Error processing SAN: 'Current Assets'\n",
      "Downloading data for DASH.\n",
      "Downloading data for CL.\n",
      "Downloading data for TRI.\n",
      "Downloading data for BNS.\n",
      "Error processing BNS: 'Current Assets'\n",
      "  Ticker  Debt-to-Equity Ratio        EPS    Net Income  Gross Profit  \\\n",
      "0   AAPL              5.408780        NaN  9.373600e+10  1.806830e+11   \n",
      "1   NVDA              0.529341   1.193264  2.976000e+10  4.430100e+10   \n",
      "2   MSFT              0.907661  11.800241  8.813600e+10  1.710080e+11   \n",
      "3  GOOGL              0.419978   5.800582  7.379500e+10  1.740620e+11   \n",
      "4   AMZN              1.614757   2.899828  3.042500e+10  9.380500e+10   \n",
      "\n",
      "   Operating Income  \n",
      "0      1.232160e+11  \n",
      "1      3.297200e+10  \n",
      "2      1.094330e+11  \n",
      "3      8.429300e+10  \n",
      "4      3.685200e+10  \n"
     ]
    }
   ],
   "source": [
    "def downloading_financial_data(tickers, start_date, end_date):\n",
    "    # Create an empty list to store the results for each ticker\n",
    "    results = []\n",
    "    \n",
    "    for ticker in tickers:\n",
    "        # Downloading financial data for the ticker\n",
    "        print(f\"Downloading data for {ticker}.\")\n",
    "        stock_data = yf.Ticker(ticker)\n",
    "        balance_sheet = stock_data.balance_sheet\n",
    "        financials = stock_data.financials\n",
    "        \n",
    "        # Initialize empty dataframe for the ticker's data\n",
    "        ticker_data = {}\n",
    "        \n",
    "        # Extract necessary financial data\n",
    "        try:\n",
    "            total_assets = balance_sheet.loc[\"Total Assets\"].values[0]\n",
    "            total_liabilities = balance_sheet.loc[\"Total Liabilities Net Minority Interest\"].values[0]\n",
    "            current_assets = balance_sheet.loc[\"Current Assets\"].values[0]\n",
    "            current_liabilities = balance_sheet.loc[\"Current Liabilities\"].values[0]\n",
    "            shareholders_equity = balance_sheet.loc[\"Stockholders Equity\"].values[0]\n",
    "            shares_outstanding = financials.loc[\"Diluted Average Shares\"].values[0]\n",
    "            total_revenue = financials.loc[\"Total Revenue\"].values[0]\n",
    "            cost_of_goods_sold = financials.loc[\"Cost Of Revenue\"].values[0]\n",
    "            gross_profit = financials.loc[\"Gross Profit\"].values[0]\n",
    "            operating_income = financials.loc[\"Operating Income\"].values[0]\n",
    "            net_income = financials.loc[\"Net Income\"].values[0]\n",
    "            \n",
    "            # Calculate Debt-to-Equity Ratio\n",
    "            debt_to_equity_ratio = total_liabilities / shareholders_equity\n",
    "            \n",
    "            # Calculate Earnings Per Share (EPS)\n",
    "            eps = net_income / shares_outstanding\n",
    "            \n",
    "            # Add data to ticker_data dictionary\n",
    "            ticker_data[\"Ticker\"] = ticker\n",
    "            ticker_data[\"Debt-to-Equity Ratio\"] = debt_to_equity_ratio\n",
    "            ticker_data[\"EPS\"] = eps\n",
    "            ticker_data[\"Net Income\"] = net_income\n",
    "            ticker_data[\"Gross Profit\"] = gross_profit\n",
    "            ticker_data[\"Operating Income\"] = operating_income\n",
    "            \n",
    "            # Append the dictionary as a row to results list\n",
    "            results.append(ticker_data)\n",
    "        \n",
    "        except KeyError as e:\n",
    "            print(f\"Error processing {ticker}: {e}\")\n",
    "    \n",
    "    # Convert the results list to a DataFrame\n",
    "    results_df = pd.DataFrame(results)\n",
    "    return results_df\n",
    "\n",
    "financial_data = downloading_financial_data(tickers, start_date, end_date)\n",
    "print(financial_data.head())"
   ]
  },
  {
   "cell_type": "code",
   "execution_count": 22,
   "id": "c2092e48",
   "metadata": {},
   "outputs": [],
   "source": [
    "financial_data.to_csv('financial_data.csv', index=False)"
   ]
  },
  {
   "cell_type": "code",
   "execution_count": 33,
   "id": "1f540bcf",
   "metadata": {},
   "outputs": [
    {
     "name": "stdout",
     "output_type": "stream",
     "text": [
      "Collecting twint\n",
      "  Downloading twint-2.1.20.tar.gz (31 kB)\n",
      "  Preparing metadata (setup.py) ... \u001b[?25ldone\n",
      "\u001b[?25hRequirement already satisfied: aiohttp in /home/musiliandrew/anaconda3/lib/python3.10/site-packages (from twint) (3.9.5)\n",
      "Requirement already satisfied: aiodns in /home/musiliandrew/anaconda3/lib/python3.10/site-packages (from twint) (3.2.0)\n",
      "Requirement already satisfied: beautifulsoup4 in /home/musiliandrew/anaconda3/lib/python3.10/site-packages (from twint) (4.11.1)\n",
      "Collecting cchardet (from twint)\n",
      "  Downloading cchardet-2.1.7.tar.gz (653 kB)\n",
      "\u001b[2K     \u001b[38;2;114;156;31m━━━━━━━━━━━━━━━━━━━━━━━━━━━━━━━━━━━━━━━\u001b[0m \u001b[32m653.6/653.6 kB\u001b[0m \u001b[31m7.5 kB/s\u001b[0m eta \u001b[36m0:00:00\u001b[0m[0m eta \u001b[36m-:--:--\u001b[0m\n",
      "\u001b[?25h  Preparing metadata (setup.py) ... \u001b[?25ldone\n",
      "\u001b[?25hCollecting elasticsearch (from twint)\n",
      "  Downloading elasticsearch-8.17.0-py3-none-any.whl.metadata (8.8 kB)\n",
      "Requirement already satisfied: pysocks in /home/musiliandrew/anaconda3/lib/python3.10/site-packages (from twint) (1.7.1)\n",
      "Requirement already satisfied: pandas in /home/musiliandrew/anaconda3/lib/python3.10/site-packages (from twint) (2.2.3)\n",
      "Collecting aiohttp_socks (from twint)\n",
      "  Downloading aiohttp_socks-0.10.1-py3-none-any.whl.metadata (3.5 kB)\n",
      "Collecting schedule (from twint)\n",
      "  Downloading schedule-1.2.2-py3-none-any.whl.metadata (3.8 kB)\n",
      "Collecting geopy (from twint)\n",
      "  Downloading geopy-2.4.1-py3-none-any.whl.metadata (6.8 kB)\n",
      "Collecting fake-useragent (from twint)\n",
      "  Downloading fake_useragent-2.0.3-py3-none-any.whl.metadata (17 kB)\n",
      "Collecting googletransx (from twint)\n",
      "  Downloading googletransx-2.4.2.tar.gz (13 kB)\n",
      "  Preparing metadata (setup.py) ... \u001b[?25ldone\n",
      "\u001b[?25hRequirement already satisfied: pycares>=4.0.0 in /home/musiliandrew/anaconda3/lib/python3.10/site-packages (from aiodns->twint) (4.4.0)\n",
      "Requirement already satisfied: aiosignal>=1.1.2 in /home/musiliandrew/anaconda3/lib/python3.10/site-packages (from aiohttp->twint) (1.3.1)\n",
      "Requirement already satisfied: attrs>=17.3.0 in /home/musiliandrew/anaconda3/lib/python3.10/site-packages (from aiohttp->twint) (22.1.0)\n",
      "Requirement already satisfied: frozenlist>=1.1.1 in /home/musiliandrew/anaconda3/lib/python3.10/site-packages (from aiohttp->twint) (1.4.1)\n",
      "Requirement already satisfied: multidict<7.0,>=4.5 in /home/musiliandrew/anaconda3/lib/python3.10/site-packages (from aiohttp->twint) (6.0.5)\n",
      "Requirement already satisfied: yarl<2.0,>=1.0 in /home/musiliandrew/anaconda3/lib/python3.10/site-packages (from aiohttp->twint) (1.9.4)\n",
      "Requirement already satisfied: async-timeout<5.0,>=4.0 in /home/musiliandrew/anaconda3/lib/python3.10/site-packages (from aiohttp->twint) (4.0.3)\n",
      "Collecting aiohttp (from twint)\n",
      "  Downloading aiohttp-3.11.11-cp310-cp310-manylinux_2_17_x86_64.manylinux2014_x86_64.whl.metadata (7.7 kB)\n",
      "Collecting python-socks<3.0.0,>=2.4.3 (from python-socks[asyncio]<3.0.0,>=2.4.3->aiohttp_socks->twint)\n",
      "  Downloading python_socks-2.6.1-py3-none-any.whl.metadata (8.0 kB)\n",
      "Collecting aiohappyeyeballs>=2.3.0 (from aiohttp->twint)\n",
      "  Downloading aiohappyeyeballs-2.4.4-py3-none-any.whl.metadata (6.1 kB)\n",
      "Collecting propcache>=0.2.0 (from aiohttp->twint)\n",
      "  Downloading propcache-0.2.1-cp310-cp310-manylinux_2_17_x86_64.manylinux2014_x86_64.whl.metadata (9.2 kB)\n",
      "Collecting yarl<2.0,>=1.17.0 (from aiohttp->twint)\n",
      "  Downloading yarl-1.18.3-cp310-cp310-manylinux_2_17_x86_64.manylinux2014_x86_64.whl.metadata (69 kB)\n",
      "Requirement already satisfied: soupsieve>1.2 in /home/musiliandrew/anaconda3/lib/python3.10/site-packages (from beautifulsoup4->twint) (2.3.2.post1)\n",
      "Collecting elastic-transport<9,>=8.15.1 (from elasticsearch->twint)\n",
      "  Downloading elastic_transport-8.17.0-py3-none-any.whl.metadata (3.6 kB)\n",
      "Collecting geographiclib<3,>=1.52 (from geopy->twint)\n",
      "  Downloading geographiclib-2.0-py3-none-any.whl.metadata (1.4 kB)\n",
      "Requirement already satisfied: requests in /home/musiliandrew/anaconda3/lib/python3.10/site-packages (from googletransx->twint) (2.32.3)\n",
      "Requirement already satisfied: numpy>=1.22.4 in /home/musiliandrew/anaconda3/lib/python3.10/site-packages (from pandas->twint) (1.26.4)\n",
      "Requirement already satisfied: python-dateutil>=2.8.2 in /home/musiliandrew/anaconda3/lib/python3.10/site-packages (from pandas->twint) (2.8.2)\n",
      "Requirement already satisfied: pytz>=2020.1 in /home/musiliandrew/anaconda3/lib/python3.10/site-packages (from pandas->twint) (2023.3.post1)\n",
      "Requirement already satisfied: tzdata>=2022.7 in /home/musiliandrew/anaconda3/lib/python3.10/site-packages (from pandas->twint) (2024.1)\n",
      "Requirement already satisfied: urllib3<3,>=1.26.2 in /home/musiliandrew/anaconda3/lib/python3.10/site-packages (from elastic-transport<9,>=8.15.1->elasticsearch->twint) (1.26.20)\n",
      "Requirement already satisfied: certifi in /home/musiliandrew/anaconda3/lib/python3.10/site-packages (from elastic-transport<9,>=8.15.1->elasticsearch->twint) (2018.10.15)\n",
      "Requirement already satisfied: cffi>=1.5.0 in /home/musiliandrew/anaconda3/lib/python3.10/site-packages (from pycares>=4.0.0->aiodns->twint) (1.15.1)\n",
      "Requirement already satisfied: six>=1.5 in /home/musiliandrew/anaconda3/lib/python3.10/site-packages (from python-dateutil>=2.8.2->pandas->twint) (1.17.0)\n",
      "Requirement already satisfied: idna>=2.0 in /home/musiliandrew/anaconda3/lib/python3.10/site-packages (from yarl<2.0,>=1.17.0->aiohttp->twint) (3.7)\n",
      "Requirement already satisfied: charset-normalizer<4,>=2 in /home/musiliandrew/anaconda3/lib/python3.10/site-packages (from requests->googletransx->twint) (2.0.4)\n",
      "Requirement already satisfied: pycparser in /home/musiliandrew/anaconda3/lib/python3.10/site-packages (from cffi>=1.5.0->pycares>=4.0.0->aiodns->twint) (2.19)\n",
      "Downloading aiohttp_socks-0.10.1-py3-none-any.whl (10 kB)\n",
      "Downloading aiohttp-3.11.11-cp310-cp310-manylinux_2_17_x86_64.manylinux2014_x86_64.whl (1.6 MB)\n",
      "\u001b[2K   \u001b[38;2;114;156;31m━━━━━━━━━━━━━━━━━━━━━━━━━━━━━━━━━━━━━━━━\u001b[0m \u001b[32m1.6/1.6 MB\u001b[0m \u001b[31m115.7 kB/s\u001b[0m eta \u001b[36m0:00:00\u001b[0m6m-:--:--\u001b[0m[36m-:--:--\u001b[0m\n",
      "\u001b[?25hDownloading elasticsearch-8.17.0-py3-none-any.whl (571 kB)\n",
      "\u001b[2K   \u001b[38;2;114;156;31m━━━━━━━━━━━━━━━━━━━━━━━━━━━━━━━━━━━━━━━━\u001b[0m \u001b[32m571.2/571.2 kB\u001b[0m \u001b[31m9.0 kB/s\u001b[0m eta \u001b[36m0:00:00\u001b[0m[31m?\u001b[0m eta \u001b[36m-:--:--\u001b[0m\n",
      "\u001b[?25hDownloading fake_useragent-2.0.3-py3-none-any.whl (201 kB)\n",
      "Downloading geopy-2.4.1-py3-none-any.whl (125 kB)\n",
      "Downloading schedule-1.2.2-py3-none-any.whl (12 kB)\n",
      "Downloading aiohappyeyeballs-2.4.4-py3-none-any.whl (14 kB)\n",
      "Downloading elastic_transport-8.17.0-py3-none-any.whl (64 kB)\n",
      "Downloading geographiclib-2.0-py3-none-any.whl (40 kB)\n",
      "Downloading propcache-0.2.1-cp310-cp310-manylinux_2_17_x86_64.manylinux2014_x86_64.whl (205 kB)\n",
      "Downloading python_socks-2.6.1-py3-none-any.whl (54 kB)\n",
      "Downloading yarl-1.18.3-cp310-cp310-manylinux_2_17_x86_64.manylinux2014_x86_64.whl (319 kB)\n",
      "Building wheels for collected packages: twint, cchardet, googletransx\n",
      "  Building wheel for twint (setup.py) ... \u001b[?25ldone\n",
      "\u001b[?25h  Created wheel for twint: filename=twint-2.1.20-py3-none-any.whl size=33911 sha256=0b6679a392f9acb7346367c19371a243016f55262b1a26d49ddb99ca913b38cb\n",
      "  Stored in directory: /home/musiliandrew/.cache/pip/wheels/48/d2/f5/7a71ea8b6788b85fac82abf4ef84dac03562571f695c3b8f77\n",
      "  Building wheel for cchardet (setup.py) ... \u001b[?25ldone\n",
      "\u001b[?25h  Created wheel for cchardet: filename=cchardet-2.1.7-cp310-cp310-linux_x86_64.whl size=133174 sha256=a650b70717a9c951f70fc341688380ee58b844e5baa7c4b1e98d18249a4abe95\n",
      "  Stored in directory: /home/musiliandrew/.cache/pip/wheels/ee/e0/ab/e01326f15c59438d080b1496dbab8091e952ec72f35e3c437e\n",
      "  Building wheel for googletransx (setup.py) ... \u001b[?25ldone\n",
      "\u001b[?25h  Created wheel for googletransx: filename=googletransx-2.4.2-py3-none-any.whl size=15953 sha256=bc52bb37324d114b67dc4f6fd05b4c8d0cd3356127759d204b53fc9fff80e522\n",
      "  Stored in directory: /home/musiliandrew/.cache/pip/wheels/12/79/4f/43718126b3548eda695b4c2fa4cd82667b2d62018a98dc6767\n",
      "Successfully built twint cchardet googletransx\n",
      "Installing collected packages: cchardet, schedule, python-socks, propcache, geographiclib, fake-useragent, elastic-transport, aiohappyeyeballs, yarl, googletransx, geopy, elasticsearch, aiohttp, aiohttp_socks, twint\n",
      "  Attempting uninstall: yarl\n",
      "    Found existing installation: yarl 1.9.4\n",
      "    Uninstalling yarl-1.9.4:\n",
      "      Successfully uninstalled yarl-1.9.4\n"
     ]
    },
    {
     "name": "stdout",
     "output_type": "stream",
     "text": [
      "  Attempting uninstall: aiohttp\n",
      "    Found existing installation: aiohttp 3.9.5\n",
      "    Uninstalling aiohttp-3.9.5:\n",
      "      Successfully uninstalled aiohttp-3.9.5\n",
      "Successfully installed aiohappyeyeballs-2.4.4 aiohttp-3.11.11 aiohttp_socks-0.10.1 cchardet-2.1.7 elastic-transport-8.17.0 elasticsearch-8.17.0 fake-useragent-2.0.3 geographiclib-2.0 geopy-2.4.1 googletransx-2.4.2 propcache-0.2.1 python-socks-2.6.1 schedule-1.2.2 twint-2.1.20 yarl-1.18.3\n",
      "Note: you may need to restart the kernel to use updated packages.\n"
     ]
    }
   ],
   "source": [
    "pip install twint"
   ]
  },
  {
   "cell_type": "code",
   "execution_count": 11,
   "id": "11902fd1",
   "metadata": {},
   "outputs": [
    {
     "name": "stderr",
     "output_type": "stream",
     "text": [
      "ERROR:root:Error while fetching SEC filings for Apple Inc.: API error: 429 - {\"status\":429,\"error\":\"You send a lot of requests. We like that. But you exceeded the free query limit of 100 requests. Upgrade your account to get unlimited access. Visit sec-api.io for more.\"}\n",
      "ERROR:root:Error while fetching SEC filings for NVIDIA CORP: API error: 429 - {\"status\":429,\"error\":\"You send a lot of requests. We like that. But you exceeded the free query limit of 100 requests. Upgrade your account to get unlimited access. Visit sec-api.io for more.\"}\n",
      "ERROR:root:Error while fetching SEC filings for MICROSOFT CORP: API error: 429 - {\"status\":429,\"error\":\"You send a lot of requests. We like that. But you exceeded the free query limit of 100 requests. Upgrade your account to get unlimited access. Visit sec-api.io for more.\"}\n",
      "ERROR:root:Error while fetching SEC filings for Alphabet Inc.: API error: 429 - {\"status\":429,\"error\":\"You send a lot of requests. We like that. But you exceeded the free query limit of 100 requests. Upgrade your account to get unlimited access. Visit sec-api.io for more.\"}\n"
     ]
    },
    {
     "ename": "KeyboardInterrupt",
     "evalue": "",
     "output_type": "error",
     "traceback": [
      "\u001b[0;31m---------------------------------------------------------------------------\u001b[0m",
      "\u001b[0;31mKeyboardInterrupt\u001b[0m                         Traceback (most recent call last)",
      "Cell \u001b[0;32mIn[11], line 97\u001b[0m\n\u001b[1;32m     92\u001b[0m         logging\u001b[38;5;241m.\u001b[39mwarning(\u001b[38;5;124m\"\u001b[39m\u001b[38;5;124mNo filings found to save.\u001b[39m\u001b[38;5;124m\"\u001b[39m)\n\u001b[1;32m     93\u001b[0m         \u001b[38;5;28;01mreturn\u001b[39;00m \u001b[38;5;28;01mNone\u001b[39;00m\n\u001b[0;32m---> 97\u001b[0m check \u001b[38;5;241m=\u001b[39m \u001b[43mfetch_sec_filings\u001b[49m\u001b[43m(\u001b[49m\u001b[43mcompany_names\u001b[49m\u001b[43m,\u001b[49m\u001b[43m \u001b[49m\u001b[43mstart_date\u001b[49m\u001b[43m,\u001b[49m\u001b[43m \u001b[49m\u001b[43mend_date\u001b[49m\u001b[43m)\u001b[49m\n\u001b[1;32m     99\u001b[0m \u001b[38;5;28mprint\u001b[39m(check\u001b[38;5;241m.\u001b[39mhead())\n",
      "Cell \u001b[0;32mIn[11], line 60\u001b[0m, in \u001b[0;36mfetch_sec_filings\u001b[0;34m(company_names, start_date, end_date)\u001b[0m\n\u001b[1;32m     53\u001b[0m query \u001b[38;5;241m=\u001b[39m {\n\u001b[1;32m     54\u001b[0m     \u001b[38;5;124m\"\u001b[39m\u001b[38;5;124mquery\u001b[39m\u001b[38;5;124m\"\u001b[39m: \u001b[38;5;124mf\u001b[39m\u001b[38;5;124m\"\u001b[39m\u001b[38;5;124mcompanyName:\u001b[39m\u001b[38;5;124m'\u001b[39m\u001b[38;5;132;01m{\u001b[39;00mcompany_name\u001b[38;5;132;01m}\u001b[39;00m\u001b[38;5;124m'\u001b[39m\u001b[38;5;124m AND filedAt:[\u001b[39m\u001b[38;5;132;01m{\u001b[39;00mstart_date\u001b[38;5;132;01m}\u001b[39;00m\u001b[38;5;124m TO \u001b[39m\u001b[38;5;132;01m{\u001b[39;00mend_date\u001b[38;5;132;01m}\u001b[39;00m\u001b[38;5;124m]\u001b[39m\u001b[38;5;124m\"\u001b[39m,\n\u001b[1;32m     55\u001b[0m     \u001b[38;5;124m\"\u001b[39m\u001b[38;5;124mfrom\u001b[39m\u001b[38;5;124m\"\u001b[39m: from_offset,\n\u001b[1;32m     56\u001b[0m     \u001b[38;5;124m\"\u001b[39m\u001b[38;5;124msize\u001b[39m\u001b[38;5;124m\"\u001b[39m: size,\n\u001b[1;32m     57\u001b[0m     \u001b[38;5;124m\"\u001b[39m\u001b[38;5;124msort\u001b[39m\u001b[38;5;124m\"\u001b[39m: [{\u001b[38;5;124m\"\u001b[39m\u001b[38;5;124mfiledAt\u001b[39m\u001b[38;5;124m\"\u001b[39m: {\u001b[38;5;124m\"\u001b[39m\u001b[38;5;124morder\u001b[39m\u001b[38;5;124m\"\u001b[39m: \u001b[38;5;124m\"\u001b[39m\u001b[38;5;124mdesc\u001b[39m\u001b[38;5;124m\"\u001b[39m}}],\n\u001b[1;32m     58\u001b[0m }\n\u001b[1;32m     59\u001b[0m \u001b[38;5;28;01mtry\u001b[39;00m:\n\u001b[0;32m---> 60\u001b[0m     response \u001b[38;5;241m=\u001b[39m \u001b[43mquery_api\u001b[49m\u001b[38;5;241;43m.\u001b[39;49m\u001b[43mget_filings\u001b[49m\u001b[43m(\u001b[49m\u001b[43mquery\u001b[49m\u001b[43m)\u001b[49m\n\u001b[1;32m     61\u001b[0m     filings \u001b[38;5;241m=\u001b[39m response\u001b[38;5;241m.\u001b[39mget(\u001b[38;5;124m\"\u001b[39m\u001b[38;5;124mfilings\u001b[39m\u001b[38;5;124m\"\u001b[39m, [])\n\u001b[1;32m     63\u001b[0m     \u001b[38;5;28;01mif\u001b[39;00m \u001b[38;5;129;01mnot\u001b[39;00m filings:\n",
      "File \u001b[0;32m~/anaconda3/lib/python3.10/site-packages/sec_api/index.py:56\u001b[0m, in \u001b[0;36mQueryApi.get_filings\u001b[0;34m(self, query)\u001b[0m\n\u001b[1;32m     54\u001b[0m \u001b[38;5;66;03m# use backoff strategy to handle \"too many requests\" error.\u001b[39;00m\n\u001b[1;32m     55\u001b[0m \u001b[38;5;28;01mfor\u001b[39;00m x \u001b[38;5;129;01min\u001b[39;00m \u001b[38;5;28mrange\u001b[39m(\u001b[38;5;241m3\u001b[39m):\n\u001b[0;32m---> 56\u001b[0m     response \u001b[38;5;241m=\u001b[39m \u001b[43mrequests\u001b[49m\u001b[38;5;241;43m.\u001b[39;49m\u001b[43mpost\u001b[49m\u001b[43m(\u001b[49m\n\u001b[1;32m     57\u001b[0m \u001b[43m        \u001b[49m\u001b[38;5;28;43mself\u001b[39;49m\u001b[38;5;241;43m.\u001b[39;49m\u001b[43mapi_endpoint\u001b[49m\u001b[43m,\u001b[49m\u001b[43m \u001b[49m\u001b[43mjson\u001b[49m\u001b[38;5;241;43m=\u001b[39;49m\u001b[43mquery\u001b[49m\u001b[43m,\u001b[49m\u001b[43m \u001b[49m\u001b[43mproxies\u001b[49m\u001b[38;5;241;43m=\u001b[39;49m\u001b[38;5;28;43mself\u001b[39;49m\u001b[38;5;241;43m.\u001b[39;49m\u001b[43mproxies\u001b[49m\n\u001b[1;32m     58\u001b[0m \u001b[43m    \u001b[49m\u001b[43m)\u001b[49m\n\u001b[1;32m     59\u001b[0m     \u001b[38;5;28;01mif\u001b[39;00m response\u001b[38;5;241m.\u001b[39mstatus_code \u001b[38;5;241m==\u001b[39m \u001b[38;5;241m200\u001b[39m:\n\u001b[1;32m     60\u001b[0m         \u001b[38;5;28;01mreturn\u001b[39;00m response\u001b[38;5;241m.\u001b[39mjson()\n",
      "File \u001b[0;32m~/anaconda3/lib/python3.10/site-packages/requests/api.py:115\u001b[0m, in \u001b[0;36mpost\u001b[0;34m(url, data, json, **kwargs)\u001b[0m\n\u001b[1;32m    103\u001b[0m \u001b[38;5;28;01mdef\u001b[39;00m \u001b[38;5;21mpost\u001b[39m(url, data\u001b[38;5;241m=\u001b[39m\u001b[38;5;28;01mNone\u001b[39;00m, json\u001b[38;5;241m=\u001b[39m\u001b[38;5;28;01mNone\u001b[39;00m, \u001b[38;5;241m*\u001b[39m\u001b[38;5;241m*\u001b[39mkwargs):\n\u001b[1;32m    104\u001b[0m \u001b[38;5;250m    \u001b[39m\u001b[38;5;124mr\u001b[39m\u001b[38;5;124;03m\"\"\"Sends a POST request.\u001b[39;00m\n\u001b[1;32m    105\u001b[0m \n\u001b[1;32m    106\u001b[0m \u001b[38;5;124;03m    :param url: URL for the new :class:`Request` object.\u001b[39;00m\n\u001b[0;32m   (...)\u001b[0m\n\u001b[1;32m    112\u001b[0m \u001b[38;5;124;03m    :rtype: requests.Response\u001b[39;00m\n\u001b[1;32m    113\u001b[0m \u001b[38;5;124;03m    \"\"\"\u001b[39;00m\n\u001b[0;32m--> 115\u001b[0m     \u001b[38;5;28;01mreturn\u001b[39;00m \u001b[43mrequest\u001b[49m\u001b[43m(\u001b[49m\u001b[38;5;124;43m\"\u001b[39;49m\u001b[38;5;124;43mpost\u001b[39;49m\u001b[38;5;124;43m\"\u001b[39;49m\u001b[43m,\u001b[49m\u001b[43m \u001b[49m\u001b[43murl\u001b[49m\u001b[43m,\u001b[49m\u001b[43m \u001b[49m\u001b[43mdata\u001b[49m\u001b[38;5;241;43m=\u001b[39;49m\u001b[43mdata\u001b[49m\u001b[43m,\u001b[49m\u001b[43m \u001b[49m\u001b[43mjson\u001b[49m\u001b[38;5;241;43m=\u001b[39;49m\u001b[43mjson\u001b[49m\u001b[43m,\u001b[49m\u001b[43m \u001b[49m\u001b[38;5;241;43m*\u001b[39;49m\u001b[38;5;241;43m*\u001b[39;49m\u001b[43mkwargs\u001b[49m\u001b[43m)\u001b[49m\n",
      "File \u001b[0;32m~/anaconda3/lib/python3.10/site-packages/requests/api.py:59\u001b[0m, in \u001b[0;36mrequest\u001b[0;34m(method, url, **kwargs)\u001b[0m\n\u001b[1;32m     55\u001b[0m \u001b[38;5;66;03m# By using the 'with' statement we are sure the session is closed, thus we\u001b[39;00m\n\u001b[1;32m     56\u001b[0m \u001b[38;5;66;03m# avoid leaving sockets open which can trigger a ResourceWarning in some\u001b[39;00m\n\u001b[1;32m     57\u001b[0m \u001b[38;5;66;03m# cases, and look like a memory leak in others.\u001b[39;00m\n\u001b[1;32m     58\u001b[0m \u001b[38;5;28;01mwith\u001b[39;00m sessions\u001b[38;5;241m.\u001b[39mSession() \u001b[38;5;28;01mas\u001b[39;00m session:\n\u001b[0;32m---> 59\u001b[0m     \u001b[38;5;28;01mreturn\u001b[39;00m \u001b[43msession\u001b[49m\u001b[38;5;241;43m.\u001b[39;49m\u001b[43mrequest\u001b[49m\u001b[43m(\u001b[49m\u001b[43mmethod\u001b[49m\u001b[38;5;241;43m=\u001b[39;49m\u001b[43mmethod\u001b[49m\u001b[43m,\u001b[49m\u001b[43m \u001b[49m\u001b[43murl\u001b[49m\u001b[38;5;241;43m=\u001b[39;49m\u001b[43murl\u001b[49m\u001b[43m,\u001b[49m\u001b[43m \u001b[49m\u001b[38;5;241;43m*\u001b[39;49m\u001b[38;5;241;43m*\u001b[39;49m\u001b[43mkwargs\u001b[49m\u001b[43m)\u001b[49m\n",
      "File \u001b[0;32m~/anaconda3/lib/python3.10/site-packages/requests/sessions.py:589\u001b[0m, in \u001b[0;36mSession.request\u001b[0;34m(self, method, url, params, data, headers, cookies, files, auth, timeout, allow_redirects, proxies, hooks, stream, verify, cert, json)\u001b[0m\n\u001b[1;32m    584\u001b[0m send_kwargs \u001b[38;5;241m=\u001b[39m {\n\u001b[1;32m    585\u001b[0m     \u001b[38;5;124m\"\u001b[39m\u001b[38;5;124mtimeout\u001b[39m\u001b[38;5;124m\"\u001b[39m: timeout,\n\u001b[1;32m    586\u001b[0m     \u001b[38;5;124m\"\u001b[39m\u001b[38;5;124mallow_redirects\u001b[39m\u001b[38;5;124m\"\u001b[39m: allow_redirects,\n\u001b[1;32m    587\u001b[0m }\n\u001b[1;32m    588\u001b[0m send_kwargs\u001b[38;5;241m.\u001b[39mupdate(settings)\n\u001b[0;32m--> 589\u001b[0m resp \u001b[38;5;241m=\u001b[39m \u001b[38;5;28;43mself\u001b[39;49m\u001b[38;5;241;43m.\u001b[39;49m\u001b[43msend\u001b[49m\u001b[43m(\u001b[49m\u001b[43mprep\u001b[49m\u001b[43m,\u001b[49m\u001b[43m \u001b[49m\u001b[38;5;241;43m*\u001b[39;49m\u001b[38;5;241;43m*\u001b[39;49m\u001b[43msend_kwargs\u001b[49m\u001b[43m)\u001b[49m\n\u001b[1;32m    591\u001b[0m \u001b[38;5;28;01mreturn\u001b[39;00m resp\n",
      "File \u001b[0;32m~/anaconda3/lib/python3.10/site-packages/requests/sessions.py:703\u001b[0m, in \u001b[0;36mSession.send\u001b[0;34m(self, request, **kwargs)\u001b[0m\n\u001b[1;32m    700\u001b[0m start \u001b[38;5;241m=\u001b[39m preferred_clock()\n\u001b[1;32m    702\u001b[0m \u001b[38;5;66;03m# Send the request\u001b[39;00m\n\u001b[0;32m--> 703\u001b[0m r \u001b[38;5;241m=\u001b[39m \u001b[43madapter\u001b[49m\u001b[38;5;241;43m.\u001b[39;49m\u001b[43msend\u001b[49m\u001b[43m(\u001b[49m\u001b[43mrequest\u001b[49m\u001b[43m,\u001b[49m\u001b[43m \u001b[49m\u001b[38;5;241;43m*\u001b[39;49m\u001b[38;5;241;43m*\u001b[39;49m\u001b[43mkwargs\u001b[49m\u001b[43m)\u001b[49m\n\u001b[1;32m    705\u001b[0m \u001b[38;5;66;03m# Total elapsed time of the request (approximately)\u001b[39;00m\n\u001b[1;32m    706\u001b[0m elapsed \u001b[38;5;241m=\u001b[39m preferred_clock() \u001b[38;5;241m-\u001b[39m start\n",
      "File \u001b[0;32m~/anaconda3/lib/python3.10/site-packages/requests/adapters.py:667\u001b[0m, in \u001b[0;36mHTTPAdapter.send\u001b[0;34m(self, request, stream, timeout, verify, cert, proxies)\u001b[0m\n\u001b[1;32m    664\u001b[0m     timeout \u001b[38;5;241m=\u001b[39m TimeoutSauce(connect\u001b[38;5;241m=\u001b[39mtimeout, read\u001b[38;5;241m=\u001b[39mtimeout)\n\u001b[1;32m    666\u001b[0m \u001b[38;5;28;01mtry\u001b[39;00m:\n\u001b[0;32m--> 667\u001b[0m     resp \u001b[38;5;241m=\u001b[39m \u001b[43mconn\u001b[49m\u001b[38;5;241;43m.\u001b[39;49m\u001b[43murlopen\u001b[49m\u001b[43m(\u001b[49m\n\u001b[1;32m    668\u001b[0m \u001b[43m        \u001b[49m\u001b[43mmethod\u001b[49m\u001b[38;5;241;43m=\u001b[39;49m\u001b[43mrequest\u001b[49m\u001b[38;5;241;43m.\u001b[39;49m\u001b[43mmethod\u001b[49m\u001b[43m,\u001b[49m\n\u001b[1;32m    669\u001b[0m \u001b[43m        \u001b[49m\u001b[43murl\u001b[49m\u001b[38;5;241;43m=\u001b[39;49m\u001b[43murl\u001b[49m\u001b[43m,\u001b[49m\n\u001b[1;32m    670\u001b[0m \u001b[43m        \u001b[49m\u001b[43mbody\u001b[49m\u001b[38;5;241;43m=\u001b[39;49m\u001b[43mrequest\u001b[49m\u001b[38;5;241;43m.\u001b[39;49m\u001b[43mbody\u001b[49m\u001b[43m,\u001b[49m\n\u001b[1;32m    671\u001b[0m \u001b[43m        \u001b[49m\u001b[43mheaders\u001b[49m\u001b[38;5;241;43m=\u001b[39;49m\u001b[43mrequest\u001b[49m\u001b[38;5;241;43m.\u001b[39;49m\u001b[43mheaders\u001b[49m\u001b[43m,\u001b[49m\n\u001b[1;32m    672\u001b[0m \u001b[43m        \u001b[49m\u001b[43mredirect\u001b[49m\u001b[38;5;241;43m=\u001b[39;49m\u001b[38;5;28;43;01mFalse\u001b[39;49;00m\u001b[43m,\u001b[49m\n\u001b[1;32m    673\u001b[0m \u001b[43m        \u001b[49m\u001b[43massert_same_host\u001b[49m\u001b[38;5;241;43m=\u001b[39;49m\u001b[38;5;28;43;01mFalse\u001b[39;49;00m\u001b[43m,\u001b[49m\n\u001b[1;32m    674\u001b[0m \u001b[43m        \u001b[49m\u001b[43mpreload_content\u001b[49m\u001b[38;5;241;43m=\u001b[39;49m\u001b[38;5;28;43;01mFalse\u001b[39;49;00m\u001b[43m,\u001b[49m\n\u001b[1;32m    675\u001b[0m \u001b[43m        \u001b[49m\u001b[43mdecode_content\u001b[49m\u001b[38;5;241;43m=\u001b[39;49m\u001b[38;5;28;43;01mFalse\u001b[39;49;00m\u001b[43m,\u001b[49m\n\u001b[1;32m    676\u001b[0m \u001b[43m        \u001b[49m\u001b[43mretries\u001b[49m\u001b[38;5;241;43m=\u001b[39;49m\u001b[38;5;28;43mself\u001b[39;49m\u001b[38;5;241;43m.\u001b[39;49m\u001b[43mmax_retries\u001b[49m\u001b[43m,\u001b[49m\n\u001b[1;32m    677\u001b[0m \u001b[43m        \u001b[49m\u001b[43mtimeout\u001b[49m\u001b[38;5;241;43m=\u001b[39;49m\u001b[43mtimeout\u001b[49m\u001b[43m,\u001b[49m\n\u001b[1;32m    678\u001b[0m \u001b[43m        \u001b[49m\u001b[43mchunked\u001b[49m\u001b[38;5;241;43m=\u001b[39;49m\u001b[43mchunked\u001b[49m\u001b[43m,\u001b[49m\n\u001b[1;32m    679\u001b[0m \u001b[43m    \u001b[49m\u001b[43m)\u001b[49m\n\u001b[1;32m    681\u001b[0m \u001b[38;5;28;01mexcept\u001b[39;00m (ProtocolError, \u001b[38;5;167;01mOSError\u001b[39;00m) \u001b[38;5;28;01mas\u001b[39;00m err:\n\u001b[1;32m    682\u001b[0m     \u001b[38;5;28;01mraise\u001b[39;00m \u001b[38;5;167;01mConnectionError\u001b[39;00m(err, request\u001b[38;5;241m=\u001b[39mrequest)\n",
      "File \u001b[0;32m~/anaconda3/lib/python3.10/site-packages/urllib3/connectionpool.py:716\u001b[0m, in \u001b[0;36mHTTPConnectionPool.urlopen\u001b[0;34m(self, method, url, body, headers, retries, redirect, assert_same_host, timeout, pool_timeout, release_conn, chunked, body_pos, **response_kw)\u001b[0m\n\u001b[1;32m    713\u001b[0m     \u001b[38;5;28mself\u001b[39m\u001b[38;5;241m.\u001b[39m_prepare_proxy(conn)\n\u001b[1;32m    715\u001b[0m \u001b[38;5;66;03m# Make the request on the httplib connection object.\u001b[39;00m\n\u001b[0;32m--> 716\u001b[0m httplib_response \u001b[38;5;241m=\u001b[39m \u001b[38;5;28;43mself\u001b[39;49m\u001b[38;5;241;43m.\u001b[39;49m\u001b[43m_make_request\u001b[49m\u001b[43m(\u001b[49m\n\u001b[1;32m    717\u001b[0m \u001b[43m    \u001b[49m\u001b[43mconn\u001b[49m\u001b[43m,\u001b[49m\n\u001b[1;32m    718\u001b[0m \u001b[43m    \u001b[49m\u001b[43mmethod\u001b[49m\u001b[43m,\u001b[49m\n\u001b[1;32m    719\u001b[0m \u001b[43m    \u001b[49m\u001b[43murl\u001b[49m\u001b[43m,\u001b[49m\n\u001b[1;32m    720\u001b[0m \u001b[43m    \u001b[49m\u001b[43mtimeout\u001b[49m\u001b[38;5;241;43m=\u001b[39;49m\u001b[43mtimeout_obj\u001b[49m\u001b[43m,\u001b[49m\n\u001b[1;32m    721\u001b[0m \u001b[43m    \u001b[49m\u001b[43mbody\u001b[49m\u001b[38;5;241;43m=\u001b[39;49m\u001b[43mbody\u001b[49m\u001b[43m,\u001b[49m\n\u001b[1;32m    722\u001b[0m \u001b[43m    \u001b[49m\u001b[43mheaders\u001b[49m\u001b[38;5;241;43m=\u001b[39;49m\u001b[43mheaders\u001b[49m\u001b[43m,\u001b[49m\n\u001b[1;32m    723\u001b[0m \u001b[43m    \u001b[49m\u001b[43mchunked\u001b[49m\u001b[38;5;241;43m=\u001b[39;49m\u001b[43mchunked\u001b[49m\u001b[43m,\u001b[49m\n\u001b[1;32m    724\u001b[0m \u001b[43m\u001b[49m\u001b[43m)\u001b[49m\n\u001b[1;32m    726\u001b[0m \u001b[38;5;66;03m# If we're going to release the connection in ``finally:``, then\u001b[39;00m\n\u001b[1;32m    727\u001b[0m \u001b[38;5;66;03m# the response doesn't need to know about the connection. Otherwise\u001b[39;00m\n\u001b[1;32m    728\u001b[0m \u001b[38;5;66;03m# it will also try to release it and we'll have a double-release\u001b[39;00m\n\u001b[1;32m    729\u001b[0m \u001b[38;5;66;03m# mess.\u001b[39;00m\n\u001b[1;32m    730\u001b[0m response_conn \u001b[38;5;241m=\u001b[39m conn \u001b[38;5;28;01mif\u001b[39;00m \u001b[38;5;129;01mnot\u001b[39;00m release_conn \u001b[38;5;28;01melse\u001b[39;00m \u001b[38;5;28;01mNone\u001b[39;00m\n",
      "File \u001b[0;32m~/anaconda3/lib/python3.10/site-packages/urllib3/connectionpool.py:404\u001b[0m, in \u001b[0;36mHTTPConnectionPool._make_request\u001b[0;34m(self, conn, method, url, timeout, chunked, **httplib_request_kw)\u001b[0m\n\u001b[1;32m    402\u001b[0m \u001b[38;5;66;03m# Trigger any extra validation we need to do.\u001b[39;00m\n\u001b[1;32m    403\u001b[0m \u001b[38;5;28;01mtry\u001b[39;00m:\n\u001b[0;32m--> 404\u001b[0m     \u001b[38;5;28;43mself\u001b[39;49m\u001b[38;5;241;43m.\u001b[39;49m\u001b[43m_validate_conn\u001b[49m\u001b[43m(\u001b[49m\u001b[43mconn\u001b[49m\u001b[43m)\u001b[49m\n\u001b[1;32m    405\u001b[0m \u001b[38;5;28;01mexcept\u001b[39;00m (SocketTimeout, BaseSSLError) \u001b[38;5;28;01mas\u001b[39;00m e:\n\u001b[1;32m    406\u001b[0m     \u001b[38;5;66;03m# Py2 raises this as a BaseSSLError, Py3 raises it as socket timeout.\u001b[39;00m\n\u001b[1;32m    407\u001b[0m     \u001b[38;5;28mself\u001b[39m\u001b[38;5;241m.\u001b[39m_raise_timeout(err\u001b[38;5;241m=\u001b[39me, url\u001b[38;5;241m=\u001b[39murl, timeout_value\u001b[38;5;241m=\u001b[39mconn\u001b[38;5;241m.\u001b[39mtimeout)\n",
      "File \u001b[0;32m~/anaconda3/lib/python3.10/site-packages/urllib3/connectionpool.py:1061\u001b[0m, in \u001b[0;36mHTTPSConnectionPool._validate_conn\u001b[0;34m(self, conn)\u001b[0m\n\u001b[1;32m   1059\u001b[0m \u001b[38;5;66;03m# Force connect early to allow us to validate the connection.\u001b[39;00m\n\u001b[1;32m   1060\u001b[0m \u001b[38;5;28;01mif\u001b[39;00m \u001b[38;5;129;01mnot\u001b[39;00m \u001b[38;5;28mgetattr\u001b[39m(conn, \u001b[38;5;124m\"\u001b[39m\u001b[38;5;124msock\u001b[39m\u001b[38;5;124m\"\u001b[39m, \u001b[38;5;28;01mNone\u001b[39;00m):  \u001b[38;5;66;03m# AppEngine might not have  `.sock`\u001b[39;00m\n\u001b[0;32m-> 1061\u001b[0m     \u001b[43mconn\u001b[49m\u001b[38;5;241;43m.\u001b[39;49m\u001b[43mconnect\u001b[49m\u001b[43m(\u001b[49m\u001b[43m)\u001b[49m\n\u001b[1;32m   1063\u001b[0m \u001b[38;5;28;01mif\u001b[39;00m \u001b[38;5;129;01mnot\u001b[39;00m conn\u001b[38;5;241m.\u001b[39mis_verified:\n\u001b[1;32m   1064\u001b[0m     warnings\u001b[38;5;241m.\u001b[39mwarn(\n\u001b[1;32m   1065\u001b[0m         (\n\u001b[1;32m   1066\u001b[0m             \u001b[38;5;124m\"\u001b[39m\u001b[38;5;124mUnverified HTTPS request is being made to host \u001b[39m\u001b[38;5;124m'\u001b[39m\u001b[38;5;132;01m%s\u001b[39;00m\u001b[38;5;124m'\u001b[39m\u001b[38;5;124m. \u001b[39m\u001b[38;5;124m\"\u001b[39m\n\u001b[0;32m   (...)\u001b[0m\n\u001b[1;32m   1071\u001b[0m         InsecureRequestWarning,\n\u001b[1;32m   1072\u001b[0m     )\n",
      "File \u001b[0;32m~/anaconda3/lib/python3.10/site-packages/urllib3/connection.py:419\u001b[0m, in \u001b[0;36mHTTPSConnection.connect\u001b[0;34m(self)\u001b[0m\n\u001b[1;32m    410\u001b[0m \u001b[38;5;28;01mif\u001b[39;00m (\n\u001b[1;32m    411\u001b[0m     \u001b[38;5;129;01mnot\u001b[39;00m \u001b[38;5;28mself\u001b[39m\u001b[38;5;241m.\u001b[39mca_certs\n\u001b[1;32m    412\u001b[0m     \u001b[38;5;129;01mand\u001b[39;00m \u001b[38;5;129;01mnot\u001b[39;00m \u001b[38;5;28mself\u001b[39m\u001b[38;5;241m.\u001b[39mca_cert_dir\n\u001b[0;32m   (...)\u001b[0m\n\u001b[1;32m    415\u001b[0m     \u001b[38;5;129;01mand\u001b[39;00m \u001b[38;5;28mhasattr\u001b[39m(context, \u001b[38;5;124m\"\u001b[39m\u001b[38;5;124mload_default_certs\u001b[39m\u001b[38;5;124m\"\u001b[39m)\n\u001b[1;32m    416\u001b[0m ):\n\u001b[1;32m    417\u001b[0m     context\u001b[38;5;241m.\u001b[39mload_default_certs()\n\u001b[0;32m--> 419\u001b[0m \u001b[38;5;28mself\u001b[39m\u001b[38;5;241m.\u001b[39msock \u001b[38;5;241m=\u001b[39m \u001b[43mssl_wrap_socket\u001b[49m\u001b[43m(\u001b[49m\n\u001b[1;32m    420\u001b[0m \u001b[43m    \u001b[49m\u001b[43msock\u001b[49m\u001b[38;5;241;43m=\u001b[39;49m\u001b[43mconn\u001b[49m\u001b[43m,\u001b[49m\n\u001b[1;32m    421\u001b[0m \u001b[43m    \u001b[49m\u001b[43mkeyfile\u001b[49m\u001b[38;5;241;43m=\u001b[39;49m\u001b[38;5;28;43mself\u001b[39;49m\u001b[38;5;241;43m.\u001b[39;49m\u001b[43mkey_file\u001b[49m\u001b[43m,\u001b[49m\n\u001b[1;32m    422\u001b[0m \u001b[43m    \u001b[49m\u001b[43mcertfile\u001b[49m\u001b[38;5;241;43m=\u001b[39;49m\u001b[38;5;28;43mself\u001b[39;49m\u001b[38;5;241;43m.\u001b[39;49m\u001b[43mcert_file\u001b[49m\u001b[43m,\u001b[49m\n\u001b[1;32m    423\u001b[0m \u001b[43m    \u001b[49m\u001b[43mkey_password\u001b[49m\u001b[38;5;241;43m=\u001b[39;49m\u001b[38;5;28;43mself\u001b[39;49m\u001b[38;5;241;43m.\u001b[39;49m\u001b[43mkey_password\u001b[49m\u001b[43m,\u001b[49m\n\u001b[1;32m    424\u001b[0m \u001b[43m    \u001b[49m\u001b[43mca_certs\u001b[49m\u001b[38;5;241;43m=\u001b[39;49m\u001b[38;5;28;43mself\u001b[39;49m\u001b[38;5;241;43m.\u001b[39;49m\u001b[43mca_certs\u001b[49m\u001b[43m,\u001b[49m\n\u001b[1;32m    425\u001b[0m \u001b[43m    \u001b[49m\u001b[43mca_cert_dir\u001b[49m\u001b[38;5;241;43m=\u001b[39;49m\u001b[38;5;28;43mself\u001b[39;49m\u001b[38;5;241;43m.\u001b[39;49m\u001b[43mca_cert_dir\u001b[49m\u001b[43m,\u001b[49m\n\u001b[1;32m    426\u001b[0m \u001b[43m    \u001b[49m\u001b[43mca_cert_data\u001b[49m\u001b[38;5;241;43m=\u001b[39;49m\u001b[38;5;28;43mself\u001b[39;49m\u001b[38;5;241;43m.\u001b[39;49m\u001b[43mca_cert_data\u001b[49m\u001b[43m,\u001b[49m\n\u001b[1;32m    427\u001b[0m \u001b[43m    \u001b[49m\u001b[43mserver_hostname\u001b[49m\u001b[38;5;241;43m=\u001b[39;49m\u001b[43mserver_hostname\u001b[49m\u001b[43m,\u001b[49m\n\u001b[1;32m    428\u001b[0m \u001b[43m    \u001b[49m\u001b[43mssl_context\u001b[49m\u001b[38;5;241;43m=\u001b[39;49m\u001b[43mcontext\u001b[49m\u001b[43m,\u001b[49m\n\u001b[1;32m    429\u001b[0m \u001b[43m    \u001b[49m\u001b[43mtls_in_tls\u001b[49m\u001b[38;5;241;43m=\u001b[39;49m\u001b[43mtls_in_tls\u001b[49m\u001b[43m,\u001b[49m\n\u001b[1;32m    430\u001b[0m \u001b[43m\u001b[49m\u001b[43m)\u001b[49m\n\u001b[1;32m    432\u001b[0m \u001b[38;5;66;03m# If we're using all defaults and the connection\u001b[39;00m\n\u001b[1;32m    433\u001b[0m \u001b[38;5;66;03m# is TLSv1 or TLSv1.1 we throw a DeprecationWarning\u001b[39;00m\n\u001b[1;32m    434\u001b[0m \u001b[38;5;66;03m# for the host.\u001b[39;00m\n\u001b[1;32m    435\u001b[0m \u001b[38;5;28;01mif\u001b[39;00m (\n\u001b[1;32m    436\u001b[0m     default_ssl_context\n\u001b[1;32m    437\u001b[0m     \u001b[38;5;129;01mand\u001b[39;00m \u001b[38;5;28mself\u001b[39m\u001b[38;5;241m.\u001b[39mssl_version \u001b[38;5;129;01mis\u001b[39;00m \u001b[38;5;28;01mNone\u001b[39;00m\n\u001b[1;32m    438\u001b[0m     \u001b[38;5;129;01mand\u001b[39;00m \u001b[38;5;28mhasattr\u001b[39m(\u001b[38;5;28mself\u001b[39m\u001b[38;5;241m.\u001b[39msock, \u001b[38;5;124m\"\u001b[39m\u001b[38;5;124mversion\u001b[39m\u001b[38;5;124m\"\u001b[39m)\n\u001b[1;32m    439\u001b[0m     \u001b[38;5;129;01mand\u001b[39;00m \u001b[38;5;28mself\u001b[39m\u001b[38;5;241m.\u001b[39msock\u001b[38;5;241m.\u001b[39mversion() \u001b[38;5;129;01min\u001b[39;00m {\u001b[38;5;124m\"\u001b[39m\u001b[38;5;124mTLSv1\u001b[39m\u001b[38;5;124m\"\u001b[39m, \u001b[38;5;124m\"\u001b[39m\u001b[38;5;124mTLSv1.1\u001b[39m\u001b[38;5;124m\"\u001b[39m}\n\u001b[1;32m    440\u001b[0m ):  \u001b[38;5;66;03m# Defensive:\u001b[39;00m\n",
      "File \u001b[0;32m~/anaconda3/lib/python3.10/site-packages/urllib3/util/ssl_.py:458\u001b[0m, in \u001b[0;36mssl_wrap_socket\u001b[0;34m(sock, keyfile, certfile, cert_reqs, ca_certs, server_hostname, ssl_version, ciphers, ssl_context, ca_cert_dir, key_password, ca_cert_data, tls_in_tls)\u001b[0m\n\u001b[1;32m    446\u001b[0m     warnings\u001b[38;5;241m.\u001b[39mwarn(\n\u001b[1;32m    447\u001b[0m         \u001b[38;5;124m\"\u001b[39m\u001b[38;5;124mAn HTTPS request has been made, but the SNI (Server Name \u001b[39m\u001b[38;5;124m\"\u001b[39m\n\u001b[1;32m    448\u001b[0m         \u001b[38;5;124m\"\u001b[39m\u001b[38;5;124mIndication) extension to TLS is not available on this platform. \u001b[39m\u001b[38;5;124m\"\u001b[39m\n\u001b[0;32m   (...)\u001b[0m\n\u001b[1;32m    454\u001b[0m         SNIMissingWarning,\n\u001b[1;32m    455\u001b[0m     )\n\u001b[1;32m    457\u001b[0m \u001b[38;5;28;01mif\u001b[39;00m send_sni:\n\u001b[0;32m--> 458\u001b[0m     ssl_sock \u001b[38;5;241m=\u001b[39m \u001b[43m_ssl_wrap_socket_impl\u001b[49m\u001b[43m(\u001b[49m\n\u001b[1;32m    459\u001b[0m \u001b[43m        \u001b[49m\u001b[43msock\u001b[49m\u001b[43m,\u001b[49m\u001b[43m \u001b[49m\u001b[43mcontext\u001b[49m\u001b[43m,\u001b[49m\u001b[43m \u001b[49m\u001b[43mtls_in_tls\u001b[49m\u001b[43m,\u001b[49m\u001b[43m \u001b[49m\u001b[43mserver_hostname\u001b[49m\u001b[38;5;241;43m=\u001b[39;49m\u001b[43mserver_hostname\u001b[49m\n\u001b[1;32m    460\u001b[0m \u001b[43m    \u001b[49m\u001b[43m)\u001b[49m\n\u001b[1;32m    461\u001b[0m \u001b[38;5;28;01melse\u001b[39;00m:\n\u001b[1;32m    462\u001b[0m     ssl_sock \u001b[38;5;241m=\u001b[39m _ssl_wrap_socket_impl(sock, context, tls_in_tls)\n",
      "File \u001b[0;32m~/anaconda3/lib/python3.10/site-packages/urllib3/util/ssl_.py:502\u001b[0m, in \u001b[0;36m_ssl_wrap_socket_impl\u001b[0;34m(sock, ssl_context, tls_in_tls, server_hostname)\u001b[0m\n\u001b[1;32m    499\u001b[0m     \u001b[38;5;28;01mreturn\u001b[39;00m SSLTransport(sock, ssl_context, server_hostname)\n\u001b[1;32m    501\u001b[0m \u001b[38;5;28;01mif\u001b[39;00m server_hostname:\n\u001b[0;32m--> 502\u001b[0m     \u001b[38;5;28;01mreturn\u001b[39;00m \u001b[43mssl_context\u001b[49m\u001b[38;5;241;43m.\u001b[39;49m\u001b[43mwrap_socket\u001b[49m\u001b[43m(\u001b[49m\u001b[43msock\u001b[49m\u001b[43m,\u001b[49m\u001b[43m \u001b[49m\u001b[43mserver_hostname\u001b[49m\u001b[38;5;241;43m=\u001b[39;49m\u001b[43mserver_hostname\u001b[49m\u001b[43m)\u001b[49m\n\u001b[1;32m    503\u001b[0m \u001b[38;5;28;01melse\u001b[39;00m:\n\u001b[1;32m    504\u001b[0m     \u001b[38;5;28;01mreturn\u001b[39;00m ssl_context\u001b[38;5;241m.\u001b[39mwrap_socket(sock)\n",
      "File \u001b[0;32m~/anaconda3/lib/python3.10/ssl.py:513\u001b[0m, in \u001b[0;36mSSLContext.wrap_socket\u001b[0;34m(self, sock, server_side, do_handshake_on_connect, suppress_ragged_eofs, server_hostname, session)\u001b[0m\n\u001b[1;32m    507\u001b[0m \u001b[38;5;28;01mdef\u001b[39;00m \u001b[38;5;21mwrap_socket\u001b[39m(\u001b[38;5;28mself\u001b[39m, sock, server_side\u001b[38;5;241m=\u001b[39m\u001b[38;5;28;01mFalse\u001b[39;00m,\n\u001b[1;32m    508\u001b[0m                 do_handshake_on_connect\u001b[38;5;241m=\u001b[39m\u001b[38;5;28;01mTrue\u001b[39;00m,\n\u001b[1;32m    509\u001b[0m                 suppress_ragged_eofs\u001b[38;5;241m=\u001b[39m\u001b[38;5;28;01mTrue\u001b[39;00m,\n\u001b[1;32m    510\u001b[0m                 server_hostname\u001b[38;5;241m=\u001b[39m\u001b[38;5;28;01mNone\u001b[39;00m, session\u001b[38;5;241m=\u001b[39m\u001b[38;5;28;01mNone\u001b[39;00m):\n\u001b[1;32m    511\u001b[0m     \u001b[38;5;66;03m# SSLSocket class handles server_hostname encoding before it calls\u001b[39;00m\n\u001b[1;32m    512\u001b[0m     \u001b[38;5;66;03m# ctx._wrap_socket()\u001b[39;00m\n\u001b[0;32m--> 513\u001b[0m     \u001b[38;5;28;01mreturn\u001b[39;00m \u001b[38;5;28;43mself\u001b[39;49m\u001b[38;5;241;43m.\u001b[39;49m\u001b[43msslsocket_class\u001b[49m\u001b[38;5;241;43m.\u001b[39;49m\u001b[43m_create\u001b[49m\u001b[43m(\u001b[49m\n\u001b[1;32m    514\u001b[0m \u001b[43m        \u001b[49m\u001b[43msock\u001b[49m\u001b[38;5;241;43m=\u001b[39;49m\u001b[43msock\u001b[49m\u001b[43m,\u001b[49m\n\u001b[1;32m    515\u001b[0m \u001b[43m        \u001b[49m\u001b[43mserver_side\u001b[49m\u001b[38;5;241;43m=\u001b[39;49m\u001b[43mserver_side\u001b[49m\u001b[43m,\u001b[49m\n\u001b[1;32m    516\u001b[0m \u001b[43m        \u001b[49m\u001b[43mdo_handshake_on_connect\u001b[49m\u001b[38;5;241;43m=\u001b[39;49m\u001b[43mdo_handshake_on_connect\u001b[49m\u001b[43m,\u001b[49m\n\u001b[1;32m    517\u001b[0m \u001b[43m        \u001b[49m\u001b[43msuppress_ragged_eofs\u001b[49m\u001b[38;5;241;43m=\u001b[39;49m\u001b[43msuppress_ragged_eofs\u001b[49m\u001b[43m,\u001b[49m\n\u001b[1;32m    518\u001b[0m \u001b[43m        \u001b[49m\u001b[43mserver_hostname\u001b[49m\u001b[38;5;241;43m=\u001b[39;49m\u001b[43mserver_hostname\u001b[49m\u001b[43m,\u001b[49m\n\u001b[1;32m    519\u001b[0m \u001b[43m        \u001b[49m\u001b[43mcontext\u001b[49m\u001b[38;5;241;43m=\u001b[39;49m\u001b[38;5;28;43mself\u001b[39;49m\u001b[43m,\u001b[49m\n\u001b[1;32m    520\u001b[0m \u001b[43m        \u001b[49m\u001b[43msession\u001b[49m\u001b[38;5;241;43m=\u001b[39;49m\u001b[43msession\u001b[49m\n\u001b[1;32m    521\u001b[0m \u001b[43m    \u001b[49m\u001b[43m)\u001b[49m\n",
      "File \u001b[0;32m~/anaconda3/lib/python3.10/ssl.py:1071\u001b[0m, in \u001b[0;36mSSLSocket._create\u001b[0;34m(cls, sock, server_side, do_handshake_on_connect, suppress_ragged_eofs, server_hostname, context, session)\u001b[0m\n\u001b[1;32m   1068\u001b[0m         \u001b[38;5;28;01mif\u001b[39;00m timeout \u001b[38;5;241m==\u001b[39m \u001b[38;5;241m0.0\u001b[39m:\n\u001b[1;32m   1069\u001b[0m             \u001b[38;5;66;03m# non-blocking\u001b[39;00m\n\u001b[1;32m   1070\u001b[0m             \u001b[38;5;28;01mraise\u001b[39;00m \u001b[38;5;167;01mValueError\u001b[39;00m(\u001b[38;5;124m\"\u001b[39m\u001b[38;5;124mdo_handshake_on_connect should not be specified for non-blocking sockets\u001b[39m\u001b[38;5;124m\"\u001b[39m)\n\u001b[0;32m-> 1071\u001b[0m         \u001b[38;5;28;43mself\u001b[39;49m\u001b[38;5;241;43m.\u001b[39;49m\u001b[43mdo_handshake\u001b[49m\u001b[43m(\u001b[49m\u001b[43m)\u001b[49m\n\u001b[1;32m   1072\u001b[0m \u001b[38;5;28;01mexcept\u001b[39;00m (\u001b[38;5;167;01mOSError\u001b[39;00m, \u001b[38;5;167;01mValueError\u001b[39;00m):\n\u001b[1;32m   1073\u001b[0m     \u001b[38;5;28mself\u001b[39m\u001b[38;5;241m.\u001b[39mclose()\n",
      "File \u001b[0;32m~/anaconda3/lib/python3.10/ssl.py:1342\u001b[0m, in \u001b[0;36mSSLSocket.do_handshake\u001b[0;34m(self, block)\u001b[0m\n\u001b[1;32m   1340\u001b[0m     \u001b[38;5;28;01mif\u001b[39;00m timeout \u001b[38;5;241m==\u001b[39m \u001b[38;5;241m0.0\u001b[39m \u001b[38;5;129;01mand\u001b[39;00m block:\n\u001b[1;32m   1341\u001b[0m         \u001b[38;5;28mself\u001b[39m\u001b[38;5;241m.\u001b[39msettimeout(\u001b[38;5;28;01mNone\u001b[39;00m)\n\u001b[0;32m-> 1342\u001b[0m     \u001b[38;5;28;43mself\u001b[39;49m\u001b[38;5;241;43m.\u001b[39;49m\u001b[43m_sslobj\u001b[49m\u001b[38;5;241;43m.\u001b[39;49m\u001b[43mdo_handshake\u001b[49m\u001b[43m(\u001b[49m\u001b[43m)\u001b[49m\n\u001b[1;32m   1343\u001b[0m \u001b[38;5;28;01mfinally\u001b[39;00m:\n\u001b[1;32m   1344\u001b[0m     \u001b[38;5;28mself\u001b[39m\u001b[38;5;241m.\u001b[39msettimeout(timeout)\n",
      "\u001b[0;31mKeyboardInterrupt\u001b[0m: "
     ]
    }
   ],
   "source": [
    "# import asyncio\n",
    "import pandas as pd\n",
    "import time\n",
    "import logging\n",
    "from random import randint\n",
    "import datetime\n",
    "# import twint\n",
    "from sec_api import QueryApi\n",
    "\n",
    "# SEC API credentials\n",
    "SEC_API_KEY = \"bedfd4d9004df27c9364baf7d873b102b2f820e4e0e8d065119212b29276731c\"\n",
    "\n",
    "\n",
    "# \"\"\"Socimal media sentiment\"\"\"\n",
    "# # Fetching tweets using twint\n",
    "# def fetch_tweets(query, count=100):\n",
    "#     c = twint.Config()\n",
    "#     c.Search = query\n",
    "#     c.Limit = count\n",
    "#     c.Store_csv = True\n",
    "#     c.Output = \"tweets.csv\"\n",
    "    \n",
    "#     try:\n",
    "#         asyncio.run(twint.run.Search(c))\n",
    "#         if os.path.exists(\"tweets.csv\"):\n",
    "#             df = pd.read_csv(\"tweets.csv\")\n",
    "#             tweets = df[[\"date\", \"username\", \"tweet\"]]\n",
    "#         else:\n",
    "#             print(\"tweets.csv not found!\")\n",
    "#             tweets = pd.DataFrame()\n",
    "#     except Exception as e:\n",
    "#         print(f\"Error while fetching tweets: {e}\")\n",
    "#         tweets = pd.DataFrame()\n",
    "    \n",
    "#     return tweets\n",
    "\n",
    "\n",
    "# Configure logging\n",
    "logging.basicConfig(level=logging.INFO, format='%(asctime)s - %(levelname)s - %(message)s')\n",
    "\n",
    "def fetch_sec_filings(company_names, start_date, end_date):\n",
    "    query_api = QueryApi(api_key=SEC_API_KEY)\n",
    "    all_filings = []\n",
    "    \n",
    "    # Loop through each company name in the list\n",
    "    for company_name in company_names:\n",
    "        logging.info(f\"Fetching filings for {company_name}...\")\n",
    "        \n",
    "        from_offset = 0\n",
    "        size = 100  # Set a large enough size to try fetching a large batch of records in each request\n",
    "        \n",
    "        while True:\n",
    "            query = {\n",
    "                \"query\": f\"companyName:'{company_name}' AND filedAt:[{start_date} TO {end_date}]\",\n",
    "                \"from\": from_offset,\n",
    "                \"size\": size,\n",
    "                \"sort\": [{\"filedAt\": {\"order\": \"desc\"}}],\n",
    "            }\n",
    "            try:\n",
    "                response = query_api.get_filings(query)\n",
    "                filings = response.get(\"filings\", [])\n",
    "                \n",
    "                if not filings:\n",
    "                    logging.info(f\"No more filings found for {company_name}.\")\n",
    "                    break\n",
    "                \n",
    "                all_filings.extend([\n",
    "                    {\n",
    "                        \"filed_at\": filing.get(\"filedAt\"),\n",
    "                        \"company_name\": filing.get(\"companyName\"),\n",
    "                        \"form_type\": filing.get(\"formType\"),\n",
    "                        \"url\": filing.get(\"linkToFilingDetails\"),\n",
    "                    }\n",
    "                    for filing in filings\n",
    "                ])\n",
    "                \n",
    "                from_offset += size\n",
    "                \n",
    "                # Simulate a delay between requests if necessary (for rate-limiting purposes)\n",
    "                time.sleep(randint(1, 3))  # Random sleep to avoid hitting rate limits\n",
    "            \n",
    "            except Exception as e:\n",
    "                logging.error(f\"Error while fetching SEC filings for {company_name}: {e}\")\n",
    "                break\n",
    "    \n",
    "    if all_filings:\n",
    "        filings_df = pd.DataFrame(all_filings)\n",
    "        filings_df.to_csv(\"Companies_SEC_filings.csv\", index=False)\n",
    "        logging.info(\"Filings saved to 'Companies_SEC_filings.csv'.\")\n",
    "        return filings_df\n",
    "    else:\n",
    "        logging.warning(\"No filings found to save.\")\n",
    "        return None\n",
    "\n",
    "    \n",
    "    \n",
    "check = fetch_sec_filings(company_names, start_date, end_date)\n",
    "\n",
    "print(check.head())\n"
   ]
  },
  {
   "cell_type": "code",
   "execution_count": null,
   "id": "9d4447f3",
   "metadata": {},
   "outputs": [],
   "source": [
    "print(\"hello\")"
   ]
  },
  {
   "cell_type": "code",
   "execution_count": 8,
   "id": "44f13e4b",
   "metadata": {},
   "outputs": [
    {
     "name": "stdout",
     "output_type": "stream",
     "text": [
      "Files in the current directory: ['TSLA.csv', 'JNJ.csv', 'PCAR.csv', 'INTUIT INC._tweets.csv', 'NSC.csv', 'Dell Technologies Inc._sec_filings.csv', 'Arthur J. Gallagher & Co._sec_filings.csv', 'INTU.csv', 'KLA CORP_tweets.csv', 'FISERV INC_sec_filings.csv', 'MET.csv', 'CHIPOTLE MEXICAN GRILL INC_sec_filings.csv', 'Duke Energy CORP_tweets.csv', 'tickers.txt', 'ECL.csv', 'MSFT.csv', 'GOOG.csv', 'Tesla_tweets.csv', 'SYK.csv', 'PFIZER INC_tweets.csv', 'SNPS.csv', 'Ferrari N.V._sec_filings.csv', 'WELLTOWER INC._tweets.csv', 'BAC.csv', 'RIO TINTO LTD_tweets.csv', 'OKE.csv', 'Banco Santander, S.A._tweets.csv', 'MITSUBISHI UFJ FINANCIAL GROUP INC_tweets.csv', 'ADBE.csv', 'EQUINIX INC_tweets.csv', 'SPDR S&P 500 ETF TRUST_sec_filings.csv', 'ETN.csv', 'DoorDash, Inc._tweets.csv', 'ORACLE CORP_sec_filings.csv', 'RSG.csv', 'CONOCOPHILLIPS_tweets.csv', 'T-Mobile US, Inc._tweets.csv', 'Broadcom Inc._tweets.csv', 'BMO.csv', 'RTX.csv', 'BKNG.csv', 'PSX.csv', 'Apple Inc_sec_filings.csv', 'PDD Holdings Inc._sec_filings.csv', 'LOWES COMPANIES INC_tweets.csv', 'RTNTF.csv', 'JCI.csv', 'ROP.csv', 'Arista Networks, Inc._tweets.csv', 'CPRT.csv', 'COCA COLA CO_tweets.csv', 'LOCKHEED MARTIN CORP_sec_filings.csv', 'FISERV INC_tweets.csv', 'PLTR.csv', 'PFE.csv', 'PDD.csv', 'MCDONALDS CORP_sec_filings.csv', 'CHEVRON CORP_sec_filings.csv', 'LRCX.csv', 'MCDONALDS CORP_tweets.csv', 'MERCADOLIBRE INC_sec_filings.csv', 'CI.csv', 'PETROBRAS - PETROLEO BRASILEIRO SA_tweets.csv', 'Booking Holdings Inc._tweets.csv', 'ICICI BANK LTD_sec_filings.csv', 'UNH.csv', 'PayPal Holdings, Inc._sec_filings.csv', 'HWM.csv', 'BMY.csv', 'PAYX.csv', 'MSI.csv', 'PROCTER & GAMBLE Co_sec_filings.csv', 'INFY.csv', 'THERMO FISHER SCIENTIFIC INC._sec_filings.csv', 'Palo Alto Networks Inc_tweets.csv', 'FDX.csv', 'S&P Global Inc._tweets.csv', 'SBUX.csv', 'US BANCORP \\\\DE\\\\_tweets.csv', 'PANW.csv', 'Blackstone Inc._sec_filings.csv', 'SAP SE_tweets.csv', 'SPGI.csv', 'CrowdStrike Holdings, Inc._sec_filings.csv', 'ADSK.csv', 'TT.csv', 'COCA COLA CO_sec_filings.csv', 'XOM.csv', 'SAN.csv', 'ABBOTT LABORATORIES_sec_filings.csv', 'Interactive Brokers Group, Inc._tweets.csv', 'Arista Networks, Inc._sec_filings.csv', 'TM.csv', 'Mastercard Inc_sec_filings.csv', 'PBR.csv', 'Aon plc_sec_filings.csv', 'BOSTON SCIENTIFIC CORP_sec_filings.csv', 'GENERAL DYNAMICS CORP_sec_filings.csv', 'MA.csv', 'BHP.csv', 'Microsoft_tweets.csv', 'LOW.csv', 'INVESCO QQQ TRUST, SERIES 1_tweets.csv', 'TORONTO DOMINION BANK_sec_filings.csv', 'GENERAL DYNAMICS CORP_tweets.csv', 'ABT.csv', 'TEXAS INSTRUMENTS INC_tweets.csv', 'Elevance Health, Inc._tweets.csv', 'Philip Morris International Inc._tweets.csv', 'Tesla, Inc._sec_filings.csv', 'BA.csv', 'CB.csv', 'MSTR.csv', 'CHEVRON CORP_tweets.csv', 'BRK.B.csv', 'ASTRAZENECA PLC_sec_filings.csv', '3M CO_sec_filings.csv', 'GILD.csv', 'Alphabet Inc._sec_filings.csv', 'COST.csv', 'BDX.csv', 'Walmart Inc._sec_filings.csv', 'RIO TINTO LTD_sec_filings.csv', 'JOHNSON & JOHNSON_sec_filings.csv', 'GOLDMAN SACHS GROUP INC_tweets.csv', 'SHERWIN WILLIAMS CO_tweets.csv', 'CATERPILLAR INC_sec_filings.csv', 'GWW.csv', 'TGT.csv', 'PLD.csv', 'VERIZON COMMUNICATIONS INC_tweets.csv', 'C.csv', 'PSA.csv', 'ABBV.csv', 'UBS Group AG_sec_filings.csv', 'TotalEnergies SE_tweets.csv', 'AMGEN INC_sec_filings.csv', 'MORGAN STANLEY_sec_filings.csv', 'Medtronic plc_sec_filings.csv', 'APO.csv', 'MELI.csv', 'BRISTOL MYERS SQUIBB CO_tweets.csv', 'TransDigm Group INC_sec_filings.csv', 'ADP.csv', 'Motorola Solutions, Inc._sec_filings.csv', 'GS.csv', 'Medtronic plc_tweets.csv', 'TotalEnergies SE_sec_filings.csv', 'LMT.csv', 'PDD Holdings Inc._tweets.csv', 'ROST.csv', 'DUK.csv', 'ACN.csv', 'GENERAL ELECTRIC CO_sec_filings.csv', 'VZ.csv', 'AUTOMATIC DATA PROCESSING INC_tweets.csv', 'CFRUY.csv', 'CHIPOTLE MEXICAN GRILL INC_tweets.csv', 'GOOGL.csv', 'NEXTERA ENERGY INC_tweets.csv', 'Alibaba Group Holding Ltd_tweets.csv', 'RELX PLC_sec_filings.csv', 'BLK.csv', 'BANK OF NOVA SCOTIA_tweets.csv', 'AMAZON COM INC_sec_filings.csv', 'DELL.csv', 'SLB.csv', 'Prologis, Inc._sec_filings.csv', 'CrowdStrike Holdings, Inc._tweets.csv', 'ServiceNow, Inc._tweets.csv', 'AZO.csv', 'BOEING CO_tweets.csv', 'CATERPILLAR INC_tweets.csv', 'Palantir Technologies Inc._tweets.csv', 'KKR & Co. Inc._sec_filings.csv', 'BP PLC_tweets.csv', 'UBER.csv', 'BNS.csv', 'UNION PACIFIC CORP_sec_filings.csv', 'EXXON MOBIL CORP_sec_filings.csv', 'ICICI BANK LTD_tweets.csv', 'Cigna Group_tweets.csv', 'ITW.csv', 'EOG RESOURCES INC_tweets.csv', 'CHTR.csv', 'Salesforce, Inc._sec_filings.csv', 'NVS.csv', 'APD.csv', 'Microsoft_sec_filings.csv', 'DASH.csv', 'MICRON TECHNOLOGY INC_sec_filings.csv', 'APP.csv', 'Sanofi_sec_filings.csv', 'WMB.csv', 'ServiceNow, Inc._sec_filings.csv', 'CTAS.csv', 'Alibaba Group Holding Ltd_sec_filings.csv', 'Airbnb, Inc._tweets.csv', 'NEXTERA ENERGY INC_sec_filings.csv', 'SYNOPSYS INC_sec_filings.csv', 'PEPSICO INC_sec_filings.csv', 'ISRG.csv', 'COP.csv', 'EOG.csv', 'Alphabet Inc._tweets.csv', 'INTUITIVE SURGICAL INC_sec_filings.csv', 'Tesla_sec_filings.csv', 'British American Tobacco p.l.c._sec_filings.csv', 'CINTAS CORP_sec_filings.csv', 'SHERWIN WILLIAMS CO_sec_filings.csv', 'AUTOMATIC DATA PROCESSING INC_sec_filings.csv', 'INVESCO QQQ TRUST, SERIES 1_sec_filings.csv', 'UNP.csv', 'Palo Alto Networks Inc_sec_filings.csv', 'CISCO SYSTEMS, INC._sec_filings.csv', 'AMP.csv', 'Walmart Inc._tweets.csv', 'IBN.csv', 'AT&T INC._sec_filings.csv', 'HLT.csv', 'KMI.csv', 'GEV.csv', 'WELL.csv', 'CEG.csv', 'SONY.csv', 'ENB.csv', 'WELLTOWER INC._sec_filings.csv', 'BHP Group Ltd_tweets.csv', 'DLR.csv', 'BlackRock, Inc._sec_filings.csv', 'Ferrari N.V._tweets.csv', 'AMT.csv', 'INTC.csv', 'Shell plc_tweets.csv', 'CITIGROUP INC_sec_filings.csv', 'ORACLE CORP_tweets.csv', 'ELI LILLY & Co_sec_filings.csv', 'SRE.csv', 'Blackstone Inc._tweets.csv', 'MICROSTRATEGY Inc_tweets.csv', 'WASTE MANAGEMENT INC_sec_filings.csv', 'PM.csv', 'SHOP.csv', 'VERIZON COMMUNICATIONS INC_sec_filings.csv', 'STARBUCKS CORP_sec_filings.csv', 'ORCL.csv', 'COLGATE PALMOLIVE CO_sec_filings.csv', 'PNC FINANCIAL SERVICES GROUP, INC._sec_filings.csv', 'INTEL CORP_tweets.csv', 'LLY.csv', 'NVIDIA CORP_sec_filings.csv', 'MEXICAN ECONOMIC DEVELOPMENT INC_tweets.csv', 'IBKR.csv', 'BRK-B.csv', 'HDFC BANK LTD_sec_filings.csv', 'ADOBE INC._tweets.csv', 'RCL.csv', 'LINDE PLC_tweets.csv', 'AMGN.csv', 'NOVO NORDISK A S_tweets.csv', 'ENBRIDGE INC_sec_filings.csv', 'TMO.csv', 'DEERE & CO_tweets.csv', 'MICRON TECHNOLOGY INC_tweets.csv', 'TJX.csv', 'ICE.csv', 'JOHNSON & JOHNSON_tweets.csv', 'AppLovin Corp_sec_filings.csv', 'Spotify Technology S.A._tweets.csv', 'GOLDMAN SACHS GROUP INC_sec_filings.csv', 'EQIX.csv', 'SHOPIFY INC._tweets.csv', 'V.csv', 'ADI.csv', 'UNITED PARCEL SERVICE INC_sec_filings.csv', 'WMT.csv', 'MARSH & MCLENNAN COMPANIES, INC._sec_filings.csv', 'SHW.csv', 'NOVARTIS AG_sec_filings.csv', 'INTUITIVE SURGICAL INC_tweets.csv', 'HD.csv', 'RY.csv', 'GILEAD SCIENCES, INC._tweets.csv', 'annual_financial_data.csv', 'OXY.csv', 'Meta Platforms, Inc._tweets.csv', 'MRVL.csv', 'SCHWAB CHARLES CORP_tweets.csv', 'EOG RESOURCES INC_sec_filings.csv', 'RCIT.csv', 'MDLZ.csv', 'NVIDIA CORP_tweets.csv', 'NOVO NORDISK A S_sec_filings.csv', 'SHEL.csv', 'NOW.csv', 'CARR.csv', '.ipynb_checkpoints', 'ABBOTT LABORATORIES_tweets.csv', 'NIKE, Inc._tweets.csv', 'MMM.csv', 'HONEYWELL INTERNATIONAL INC_sec_filings.csv', 'ENBRIDGE INC_tweets.csv', 'CL.csv', 'CSCO.csv', 'TRI.csv', 'ADVANCED MICRO DEVICES INC_tweets.csv', 'TORONTO DOMINION BANK_tweets.csv', 'CADENCE DESIGN SYSTEMS INC_sec_filings.csv', 'Merck & Co., Inc._tweets.csv', 'HDB.csv', 'CDNS.csv', 'Constellation Energy Corp_tweets.csv', 'FMX.csv', 'TXN.csv', 'CVX.csv', 'LINDE PLC_sec_filings.csv', 'Shell plc_sec_filings.csv', 'ASML HOLDING NV_tweets.csv', 'AT&T INC._tweets.csv', 'BOSTON SCIENTIFIC CORP_tweets.csv', 'Accenture plc_sec_filings.csv', 'CISCO SYSTEMS, INC._tweets.csv', 'ELV.csv', 'CME GROUP INC._tweets.csv', 'RIO TINTO PLC_tweets.csv', 'Elevance Health, Inc._sec_filings.csv', 'Fortinet, Inc._tweets.csv', 'VRTX.csv', 'JPMORGAN CHASE & CO_tweets.csv', 'AMAZON COM INC_tweets.csv', 'AXP.csv', 'INTERNATIONAL BUSINESS MACHINES CORP_tweets.csv', 'UPS.csv', 'WFC.csv', 'MMC.csv', 'SNY.csv', 'ANALOG DEVICES INC_sec_filings.csv', 'CVS.csv', 'SCHWAB CHARLES CORP_sec_filings.csv', 'HCA.csv', 'UNITEDHEALTH GROUP INC_tweets.csv', 'CSX.csv', 'QQQ.csv', 'CME.csv', 'CRWD.csv', 'DEERE & CO_sec_filings.csv', 'GE Vernova Inc._sec_filings.csv', 'COLGATE PALMOLIVE CO_tweets.csv', 'STRYKER CORP_tweets.csv', 'WDAY.csv', 'Chubb Ltd_sec_filings.csv', 'Infosys Ltd_sec_filings.csv', 'KO.csv', 'AJG.csv', 'MICROSOFT CORP_tweets.csv', 'UNION PACIFIC CORP_tweets.csv', 'MICROSTRATEGY Inc_sec_filings.csv', 'BTI.csv', 'collectData.py', 'MICROSOFT CORP_sec_filings.csv', 'CONOCOPHILLIPS_sec_filings.csv', 'Accenture plc_tweets.csv', 'AIQUY.csv', 'Spotify Technology S.A._sec_filings.csv', 'SHOPIFY INC._sec_filings.csv', 'UNITED PARCEL SERVICE INC_tweets.csv', 'HOME DEPOT, INC._tweets.csv', 'MEXICAN ECONOMIC DEVELOPMENT INC_sec_filings.csv', 'UBS.csv', 'MITSUBISHI UFJ FINANCIAL GROUP INC_sec_filings.csv', 'TD.csv', 'notebook.ipynb', 'HSBC HOLDINGS PLC_tweets.csv', 'Apollo Global Management, Inc._tweets.csv', 'US BANCORP \\\\DE\\\\_sec_filings.csv', 'APH.csv', 'TDG.csv', 'COMCAST CORP_tweets.csv', 'MDT.csv', 'Chubb Ltd_tweets.csv', 'NKE.csv', 'ILLINOIS TOOL WORKS INC_tweets.csv', 'Meta Platforms, Inc._sec_filings.csv', 'Philip Morris International Inc._sec_filings.csv', 'Walt Disney Co_sec_filings.csv', 'SUMITOMO MITSUI FINANCIAL GROUP, INC._tweets.csv', 'ARM.csv', 'NETFLIX INC_tweets.csv', 'company_tickers.json', 'CAT.csv', 'SOUTHERN CO_tweets.csv', 'Mondelez International, Inc._tweets.csv', 'Apollo Global Management, Inc._sec_filings.csv', 'ALL.csv', 'SAP.csv', 'KLAC.csv', 'MARSH & MCLENNAN COMPANIES, INC._tweets.csv', 'Eaton Corp plc_tweets.csv', 'LAM RESEARCH CORP_sec_filings.csv', 'DIS.csv', 'HCA Healthcare, Inc._tweets.csv', 'Trane Technologies plc_sec_filings.csv', 'PG.csv', 'daily_stock_prices.csv', 'Tokyo Electron LTD_sec_filings.csv', 'Sony Group Corp_tweets.csv', 'AON.csv', 'FANG.csv', 'BX.csv', 'NVDA.csv', 'RTX Corp_tweets.csv', 'THERMO FISHER SCIENTIFIC INC._tweets.csv', 'GENERAL ELECTRIC CO_tweets.csv', 'Booking Holdings Inc._sec_filings.csv', 'Mondelez International, Inc._sec_filings.csv', 'EXXON MOBIL CORP_tweets.csv', 'CRM.csv', 'Palantir Technologies Inc._sec_filings.csv', 'ILLINOIS TOOL WORKS INC_sec_filings.csv', 'AMERICAN EXPRESS CO_tweets.csv', 'BRISTOL MYERS SQUIBB CO_sec_filings.csv', 'S&P Global Inc._sec_filings.csv', 'AEP.csv', 'HCA Healthcare, Inc._sec_filings.csv', 'BABA.csv', 'PYPL.csv', 'REGENERON PHARMACEUTICALS, INC._tweets.csv', 'ANALOG DEVICES INC_tweets.csv', 'CME GROUP INC._sec_filings.csv', 'USB.csv', 'Uber Technologies, Inc_tweets.csv', 'INTEL CORP_sec_filings.csv', 'PARKER HANNIFIN CORP_sec_filings.csv', 'HOME DEPOT, INC._sec_filings.csv', 'Banco Santander, S.A._sec_filings.csv', 'MS.csv', '.git', 'PEP.csv', '3M CO_tweets.csv', 'INTUIT INC._sec_filings.csv', 'AFL.csv', 'EMR.csv', 'NXPI.csv', 'NOC.csv', 'LAM RESEARCH CORP_tweets.csv', 'NEE.csv', 'stocks.zip', 'Interactive Brokers Group, Inc._sec_filings.csv', 'Apple Inc._sec_filings.csv', 'T-Mobile US, Inc._sec_filings.csv', 'KKR & Co. Inc._tweets.csv', 'ABNB.csv', 'HSBC.csv', 'NIKE, Inc._sec_filings.csv', 'GE.csv', 'Intercontinental Exchange, Inc._tweets.csv', 'UNITEDHEALTH GROUP INC_sec_filings.csv', 'financial_data.csv', 'TMUS.csv', 'Apple Inc._tweets.csv', 'SPOT.csv', 'MCO.csv', 'Sanofi_tweets.csv', 'AMZN.csv', 'HDFC BANK LTD_tweets.csv', 'Arthur J. Gallagher & Co._tweets.csv', 'MUFG.csv', 'Merck & Co., Inc._sec_filings.csv', 'SAP SE_sec_filings.csv', 'DHR.csv', 'Infosys Ltd_tweets.csv', 'Fortinet, Inc._sec_filings.csv', 'BSX.csv', 'PETROBRAS - PETROLEO BRASILEIRO SA_sec_filings.csv', 'VISA INC._tweets.csv', 'MAR.csv', 'TTE.csv', 'Zoetis Inc._sec_filings.csv', 'ROYAL BANK OF CANADA_tweets.csv', 'MORGAN STANLEY_tweets.csv', 'COF.csv', 'TFC.csv', 'MCD.csv', 'Tesla, Inc._tweets.csv', 'ADOBE INC._sec_filings.csv', 'ASML.csv', 'Dell Technologies Inc._tweets.csv', 'ORLY.csv', 'PARKER HANNIFIN CORP_tweets.csv', 'REGENERON PHARMACEUTICALS, INC._sec_filings.csv', 'TEXAS INSTRUMENTS INC_sec_filings.csv', 'AAPL.csv', 'SCHW.csv', 'PayPal Holdings, Inc._tweets.csv', 'SPY.csv', 'Walt Disney Co_tweets.csv', 'ROYAL BANK OF CANADA_sec_filings.csv', 'Zoetis Inc._tweets.csv', 'MCK.csv', 'T.csv', 'NFLX.csv', 'GD.csv', 'AMERICAN EXPRESS CO_sec_filings.csv', 'EQUINIX INC_sec_filings.csv', 'BERKSHIRE HATHAWAY INC_tweets.csv', 'TOELY.csv', 'CINTAS CORP_tweets.csv', 'Salesforce, Inc._tweets.csv', 'CITIGROUP INC_tweets.csv', 'NOVARTIS AG_tweets.csv', 'AMD.csv', 'GILEAD SCIENCES, INC._sec_filings.csv', 'WM.csv', 'MERCADOLIBRE INC_tweets.csv', 'SPDR S&P 500 ETF TRUST_tweets.csv', 'JPM.csv', 'PGR.csv', 'JPMORGAN CHASE & CO_sec_filings.csv', 'Tokyo Electron LTD_tweets.csv', 'PH.csv', 'RACE.csv', 'REELCAUSE INC_tweets.csv', 'BANK OF NOVA SCOTIA_sec_filings.csv', 'PFIZER INC_sec_filings.csv', 'ADVANCED MICRO DEVICES INC_sec_filings.csv', 'GM.csv', 'NVO.csv', 'AMAT.csv', 'SMFG.csv', 'British American Tobacco p.l.c._tweets.csv', 'REGN.csv', 'PNC FINANCIAL SERVICES GROUP, INC._tweets.csv', 'AMGEN INC_tweets.csv', 'FICO.csv', 'Marvell Technology, Inc._tweets.csv', 'SCCO.csv', 'MO.csv', 'ALTRIA GROUP, INC._tweets.csv', 'Notebook.ipynb', 'TRV.csv', 'Duke Energy CORP_sec_filings.csv', 'STRYKER CORP_sec_filings.csv', 'ASML HOLDING NV_sec_filings.csv', 'LIN.csv', 'Intercontinental Exchange, Inc._sec_filings.csv', 'AbbVie Inc._sec_filings.csv', 'HONEYWELL INTERNATIONAL INC_tweets.csv', 'SUMITOMO MITSUI FINANCIAL GROUP, INC._sec_filings.csv', 'UBS Group AG_tweets.csv', 'PROCTER & GAMBLE Co_tweets.csv', 'BP.csv', 'Cigna Group_sec_filings.csv', 'ANET.csv', 'FCX.csv', 'CMCSA.csv', 'Aon plc_tweets.csv', 'Constellation Energy Corp_sec_filings.csv', 'FTNT.csv', 'BERKSHIRE HATHAWAY INC_sec_filings.csv', 'BP PLC_sec_filings.csv', 'MCKESSON CORP_tweets.csv', 'Motorola Solutions, Inc._tweets.csv', 'SYNOPSYS INC_tweets.csv', 'MU.csv', 'FI.csv', 'LOCKHEED MARTIN CORP_tweets.csv', 'ZTS.csv', 'Broadcom Inc._sec_filings.csv', 'STARBUCKS CORP_tweets.csv', 'MRK.csv', 'BHP Group Ltd_sec_filings.csv', 'DoorDash, Inc._sec_filings.csv', 'Eaton Corp plc_sec_filings.csv', 'README.md', 'NETFLIX INC_sec_filings.csv', 'RTX Corp_sec_filings.csv', 'Sony Group Corp_sec_filings.csv', 'BN.csv', 'Apple Inc_tweets.csv', 'KKR.csv', 'EADSY.csv', 'MCKESSON CORP_sec_filings.csv', 'BOEING CO_sec_filings.csv', 'GE Vernova Inc._tweets.csv', 'ELI LILLY & Co_tweets.csv', 'DE.csv', 'sec_filings', 'Airbnb, Inc._sec_filings.csv', 'LOWES COMPANIES INC_sec_filings.csv', 'AbbVie Inc._tweets.csv', 'RIO.csv', 'SPG.csv', 'ALTRIA GROUP, INC._sec_filings.csv', 'Mastercard Inc_tweets.csv', 'BlackRock, Inc._tweets.csv', 'HSBC HOLDINGS PLC_sec_filings.csv', 'IBM.csv', 'SOUTHERN CO_sec_filings.csv', 'CADENCE DESIGN SYSTEMS INC_tweets.csv', 'AVGO.csv', 'AZN.csv', 'REELCAUSE INC_sec_filings.csv', 'Marvell Technology, Inc._sec_filings.csv', 'CMG.csv', 'VISA INC._sec_filings.csv', 'QCOM.csv', 'KLA CORP_sec_filings.csv', 'PEPSICO INC_tweets.csv', 'BK.csv', 'Trane Technologies plc_tweets.csv', 'RIO TINTO PLC_sec_filings.csv', 'Uber Technologies, Inc_sec_filings.csv', 'INTERNATIONAL BUSINESS MACHINES CORP_sec_filings.csv', 'VST.csv', 'TransDigm Group INC_tweets.csv', 'HON.csv', 'AppLovin Corp_tweets.csv', 'WASTE MANAGEMENT INC_tweets.csv', 'RELX.csv', 'CMI.csv', 'COMCAST CORP_sec_filings.csv', 'META.csv', 'ASTRAZENECA PLC_tweets.csv', 'BUD.csv', 'RELX PLC_tweets.csv', 'Prologis, Inc._tweets.csv', 'SO.csv', 'PNC.csv']\n",
      "Matched file: FISERV INC_sec_filings.csv\n",
      "Matched file: CHIPOTLE MEXICAN GRILL INC_sec_filings.csv\n",
      "Matched file: ORACLE CORP_sec_filings.csv\n",
      "Matched file: Apple Inc_sec_filings.csv\n",
      "Matched file: LOCKHEED MARTIN CORP_sec_filings.csv\n",
      "Matched file: MCDONALDS CORP_sec_filings.csv\n",
      "Matched file: CHEVRON CORP_sec_filings.csv\n",
      "Matched file: MERCADOLIBRE INC_sec_filings.csv\n",
      "Matched file: ICICI BANK LTD_sec_filings.csv\n",
      "Matched file: COCA COLA CO_sec_filings.csv\n",
      "Matched file: ABBOTT LABORATORIES_sec_filings.csv\n",
      "Matched file: Mastercard Inc_sec_filings.csv\n",
      "Matched file: Aon plc_sec_filings.csv\n",
      "Matched file: BOSTON SCIENTIFIC CORP_sec_filings.csv\n",
      "Matched file: GENERAL DYNAMICS CORP_sec_filings.csv\n",
      "Matched file: TORONTO DOMINION BANK_sec_filings.csv\n",
      "Matched file: ASTRAZENECA PLC_sec_filings.csv\n",
      "Matched file: 3M CO_sec_filings.csv\n",
      "Matched file: RIO TINTO LTD_sec_filings.csv\n",
      "Matched file: CATERPILLAR INC_sec_filings.csv\n",
      "Matched file: UBS Group AG_sec_filings.csv\n",
      "Matched file: AMGEN INC_sec_filings.csv\n",
      "Matched file: MORGAN STANLEY_sec_filings.csv\n",
      "Matched file: Medtronic plc_sec_filings.csv\n",
      "Matched file: TransDigm Group INC_sec_filings.csv\n",
      "Matched file: TotalEnergies SE_sec_filings.csv\n",
      "Matched file: GENERAL ELECTRIC CO_sec_filings.csv\n",
      "Matched file: RELX PLC_sec_filings.csv\n",
      "Matched file: AMAZON COM INC_sec_filings.csv\n",
      "Matched file: UNION PACIFIC CORP_sec_filings.csv\n",
      "Matched file: EXXON MOBIL CORP_sec_filings.csv\n",
      "Matched file: Microsoft_sec_filings.csv\n",
      "Matched file: MICRON TECHNOLOGY INC_sec_filings.csv\n",
      "Matched file: Sanofi_sec_filings.csv\n",
      "Matched file: Alibaba Group Holding Ltd_sec_filings.csv\n",
      "Matched file: NEXTERA ENERGY INC_sec_filings.csv\n",
      "Matched file: SYNOPSYS INC_sec_filings.csv\n",
      "Matched file: PEPSICO INC_sec_filings.csv\n",
      "Matched file: INTUITIVE SURGICAL INC_sec_filings.csv\n",
      "Matched file: Tesla_sec_filings.csv\n",
      "Matched file: CINTAS CORP_sec_filings.csv\n",
      "Matched file: SHERWIN WILLIAMS CO_sec_filings.csv\n",
      "Matched file: AUTOMATIC DATA PROCESSING INC_sec_filings.csv\n",
      "Matched file: Palo Alto Networks Inc_sec_filings.csv\n",
      "Matched file: CITIGROUP INC_sec_filings.csv\n",
      "Matched file: WASTE MANAGEMENT INC_sec_filings.csv\n",
      "Matched file: VERIZON COMMUNICATIONS INC_sec_filings.csv\n",
      "Matched file: STARBUCKS CORP_sec_filings.csv\n",
      "Matched file: COLGATE PALMOLIVE CO_sec_filings.csv\n",
      "Matched file: NVIDIA CORP_sec_filings.csv\n",
      "Matched file: HDFC BANK LTD_sec_filings.csv\n",
      "Matched file: ENBRIDGE INC_sec_filings.csv\n",
      "Matched file: AppLovin Corp_sec_filings.csv\n",
      "Matched file: GOLDMAN SACHS GROUP INC_sec_filings.csv\n",
      "Matched file: UNITED PARCEL SERVICE INC_sec_filings.csv\n",
      "Matched file: NOVARTIS AG_sec_filings.csv\n",
      "Matched file: EOG RESOURCES INC_sec_filings.csv\n",
      "Matched file: NOVO NORDISK A S_sec_filings.csv\n",
      "Matched file: HONEYWELL INTERNATIONAL INC_sec_filings.csv\n",
      "Matched file: CADENCE DESIGN SYSTEMS INC_sec_filings.csv\n",
      "Matched file: LINDE PLC_sec_filings.csv\n",
      "Matched file: Shell plc_sec_filings.csv\n",
      "Matched file: Accenture plc_sec_filings.csv\n",
      "Matched file: ANALOG DEVICES INC_sec_filings.csv\n",
      "Matched file: SCHWAB CHARLES CORP_sec_filings.csv\n",
      "Matched file: Chubb Ltd_sec_filings.csv\n",
      "Matched file: Infosys Ltd_sec_filings.csv\n",
      "Matched file: MICROSTRATEGY Inc_sec_filings.csv\n",
      "Matched file: MICROSOFT CORP_sec_filings.csv\n",
      "Matched file: CONOCOPHILLIPS_sec_filings.csv\n",
      "Matched file: MEXICAN ECONOMIC DEVELOPMENT INC_sec_filings.csv\n",
      "Matched file: MITSUBISHI UFJ FINANCIAL GROUP INC_sec_filings.csv\n",
      "Matched file: Walt Disney Co_sec_filings.csv\n",
      "Matched file: LAM RESEARCH CORP_sec_filings.csv\n",
      "Matched file: Trane Technologies plc_sec_filings.csv\n",
      "Matched file: Tokyo Electron LTD_sec_filings.csv\n",
      "Matched file: ILLINOIS TOOL WORKS INC_sec_filings.csv\n",
      "Matched file: BRISTOL MYERS SQUIBB CO_sec_filings.csv\n",
      "Matched file: INTEL CORP_sec_filings.csv\n",
      "Matched file: PARKER HANNIFIN CORP_sec_filings.csv\n",
      "Matched file: UNITEDHEALTH GROUP INC_sec_filings.csv\n",
      "Matched file: SAP SE_sec_filings.csv\n",
      "Matched file: PETROBRAS - PETROLEO BRASILEIRO SA_sec_filings.csv\n",
      "Matched file: TEXAS INSTRUMENTS INC_sec_filings.csv\n",
      "Matched file: ROYAL BANK OF CANADA_sec_filings.csv\n",
      "Matched file: AMERICAN EXPRESS CO_sec_filings.csv\n",
      "Matched file: EQUINIX INC_sec_filings.csv\n",
      "Matched file: BANK OF NOVA SCOTIA_sec_filings.csv\n",
      "Matched file: PFIZER INC_sec_filings.csv\n",
      "Matched file: ADVANCED MICRO DEVICES INC_sec_filings.csv\n",
      "Matched file: Duke Energy CORP_sec_filings.csv\n",
      "Matched file: STRYKER CORP_sec_filings.csv\n",
      "Matched file: ASML HOLDING NV_sec_filings.csv\n",
      "Matched file: Cigna Group_sec_filings.csv\n",
      "Matched file: Constellation Energy Corp_sec_filings.csv\n",
      "Matched file: BERKSHIRE HATHAWAY INC_sec_filings.csv\n",
      "Matched file: BP PLC_sec_filings.csv\n",
      "Matched file: BHP Group Ltd_sec_filings.csv\n",
      "Matched file: Eaton Corp plc_sec_filings.csv\n",
      "Matched file: NETFLIX INC_sec_filings.csv\n",
      "Matched file: RTX Corp_sec_filings.csv\n",
      "Matched file: Sony Group Corp_sec_filings.csv\n",
      "Matched file: MCKESSON CORP_sec_filings.csv\n",
      "Matched file: BOEING CO_sec_filings.csv\n",
      "Matched file: LOWES COMPANIES INC_sec_filings.csv\n",
      "Matched file: HSBC HOLDINGS PLC_sec_filings.csv\n",
      "Matched file: SOUTHERN CO_sec_filings.csv\n",
      "Matched file: REELCAUSE INC_sec_filings.csv\n",
      "Matched file: KLA CORP_sec_filings.csv\n",
      "Matched file: RIO TINTO PLC_sec_filings.csv\n",
      "Matched file: INTERNATIONAL BUSINESS MACHINES CORP_sec_filings.csv\n",
      "Matched file: COMCAST CORP_sec_filings.csv\n",
      "Reading file: /home/musiliandrew/Desktop/DataProjs/Finance/empirical/FISERV INC_sec_filings.csv\n"
     ]
    },
    {
     "name": "stdout",
     "output_type": "stream",
     "text": [
      "Error reading /home/musiliandrew/Desktop/DataProjs/Finance/empirical/FISERV INC_sec_filings.csv: No columns to parse from file\n",
      "Reading file: /home/musiliandrew/Desktop/DataProjs/Finance/empirical/CHIPOTLE MEXICAN GRILL INC_sec_filings.csv\n",
      "Error reading /home/musiliandrew/Desktop/DataProjs/Finance/empirical/CHIPOTLE MEXICAN GRILL INC_sec_filings.csv: No columns to parse from file\n",
      "Reading file: /home/musiliandrew/Desktop/DataProjs/Finance/empirical/ORACLE CORP_sec_filings.csv\n",
      "Reading file: /home/musiliandrew/Desktop/DataProjs/Finance/empirical/Apple Inc_sec_filings.csv\n",
      "Error reading /home/musiliandrew/Desktop/DataProjs/Finance/empirical/Apple Inc_sec_filings.csv: No columns to parse from file\n",
      "Reading file: /home/musiliandrew/Desktop/DataProjs/Finance/empirical/LOCKHEED MARTIN CORP_sec_filings.csv\n",
      "Error reading /home/musiliandrew/Desktop/DataProjs/Finance/empirical/LOCKHEED MARTIN CORP_sec_filings.csv: No columns to parse from file\n",
      "Reading file: /home/musiliandrew/Desktop/DataProjs/Finance/empirical/MCDONALDS CORP_sec_filings.csv\n",
      "Reading file: /home/musiliandrew/Desktop/DataProjs/Finance/empirical/CHEVRON CORP_sec_filings.csv\n",
      "Reading file: /home/musiliandrew/Desktop/DataProjs/Finance/empirical/MERCADOLIBRE INC_sec_filings.csv\n",
      "Error reading /home/musiliandrew/Desktop/DataProjs/Finance/empirical/MERCADOLIBRE INC_sec_filings.csv: No columns to parse from file\n",
      "Reading file: /home/musiliandrew/Desktop/DataProjs/Finance/empirical/ICICI BANK LTD_sec_filings.csv\n",
      "Error reading /home/musiliandrew/Desktop/DataProjs/Finance/empirical/ICICI BANK LTD_sec_filings.csv: No columns to parse from file\n",
      "Reading file: /home/musiliandrew/Desktop/DataProjs/Finance/empirical/COCA COLA CO_sec_filings.csv\n",
      "Reading file: /home/musiliandrew/Desktop/DataProjs/Finance/empirical/ABBOTT LABORATORIES_sec_filings.csv\n",
      "Reading file: /home/musiliandrew/Desktop/DataProjs/Finance/empirical/Mastercard Inc_sec_filings.csv\n",
      "Reading file: /home/musiliandrew/Desktop/DataProjs/Finance/empirical/Aon plc_sec_filings.csv\n",
      "Error reading /home/musiliandrew/Desktop/DataProjs/Finance/empirical/Aon plc_sec_filings.csv: No columns to parse from file\n",
      "Reading file: /home/musiliandrew/Desktop/DataProjs/Finance/empirical/BOSTON SCIENTIFIC CORP_sec_filings.csv\n",
      "Reading file: /home/musiliandrew/Desktop/DataProjs/Finance/empirical/GENERAL DYNAMICS CORP_sec_filings.csv\n",
      "Error reading /home/musiliandrew/Desktop/DataProjs/Finance/empirical/GENERAL DYNAMICS CORP_sec_filings.csv: No columns to parse from file\n",
      "Reading file: /home/musiliandrew/Desktop/DataProjs/Finance/empirical/TORONTO DOMINION BANK_sec_filings.csv\n",
      "Error reading /home/musiliandrew/Desktop/DataProjs/Finance/empirical/TORONTO DOMINION BANK_sec_filings.csv: No columns to parse from file\n",
      "Reading file: /home/musiliandrew/Desktop/DataProjs/Finance/empirical/ASTRAZENECA PLC_sec_filings.csv\n",
      "Reading file: /home/musiliandrew/Desktop/DataProjs/Finance/empirical/3M CO_sec_filings.csv\n",
      "Error reading /home/musiliandrew/Desktop/DataProjs/Finance/empirical/3M CO_sec_filings.csv: No columns to parse from file\n",
      "Reading file: /home/musiliandrew/Desktop/DataProjs/Finance/empirical/RIO TINTO LTD_sec_filings.csv\n",
      "Error reading /home/musiliandrew/Desktop/DataProjs/Finance/empirical/RIO TINTO LTD_sec_filings.csv: No columns to parse from file\n",
      "Reading file: /home/musiliandrew/Desktop/DataProjs/Finance/empirical/CATERPILLAR INC_sec_filings.csv\n",
      "Reading file: /home/musiliandrew/Desktop/DataProjs/Finance/empirical/UBS Group AG_sec_filings.csv\n",
      "Error reading /home/musiliandrew/Desktop/DataProjs/Finance/empirical/UBS Group AG_sec_filings.csv: No columns to parse from file\n",
      "Reading file: /home/musiliandrew/Desktop/DataProjs/Finance/empirical/AMGEN INC_sec_filings.csv\n",
      "Reading file: /home/musiliandrew/Desktop/DataProjs/Finance/empirical/MORGAN STANLEY_sec_filings.csv\n",
      "Reading file: /home/musiliandrew/Desktop/DataProjs/Finance/empirical/Medtronic plc_sec_filings.csv\n",
      "Error reading /home/musiliandrew/Desktop/DataProjs/Finance/empirical/Medtronic plc_sec_filings.csv: No columns to parse from file\n",
      "Reading file: /home/musiliandrew/Desktop/DataProjs/Finance/empirical/TransDigm Group INC_sec_filings.csv\n",
      "Error reading /home/musiliandrew/Desktop/DataProjs/Finance/empirical/TransDigm Group INC_sec_filings.csv: No columns to parse from file\n",
      "Reading file: /home/musiliandrew/Desktop/DataProjs/Finance/empirical/TotalEnergies SE_sec_filings.csv\n",
      "Error reading /home/musiliandrew/Desktop/DataProjs/Finance/empirical/TotalEnergies SE_sec_filings.csv: No columns to parse from file\n",
      "Reading file: /home/musiliandrew/Desktop/DataProjs/Finance/empirical/GENERAL ELECTRIC CO_sec_filings.csv\n",
      "Reading file: /home/musiliandrew/Desktop/DataProjs/Finance/empirical/RELX PLC_sec_filings.csv\n",
      "Error reading /home/musiliandrew/Desktop/DataProjs/Finance/empirical/RELX PLC_sec_filings.csv: No columns to parse from file\n",
      "Reading file: /home/musiliandrew/Desktop/DataProjs/Finance/empirical/AMAZON COM INC_sec_filings.csv\n",
      "Reading file: /home/musiliandrew/Desktop/DataProjs/Finance/empirical/UNION PACIFIC CORP_sec_filings.csv\n",
      "Reading file: /home/musiliandrew/Desktop/DataProjs/Finance/empirical/EXXON MOBIL CORP_sec_filings.csv\n",
      "Reading file: /home/musiliandrew/Desktop/DataProjs/Finance/empirical/Microsoft_sec_filings.csv\n",
      "Error reading /home/musiliandrew/Desktop/DataProjs/Finance/empirical/Microsoft_sec_filings.csv: No columns to parse from file\n",
      "Reading file: /home/musiliandrew/Desktop/DataProjs/Finance/empirical/MICRON TECHNOLOGY INC_sec_filings.csv\n",
      "Error reading /home/musiliandrew/Desktop/DataProjs/Finance/empirical/MICRON TECHNOLOGY INC_sec_filings.csv: No columns to parse from file\n",
      "Reading file: /home/musiliandrew/Desktop/DataProjs/Finance/empirical/Sanofi_sec_filings.csv\n",
      "Error reading /home/musiliandrew/Desktop/DataProjs/Finance/empirical/Sanofi_sec_filings.csv: No columns to parse from file\n",
      "Reading file: /home/musiliandrew/Desktop/DataProjs/Finance/empirical/Alibaba Group Holding Ltd_sec_filings.csv\n",
      "Reading file: /home/musiliandrew/Desktop/DataProjs/Finance/empirical/NEXTERA ENERGY INC_sec_filings.csv\n",
      "Reading file: /home/musiliandrew/Desktop/DataProjs/Finance/empirical/SYNOPSYS INC_sec_filings.csv\n",
      "Error reading /home/musiliandrew/Desktop/DataProjs/Finance/empirical/SYNOPSYS INC_sec_filings.csv: No columns to parse from file\n",
      "Reading file: /home/musiliandrew/Desktop/DataProjs/Finance/empirical/PEPSICO INC_sec_filings.csv\n",
      "Reading file: /home/musiliandrew/Desktop/DataProjs/Finance/empirical/INTUITIVE SURGICAL INC_sec_filings.csv\n",
      "Reading file: /home/musiliandrew/Desktop/DataProjs/Finance/empirical/Tesla_sec_filings.csv\n",
      "Error reading /home/musiliandrew/Desktop/DataProjs/Finance/empirical/Tesla_sec_filings.csv: No columns to parse from file\n",
      "Reading file: /home/musiliandrew/Desktop/DataProjs/Finance/empirical/CINTAS CORP_sec_filings.csv\n",
      "Error reading /home/musiliandrew/Desktop/DataProjs/Finance/empirical/CINTAS CORP_sec_filings.csv: No columns to parse from file\n",
      "Reading file: /home/musiliandrew/Desktop/DataProjs/Finance/empirical/SHERWIN WILLIAMS CO_sec_filings.csv\n",
      "Error reading /home/musiliandrew/Desktop/DataProjs/Finance/empirical/SHERWIN WILLIAMS CO_sec_filings.csv: No columns to parse from file\n",
      "Reading file: /home/musiliandrew/Desktop/DataProjs/Finance/empirical/AUTOMATIC DATA PROCESSING INC_sec_filings.csv\n",
      "Error reading /home/musiliandrew/Desktop/DataProjs/Finance/empirical/AUTOMATIC DATA PROCESSING INC_sec_filings.csv: No columns to parse from file\n",
      "Reading file: /home/musiliandrew/Desktop/DataProjs/Finance/empirical/Palo Alto Networks Inc_sec_filings.csv\n",
      "Error reading /home/musiliandrew/Desktop/DataProjs/Finance/empirical/Palo Alto Networks Inc_sec_filings.csv: No columns to parse from file\n",
      "Reading file: /home/musiliandrew/Desktop/DataProjs/Finance/empirical/CITIGROUP INC_sec_filings.csv\n",
      "Reading file: /home/musiliandrew/Desktop/DataProjs/Finance/empirical/WASTE MANAGEMENT INC_sec_filings.csv\n",
      "Error reading /home/musiliandrew/Desktop/DataProjs/Finance/empirical/WASTE MANAGEMENT INC_sec_filings.csv: No columns to parse from file\n",
      "Reading file: /home/musiliandrew/Desktop/DataProjs/Finance/empirical/VERIZON COMMUNICATIONS INC_sec_filings.csv\n",
      "Reading file: /home/musiliandrew/Desktop/DataProjs/Finance/empirical/STARBUCKS CORP_sec_filings.csv\n",
      "Error reading /home/musiliandrew/Desktop/DataProjs/Finance/empirical/STARBUCKS CORP_sec_filings.csv: No columns to parse from file\n",
      "Reading file: /home/musiliandrew/Desktop/DataProjs/Finance/empirical/COLGATE PALMOLIVE CO_sec_filings.csv\n",
      "Error reading /home/musiliandrew/Desktop/DataProjs/Finance/empirical/COLGATE PALMOLIVE CO_sec_filings.csv: No columns to parse from file\n",
      "Reading file: /home/musiliandrew/Desktop/DataProjs/Finance/empirical/NVIDIA CORP_sec_filings.csv\n",
      "Reading file: /home/musiliandrew/Desktop/DataProjs/Finance/empirical/HDFC BANK LTD_sec_filings.csv\n",
      "Reading file: /home/musiliandrew/Desktop/DataProjs/Finance/empirical/ENBRIDGE INC_sec_filings.csv\n"
     ]
    },
    {
     "name": "stdout",
     "output_type": "stream",
     "text": [
      "Error reading /home/musiliandrew/Desktop/DataProjs/Finance/empirical/ENBRIDGE INC_sec_filings.csv: No columns to parse from file\n",
      "Reading file: /home/musiliandrew/Desktop/DataProjs/Finance/empirical/AppLovin Corp_sec_filings.csv\n",
      "Error reading /home/musiliandrew/Desktop/DataProjs/Finance/empirical/AppLovin Corp_sec_filings.csv: No columns to parse from file\n",
      "Reading file: /home/musiliandrew/Desktop/DataProjs/Finance/empirical/GOLDMAN SACHS GROUP INC_sec_filings.csv\n",
      "Reading file: /home/musiliandrew/Desktop/DataProjs/Finance/empirical/UNITED PARCEL SERVICE INC_sec_filings.csv\n",
      "Error reading /home/musiliandrew/Desktop/DataProjs/Finance/empirical/UNITED PARCEL SERVICE INC_sec_filings.csv: No columns to parse from file\n",
      "Reading file: /home/musiliandrew/Desktop/DataProjs/Finance/empirical/NOVARTIS AG_sec_filings.csv\n",
      "Reading file: /home/musiliandrew/Desktop/DataProjs/Finance/empirical/EOG RESOURCES INC_sec_filings.csv\n",
      "Error reading /home/musiliandrew/Desktop/DataProjs/Finance/empirical/EOG RESOURCES INC_sec_filings.csv: No columns to parse from file\n",
      "Reading file: /home/musiliandrew/Desktop/DataProjs/Finance/empirical/NOVO NORDISK A S_sec_filings.csv\n",
      "Reading file: /home/musiliandrew/Desktop/DataProjs/Finance/empirical/HONEYWELL INTERNATIONAL INC_sec_filings.csv\n",
      "Reading file: /home/musiliandrew/Desktop/DataProjs/Finance/empirical/CADENCE DESIGN SYSTEMS INC_sec_filings.csv\n",
      "Error reading /home/musiliandrew/Desktop/DataProjs/Finance/empirical/CADENCE DESIGN SYSTEMS INC_sec_filings.csv: No columns to parse from file\n",
      "Reading file: /home/musiliandrew/Desktop/DataProjs/Finance/empirical/LINDE PLC_sec_filings.csv\n",
      "Reading file: /home/musiliandrew/Desktop/DataProjs/Finance/empirical/Shell plc_sec_filings.csv\n",
      "Reading file: /home/musiliandrew/Desktop/DataProjs/Finance/empirical/Accenture plc_sec_filings.csv\n",
      "Reading file: /home/musiliandrew/Desktop/DataProjs/Finance/empirical/ANALOG DEVICES INC_sec_filings.csv\n",
      "Error reading /home/musiliandrew/Desktop/DataProjs/Finance/empirical/ANALOG DEVICES INC_sec_filings.csv: No columns to parse from file\n",
      "Reading file: /home/musiliandrew/Desktop/DataProjs/Finance/empirical/SCHWAB CHARLES CORP_sec_filings.csv\n",
      "Reading file: /home/musiliandrew/Desktop/DataProjs/Finance/empirical/Chubb Ltd_sec_filings.csv\n",
      "Error reading /home/musiliandrew/Desktop/DataProjs/Finance/empirical/Chubb Ltd_sec_filings.csv: No columns to parse from file\n",
      "Reading file: /home/musiliandrew/Desktop/DataProjs/Finance/empirical/Infosys Ltd_sec_filings.csv\n",
      "Error reading /home/musiliandrew/Desktop/DataProjs/Finance/empirical/Infosys Ltd_sec_filings.csv: No columns to parse from file\n",
      "Reading file: /home/musiliandrew/Desktop/DataProjs/Finance/empirical/MICROSTRATEGY Inc_sec_filings.csv\n",
      "Error reading /home/musiliandrew/Desktop/DataProjs/Finance/empirical/MICROSTRATEGY Inc_sec_filings.csv: No columns to parse from file\n",
      "Reading file: /home/musiliandrew/Desktop/DataProjs/Finance/empirical/MICROSOFT CORP_sec_filings.csv\n",
      "Reading file: /home/musiliandrew/Desktop/DataProjs/Finance/empirical/CONOCOPHILLIPS_sec_filings.csv\n",
      "Error reading /home/musiliandrew/Desktop/DataProjs/Finance/empirical/CONOCOPHILLIPS_sec_filings.csv: No columns to parse from file\n",
      "Reading file: /home/musiliandrew/Desktop/DataProjs/Finance/empirical/MEXICAN ECONOMIC DEVELOPMENT INC_sec_filings.csv\n",
      "Reading file: /home/musiliandrew/Desktop/DataProjs/Finance/empirical/MITSUBISHI UFJ FINANCIAL GROUP INC_sec_filings.csv\n",
      "Reading file: /home/musiliandrew/Desktop/DataProjs/Finance/empirical/Walt Disney Co_sec_filings.csv\n",
      "Reading file: /home/musiliandrew/Desktop/DataProjs/Finance/empirical/LAM RESEARCH CORP_sec_filings.csv\n",
      "Error reading /home/musiliandrew/Desktop/DataProjs/Finance/empirical/LAM RESEARCH CORP_sec_filings.csv: No columns to parse from file\n",
      "Reading file: /home/musiliandrew/Desktop/DataProjs/Finance/empirical/Trane Technologies plc_sec_filings.csv\n",
      "Error reading /home/musiliandrew/Desktop/DataProjs/Finance/empirical/Trane Technologies plc_sec_filings.csv: No columns to parse from file\n",
      "Reading file: /home/musiliandrew/Desktop/DataProjs/Finance/empirical/Tokyo Electron LTD_sec_filings.csv\n",
      "Error reading /home/musiliandrew/Desktop/DataProjs/Finance/empirical/Tokyo Electron LTD_sec_filings.csv: No columns to parse from file\n",
      "Reading file: /home/musiliandrew/Desktop/DataProjs/Finance/empirical/ILLINOIS TOOL WORKS INC_sec_filings.csv\n",
      "Error reading /home/musiliandrew/Desktop/DataProjs/Finance/empirical/ILLINOIS TOOL WORKS INC_sec_filings.csv: No columns to parse from file\n",
      "Reading file: /home/musiliandrew/Desktop/DataProjs/Finance/empirical/BRISTOL MYERS SQUIBB CO_sec_filings.csv\n",
      "Error reading /home/musiliandrew/Desktop/DataProjs/Finance/empirical/BRISTOL MYERS SQUIBB CO_sec_filings.csv: No columns to parse from file\n",
      "Reading file: /home/musiliandrew/Desktop/DataProjs/Finance/empirical/INTEL CORP_sec_filings.csv\n",
      "Error reading /home/musiliandrew/Desktop/DataProjs/Finance/empirical/INTEL CORP_sec_filings.csv: No columns to parse from file\n",
      "Reading file: /home/musiliandrew/Desktop/DataProjs/Finance/empirical/PARKER HANNIFIN CORP_sec_filings.csv\n",
      "Error reading /home/musiliandrew/Desktop/DataProjs/Finance/empirical/PARKER HANNIFIN CORP_sec_filings.csv: No columns to parse from file\n",
      "Reading file: /home/musiliandrew/Desktop/DataProjs/Finance/empirical/UNITEDHEALTH GROUP INC_sec_filings.csv\n",
      "Reading file: /home/musiliandrew/Desktop/DataProjs/Finance/empirical/SAP SE_sec_filings.csv\n",
      "Reading file: /home/musiliandrew/Desktop/DataProjs/Finance/empirical/PETROBRAS - PETROLEO BRASILEIRO SA_sec_filings.csv\n",
      "Error reading /home/musiliandrew/Desktop/DataProjs/Finance/empirical/PETROBRAS - PETROLEO BRASILEIRO SA_sec_filings.csv: No columns to parse from file\n",
      "Reading file: /home/musiliandrew/Desktop/DataProjs/Finance/empirical/TEXAS INSTRUMENTS INC_sec_filings.csv\n",
      "Reading file: /home/musiliandrew/Desktop/DataProjs/Finance/empirical/ROYAL BANK OF CANADA_sec_filings.csv\n",
      "Reading file: /home/musiliandrew/Desktop/DataProjs/Finance/empirical/AMERICAN EXPRESS CO_sec_filings.csv\n",
      "Reading file: /home/musiliandrew/Desktop/DataProjs/Finance/empirical/EQUINIX INC_sec_filings.csv\n",
      "Error reading /home/musiliandrew/Desktop/DataProjs/Finance/empirical/EQUINIX INC_sec_filings.csv: No columns to parse from file\n",
      "Reading file: /home/musiliandrew/Desktop/DataProjs/Finance/empirical/BANK OF NOVA SCOTIA_sec_filings.csv\n",
      "Error reading /home/musiliandrew/Desktop/DataProjs/Finance/empirical/BANK OF NOVA SCOTIA_sec_filings.csv: No columns to parse from file\n",
      "Reading file: /home/musiliandrew/Desktop/DataProjs/Finance/empirical/PFIZER INC_sec_filings.csv\n",
      "Reading file: /home/musiliandrew/Desktop/DataProjs/Finance/empirical/ADVANCED MICRO DEVICES INC_sec_filings.csv\n",
      "Reading file: /home/musiliandrew/Desktop/DataProjs/Finance/empirical/Duke Energy CORP_sec_filings.csv\n",
      "Error reading /home/musiliandrew/Desktop/DataProjs/Finance/empirical/Duke Energy CORP_sec_filings.csv: No columns to parse from file\n",
      "Reading file: /home/musiliandrew/Desktop/DataProjs/Finance/empirical/STRYKER CORP_sec_filings.csv\n",
      "Reading file: /home/musiliandrew/Desktop/DataProjs/Finance/empirical/ASML HOLDING NV_sec_filings.csv\n",
      "Reading file: /home/musiliandrew/Desktop/DataProjs/Finance/empirical/Cigna Group_sec_filings.csv\n",
      "Error reading /home/musiliandrew/Desktop/DataProjs/Finance/empirical/Cigna Group_sec_filings.csv: No columns to parse from file\n",
      "Reading file: /home/musiliandrew/Desktop/DataProjs/Finance/empirical/Constellation Energy Corp_sec_filings.csv\n",
      "Error reading /home/musiliandrew/Desktop/DataProjs/Finance/empirical/Constellation Energy Corp_sec_filings.csv: No columns to parse from file\n",
      "Reading file: /home/musiliandrew/Desktop/DataProjs/Finance/empirical/BERKSHIRE HATHAWAY INC_sec_filings.csv\n",
      "Reading file: /home/musiliandrew/Desktop/DataProjs/Finance/empirical/BP PLC_sec_filings.csv\n",
      "Error reading /home/musiliandrew/Desktop/DataProjs/Finance/empirical/BP PLC_sec_filings.csv: No columns to parse from file\n",
      "Reading file: /home/musiliandrew/Desktop/DataProjs/Finance/empirical/BHP Group Ltd_sec_filings.csv\n",
      "Error reading /home/musiliandrew/Desktop/DataProjs/Finance/empirical/BHP Group Ltd_sec_filings.csv: No columns to parse from file\n",
      "Reading file: /home/musiliandrew/Desktop/DataProjs/Finance/empirical/Eaton Corp plc_sec_filings.csv\n",
      "Reading file: /home/musiliandrew/Desktop/DataProjs/Finance/empirical/NETFLIX INC_sec_filings.csv\n"
     ]
    },
    {
     "name": "stdout",
     "output_type": "stream",
     "text": [
      "Reading file: /home/musiliandrew/Desktop/DataProjs/Finance/empirical/RTX Corp_sec_filings.csv\n",
      "Reading file: /home/musiliandrew/Desktop/DataProjs/Finance/empirical/Sony Group Corp_sec_filings.csv\n",
      "Error reading /home/musiliandrew/Desktop/DataProjs/Finance/empirical/Sony Group Corp_sec_filings.csv: No columns to parse from file\n",
      "Reading file: /home/musiliandrew/Desktop/DataProjs/Finance/empirical/MCKESSON CORP_sec_filings.csv\n",
      "Error reading /home/musiliandrew/Desktop/DataProjs/Finance/empirical/MCKESSON CORP_sec_filings.csv: No columns to parse from file\n",
      "Reading file: /home/musiliandrew/Desktop/DataProjs/Finance/empirical/BOEING CO_sec_filings.csv\n",
      "Error reading /home/musiliandrew/Desktop/DataProjs/Finance/empirical/BOEING CO_sec_filings.csv: No columns to parse from file\n",
      "Reading file: /home/musiliandrew/Desktop/DataProjs/Finance/empirical/LOWES COMPANIES INC_sec_filings.csv\n",
      "Reading file: /home/musiliandrew/Desktop/DataProjs/Finance/empirical/HSBC HOLDINGS PLC_sec_filings.csv\n",
      "Reading file: /home/musiliandrew/Desktop/DataProjs/Finance/empirical/SOUTHERN CO_sec_filings.csv\n",
      "Error reading /home/musiliandrew/Desktop/DataProjs/Finance/empirical/SOUTHERN CO_sec_filings.csv: No columns to parse from file\n",
      "Reading file: /home/musiliandrew/Desktop/DataProjs/Finance/empirical/REELCAUSE INC_sec_filings.csv\n",
      "Reading file: /home/musiliandrew/Desktop/DataProjs/Finance/empirical/KLA CORP_sec_filings.csv\n",
      "Error reading /home/musiliandrew/Desktop/DataProjs/Finance/empirical/KLA CORP_sec_filings.csv: No columns to parse from file\n",
      "Reading file: /home/musiliandrew/Desktop/DataProjs/Finance/empirical/RIO TINTO PLC_sec_filings.csv\n",
      "Error reading /home/musiliandrew/Desktop/DataProjs/Finance/empirical/RIO TINTO PLC_sec_filings.csv: No columns to parse from file\n",
      "Reading file: /home/musiliandrew/Desktop/DataProjs/Finance/empirical/INTERNATIONAL BUSINESS MACHINES CORP_sec_filings.csv\n",
      "Reading file: /home/musiliandrew/Desktop/DataProjs/Finance/empirical/COMCAST CORP_sec_filings.csv\n",
      "Combined DataFrame created successfully!\n",
      "Number of matched files: 112\n",
      "Number of rows in combined DataFrame: 5300\n",
      "Number of columns in combined DataFrame: 4\n",
      "                    filed_at                company_name form_type  \\\n",
      "0  2024-01-02T21:55:09-05:00              APi Group Corp       144   \n",
      "1  2024-01-02T21:55:09-05:00  VIKING GLOBAL INVESTORS LP       144   \n",
      "2  2024-01-02T21:49:13-05:00        NileBuilt Corp. / WY   CORRESP   \n",
      "3  2024-01-02T21:48:25-05:00             Counsel AI Corp         D   \n",
      "4  2024-01-02T21:45:59-05:00        NileBuilt Corp. / WY     1-A/A   \n",
      "\n",
      "                                                 url  \n",
      "0  https://www.sec.gov/Archives/edgar/data/110380...  \n",
      "1  https://www.sec.gov/Archives/edgar/data/110380...  \n",
      "2  https://www.sec.gov/Archives/edgar/data/196649...  \n",
      "3  https://www.sec.gov/Archives/edgar/data/197465...  \n",
      "4  https://www.sec.gov/Archives/edgar/data/196649...  \n"
     ]
    }
   ],
   "source": [
    "import pandas as pd\n",
    "import os\n",
    "import re\n",
    "\n",
    "# Use the current working directory\n",
    "folder_path = os.getcwd()\n",
    "\n",
    "# List to store valid CSV file paths\n",
    "valid_csv_files = []\n",
    "\n",
    "# Regex pattern to match \"{company_name}_sec_filings.csv\" (allowing spaces, hyphens, and underscores)\n",
    "pattern = re.compile(r\"^[A-Za-z0-9\\s\\-\\_]+_sec_filings\\.csv$\", re.IGNORECASE)\n",
    "\n",
    "# List files in the current directory\n",
    "all_files = os.listdir(folder_path)\n",
    "if not all_files:\n",
    "    print(\"The current folder is empty. Please check the directory.\")\n",
    "else:\n",
    "    print(\"Files in the current directory:\", all_files)\n",
    "\n",
    "    # Iterate over files and match using regex\n",
    "    for file in all_files:\n",
    "        if pattern.match(file) and file.endswith('.csv'):\n",
    "            print(f\"Matched file: {file}\")\n",
    "            valid_csv_files.append(os.path.join(folder_path, file))\n",
    "\n",
    "# Check if any files matched\n",
    "if not valid_csv_files:\n",
    "    print(\"No files matched the pattern. Please check the file names.\")\n",
    "else:\n",
    "    # Combine all valid CSV files into one DataFrame\n",
    "    dataframes = []\n",
    "    for file in valid_csv_files:\n",
    "        try:\n",
    "            if os.path.getsize(file) > 0:  # Skip empty files\n",
    "                print(f\"Reading file: {file}\")\n",
    "                dataframes.append(pd.read_csv(file, encoding='utf-8', on_bad_lines='skip'))\n",
    "            else:\n",
    "                print(f\"Skipping empty file: {file}\")\n",
    "        except Exception as e:\n",
    "            print(f\"Error reading {file}: {e}\")\n",
    "\n",
    "    if dataframes:\n",
    "        combined_df = pd.concat(dataframes, ignore_index=True)\n",
    "\n",
    "        # Save the combined DataFrame to a new CSV file\n",
    "        output_filename = \"combined_SEC_filings.csv\"\n",
    "        combined_df.to_csv(output_filename, index=False)\n",
    "\n",
    "        print(\"Combined DataFrame created successfully!\")\n",
    "        print(f\"Number of matched files: {len(valid_csv_files)}\")\n",
    "        print(f\"Number of rows in combined DataFrame: {combined_df.shape[0]}\")\n",
    "        print(f\"Number of columns in combined DataFrame: {combined_df.shape[1]}\")\n",
    "        print(combined_df.head())\n",
    "    else:\n",
    "        print(\"No valid data was found in the matched files.\")\n"
   ]
  },
  {
   "cell_type": "code",
   "execution_count": 9,
   "id": "84caa79f",
   "metadata": {},
   "outputs": [
    {
     "name": "stdout",
     "output_type": "stream",
     "text": [
      "Files in the current directory: ['TSLA.csv', 'JNJ.csv', 'PCAR.csv', 'INTUIT INC._tweets.csv', 'NSC.csv', 'Dell Technologies Inc._sec_filings.csv', 'Arthur J. Gallagher & Co._sec_filings.csv', 'INTU.csv', 'KLA CORP_tweets.csv', 'FISERV INC_sec_filings.csv', 'MET.csv', 'CHIPOTLE MEXICAN GRILL INC_sec_filings.csv', 'Duke Energy CORP_tweets.csv', 'tickers.txt', 'ECL.csv', 'MSFT.csv', 'GOOG.csv', 'Tesla_tweets.csv', 'SYK.csv', 'PFIZER INC_tweets.csv', 'SNPS.csv', 'Ferrari N.V._sec_filings.csv', 'WELLTOWER INC._tweets.csv', 'BAC.csv', 'RIO TINTO LTD_tweets.csv', 'OKE.csv', 'Banco Santander, S.A._tweets.csv', 'MITSUBISHI UFJ FINANCIAL GROUP INC_tweets.csv', 'ADBE.csv', 'EQUINIX INC_tweets.csv', 'SPDR S&P 500 ETF TRUST_sec_filings.csv', 'ETN.csv', 'DoorDash, Inc._tweets.csv', 'ORACLE CORP_sec_filings.csv', 'RSG.csv', 'CONOCOPHILLIPS_tweets.csv', 'T-Mobile US, Inc._tweets.csv', 'Broadcom Inc._tweets.csv', 'BMO.csv', 'RTX.csv', 'BKNG.csv', 'PSX.csv', 'Apple Inc_sec_filings.csv', 'PDD Holdings Inc._sec_filings.csv', 'LOWES COMPANIES INC_tweets.csv', 'RTNTF.csv', 'JCI.csv', 'ROP.csv', 'Arista Networks, Inc._tweets.csv', 'CPRT.csv', 'COCA COLA CO_tweets.csv', 'LOCKHEED MARTIN CORP_sec_filings.csv', 'FISERV INC_tweets.csv', 'PLTR.csv', 'PFE.csv', 'PDD.csv', 'MCDONALDS CORP_sec_filings.csv', 'CHEVRON CORP_sec_filings.csv', 'LRCX.csv', 'MCDONALDS CORP_tweets.csv', 'MERCADOLIBRE INC_sec_filings.csv', 'CI.csv', 'PETROBRAS - PETROLEO BRASILEIRO SA_tweets.csv', 'Booking Holdings Inc._tweets.csv', 'ICICI BANK LTD_sec_filings.csv', 'UNH.csv', 'PayPal Holdings, Inc._sec_filings.csv', 'HWM.csv', 'BMY.csv', 'PAYX.csv', 'MSI.csv', 'PROCTER & GAMBLE Co_sec_filings.csv', 'INFY.csv', 'THERMO FISHER SCIENTIFIC INC._sec_filings.csv', 'Palo Alto Networks Inc_tweets.csv', 'FDX.csv', 'S&P Global Inc._tweets.csv', 'SBUX.csv', 'US BANCORP \\\\DE\\\\_tweets.csv', 'PANW.csv', 'Blackstone Inc._sec_filings.csv', 'SAP SE_tweets.csv', 'SPGI.csv', 'CrowdStrike Holdings, Inc._sec_filings.csv', 'ADSK.csv', 'TT.csv', 'COCA COLA CO_sec_filings.csv', 'XOM.csv', 'SAN.csv', 'ABBOTT LABORATORIES_sec_filings.csv', 'Interactive Brokers Group, Inc._tweets.csv', 'Arista Networks, Inc._sec_filings.csv', 'TM.csv', 'Mastercard Inc_sec_filings.csv', 'PBR.csv', 'Aon plc_sec_filings.csv', 'BOSTON SCIENTIFIC CORP_sec_filings.csv', 'GENERAL DYNAMICS CORP_sec_filings.csv', 'MA.csv', 'BHP.csv', 'Microsoft_tweets.csv', 'LOW.csv', 'INVESCO QQQ TRUST, SERIES 1_tweets.csv', 'TORONTO DOMINION BANK_sec_filings.csv', 'GENERAL DYNAMICS CORP_tweets.csv', 'ABT.csv', 'TEXAS INSTRUMENTS INC_tweets.csv', 'Elevance Health, Inc._tweets.csv', 'Philip Morris International Inc._tweets.csv', 'Tesla, Inc._sec_filings.csv', 'BA.csv', 'CB.csv', 'MSTR.csv', 'CHEVRON CORP_tweets.csv', 'BRK.B.csv', 'ASTRAZENECA PLC_sec_filings.csv', '3M CO_sec_filings.csv', 'GILD.csv', 'Alphabet Inc._sec_filings.csv', 'COST.csv', 'BDX.csv', 'Walmart Inc._sec_filings.csv', 'RIO TINTO LTD_sec_filings.csv', 'JOHNSON & JOHNSON_sec_filings.csv', 'GOLDMAN SACHS GROUP INC_tweets.csv', 'SHERWIN WILLIAMS CO_tweets.csv', 'CATERPILLAR INC_sec_filings.csv', 'GWW.csv', 'TGT.csv', 'PLD.csv', 'VERIZON COMMUNICATIONS INC_tweets.csv', 'C.csv', 'PSA.csv', 'ABBV.csv', 'UBS Group AG_sec_filings.csv', 'TotalEnergies SE_tweets.csv', 'AMGEN INC_sec_filings.csv', 'MORGAN STANLEY_sec_filings.csv', 'Medtronic plc_sec_filings.csv', 'APO.csv', 'MELI.csv', 'BRISTOL MYERS SQUIBB CO_tweets.csv', 'TransDigm Group INC_sec_filings.csv', 'ADP.csv', 'Motorola Solutions, Inc._sec_filings.csv', 'GS.csv', 'Medtronic plc_tweets.csv', 'TotalEnergies SE_sec_filings.csv', 'LMT.csv', 'PDD Holdings Inc._tweets.csv', 'ROST.csv', 'DUK.csv', 'ACN.csv', 'GENERAL ELECTRIC CO_sec_filings.csv', 'VZ.csv', 'AUTOMATIC DATA PROCESSING INC_tweets.csv', 'CFRUY.csv', 'CHIPOTLE MEXICAN GRILL INC_tweets.csv', 'GOOGL.csv', 'NEXTERA ENERGY INC_tweets.csv', 'Alibaba Group Holding Ltd_tweets.csv', 'RELX PLC_sec_filings.csv', 'BLK.csv', 'BANK OF NOVA SCOTIA_tweets.csv', 'AMAZON COM INC_sec_filings.csv', 'DELL.csv', 'SLB.csv', 'Prologis, Inc._sec_filings.csv', 'CrowdStrike Holdings, Inc._tweets.csv', 'ServiceNow, Inc._tweets.csv', 'AZO.csv', 'BOEING CO_tweets.csv', 'CATERPILLAR INC_tweets.csv', 'Palantir Technologies Inc._tweets.csv', 'KKR & Co. Inc._sec_filings.csv', 'BP PLC_tweets.csv', 'UBER.csv', 'BNS.csv', 'UNION PACIFIC CORP_sec_filings.csv', 'EXXON MOBIL CORP_sec_filings.csv', 'ICICI BANK LTD_tweets.csv', 'Cigna Group_tweets.csv', 'ITW.csv', 'EOG RESOURCES INC_tweets.csv', 'CHTR.csv', 'Salesforce, Inc._sec_filings.csv', 'NVS.csv', 'APD.csv', 'Microsoft_sec_filings.csv', 'DASH.csv', 'MICRON TECHNOLOGY INC_sec_filings.csv', 'APP.csv', 'Sanofi_sec_filings.csv', 'WMB.csv', 'ServiceNow, Inc._sec_filings.csv', 'CTAS.csv', 'Alibaba Group Holding Ltd_sec_filings.csv', 'Airbnb, Inc._tweets.csv', 'NEXTERA ENERGY INC_sec_filings.csv', 'SYNOPSYS INC_sec_filings.csv', 'PEPSICO INC_sec_filings.csv', 'ISRG.csv', 'COP.csv', 'EOG.csv', 'Alphabet Inc._tweets.csv', 'INTUITIVE SURGICAL INC_sec_filings.csv', 'Tesla_sec_filings.csv', 'British American Tobacco p.l.c._sec_filings.csv', 'CINTAS CORP_sec_filings.csv', 'SHERWIN WILLIAMS CO_sec_filings.csv', 'AUTOMATIC DATA PROCESSING INC_sec_filings.csv', 'INVESCO QQQ TRUST, SERIES 1_sec_filings.csv', 'UNP.csv', '.~lock.combined_SEC_filings.csv#', 'Palo Alto Networks Inc_sec_filings.csv', 'CISCO SYSTEMS, INC._sec_filings.csv', 'AMP.csv', 'Walmart Inc._tweets.csv', 'IBN.csv', 'AT&T INC._sec_filings.csv', 'HLT.csv', 'KMI.csv', 'GEV.csv', 'WELL.csv', 'CEG.csv', 'SONY.csv', 'ENB.csv', 'WELLTOWER INC._sec_filings.csv', 'BHP Group Ltd_tweets.csv', 'DLR.csv', 'BlackRock, Inc._sec_filings.csv', 'Ferrari N.V._tweets.csv', 'AMT.csv', 'INTC.csv', 'Shell plc_tweets.csv', 'CITIGROUP INC_sec_filings.csv', 'ORACLE CORP_tweets.csv', 'ELI LILLY & Co_sec_filings.csv', 'SRE.csv', 'Blackstone Inc._tweets.csv', 'MICROSTRATEGY Inc_tweets.csv', 'WASTE MANAGEMENT INC_sec_filings.csv', 'PM.csv', 'SHOP.csv', 'VERIZON COMMUNICATIONS INC_sec_filings.csv', 'STARBUCKS CORP_sec_filings.csv', 'ORCL.csv', 'COLGATE PALMOLIVE CO_sec_filings.csv', 'PNC FINANCIAL SERVICES GROUP, INC._sec_filings.csv', 'INTEL CORP_tweets.csv', 'LLY.csv', 'NVIDIA CORP_sec_filings.csv', 'MEXICAN ECONOMIC DEVELOPMENT INC_tweets.csv', 'IBKR.csv', 'BRK-B.csv', 'HDFC BANK LTD_sec_filings.csv', 'ADOBE INC._tweets.csv', 'RCL.csv', 'LINDE PLC_tweets.csv', 'AMGN.csv', 'NOVO NORDISK A S_tweets.csv', 'ENBRIDGE INC_sec_filings.csv', 'TMO.csv', 'DEERE & CO_tweets.csv', 'MICRON TECHNOLOGY INC_tweets.csv', 'TJX.csv', 'ICE.csv', 'JOHNSON & JOHNSON_tweets.csv', 'AppLovin Corp_sec_filings.csv', 'Spotify Technology S.A._tweets.csv', 'GOLDMAN SACHS GROUP INC_sec_filings.csv', 'EQIX.csv', 'SHOPIFY INC._tweets.csv', 'V.csv', 'ADI.csv', 'UNITED PARCEL SERVICE INC_sec_filings.csv', 'WMT.csv', 'MARSH & MCLENNAN COMPANIES, INC._sec_filings.csv', 'SHW.csv', 'NOVARTIS AG_sec_filings.csv', 'INTUITIVE SURGICAL INC_tweets.csv', 'HD.csv', 'RY.csv', 'GILEAD SCIENCES, INC._tweets.csv', 'annual_financial_data.csv', 'OXY.csv', 'Meta Platforms, Inc._tweets.csv', 'MRVL.csv', 'SCHWAB CHARLES CORP_tweets.csv', 'EOG RESOURCES INC_sec_filings.csv', 'RCIT.csv', 'MDLZ.csv', 'NVIDIA CORP_tweets.csv', 'NOVO NORDISK A S_sec_filings.csv', 'SHEL.csv', 'NOW.csv', 'CARR.csv', '.ipynb_checkpoints', 'ABBOTT LABORATORIES_tweets.csv', 'NIKE, Inc._tweets.csv', 'MMM.csv', 'HONEYWELL INTERNATIONAL INC_sec_filings.csv', 'ENBRIDGE INC_tweets.csv', 'CL.csv', 'CSCO.csv', 'TRI.csv', 'ADVANCED MICRO DEVICES INC_tweets.csv', 'TORONTO DOMINION BANK_tweets.csv', 'CADENCE DESIGN SYSTEMS INC_sec_filings.csv', 'Merck & Co., Inc._tweets.csv', 'HDB.csv', 'CDNS.csv', 'Constellation Energy Corp_tweets.csv', 'FMX.csv', 'TXN.csv', 'CVX.csv', 'LINDE PLC_sec_filings.csv', 'Shell plc_sec_filings.csv', 'ASML HOLDING NV_tweets.csv', 'AT&T INC._tweets.csv', 'BOSTON SCIENTIFIC CORP_tweets.csv', 'Accenture plc_sec_filings.csv', 'CISCO SYSTEMS, INC._tweets.csv', 'ELV.csv', 'CME GROUP INC._tweets.csv', 'RIO TINTO PLC_tweets.csv', 'Elevance Health, Inc._sec_filings.csv', 'Fortinet, Inc._tweets.csv', 'VRTX.csv', 'JPMORGAN CHASE & CO_tweets.csv', 'AMAZON COM INC_tweets.csv', 'AXP.csv', 'INTERNATIONAL BUSINESS MACHINES CORP_tweets.csv', 'UPS.csv', 'WFC.csv', 'MMC.csv', 'SNY.csv', 'ANALOG DEVICES INC_sec_filings.csv', 'CVS.csv', 'SCHWAB CHARLES CORP_sec_filings.csv', 'HCA.csv', 'UNITEDHEALTH GROUP INC_tweets.csv', 'CSX.csv', 'QQQ.csv', 'CME.csv', 'CRWD.csv', 'DEERE & CO_sec_filings.csv', 'GE Vernova Inc._sec_filings.csv', 'COLGATE PALMOLIVE CO_tweets.csv', 'STRYKER CORP_tweets.csv', 'WDAY.csv', 'Chubb Ltd_sec_filings.csv', 'Infosys Ltd_sec_filings.csv', 'KO.csv', 'AJG.csv', 'MICROSOFT CORP_tweets.csv', 'UNION PACIFIC CORP_tweets.csv', 'MICROSTRATEGY Inc_sec_filings.csv', 'BTI.csv', 'collectData.py', 'MICROSOFT CORP_sec_filings.csv', 'CONOCOPHILLIPS_sec_filings.csv', 'Accenture plc_tweets.csv', 'AIQUY.csv', 'Spotify Technology S.A._sec_filings.csv', 'SHOPIFY INC._sec_filings.csv', 'UNITED PARCEL SERVICE INC_tweets.csv', 'HOME DEPOT, INC._tweets.csv', 'MEXICAN ECONOMIC DEVELOPMENT INC_sec_filings.csv', 'UBS.csv', 'MITSUBISHI UFJ FINANCIAL GROUP INC_sec_filings.csv', 'TD.csv', 'notebook.ipynb', 'HSBC HOLDINGS PLC_tweets.csv', 'Apollo Global Management, Inc._tweets.csv', 'US BANCORP \\\\DE\\\\_sec_filings.csv', 'APH.csv', 'TDG.csv', 'COMCAST CORP_tweets.csv', 'MDT.csv', 'Chubb Ltd_tweets.csv', 'NKE.csv', 'ILLINOIS TOOL WORKS INC_tweets.csv', 'Meta Platforms, Inc._sec_filings.csv', 'Philip Morris International Inc._sec_filings.csv', 'Walt Disney Co_sec_filings.csv', 'SUMITOMO MITSUI FINANCIAL GROUP, INC._tweets.csv', 'ARM.csv', 'NETFLIX INC_tweets.csv', 'company_tickers.json', 'CAT.csv', 'SOUTHERN CO_tweets.csv', 'Mondelez International, Inc._tweets.csv', 'Apollo Global Management, Inc._sec_filings.csv', 'ALL.csv', 'SAP.csv', 'KLAC.csv', 'MARSH & MCLENNAN COMPANIES, INC._tweets.csv', 'Eaton Corp plc_tweets.csv', 'LAM RESEARCH CORP_sec_filings.csv', 'DIS.csv', 'HCA Healthcare, Inc._tweets.csv', 'Trane Technologies plc_sec_filings.csv', 'PG.csv', 'daily_stock_prices.csv', 'Tokyo Electron LTD_sec_filings.csv', 'Sony Group Corp_tweets.csv', 'AON.csv', 'FANG.csv', 'BX.csv', 'NVDA.csv', 'RTX Corp_tweets.csv', 'THERMO FISHER SCIENTIFIC INC._tweets.csv', 'GENERAL ELECTRIC CO_tweets.csv', 'Booking Holdings Inc._sec_filings.csv', 'Mondelez International, Inc._sec_filings.csv', 'EXXON MOBIL CORP_tweets.csv', 'CRM.csv', 'Palantir Technologies Inc._sec_filings.csv', 'ILLINOIS TOOL WORKS INC_sec_filings.csv', 'AMERICAN EXPRESS CO_tweets.csv', 'BRISTOL MYERS SQUIBB CO_sec_filings.csv', 'S&P Global Inc._sec_filings.csv', 'AEP.csv', 'HCA Healthcare, Inc._sec_filings.csv', 'BABA.csv', 'PYPL.csv', 'REGENERON PHARMACEUTICALS, INC._tweets.csv', 'ANALOG DEVICES INC_tweets.csv', 'CME GROUP INC._sec_filings.csv', 'USB.csv', 'Uber Technologies, Inc_tweets.csv', 'INTEL CORP_sec_filings.csv', 'PARKER HANNIFIN CORP_sec_filings.csv', 'HOME DEPOT, INC._sec_filings.csv', 'Banco Santander, S.A._sec_filings.csv', 'MS.csv', '.git', 'PEP.csv', '3M CO_tweets.csv', 'INTUIT INC._sec_filings.csv', 'AFL.csv', 'EMR.csv', 'NXPI.csv', 'NOC.csv', 'LAM RESEARCH CORP_tweets.csv', 'NEE.csv', 'stocks.zip', 'Interactive Brokers Group, Inc._sec_filings.csv', 'Apple Inc._sec_filings.csv', 'T-Mobile US, Inc._sec_filings.csv', 'KKR & Co. Inc._tweets.csv', 'ABNB.csv', 'HSBC.csv', 'NIKE, Inc._sec_filings.csv', 'GE.csv', 'Intercontinental Exchange, Inc._tweets.csv', 'UNITEDHEALTH GROUP INC_sec_filings.csv', 'financial_data.csv', 'TMUS.csv', 'Apple Inc._tweets.csv', 'SPOT.csv', 'MCO.csv', 'Sanofi_tweets.csv', 'AMZN.csv', 'HDFC BANK LTD_tweets.csv', 'Arthur J. Gallagher & Co._tweets.csv', 'MUFG.csv', 'Merck & Co., Inc._sec_filings.csv', 'SAP SE_sec_filings.csv', 'DHR.csv', 'Infosys Ltd_tweets.csv', 'Fortinet, Inc._sec_filings.csv', 'BSX.csv', 'PETROBRAS - PETROLEO BRASILEIRO SA_sec_filings.csv', 'VISA INC._tweets.csv', 'MAR.csv', 'TTE.csv', 'Zoetis Inc._sec_filings.csv', 'ROYAL BANK OF CANADA_tweets.csv', 'MORGAN STANLEY_tweets.csv', 'COF.csv', 'TFC.csv', 'MCD.csv', 'Tesla, Inc._tweets.csv', 'ADOBE INC._sec_filings.csv', 'ASML.csv', 'Dell Technologies Inc._tweets.csv', 'ORLY.csv', 'PARKER HANNIFIN CORP_tweets.csv', 'REGENERON PHARMACEUTICALS, INC._sec_filings.csv', 'TEXAS INSTRUMENTS INC_sec_filings.csv', 'AAPL.csv', 'SCHW.csv', 'PayPal Holdings, Inc._tweets.csv', 'SPY.csv', 'Walt Disney Co_tweets.csv', 'ROYAL BANK OF CANADA_sec_filings.csv', 'Zoetis Inc._tweets.csv', 'MCK.csv', 'T.csv', 'NFLX.csv', 'GD.csv', 'AMERICAN EXPRESS CO_sec_filings.csv', 'EQUINIX INC_sec_filings.csv', 'BERKSHIRE HATHAWAY INC_tweets.csv', 'TOELY.csv', 'CINTAS CORP_tweets.csv', 'Salesforce, Inc._tweets.csv', 'CITIGROUP INC_tweets.csv', 'NOVARTIS AG_tweets.csv', 'AMD.csv', 'GILEAD SCIENCES, INC._sec_filings.csv', 'WM.csv', 'MERCADOLIBRE INC_tweets.csv', 'SPDR S&P 500 ETF TRUST_tweets.csv', 'JPM.csv', 'PGR.csv', 'JPMORGAN CHASE & CO_sec_filings.csv', 'Tokyo Electron LTD_tweets.csv', 'PH.csv', 'RACE.csv', 'REELCAUSE INC_tweets.csv', 'BANK OF NOVA SCOTIA_sec_filings.csv', 'PFIZER INC_sec_filings.csv', 'ADVANCED MICRO DEVICES INC_sec_filings.csv', 'GM.csv', 'NVO.csv', 'AMAT.csv', 'SMFG.csv', 'British American Tobacco p.l.c._tweets.csv', 'REGN.csv', 'PNC FINANCIAL SERVICES GROUP, INC._tweets.csv', 'AMGEN INC_tweets.csv', 'FICO.csv', 'Marvell Technology, Inc._tweets.csv', 'SCCO.csv', 'MO.csv', 'ALTRIA GROUP, INC._tweets.csv', 'Notebook.ipynb', 'TRV.csv', 'Duke Energy CORP_sec_filings.csv', 'STRYKER CORP_sec_filings.csv', 'ASML HOLDING NV_sec_filings.csv', 'LIN.csv', 'Intercontinental Exchange, Inc._sec_filings.csv', 'AbbVie Inc._sec_filings.csv', 'HONEYWELL INTERNATIONAL INC_tweets.csv', 'SUMITOMO MITSUI FINANCIAL GROUP, INC._sec_filings.csv', 'UBS Group AG_tweets.csv', 'PROCTER & GAMBLE Co_tweets.csv', 'BP.csv', 'Cigna Group_sec_filings.csv', 'ANET.csv', 'FCX.csv', 'CMCSA.csv', 'Aon plc_tweets.csv', 'Constellation Energy Corp_sec_filings.csv', 'FTNT.csv', 'BERKSHIRE HATHAWAY INC_sec_filings.csv', 'BP PLC_sec_filings.csv', 'MCKESSON CORP_tweets.csv', 'Motorola Solutions, Inc._tweets.csv', 'SYNOPSYS INC_tweets.csv', 'MU.csv', 'FI.csv', 'LOCKHEED MARTIN CORP_tweets.csv', 'ZTS.csv', 'Broadcom Inc._sec_filings.csv', 'STARBUCKS CORP_tweets.csv', 'MRK.csv', 'BHP Group Ltd_sec_filings.csv', 'DoorDash, Inc._sec_filings.csv', 'Eaton Corp plc_sec_filings.csv', 'README.md', 'NETFLIX INC_sec_filings.csv', 'RTX Corp_sec_filings.csv', 'Sony Group Corp_sec_filings.csv', 'BN.csv', 'Apple Inc_tweets.csv', 'KKR.csv', 'EADSY.csv', 'MCKESSON CORP_sec_filings.csv', 'BOEING CO_sec_filings.csv', 'GE Vernova Inc._tweets.csv', 'ELI LILLY & Co_tweets.csv', 'DE.csv', 'sec_filings', 'Airbnb, Inc._sec_filings.csv', 'LOWES COMPANIES INC_sec_filings.csv', 'AbbVie Inc._tweets.csv', 'RIO.csv', 'SPG.csv', 'ALTRIA GROUP, INC._sec_filings.csv', 'Mastercard Inc_tweets.csv', 'BlackRock, Inc._tweets.csv', 'HSBC HOLDINGS PLC_sec_filings.csv', 'IBM.csv', 'SOUTHERN CO_sec_filings.csv', 'combined_SEC_filings.csv', 'CADENCE DESIGN SYSTEMS INC_tweets.csv', 'AVGO.csv', 'AZN.csv', 'REELCAUSE INC_sec_filings.csv', 'Marvell Technology, Inc._sec_filings.csv', 'CMG.csv', 'VISA INC._sec_filings.csv', 'QCOM.csv', 'KLA CORP_sec_filings.csv', 'PEPSICO INC_tweets.csv', 'BK.csv', 'Trane Technologies plc_tweets.csv', 'RIO TINTO PLC_sec_filings.csv', 'Uber Technologies, Inc_sec_filings.csv', 'INTERNATIONAL BUSINESS MACHINES CORP_sec_filings.csv', 'VST.csv', 'TransDigm Group INC_tweets.csv', 'HON.csv', 'AppLovin Corp_tweets.csv', 'WASTE MANAGEMENT INC_tweets.csv', 'RELX.csv', 'CMI.csv', 'COMCAST CORP_sec_filings.csv', 'META.csv', 'ASTRAZENECA PLC_tweets.csv', 'BUD.csv', 'RELX PLC_tweets.csv', 'Prologis, Inc._tweets.csv', 'SO.csv', 'PNC.csv']\n",
      "Matched file: TSLA.csv\n",
      "Matched file: JNJ.csv\n",
      "Matched file: PCAR.csv\n",
      "Matched file: NSC.csv\n",
      "Matched file: INTU.csv\n",
      "Matched file: MET.csv\n",
      "Matched file: ECL.csv\n",
      "Matched file: MSFT.csv\n",
      "Matched file: GOOG.csv\n",
      "Matched file: SYK.csv\n",
      "Matched file: SNPS.csv\n",
      "Matched file: BAC.csv\n",
      "Matched file: OKE.csv\n",
      "Matched file: ADBE.csv\n",
      "Matched file: ETN.csv\n",
      "Matched file: RSG.csv\n",
      "Matched file: BMO.csv\n",
      "Matched file: RTX.csv\n",
      "Matched file: BKNG.csv\n",
      "Matched file: PSX.csv\n",
      "Matched file: RTNTF.csv\n",
      "Matched file: JCI.csv\n",
      "Matched file: ROP.csv\n",
      "Matched file: CPRT.csv\n",
      "Matched file: PLTR.csv\n",
      "Matched file: PFE.csv\n",
      "Matched file: PDD.csv\n",
      "Matched file: LRCX.csv\n",
      "Matched file: CI.csv\n",
      "Matched file: UNH.csv\n",
      "Matched file: HWM.csv\n",
      "Matched file: BMY.csv\n",
      "Matched file: PAYX.csv\n",
      "Matched file: MSI.csv\n",
      "Matched file: INFY.csv\n",
      "Matched file: FDX.csv\n",
      "Matched file: SBUX.csv\n",
      "Matched file: PANW.csv\n",
      "Matched file: SPGI.csv\n",
      "Matched file: ADSK.csv\n",
      "Matched file: TT.csv\n",
      "Matched file: XOM.csv\n",
      "Matched file: SAN.csv\n",
      "Matched file: TM.csv\n",
      "Matched file: PBR.csv\n",
      "Matched file: MA.csv\n",
      "Matched file: BHP.csv\n",
      "Matched file: LOW.csv\n",
      "Matched file: ABT.csv\n",
      "Matched file: BA.csv\n",
      "Matched file: CB.csv\n",
      "Matched file: MSTR.csv\n",
      "Matched file: GILD.csv\n",
      "Matched file: COST.csv\n",
      "Matched file: BDX.csv\n",
      "Matched file: GWW.csv\n",
      "Matched file: TGT.csv\n",
      "Matched file: PLD.csv\n",
      "Matched file: C.csv\n",
      "Matched file: PSA.csv\n",
      "Matched file: ABBV.csv\n",
      "Matched file: APO.csv\n",
      "Matched file: MELI.csv\n",
      "Matched file: ADP.csv\n",
      "Matched file: GS.csv\n",
      "Matched file: LMT.csv\n",
      "Matched file: ROST.csv\n",
      "Matched file: DUK.csv\n",
      "Matched file: ACN.csv\n",
      "Matched file: VZ.csv\n",
      "Matched file: CFRUY.csv\n",
      "Matched file: GOOGL.csv\n",
      "Matched file: BLK.csv\n",
      "Matched file: DELL.csv\n",
      "Matched file: SLB.csv\n",
      "Matched file: AZO.csv\n",
      "Matched file: UBER.csv\n",
      "Matched file: BNS.csv\n",
      "Matched file: ITW.csv\n",
      "Matched file: CHTR.csv\n",
      "Matched file: NVS.csv\n",
      "Matched file: APD.csv\n",
      "Matched file: DASH.csv\n",
      "Matched file: APP.csv\n",
      "Matched file: WMB.csv\n",
      "Matched file: CTAS.csv\n",
      "Matched file: ISRG.csv\n",
      "Matched file: COP.csv\n",
      "Matched file: EOG.csv\n",
      "Matched file: UNP.csv\n",
      "Matched file: AMP.csv\n",
      "Matched file: IBN.csv\n",
      "Matched file: HLT.csv\n",
      "Matched file: KMI.csv\n",
      "Matched file: GEV.csv\n",
      "Matched file: WELL.csv\n",
      "Matched file: CEG.csv\n",
      "Matched file: SONY.csv\n",
      "Matched file: ENB.csv\n",
      "Matched file: DLR.csv\n",
      "Matched file: AMT.csv\n",
      "Matched file: INTC.csv\n",
      "Matched file: SRE.csv\n",
      "Matched file: PM.csv\n",
      "Matched file: SHOP.csv\n",
      "Matched file: ORCL.csv\n",
      "Matched file: LLY.csv\n",
      "Matched file: IBKR.csv\n",
      "Matched file: RCL.csv\n",
      "Matched file: AMGN.csv\n",
      "Matched file: TMO.csv\n",
      "Matched file: TJX.csv\n",
      "Matched file: ICE.csv\n",
      "Matched file: EQIX.csv\n",
      "Matched file: V.csv\n",
      "Matched file: ADI.csv\n",
      "Matched file: WMT.csv\n",
      "Matched file: SHW.csv\n",
      "Matched file: HD.csv\n",
      "Matched file: RY.csv\n",
      "Matched file: OXY.csv\n",
      "Matched file: MRVL.csv\n",
      "Matched file: RCIT.csv\n",
      "Matched file: MDLZ.csv\n",
      "Matched file: SHEL.csv\n",
      "Matched file: NOW.csv\n",
      "Matched file: CARR.csv\n",
      "Matched file: MMM.csv\n",
      "Matched file: CL.csv\n",
      "Matched file: CSCO.csv\n",
      "Matched file: TRI.csv\n",
      "Matched file: HDB.csv\n",
      "Matched file: CDNS.csv\n",
      "Matched file: FMX.csv\n",
      "Matched file: TXN.csv\n",
      "Matched file: CVX.csv\n",
      "Matched file: ELV.csv\n",
      "Matched file: VRTX.csv\n",
      "Matched file: AXP.csv\n",
      "Matched file: UPS.csv\n",
      "Matched file: WFC.csv\n",
      "Matched file: MMC.csv\n",
      "Matched file: SNY.csv\n",
      "Matched file: CVS.csv\n",
      "Matched file: HCA.csv\n",
      "Matched file: CSX.csv\n",
      "Matched file: QQQ.csv\n",
      "Matched file: CME.csv\n",
      "Matched file: CRWD.csv\n",
      "Matched file: WDAY.csv\n",
      "Matched file: KO.csv\n",
      "Matched file: AJG.csv\n",
      "Matched file: BTI.csv\n",
      "Matched file: AIQUY.csv\n",
      "Matched file: UBS.csv\n",
      "Matched file: TD.csv\n",
      "Matched file: APH.csv\n",
      "Matched file: TDG.csv\n",
      "Matched file: MDT.csv\n",
      "Matched file: NKE.csv\n",
      "Matched file: ARM.csv\n",
      "Matched file: CAT.csv\n",
      "Matched file: ALL.csv\n",
      "Matched file: SAP.csv\n",
      "Matched file: KLAC.csv\n",
      "Matched file: DIS.csv\n",
      "Matched file: PG.csv\n",
      "Matched file: AON.csv\n",
      "Matched file: FANG.csv\n",
      "Matched file: BX.csv\n",
      "Matched file: NVDA.csv\n",
      "Matched file: CRM.csv\n",
      "Matched file: AEP.csv\n",
      "Matched file: BABA.csv\n",
      "Matched file: PYPL.csv\n",
      "Matched file: USB.csv\n",
      "Matched file: MS.csv\n",
      "Matched file: PEP.csv\n",
      "Matched file: AFL.csv\n",
      "Matched file: EMR.csv\n",
      "Matched file: NXPI.csv\n",
      "Matched file: NOC.csv\n",
      "Matched file: NEE.csv\n",
      "Matched file: ABNB.csv\n",
      "Matched file: HSBC.csv\n",
      "Matched file: GE.csv\n",
      "Matched file: TMUS.csv\n",
      "Matched file: SPOT.csv\n",
      "Matched file: MCO.csv\n",
      "Matched file: AMZN.csv\n",
      "Matched file: MUFG.csv\n",
      "Matched file: DHR.csv\n",
      "Matched file: BSX.csv\n",
      "Matched file: MAR.csv\n",
      "Matched file: TTE.csv\n",
      "Matched file: COF.csv\n",
      "Matched file: TFC.csv\n",
      "Matched file: MCD.csv\n",
      "Matched file: ASML.csv\n",
      "Matched file: ORLY.csv\n",
      "Matched file: AAPL.csv\n",
      "Matched file: SCHW.csv\n",
      "Matched file: SPY.csv\n",
      "Matched file: MCK.csv\n",
      "Matched file: T.csv\n",
      "Matched file: NFLX.csv\n",
      "Matched file: GD.csv\n",
      "Matched file: TOELY.csv\n",
      "Matched file: AMD.csv\n",
      "Matched file: WM.csv\n",
      "Matched file: JPM.csv\n",
      "Matched file: PGR.csv\n",
      "Matched file: PH.csv\n",
      "Matched file: RACE.csv\n",
      "Matched file: GM.csv\n",
      "Matched file: NVO.csv\n",
      "Matched file: AMAT.csv\n",
      "Matched file: SMFG.csv\n",
      "Matched file: REGN.csv\n",
      "Matched file: FICO.csv\n",
      "Matched file: SCCO.csv\n",
      "Matched file: MO.csv\n",
      "Matched file: TRV.csv\n",
      "Matched file: LIN.csv\n",
      "Matched file: BP.csv\n",
      "Matched file: ANET.csv\n",
      "Matched file: FCX.csv\n",
      "Matched file: CMCSA.csv\n",
      "Matched file: FTNT.csv\n",
      "Matched file: MU.csv\n",
      "Matched file: FI.csv\n",
      "Matched file: ZTS.csv\n",
      "Matched file: MRK.csv\n",
      "Matched file: BN.csv\n",
      "Matched file: KKR.csv\n",
      "Matched file: EADSY.csv\n",
      "Matched file: DE.csv\n",
      "Matched file: RIO.csv\n",
      "Matched file: SPG.csv\n",
      "Matched file: IBM.csv\n",
      "Matched file: AVGO.csv\n",
      "Matched file: AZN.csv\n",
      "Matched file: CMG.csv\n",
      "Matched file: QCOM.csv\n",
      "Matched file: BK.csv\n",
      "Matched file: VST.csv\n",
      "Matched file: HON.csv\n",
      "Matched file: RELX.csv\n",
      "Matched file: CMI.csv\n",
      "Matched file: META.csv\n",
      "Matched file: BUD.csv\n",
      "Matched file: SO.csv\n",
      "Matched file: PNC.csv\n",
      "Reading file: /home/musiliandrew/Desktop/DataProjs/Finance/empirical/TSLA.csv\n",
      "Reading file: /home/musiliandrew/Desktop/DataProjs/Finance/empirical/JNJ.csv\n",
      "Reading file: /home/musiliandrew/Desktop/DataProjs/Finance/empirical/PCAR.csv\n",
      "Reading file: /home/musiliandrew/Desktop/DataProjs/Finance/empirical/NSC.csv\n",
      "Reading file: /home/musiliandrew/Desktop/DataProjs/Finance/empirical/INTU.csv\n"
     ]
    },
    {
     "name": "stdout",
     "output_type": "stream",
     "text": [
      "Reading file: /home/musiliandrew/Desktop/DataProjs/Finance/empirical/MET.csv\n",
      "Reading file: /home/musiliandrew/Desktop/DataProjs/Finance/empirical/ECL.csv\n",
      "Reading file: /home/musiliandrew/Desktop/DataProjs/Finance/empirical/MSFT.csv\n",
      "Reading file: /home/musiliandrew/Desktop/DataProjs/Finance/empirical/GOOG.csv\n",
      "Reading file: /home/musiliandrew/Desktop/DataProjs/Finance/empirical/SYK.csv\n",
      "Reading file: /home/musiliandrew/Desktop/DataProjs/Finance/empirical/SNPS.csv\n",
      "Reading file: /home/musiliandrew/Desktop/DataProjs/Finance/empirical/BAC.csv\n",
      "Reading file: /home/musiliandrew/Desktop/DataProjs/Finance/empirical/OKE.csv\n",
      "Reading file: /home/musiliandrew/Desktop/DataProjs/Finance/empirical/ADBE.csv\n",
      "Reading file: /home/musiliandrew/Desktop/DataProjs/Finance/empirical/ETN.csv\n",
      "Reading file: /home/musiliandrew/Desktop/DataProjs/Finance/empirical/RSG.csv\n",
      "Reading file: /home/musiliandrew/Desktop/DataProjs/Finance/empirical/BMO.csv\n",
      "Reading file: /home/musiliandrew/Desktop/DataProjs/Finance/empirical/RTX.csv\n",
      "Reading file: /home/musiliandrew/Desktop/DataProjs/Finance/empirical/BKNG.csv\n",
      "Reading file: /home/musiliandrew/Desktop/DataProjs/Finance/empirical/PSX.csv\n",
      "Reading file: /home/musiliandrew/Desktop/DataProjs/Finance/empirical/RTNTF.csv\n",
      "Reading file: /home/musiliandrew/Desktop/DataProjs/Finance/empirical/JCI.csv\n",
      "Reading file: /home/musiliandrew/Desktop/DataProjs/Finance/empirical/ROP.csv\n",
      "Reading file: /home/musiliandrew/Desktop/DataProjs/Finance/empirical/CPRT.csv\n",
      "Reading file: /home/musiliandrew/Desktop/DataProjs/Finance/empirical/PLTR.csv\n",
      "Reading file: /home/musiliandrew/Desktop/DataProjs/Finance/empirical/PFE.csv\n",
      "Reading file: /home/musiliandrew/Desktop/DataProjs/Finance/empirical/PDD.csv\n",
      "Reading file: /home/musiliandrew/Desktop/DataProjs/Finance/empirical/LRCX.csv\n",
      "Reading file: /home/musiliandrew/Desktop/DataProjs/Finance/empirical/CI.csv\n",
      "Reading file: /home/musiliandrew/Desktop/DataProjs/Finance/empirical/UNH.csv\n",
      "Reading file: /home/musiliandrew/Desktop/DataProjs/Finance/empirical/HWM.csv\n",
      "Reading file: /home/musiliandrew/Desktop/DataProjs/Finance/empirical/BMY.csv\n",
      "Reading file: /home/musiliandrew/Desktop/DataProjs/Finance/empirical/PAYX.csv\n",
      "Reading file: /home/musiliandrew/Desktop/DataProjs/Finance/empirical/MSI.csv\n",
      "Reading file: /home/musiliandrew/Desktop/DataProjs/Finance/empirical/INFY.csv\n",
      "Reading file: /home/musiliandrew/Desktop/DataProjs/Finance/empirical/FDX.csv\n",
      "Reading file: /home/musiliandrew/Desktop/DataProjs/Finance/empirical/SBUX.csv\n",
      "Reading file: /home/musiliandrew/Desktop/DataProjs/Finance/empirical/PANW.csv\n",
      "Reading file: /home/musiliandrew/Desktop/DataProjs/Finance/empirical/SPGI.csv\n",
      "Reading file: /home/musiliandrew/Desktop/DataProjs/Finance/empirical/ADSK.csv\n",
      "Reading file: /home/musiliandrew/Desktop/DataProjs/Finance/empirical/TT.csv\n",
      "Reading file: /home/musiliandrew/Desktop/DataProjs/Finance/empirical/XOM.csv\n",
      "Reading file: /home/musiliandrew/Desktop/DataProjs/Finance/empirical/SAN.csv\n",
      "Reading file: /home/musiliandrew/Desktop/DataProjs/Finance/empirical/TM.csv\n",
      "Reading file: /home/musiliandrew/Desktop/DataProjs/Finance/empirical/PBR.csv\n",
      "Reading file: /home/musiliandrew/Desktop/DataProjs/Finance/empirical/MA.csv\n",
      "Reading file: /home/musiliandrew/Desktop/DataProjs/Finance/empirical/BHP.csv\n",
      "Reading file: /home/musiliandrew/Desktop/DataProjs/Finance/empirical/LOW.csv\n",
      "Reading file: /home/musiliandrew/Desktop/DataProjs/Finance/empirical/ABT.csv\n",
      "Reading file: /home/musiliandrew/Desktop/DataProjs/Finance/empirical/BA.csv\n",
      "Reading file: /home/musiliandrew/Desktop/DataProjs/Finance/empirical/CB.csv\n",
      "Reading file: /home/musiliandrew/Desktop/DataProjs/Finance/empirical/MSTR.csv\n",
      "Reading file: /home/musiliandrew/Desktop/DataProjs/Finance/empirical/GILD.csv\n",
      "Reading file: /home/musiliandrew/Desktop/DataProjs/Finance/empirical/COST.csv\n",
      "Reading file: /home/musiliandrew/Desktop/DataProjs/Finance/empirical/BDX.csv\n",
      "Reading file: /home/musiliandrew/Desktop/DataProjs/Finance/empirical/GWW.csv\n",
      "Reading file: /home/musiliandrew/Desktop/DataProjs/Finance/empirical/TGT.csv\n",
      "Reading file: /home/musiliandrew/Desktop/DataProjs/Finance/empirical/PLD.csv\n",
      "Reading file: /home/musiliandrew/Desktop/DataProjs/Finance/empirical/C.csv\n",
      "Reading file: /home/musiliandrew/Desktop/DataProjs/Finance/empirical/PSA.csv\n",
      "Reading file: /home/musiliandrew/Desktop/DataProjs/Finance/empirical/ABBV.csv\n",
      "Reading file: /home/musiliandrew/Desktop/DataProjs/Finance/empirical/APO.csv\n",
      "Reading file: /home/musiliandrew/Desktop/DataProjs/Finance/empirical/MELI.csv\n",
      "Reading file: /home/musiliandrew/Desktop/DataProjs/Finance/empirical/ADP.csv\n",
      "Reading file: /home/musiliandrew/Desktop/DataProjs/Finance/empirical/GS.csv\n",
      "Reading file: /home/musiliandrew/Desktop/DataProjs/Finance/empirical/LMT.csv\n",
      "Reading file: /home/musiliandrew/Desktop/DataProjs/Finance/empirical/ROST.csv\n",
      "Reading file: /home/musiliandrew/Desktop/DataProjs/Finance/empirical/DUK.csv\n",
      "Reading file: /home/musiliandrew/Desktop/DataProjs/Finance/empirical/ACN.csv\n",
      "Reading file: /home/musiliandrew/Desktop/DataProjs/Finance/empirical/VZ.csv\n",
      "Reading file: /home/musiliandrew/Desktop/DataProjs/Finance/empirical/CFRUY.csv\n",
      "Reading file: /home/musiliandrew/Desktop/DataProjs/Finance/empirical/GOOGL.csv\n",
      "Reading file: /home/musiliandrew/Desktop/DataProjs/Finance/empirical/BLK.csv\n",
      "Reading file: /home/musiliandrew/Desktop/DataProjs/Finance/empirical/DELL.csv\n",
      "Reading file: /home/musiliandrew/Desktop/DataProjs/Finance/empirical/SLB.csv\n",
      "Reading file: /home/musiliandrew/Desktop/DataProjs/Finance/empirical/AZO.csv\n",
      "Reading file: /home/musiliandrew/Desktop/DataProjs/Finance/empirical/UBER.csv\n",
      "Reading file: /home/musiliandrew/Desktop/DataProjs/Finance/empirical/BNS.csv\n",
      "Reading file: /home/musiliandrew/Desktop/DataProjs/Finance/empirical/ITW.csv\n",
      "Reading file: /home/musiliandrew/Desktop/DataProjs/Finance/empirical/CHTR.csv\n",
      "Reading file: /home/musiliandrew/Desktop/DataProjs/Finance/empirical/NVS.csv\n",
      "Reading file: /home/musiliandrew/Desktop/DataProjs/Finance/empirical/APD.csv\n",
      "Reading file: /home/musiliandrew/Desktop/DataProjs/Finance/empirical/DASH.csv\n",
      "Reading file: /home/musiliandrew/Desktop/DataProjs/Finance/empirical/APP.csv\n",
      "Reading file: /home/musiliandrew/Desktop/DataProjs/Finance/empirical/WMB.csv\n",
      "Reading file: /home/musiliandrew/Desktop/DataProjs/Finance/empirical/CTAS.csv\n",
      "Reading file: /home/musiliandrew/Desktop/DataProjs/Finance/empirical/ISRG.csv\n",
      "Reading file: /home/musiliandrew/Desktop/DataProjs/Finance/empirical/COP.csv\n",
      "Reading file: /home/musiliandrew/Desktop/DataProjs/Finance/empirical/EOG.csv\n",
      "Reading file: /home/musiliandrew/Desktop/DataProjs/Finance/empirical/UNP.csv\n",
      "Reading file: /home/musiliandrew/Desktop/DataProjs/Finance/empirical/AMP.csv\n",
      "Reading file: /home/musiliandrew/Desktop/DataProjs/Finance/empirical/IBN.csv\n",
      "Reading file: /home/musiliandrew/Desktop/DataProjs/Finance/empirical/HLT.csv\n",
      "Reading file: /home/musiliandrew/Desktop/DataProjs/Finance/empirical/KMI.csv\n",
      "Reading file: /home/musiliandrew/Desktop/DataProjs/Finance/empirical/GEV.csv\n",
      "Reading file: /home/musiliandrew/Desktop/DataProjs/Finance/empirical/WELL.csv\n",
      "Reading file: /home/musiliandrew/Desktop/DataProjs/Finance/empirical/CEG.csv\n",
      "Reading file: /home/musiliandrew/Desktop/DataProjs/Finance/empirical/SONY.csv\n",
      "Reading file: /home/musiliandrew/Desktop/DataProjs/Finance/empirical/ENB.csv\n",
      "Reading file: /home/musiliandrew/Desktop/DataProjs/Finance/empirical/DLR.csv\n",
      "Reading file: /home/musiliandrew/Desktop/DataProjs/Finance/empirical/AMT.csv\n",
      "Reading file: /home/musiliandrew/Desktop/DataProjs/Finance/empirical/INTC.csv\n",
      "Reading file: /home/musiliandrew/Desktop/DataProjs/Finance/empirical/SRE.csv\n",
      "Reading file: /home/musiliandrew/Desktop/DataProjs/Finance/empirical/PM.csv\n",
      "Reading file: /home/musiliandrew/Desktop/DataProjs/Finance/empirical/SHOP.csv\n",
      "Reading file: /home/musiliandrew/Desktop/DataProjs/Finance/empirical/ORCL.csv\n",
      "Reading file: /home/musiliandrew/Desktop/DataProjs/Finance/empirical/LLY.csv\n",
      "Reading file: /home/musiliandrew/Desktop/DataProjs/Finance/empirical/IBKR.csv\n",
      "Reading file: /home/musiliandrew/Desktop/DataProjs/Finance/empirical/RCL.csv\n",
      "Reading file: /home/musiliandrew/Desktop/DataProjs/Finance/empirical/AMGN.csv\n",
      "Reading file: /home/musiliandrew/Desktop/DataProjs/Finance/empirical/TMO.csv\n",
      "Reading file: /home/musiliandrew/Desktop/DataProjs/Finance/empirical/TJX.csv\n",
      "Reading file: /home/musiliandrew/Desktop/DataProjs/Finance/empirical/ICE.csv\n"
     ]
    },
    {
     "name": "stdout",
     "output_type": "stream",
     "text": [
      "Reading file: /home/musiliandrew/Desktop/DataProjs/Finance/empirical/EQIX.csv\n",
      "Reading file: /home/musiliandrew/Desktop/DataProjs/Finance/empirical/V.csv\n",
      "Reading file: /home/musiliandrew/Desktop/DataProjs/Finance/empirical/ADI.csv\n",
      "Reading file: /home/musiliandrew/Desktop/DataProjs/Finance/empirical/WMT.csv\n",
      "Reading file: /home/musiliandrew/Desktop/DataProjs/Finance/empirical/SHW.csv\n",
      "Reading file: /home/musiliandrew/Desktop/DataProjs/Finance/empirical/HD.csv\n",
      "Reading file: /home/musiliandrew/Desktop/DataProjs/Finance/empirical/RY.csv\n",
      "Reading file: /home/musiliandrew/Desktop/DataProjs/Finance/empirical/OXY.csv\n",
      "Reading file: /home/musiliandrew/Desktop/DataProjs/Finance/empirical/MRVL.csv\n",
      "Reading file: /home/musiliandrew/Desktop/DataProjs/Finance/empirical/RCIT.csv\n",
      "Reading file: /home/musiliandrew/Desktop/DataProjs/Finance/empirical/MDLZ.csv\n",
      "Reading file: /home/musiliandrew/Desktop/DataProjs/Finance/empirical/SHEL.csv\n",
      "Reading file: /home/musiliandrew/Desktop/DataProjs/Finance/empirical/NOW.csv\n",
      "Reading file: /home/musiliandrew/Desktop/DataProjs/Finance/empirical/CARR.csv\n",
      "Reading file: /home/musiliandrew/Desktop/DataProjs/Finance/empirical/MMM.csv\n",
      "Reading file: /home/musiliandrew/Desktop/DataProjs/Finance/empirical/CL.csv\n",
      "Reading file: /home/musiliandrew/Desktop/DataProjs/Finance/empirical/CSCO.csv\n",
      "Reading file: /home/musiliandrew/Desktop/DataProjs/Finance/empirical/TRI.csv\n",
      "Reading file: /home/musiliandrew/Desktop/DataProjs/Finance/empirical/HDB.csv\n",
      "Reading file: /home/musiliandrew/Desktop/DataProjs/Finance/empirical/CDNS.csv\n",
      "Reading file: /home/musiliandrew/Desktop/DataProjs/Finance/empirical/FMX.csv\n",
      "Reading file: /home/musiliandrew/Desktop/DataProjs/Finance/empirical/TXN.csv\n",
      "Reading file: /home/musiliandrew/Desktop/DataProjs/Finance/empirical/CVX.csv\n",
      "Reading file: /home/musiliandrew/Desktop/DataProjs/Finance/empirical/ELV.csv\n",
      "Reading file: /home/musiliandrew/Desktop/DataProjs/Finance/empirical/VRTX.csv\n",
      "Reading file: /home/musiliandrew/Desktop/DataProjs/Finance/empirical/AXP.csv\n",
      "Reading file: /home/musiliandrew/Desktop/DataProjs/Finance/empirical/UPS.csv\n",
      "Reading file: /home/musiliandrew/Desktop/DataProjs/Finance/empirical/WFC.csv\n",
      "Reading file: /home/musiliandrew/Desktop/DataProjs/Finance/empirical/MMC.csv\n",
      "Reading file: /home/musiliandrew/Desktop/DataProjs/Finance/empirical/SNY.csv\n",
      "Reading file: /home/musiliandrew/Desktop/DataProjs/Finance/empirical/CVS.csv\n",
      "Reading file: /home/musiliandrew/Desktop/DataProjs/Finance/empirical/HCA.csv\n",
      "Reading file: /home/musiliandrew/Desktop/DataProjs/Finance/empirical/CSX.csv\n",
      "Reading file: /home/musiliandrew/Desktop/DataProjs/Finance/empirical/QQQ.csv\n",
      "Reading file: /home/musiliandrew/Desktop/DataProjs/Finance/empirical/CME.csv\n",
      "Reading file: /home/musiliandrew/Desktop/DataProjs/Finance/empirical/CRWD.csv\n",
      "Reading file: /home/musiliandrew/Desktop/DataProjs/Finance/empirical/WDAY.csv\n",
      "Reading file: /home/musiliandrew/Desktop/DataProjs/Finance/empirical/KO.csv\n",
      "Reading file: /home/musiliandrew/Desktop/DataProjs/Finance/empirical/AJG.csv\n",
      "Reading file: /home/musiliandrew/Desktop/DataProjs/Finance/empirical/BTI.csv\n",
      "Reading file: /home/musiliandrew/Desktop/DataProjs/Finance/empirical/AIQUY.csv\n",
      "Reading file: /home/musiliandrew/Desktop/DataProjs/Finance/empirical/UBS.csv\n",
      "Reading file: /home/musiliandrew/Desktop/DataProjs/Finance/empirical/TD.csv\n",
      "Reading file: /home/musiliandrew/Desktop/DataProjs/Finance/empirical/APH.csv\n",
      "Reading file: /home/musiliandrew/Desktop/DataProjs/Finance/empirical/TDG.csv\n",
      "Reading file: /home/musiliandrew/Desktop/DataProjs/Finance/empirical/MDT.csv\n",
      "Reading file: /home/musiliandrew/Desktop/DataProjs/Finance/empirical/NKE.csv\n",
      "Reading file: /home/musiliandrew/Desktop/DataProjs/Finance/empirical/ARM.csv\n",
      "Reading file: /home/musiliandrew/Desktop/DataProjs/Finance/empirical/CAT.csv\n",
      "Reading file: /home/musiliandrew/Desktop/DataProjs/Finance/empirical/ALL.csv\n",
      "Reading file: /home/musiliandrew/Desktop/DataProjs/Finance/empirical/SAP.csv\n",
      "Reading file: /home/musiliandrew/Desktop/DataProjs/Finance/empirical/KLAC.csv\n",
      "Reading file: /home/musiliandrew/Desktop/DataProjs/Finance/empirical/DIS.csv\n",
      "Reading file: /home/musiliandrew/Desktop/DataProjs/Finance/empirical/PG.csv\n",
      "Reading file: /home/musiliandrew/Desktop/DataProjs/Finance/empirical/AON.csv\n",
      "Reading file: /home/musiliandrew/Desktop/DataProjs/Finance/empirical/FANG.csv\n",
      "Reading file: /home/musiliandrew/Desktop/DataProjs/Finance/empirical/BX.csv\n",
      "Reading file: /home/musiliandrew/Desktop/DataProjs/Finance/empirical/NVDA.csv\n",
      "Reading file: /home/musiliandrew/Desktop/DataProjs/Finance/empirical/CRM.csv\n",
      "Reading file: /home/musiliandrew/Desktop/DataProjs/Finance/empirical/AEP.csv\n",
      "Reading file: /home/musiliandrew/Desktop/DataProjs/Finance/empirical/BABA.csv\n",
      "Reading file: /home/musiliandrew/Desktop/DataProjs/Finance/empirical/PYPL.csv\n",
      "Reading file: /home/musiliandrew/Desktop/DataProjs/Finance/empirical/USB.csv\n",
      "Reading file: /home/musiliandrew/Desktop/DataProjs/Finance/empirical/MS.csv\n",
      "Reading file: /home/musiliandrew/Desktop/DataProjs/Finance/empirical/PEP.csv\n",
      "Reading file: /home/musiliandrew/Desktop/DataProjs/Finance/empirical/AFL.csv\n",
      "Reading file: /home/musiliandrew/Desktop/DataProjs/Finance/empirical/EMR.csv\n",
      "Reading file: /home/musiliandrew/Desktop/DataProjs/Finance/empirical/NXPI.csv\n",
      "Reading file: /home/musiliandrew/Desktop/DataProjs/Finance/empirical/NOC.csv\n",
      "Reading file: /home/musiliandrew/Desktop/DataProjs/Finance/empirical/NEE.csv\n",
      "Reading file: /home/musiliandrew/Desktop/DataProjs/Finance/empirical/ABNB.csv\n",
      "Reading file: /home/musiliandrew/Desktop/DataProjs/Finance/empirical/HSBC.csv\n",
      "Reading file: /home/musiliandrew/Desktop/DataProjs/Finance/empirical/GE.csv\n",
      "Reading file: /home/musiliandrew/Desktop/DataProjs/Finance/empirical/TMUS.csv\n",
      "Reading file: /home/musiliandrew/Desktop/DataProjs/Finance/empirical/SPOT.csv\n",
      "Reading file: /home/musiliandrew/Desktop/DataProjs/Finance/empirical/MCO.csv\n",
      "Reading file: /home/musiliandrew/Desktop/DataProjs/Finance/empirical/AMZN.csv\n",
      "Reading file: /home/musiliandrew/Desktop/DataProjs/Finance/empirical/MUFG.csv\n",
      "Reading file: /home/musiliandrew/Desktop/DataProjs/Finance/empirical/DHR.csv\n",
      "Reading file: /home/musiliandrew/Desktop/DataProjs/Finance/empirical/BSX.csv\n",
      "Reading file: /home/musiliandrew/Desktop/DataProjs/Finance/empirical/MAR.csv\n",
      "Reading file: /home/musiliandrew/Desktop/DataProjs/Finance/empirical/TTE.csv\n",
      "Reading file: /home/musiliandrew/Desktop/DataProjs/Finance/empirical/COF.csv\n",
      "Reading file: /home/musiliandrew/Desktop/DataProjs/Finance/empirical/TFC.csv\n",
      "Reading file: /home/musiliandrew/Desktop/DataProjs/Finance/empirical/MCD.csv\n",
      "Reading file: /home/musiliandrew/Desktop/DataProjs/Finance/empirical/ASML.csv\n",
      "Reading file: /home/musiliandrew/Desktop/DataProjs/Finance/empirical/ORLY.csv\n",
      "Reading file: /home/musiliandrew/Desktop/DataProjs/Finance/empirical/AAPL.csv\n",
      "Reading file: /home/musiliandrew/Desktop/DataProjs/Finance/empirical/SCHW.csv\n",
      "Reading file: /home/musiliandrew/Desktop/DataProjs/Finance/empirical/SPY.csv\n",
      "Reading file: /home/musiliandrew/Desktop/DataProjs/Finance/empirical/MCK.csv\n",
      "Reading file: /home/musiliandrew/Desktop/DataProjs/Finance/empirical/T.csv\n",
      "Reading file: /home/musiliandrew/Desktop/DataProjs/Finance/empirical/NFLX.csv\n",
      "Reading file: /home/musiliandrew/Desktop/DataProjs/Finance/empirical/GD.csv\n",
      "Reading file: /home/musiliandrew/Desktop/DataProjs/Finance/empirical/TOELY.csv\n",
      "Reading file: /home/musiliandrew/Desktop/DataProjs/Finance/empirical/AMD.csv\n",
      "Reading file: /home/musiliandrew/Desktop/DataProjs/Finance/empirical/WM.csv\n",
      "Reading file: /home/musiliandrew/Desktop/DataProjs/Finance/empirical/JPM.csv\n",
      "Reading file: /home/musiliandrew/Desktop/DataProjs/Finance/empirical/PGR.csv\n",
      "Reading file: /home/musiliandrew/Desktop/DataProjs/Finance/empirical/PH.csv\n",
      "Reading file: /home/musiliandrew/Desktop/DataProjs/Finance/empirical/RACE.csv\n",
      "Reading file: /home/musiliandrew/Desktop/DataProjs/Finance/empirical/GM.csv\n",
      "Reading file: /home/musiliandrew/Desktop/DataProjs/Finance/empirical/NVO.csv\n",
      "Reading file: /home/musiliandrew/Desktop/DataProjs/Finance/empirical/AMAT.csv\n",
      "Reading file: /home/musiliandrew/Desktop/DataProjs/Finance/empirical/SMFG.csv\n",
      "Reading file: /home/musiliandrew/Desktop/DataProjs/Finance/empirical/REGN.csv\n",
      "Reading file: /home/musiliandrew/Desktop/DataProjs/Finance/empirical/FICO.csv\n",
      "Reading file: /home/musiliandrew/Desktop/DataProjs/Finance/empirical/SCCO.csv\n",
      "Reading file: /home/musiliandrew/Desktop/DataProjs/Finance/empirical/MO.csv\n",
      "Reading file: /home/musiliandrew/Desktop/DataProjs/Finance/empirical/TRV.csv\n"
     ]
    },
    {
     "name": "stdout",
     "output_type": "stream",
     "text": [
      "Reading file: /home/musiliandrew/Desktop/DataProjs/Finance/empirical/LIN.csv\n",
      "Reading file: /home/musiliandrew/Desktop/DataProjs/Finance/empirical/BP.csv\n",
      "Reading file: /home/musiliandrew/Desktop/DataProjs/Finance/empirical/ANET.csv\n",
      "Reading file: /home/musiliandrew/Desktop/DataProjs/Finance/empirical/FCX.csv\n",
      "Reading file: /home/musiliandrew/Desktop/DataProjs/Finance/empirical/CMCSA.csv\n",
      "Reading file: /home/musiliandrew/Desktop/DataProjs/Finance/empirical/FTNT.csv\n",
      "Reading file: /home/musiliandrew/Desktop/DataProjs/Finance/empirical/MU.csv\n",
      "Reading file: /home/musiliandrew/Desktop/DataProjs/Finance/empirical/FI.csv\n",
      "Reading file: /home/musiliandrew/Desktop/DataProjs/Finance/empirical/ZTS.csv\n",
      "Reading file: /home/musiliandrew/Desktop/DataProjs/Finance/empirical/MRK.csv\n",
      "Reading file: /home/musiliandrew/Desktop/DataProjs/Finance/empirical/BN.csv\n",
      "Reading file: /home/musiliandrew/Desktop/DataProjs/Finance/empirical/KKR.csv\n",
      "Reading file: /home/musiliandrew/Desktop/DataProjs/Finance/empirical/EADSY.csv\n",
      "Reading file: /home/musiliandrew/Desktop/DataProjs/Finance/empirical/DE.csv\n",
      "Reading file: /home/musiliandrew/Desktop/DataProjs/Finance/empirical/RIO.csv\n",
      "Reading file: /home/musiliandrew/Desktop/DataProjs/Finance/empirical/SPG.csv\n",
      "Reading file: /home/musiliandrew/Desktop/DataProjs/Finance/empirical/IBM.csv\n",
      "Reading file: /home/musiliandrew/Desktop/DataProjs/Finance/empirical/AVGO.csv\n",
      "Reading file: /home/musiliandrew/Desktop/DataProjs/Finance/empirical/AZN.csv\n",
      "Reading file: /home/musiliandrew/Desktop/DataProjs/Finance/empirical/CMG.csv\n",
      "Reading file: /home/musiliandrew/Desktop/DataProjs/Finance/empirical/QCOM.csv\n",
      "Reading file: /home/musiliandrew/Desktop/DataProjs/Finance/empirical/BK.csv\n",
      "Reading file: /home/musiliandrew/Desktop/DataProjs/Finance/empirical/VST.csv\n",
      "Reading file: /home/musiliandrew/Desktop/DataProjs/Finance/empirical/HON.csv\n",
      "Reading file: /home/musiliandrew/Desktop/DataProjs/Finance/empirical/RELX.csv\n",
      "Reading file: /home/musiliandrew/Desktop/DataProjs/Finance/empirical/CMI.csv\n",
      "Reading file: /home/musiliandrew/Desktop/DataProjs/Finance/empirical/META.csv\n",
      "Reading file: /home/musiliandrew/Desktop/DataProjs/Finance/empirical/BUD.csv\n",
      "Reading file: /home/musiliandrew/Desktop/DataProjs/Finance/empirical/SO.csv\n",
      "Reading file: /home/musiliandrew/Desktop/DataProjs/Finance/empirical/PNC.csv\n",
      "Combined DataFrame created successfully!\n",
      "Number of matched files: 253\n",
      "Number of rows in combined DataFrame: 373861\n",
      "Number of columns in combined DataFrame: 7\n",
      "        Price               Close                High                 Low  \\\n",
      "0      Ticker                TSLA                TSLA                TSLA   \n",
      "1        Date                 NaN                 NaN                 NaN   \n",
      "2  2018-01-02  21.368667602539062  21.474000930786133  20.733333587646484   \n",
      "3  2018-01-03  21.149999618530273  21.683332443237305  21.036666870117188   \n",
      "4  2018-01-04  20.974666595458984   21.23666763305664    20.3786678314209   \n",
      "\n",
      "                 Open     Volume Adj Close  \n",
      "0                TSLA       TSLA       NaN  \n",
      "1                 NaN        NaN       NaN  \n",
      "2  20.799999237060547   65283000       NaN  \n",
      "3  21.399999618530273   67822500       NaN  \n",
      "4  20.857999801635742  149194500       NaN  \n"
     ]
    }
   ],
   "source": [
    "import pandas as pd\n",
    "import os\n",
    "import re\n",
    "\n",
    "# Use the current working directory\n",
    "folder_path = os.getcwd()\n",
    "\n",
    "# List to store valid CSV file paths\n",
    "valid_csv_files = []\n",
    "\n",
    "# Regex pattern to match \"{ticker}.csv\" (only uppercase letters)\n",
    "pattern = re.compile(r\"^[A-Z]+\\.csv$\")\n",
    "\n",
    "# List files in the current directory\n",
    "all_files = os.listdir(folder_path)\n",
    "if not all_files:\n",
    "    print(\"The current folder is empty. Please check the directory.\")\n",
    "else:\n",
    "    print(\"Files in the current directory:\", all_files)\n",
    "\n",
    "    # Iterate over files and match using regex\n",
    "    for file in all_files:\n",
    "        if pattern.match(file) and file.endswith('.csv'):\n",
    "            print(f\"Matched file: {file}\")\n",
    "            valid_csv_files.append(os.path.join(folder_path, file))\n",
    "\n",
    "# Check if any files matched\n",
    "if not valid_csv_files:\n",
    "    print(\"No files matched the pattern. Please check the file names.\")\n",
    "else:\n",
    "    # Combine all valid CSV files into one DataFrame\n",
    "    dataframes = []\n",
    "    for file in valid_csv_files:\n",
    "        try:\n",
    "            if os.path.getsize(file) > 0:  # Skip empty files\n",
    "                print(f\"Reading file: {file}\")\n",
    "                dataframes.append(pd.read_csv(file, encoding='utf-8', on_bad_lines='skip'))\n",
    "            else:\n",
    "                print(f\"Skipping empty file: {file}\")\n",
    "        except Exception as e:\n",
    "            print(f\"Error reading {file}: {e}\")\n",
    "\n",
    "    if dataframes:\n",
    "        combined_df = pd.concat(dataframes, ignore_index=True)\n",
    "\n",
    "        # Save the combined DataFrame to a new CSV file\n",
    "        output_filename = \"combined_stock_prices.csv\"\n",
    "        combined_df.to_csv(output_filename, index=False)\n",
    "\n",
    "        print(\"Combined DataFrame created successfully!\")\n",
    "        print(f\"Number of matched files: {len(valid_csv_files)}\")\n",
    "        print(f\"Number of rows in combined DataFrame: {combined_df.shape[0]}\")\n",
    "        print(f\"Number of columns in combined DataFrame: {combined_df.shape[1]}\")\n",
    "        print(combined_df.head())\n",
    "    else:\n",
    "        print(\"No valid data was found in the matched files.\")\n"
   ]
  },
  {
   "cell_type": "code",
   "execution_count": 10,
   "id": "5658a4ec",
   "metadata": {},
   "outputs": [
    {
     "name": "stdout",
     "output_type": "stream",
     "text": [
      "Requirement already satisfied: psycopg2 in /home/musiliandrew/anaconda3/lib/python3.10/site-packages (2.9.1)\n",
      "Note: you may need to restart the kernel to use updated packages.\n"
     ]
    }
   ],
   "source": [
    "pip install psycopg2"
   ]
  },
  {
   "cell_type": "code",
   "execution_count": 1,
   "id": "9455e004",
   "metadata": {},
   "outputs": [
    {
     "name": "stdout",
     "output_type": "stream",
     "text": [
      "Connection established successfully!\n",
      "Tables in the 'Financial Data' schema:\n",
      "- stock_prices\n",
      "- financial_data\n",
      "- sec_filings\n",
      "Connection closed.\n"
     ]
    }
   ],
   "source": [
    "import psycopg2\n",
    "# Creating Table Structure\n",
    "\n",
    "db_params ={\n",
    "    'dbname':'financial_data',\n",
    "    'user': 'admin',\n",
    "    'password': '2003',\n",
    "    'host': 'localhost',\n",
    "    'port':'5432'\n",
    "}\n",
    "\n",
    "try:\n",
    "    # Establish the connection\n",
    "    conn = psycopg2.connect(**db_params)\n",
    "    cursor = conn.cursor()\n",
    "    print(\"Connection established successfully!\")\n",
    "\n",
    "    # Query to check existing tables\n",
    "    cursor.execute(\"\"\"\n",
    "        SELECT table_name \n",
    "        FROM information_schema.tables \n",
    "        WHERE table_schema = 'Financial Data Schema';\n",
    "    \"\"\")\n",
    "    \n",
    "    # Fetch and display the results\n",
    "    tables = cursor.fetchall()\n",
    "    print(\"Tables in the 'Financial Data' schema:\")\n",
    "    for table in tables:\n",
    "        print(f\"- {table[0]}\")\n",
    "\n",
    "except Exception as e:\n",
    "    print(f\"Error: {e}\")\n",
    "\n",
    "finally:\n",
    "    if conn:\n",
    "        cursor.close()\n",
    "        conn.close()\n",
    "        print(\"Connection closed.\")"
   ]
  },
  {
   "cell_type": "code",
   "execution_count": 6,
   "id": "528490fc",
   "metadata": {},
   "outputs": [
    {
     "name": "stdout",
     "output_type": "stream",
     "text": [
      "Cleaned data has replaced the original file: /home/musiliandrew/Desktop/DataProjs/Finance/empirical/TSLA.csv.\n",
      "Header: ['Ticker', 'Date', 'Open', 'High', 'Low', 'Close', 'Volume']\n",
      "First Line of Data: ['TSLA', 'TSLA', '2018-01-04', '20.974666595458984', '21.23666763305664', '20.3786678314209', '20.857999801635742', '149194500']\n",
      "Cleaned data has replaced the original file: /home/musiliandrew/Desktop/DataProjs/Finance/empirical/JNJ.csv.\n",
      "Header: ['Ticker', 'Date', 'Open', 'High', 'Low', 'Close', 'Volume']\n",
      "First Line of Data: ['JNJ', 'JNJ', '2018-01-04', '115.84962463378906', '116.33593450782563', '115.5776176083458', '115.76719368891668', '4837600']\n",
      "Cleaned data has replaced the original file: /home/musiliandrew/Desktop/DataProjs/Finance/empirical/PCAR.csv.\n",
      "Header: ['Ticker', 'Date', 'Open', 'High', 'Low', 'Close', 'Volume']\n",
      "First Line of Data: ['PCAR', 'PCAR', '2018-01-04', '37.59739685058594', '38.01932971234926', '37.17043700942735', '37.26587488868383', '4642650']\n",
      "Cleaned data has replaced the original file: /home/musiliandrew/Desktop/DataProjs/Finance/empirical/NSC.csv.\n",
      "Header: ['Ticker', 'Date', 'Open', 'High', 'Low', 'Close', 'Volume']\n",
      "First Line of Data: ['NSC', 'NSC', '2018-01-04', '128.0040740966797', '129.05498894768218', '127.59586355870168', '128.30805192635313', '1545100']\n",
      "Cleaned data has replaced the original file: /home/musiliandrew/Desktop/DataProjs/Finance/empirical/INTU.csv.\n",
      "Header: ['Ticker', 'Date', 'Open', 'High', 'Low', 'Close', 'Volume']\n",
      "First Line of Data: ['INTU', 'INTU', '2018-01-04', '154.00892639160156', '155.72954944086908', '151.58487296513078', '151.58487296513078', '1695000']\n",
      "Cleaned data has replaced the original file: /home/musiliandrew/Desktop/DataProjs/Finance/empirical/MET.csv.\n",
      "Header: ['Ticker', 'Date', 'Open', 'High', 'Low', 'Close', 'Volume']\n",
      "First Line of Data: ['MET', 'MET', '2018-01-04', '40.13535690307617', '40.34634920462523', '39.658670923391426', '39.72900169057445', '4373900']\n",
      "Cleaned data has replaced the original file: /home/musiliandrew/Desktop/DataProjs/Finance/empirical/ECL.csv.\n",
      "Header: ['Ticker', 'Date', 'Open', 'High', 'Low', 'Close', 'Volume']\n",
      "First Line of Data: ['ECL', 'ECL', '2018-01-04', '126.60836029052734', '126.9330741357784', '125.75484333736136', '125.91255704169225', '723200']\n",
      "Cleaned data has replaced the original file: /home/musiliandrew/Desktop/DataProjs/Finance/empirical/MSFT.csv.\n",
      "Header: ['Ticker', 'Date', 'Open', 'High', 'Low', 'Close', 'Volume']\n",
      "First Line of Data: ['MSFT', 'MSFT', '2018-01-04', '80.70826721191406', '81.21785041657039', '80.20795108426293', '80.2264781695647', '21912000']\n",
      "Cleaned data has replaced the original file: /home/musiliandrew/Desktop/DataProjs/Finance/empirical/GOOG.csv.\n",
      "Header: ['Ticker', 'Date', 'Open', 'High', 'Low', 'Close', 'Volume']\n",
      "First Line of Data: ['GOOG', 'GOOG', '2018-01-04', '54.12552261352539', '54.482740536935125', '54.00605213021857', '54.20523802111377', '20092000']\n",
      "Cleaned data has replaced the original file: /home/musiliandrew/Desktop/DataProjs/Finance/empirical/SYK.csv.\n",
      "Header: ['Ticker', 'Date', 'Open', 'High', 'Low', 'Close', 'Volume']\n",
      "First Line of Data: ['SYK', 'SYK', '2018-01-04', '146.99375915527344', '147.99384434834184', '146.75298927028092', '147.4474916991044', '861700']\n",
      "Cleaned data has replaced the original file: /home/musiliandrew/Desktop/DataProjs/Finance/empirical/SNPS.csv.\n",
      "Header: ['Ticker', 'Date', 'Open', 'High', 'Low', 'Close', 'Volume']\n",
      "First Line of Data: ['SNPS', 'SNPS', '2018-01-04', '87.88999938964844', '88.69999694824219', '87.05000305175781', '87.25', '1059900']\n",
      "Cleaned data has replaced the original file: /home/musiliandrew/Desktop/DataProjs/Finance/empirical/BAC.csv.\n",
      "Header: ['Ticker', 'Date', 'Open', 'High', 'Low', 'Close', 'Volume']\n",
      "First Line of Data: ['BAC', 'BAC', '2018-01-04', '25.596500396728516', '25.808462138562977', '25.33366667251316', '25.409973028944748', '76512500']\n",
      "Cleaned data has replaced the original file: /home/musiliandrew/Desktop/DataProjs/Finance/empirical/OKE.csv.\n",
      "Header: ['Ticker', 'Date', 'Open', 'High', 'Low', 'Close', 'Volume']\n",
      "First Line of Data: ['OKE', 'OKE', '2018-01-04', '35.74296188354492', '35.82564201093608', '35.26596506773106', '35.41860269015799', '2790800']\n",
      "Cleaned data has replaced the original file: /home/musiliandrew/Desktop/DataProjs/Finance/empirical/ADBE.csv.\n",
      "Header: ['Ticker', 'Date', 'Open', 'High', 'Low', 'Close', 'Volume']\n",
      "First Line of Data: ['ADBE', 'ADBE', '2018-01-04', '183.22000122070312', '184.05999755859375', '181.63999938964844', '181.92999267578125', '2211400']\n",
      "Cleaned data has replaced the original file: /home/musiliandrew/Desktop/DataProjs/Finance/empirical/ETN.csv.\n",
      "Header: ['Ticker', 'Date', 'Open', 'High', 'Low', 'Close', 'Volume']\n",
      "First Line of Data: ['ETN', 'ETN', '2018-01-04', '69.79801940917969', '70.85229293178692', '69.5301326132059', '70.59304955945758', '3936400']\n",
      "Cleaned data has replaced the original file: /home/musiliandrew/Desktop/DataProjs/Finance/empirical/RSG.csv.\n",
      "Header: ['Ticker', 'Date', 'Open', 'High', 'Low', 'Close', 'Volume']\n",
      "First Line of Data: ['RSG', 'RSG', '2018-01-04', '61.12591552734375', '61.733245155193025', '60.50965267751162', '60.625757307081386', '1926400']\n",
      "Cleaned data has replaced the original file: /home/musiliandrew/Desktop/DataProjs/Finance/empirical/BMO.csv.\n",
      "Header: ['Ticker', 'Date', 'Open', 'High', 'Low', 'Close', 'Volume']\n",
      "First Line of Data: ['BMO', 'BMO', '2018-01-04', '61.80769348144531', '61.91414002180114', '61.207027546065206', '61.397111482543664', '448600']\n",
      "Cleaned data has replaced the original file: /home/musiliandrew/Desktop/DataProjs/Finance/empirical/RTX.csv.\n",
      "Header: ['Ticker', 'Date', 'Open', 'High', 'Low', 'Close', 'Volume']\n",
      "First Line of Data: ['RTX', 'RTX', '2018-01-04', '69.33010864257812', '69.55332824767633', '69.19723998342572', '69.52675065001347', '5820666']\n",
      "Cleaned data has replaced the original file: /home/musiliandrew/Desktop/DataProjs/Finance/empirical/BKNG.csv.\n",
      "Header: ['Ticker', 'Date', 'Open', 'High', 'Low', 'Close', 'Volume']\n",
      "First Line of Data: ['BKNG', 'BKNG', '2018-01-04', '1791.3668212890625', '1832.6508007281168', '1786.1927267666229', '1822.3818650369674', '592600']\n",
      "Cleaned data has replaced the original file: /home/musiliandrew/Desktop/DataProjs/Finance/empirical/PSX.csv.\n",
      "Header: ['Ticker', 'Date', 'Open', 'High', 'Low', 'Close', 'Volume']\n",
      "First Line of Data: ['PSX', 'PSX', '2018-01-04', '77.54135131835938', '77.9740340978748', '77.29084923773992', '77.73112456887351', '1110600']\n",
      "Cleaned data has replaced the original file: /home/musiliandrew/Desktop/DataProjs/Finance/empirical/RTNTF.csv.\n",
      "Header: ['Ticker', 'Date', 'Open', 'High', 'Low', 'Close', 'Volume']\n",
      "First Line of Data: ['RTNTF', 'RTNTF', '2018-01-04', '41.334869384765625', '41.334869384765625', '41.334869384765625', '41.334869384765625', '0']\n",
      "Cleaned data has replaced the original file: /home/musiliandrew/Desktop/DataProjs/Finance/empirical/JCI.csv.\n",
      "Header: ['Ticker', 'Date', 'Open', 'High', 'Low', 'Close', 'Volume']\n",
      "First Line of Data: ['JCI', 'JCI', '2018-01-04', '33.732269287109375', '33.97774957194375', '33.148198512326324', '33.26670534526181', '10941900']\n",
      "Cleaned data has replaced the original file: /home/musiliandrew/Desktop/DataProjs/Finance/empirical/ROP.csv.\n",
      "Header: ['Ticker', 'Date', 'Open', 'High', 'Low', 'Close', 'Volume']\n",
      "First Line of Data: ['ROP', 'ROP', '2018-01-04', '254.13516235351562', '254.98913815086925', '251.7652067529597', '252.1681835367747', '367100']\n",
      "Cleaned data has replaced the original file: /home/musiliandrew/Desktop/DataProjs/Finance/empirical/CPRT.csv.\n",
      "Header: ['Ticker', 'Date', 'Open', 'High', 'Low', 'Close', 'Volume']\n",
      "First Line of Data: ['CPRT', 'CPRT', '2018-01-04', '10.9350004196167', '10.987500190734863', '10.824999809265137', '10.875', '4672000']\n",
      "Cleaned data has replaced the original file: /home/musiliandrew/Desktop/DataProjs/Finance/empirical/PLTR.csv.\n",
      "Header: ['Ticker', 'Date', 'Open', 'High', 'Low', 'Close', 'Volume']\n",
      "First Line of Data: ['PLTR', 'PLTR', '2020-10-02', '9.199999809265137', '9.279999732971191', '8.9399995803833', '9.0600004196167', '55018300']\n",
      "Cleaned data has replaced the original file: /home/musiliandrew/Desktop/DataProjs/Finance/empirical/PFE.csv.\n",
      "Header: ['Ticker', 'Date', 'Open', 'High', 'Low', 'Close', 'Volume']\n",
      "First Line of Data: ['PFE', 'PFE', '2018-01-04', '26.23231315612793', '26.32500468444439', '26.09683651187076', '26.17527111298452', '13046517']\n",
      "Cleaned data has replaced the original file: /home/musiliandrew/Desktop/DataProjs/Finance/empirical/PDD.csv.\n",
      "Header: ['Ticker', 'Date', 'Open', 'High', 'Low', 'Close', 'Volume']\n",
      "First Line of Data: ['PDD', 'PDD', '2018-07-30', '22.5', '23.899999618530273', '21.8799991607666', '23.309999465942383', '13967700']\n",
      "Cleaned data has replaced the original file: /home/musiliandrew/Desktop/DataProjs/Finance/empirical/LRCX.csv.\n",
      "Header: ['Ticker', 'Date', 'Open', 'High', 'Low', 'Close', 'Volume']\n",
      "First Line of Data: ['LRCX', 'LRCX', '2018-01-04', '11.41344928741455', '11.618251667720308', '11.3998751971056', '11.509063432412953', '22272000']\n",
      "Cleaned data has replaced the original file: /home/musiliandrew/Desktop/DataProjs/Finance/empirical/CI.csv.\n",
      "Header: ['Ticker', 'Date', 'Open', 'High', 'Low', 'Close', 'Volume']\n",
      "First Line of Data: ['CI', 'CI', '2018-01-04', '193.17144775390625', '194.10446289116496', '192.26643616851197', '192.26643616851197', '888600']\n",
      "Cleaned data has replaced the original file: /home/musiliandrew/Desktop/DataProjs/Finance/empirical/UNH.csv.\n",
      "Header: ['Ticker', 'Date', 'Open', 'High', 'Low', 'Close', 'Volume']\n",
      "First Line of Data: ['UNH', 'UNH', '2018-01-04', '202.34979248046875', '203.83733542856444', '202.09736345103744', '202.2506229505957', '2749100']\n",
      "Cleaned data has replaced the original file: /home/musiliandrew/Desktop/DataProjs/Finance/empirical/HWM.csv.\n",
      "Header: ['Ticker', 'Date', 'Open', 'High', 'Low', 'Close', 'Volume']\n",
      "First Line of Data: ['HWM', 'HWM', '2018-01-04', '28.57585906982422', '28.70256071511937', '27.299107347111114', '27.484285673882386', '6599200']\n",
      "Cleaned data has replaced the original file: /home/musiliandrew/Desktop/DataProjs/Finance/empirical/BMY.csv.\n",
      "Header: ['Ticker', 'Date', 'Open', 'High', 'Low', 'Close', 'Volume']\n",
      "First Line of Data: ['BMY', 'BMY', '2018-01-04', '48.5118522644043', '48.566845217503335', '47.74980277590159', '47.92263948386497', '6403200']\n",
      "Cleaned data has replaced the original file: /home/musiliandrew/Desktop/DataProjs/Finance/empirical/PAYX.csv.\n",
      "Header: ['Ticker', 'Date', 'Open', 'High', 'Low', 'Close', 'Volume']\n",
      "First Line of Data: ['PAYX', 'PAYX', '2018-01-04', '56.057498931884766', '56.22017677133796', '55.593877949112006', '55.593877949112006', '1636900']\n",
      "Cleaned data has replaced the original file: /home/musiliandrew/Desktop/DataProjs/Finance/empirical/MSI.csv.\n",
      "Header: ['Ticker', 'Date', 'Open', 'High', 'Low', 'Close', 'Volume']\n",
      "First Line of Data: ['MSI', 'MSI', '2018-01-04', '82.03822326660156', '82.90692628939458', '81.34144651975934', '81.34144651975934', '1295900']\n",
      "Cleaned data has replaced the original file: /home/musiliandrew/Desktop/DataProjs/Finance/empirical/INFY.csv.\n",
      "Header: ['Ticker', 'Date', 'Open', 'High', 'Low', 'Close', 'Volume']\n",
      "First Line of Data: ['INFY', 'INFY', '2018-01-04', '6.6307268142700195', '6.692696857080366', '6.618333436093412', '6.692696857080366', '16272000']\n",
      "Cleaned data has replaced the original file: /home/musiliandrew/Desktop/DataProjs/Finance/empirical/FDX.csv.\n",
      "Header: ['Ticker', 'Date', 'Open', 'High', 'Low', 'Close', 'Volume']\n",
      "First Line of Data: ['FDX', 'FDX', '2018-01-04', '236.3801727294922', '237.57599181726218', '233.81004271170477', '234.06884771275415', '2600400']\n",
      "Cleaned data has replaced the original file: /home/musiliandrew/Desktop/DataProjs/Finance/empirical/SBUX.csv.\n",
      "Header: ['Ticker', 'Date', 'Open', 'High', 'Low', 'Close', 'Volume']\n",
      "First Line of Data: ['SBUX', 'SBUX', '2018-01-04', '50.80622482299805', '51.22005418888138', '50.6337950983408', '50.857954727042255', '5775900']\n",
      "Cleaned data has replaced the original file: /home/musiliandrew/Desktop/DataProjs/Finance/empirical/PANW.csv.\n",
      "Header: ['Ticker', 'Date', 'Open', 'High', 'Low', 'Close', 'Volume']\n",
      "First Line of Data: ['PANW', 'PANW', '2018-01-04', '24.876667022705078', '25.43833351135254', '24.808332443237305', '24.99333381652832', '6803400']\n",
      "Cleaned data has replaced the original file: /home/musiliandrew/Desktop/DataProjs/Finance/empirical/SPGI.csv.\n",
      "Header: ['Ticker', 'Date', 'Open', 'High', 'Low', 'Close', 'Volume']\n",
      "First Line of Data: ['SPGI', 'SPGI', '2018-01-04', '162.8225555419922', '163.41418385932766', '160.85980886013695', '160.8692091114551', '727400']\n",
      "Cleaned data has replaced the original file: /home/musiliandrew/Desktop/DataProjs/Finance/empirical/ADSK.csv.\n",
      "Header: ['Ticker', 'Date', 'Open', 'High', 'Low', 'Close', 'Volume']\n",
      "First Line of Data: ['ADSK', 'ADSK', '2018-01-04', '112.06999969482422', '112.20999908447266', '109.2300033569336', '110.12999725341797', '2158700']\n"
     ]
    },
    {
     "name": "stdout",
     "output_type": "stream",
     "text": [
      "Cleaned data has replaced the original file: /home/musiliandrew/Desktop/DataProjs/Finance/empirical/TT.csv.\n",
      "Header: ['Ticker', 'Date', 'Open', 'High', 'Low', 'Close', 'Volume']\n",
      "First Line of Data: ['TT', 'TT', '2018-01-04', '62.74288558959961', '63.353718962462516', '62.409699405830075', '62.52075691620207', '1665388']\n",
      "Cleaned data has replaced the original file: /home/musiliandrew/Desktop/DataProjs/Finance/empirical/XOM.csv.\n",
      "Header: ['Ticker', 'Date', 'Open', 'High', 'Low', 'Close', 'Volume']\n",
      "First Line of Data: ['XOM', 'XOM', '2018-01-04', '62.422183990478516', '62.70977865683019', '62.141780699273944', '62.40061535044924', '10863000']\n",
      "Cleaned data has replaced the original file: /home/musiliandrew/Desktop/DataProjs/Finance/empirical/SAN.csv.\n",
      "Header: ['Ticker', 'Date', 'Open', 'High', 'Low', 'Close', 'Volume']\n",
      "First Line of Data: ['SAN', 'SAN', '2018-01-04', '5.321415901184082', '5.337183044373079', '5.281997855252417', '5.297764998441414', '5481900']\n",
      "Cleaned data has replaced the original file: /home/musiliandrew/Desktop/DataProjs/Finance/empirical/TM.csv.\n",
      "Header: ['Ticker', 'Date', 'Open', 'High', 'Low', 'Close', 'Volume']\n",
      "First Line of Data: ['TM', 'TM', '2018-01-04', '132.16000366210938', '132.16000366210938', '131.3000030517578', '131.30999755859375', '161800']\n",
      "Cleaned data has replaced the original file: /home/musiliandrew/Desktop/DataProjs/Finance/empirical/PBR.csv.\n",
      "Header: ['Ticker', 'Date', 'Open', 'High', 'Low', 'Close', 'Volume']\n",
      "First Line of Data: ['PBR', 'PBR', '2018-01-04', '3.6856164932250977', '3.725823180261614', '3.6655129899396677', '3.6856164932250977', '22945100']\n",
      "Cleaned data has replaced the original file: /home/musiliandrew/Desktop/DataProjs/Finance/empirical/MA.csv.\n",
      "Header: ['Ticker', 'Date', 'Open', 'High', 'Low', 'Close', 'Volume']\n",
      "First Line of Data: ['MA', 'MA', '2018-01-04', '149.6413116455078', '151.16835831286966', '148.21031173212276', '148.42158821245286', '3247200']\n",
      "Cleaned data has replaced the original file: /home/musiliandrew/Desktop/DataProjs/Finance/empirical/BHP.csv.\n",
      "Header: ['Ticker', 'Date', 'Open', 'High', 'Low', 'Close', 'Volume']\n",
      "First Line of Data: ['BHP', 'BHP', '2018-01-04', '30.325166702270508', '30.50914778297852', '30.28075850494083', '30.420328675374126', '2648138']\n",
      "Cleaned data has replaced the original file: /home/musiliandrew/Desktop/DataProjs/Finance/empirical/LOW.csv.\n",
      "Header: ['Ticker', 'Date', 'Open', 'High', 'Low', 'Close', 'Volume']\n",
      "First Line of Data: ['LOW', 'LOW', '2018-01-04', '81.62104034423828', '81.69145044592622', '80.6001207284706', '81.13698600315664', '3542800']\n",
      "Cleaned data has replaced the original file: /home/musiliandrew/Desktop/DataProjs/Finance/empirical/ABT.csv.\n",
      "Header: ['Ticker', 'Date', 'Open', 'High', 'Low', 'Close', 'Volume']\n",
      "First Line of Data: ['ABT', 'ABT', '2018-01-04', '51.8029899597168', '52.489937752000834', '51.75014652968806', '52.40186872823751', '6240000']\n",
      "Cleaned data has replaced the original file: /home/musiliandrew/Desktop/DataProjs/Finance/empirical/BA.csv.\n",
      "Header: ['Ticker', 'Date', 'Open', 'High', 'Low', 'Close', 'Volume']\n",
      "First Line of Data: ['BA', 'BA', '2018-01-04', '282.7243957519531', '284.392133204921', '281.580792722419', '283.93468617650075', '4171700']\n",
      "Cleaned data has replaced the original file: /home/musiliandrew/Desktop/DataProjs/Finance/empirical/CB.csv.\n",
      "Header: ['Ticker', 'Date', 'Open', 'High', 'Low', 'Close', 'Volume']\n",
      "First Line of Data: ['CB', 'CB', '2018-01-04', '126.27315521240234', '127.43942970994087', '125.69440003971977', '125.93116595225081', '1935500']\n",
      "Cleaned data has replaced the original file: /home/musiliandrew/Desktop/DataProjs/Finance/empirical/MSTR.csv.\n",
      "Header: ['Ticker', 'Date', 'Open', 'High', 'Low', 'Close', 'Volume']\n",
      "First Line of Data: ['MSTR', 'MSTR', '2018-01-04', '13.505999565124512', '13.543999671936035', '13.303999900817871', '13.326000213623047', '765000']\n",
      "Cleaned data has replaced the original file: /home/musiliandrew/Desktop/DataProjs/Finance/empirical/GILD.csv.\n",
      "Header: ['Ticker', 'Date', 'Open', 'High', 'Low', 'Close', 'Volume']\n",
      "First Line of Data: ['GILD', 'GILD', '2018-01-04', '56.23512649536133', '57.125451172918204', '55.976396242121616', '57.07218403338102', '5074600']\n",
      "Cleaned data has replaced the original file: /home/musiliandrew/Desktop/DataProjs/Finance/empirical/COST.csv.\n",
      "Header: ['Ticker', 'Date', 'Open', 'High', 'Low', 'Close', 'Volume']\n",
      "First Line of Data: ['COST', 'COST', '2018-01-04', '170.31134033203125', '173.19339084352197', '168.92434450472888', '172.9231956018539', '3525800']\n",
      "Cleaned data has replaced the original file: /home/musiliandrew/Desktop/DataProjs/Finance/empirical/BDX.csv.\n",
      "Header: ['Ticker', 'Date', 'Open', 'High', 'Low', 'Close', 'Volume']\n",
      "First Line of Data: ['BDX', 'BDX', '2018-01-04', '195.5320281982422', '196.2221683298524', '193.9570816714345', '194.07210733312053', '1364993']\n",
      "Cleaned data has replaced the original file: /home/musiliandrew/Desktop/DataProjs/Finance/empirical/GWW.csv.\n",
      "Header: ['Ticker', 'Date', 'Open', 'High', 'Low', 'Close', 'Volume']\n",
      "First Line of Data: ['GWW', 'GWW', '2018-01-04', '213.19766235351562', '214.00146558714908', '210.57853193767096', '212.2764451683579', '949800']\n",
      "Cleaned data has replaced the original file: /home/musiliandrew/Desktop/DataProjs/Finance/empirical/TGT.csv.\n",
      "Header: ['Ticker', 'Date', 'Open', 'High', 'Low', 'Close', 'Volume']\n",
      "First Line of Data: ['TGT', 'TGT', '2018-01-04', '55.00893783569336', '56.65461250838886', '54.34899687503468', '56.16174883904395', '7124500']\n",
      "Cleaned data has replaced the original file: /home/musiliandrew/Desktop/DataProjs/Finance/empirical/PLD.csv.\n",
      "Header: ['Ticker', 'Date', 'Open', 'High', 'Low', 'Close', 'Volume']\n",
      "First Line of Data: ['PLD', 'PLD', '2018-01-04', '51.935699462890625', '53.05553837590482', '51.935699462890625', '52.92281670351547', '2128500']\n",
      "Cleaned data has replaced the original file: /home/musiliandrew/Desktop/DataProjs/Finance/empirical/C.csv.\n",
      "Header: ['Ticker', 'Date', 'Open', 'High', 'Low', 'Close', 'Volume']\n",
      "First Line of Data: ['C', 'C', '2018-01-04', '59.35640335083008', '59.82804618531924', '58.6882421688651', '58.963366655878445', '16864900']\n",
      "Cleaned data has replaced the original file: /home/musiliandrew/Desktop/DataProjs/Finance/empirical/PSA.csv.\n",
      "Header: ['Ticker', 'Date', 'Open', 'High', 'Low', 'Close', 'Volume']\n",
      "First Line of Data: ['PSA', 'PSA', '2018-01-04', '152.718017578125', '155.6504154642364', '152.31199766814575', '154.81580814695022', '799600']\n",
      "Cleaned data has replaced the original file: /home/musiliandrew/Desktop/DataProjs/Finance/empirical/ABBV.csv.\n",
      "Header: ['Ticker', 'Date', 'Open', 'High', 'Low', 'Close', 'Volume']\n",
      "First Line of Data: ['ABBV', 'ABBV', '2018-01-04', '72.3763427734375', '72.91527306834276', '71.62621652301593', '72.87885690700486', '3579000']\n",
      "Cleaned data has replaced the original file: /home/musiliandrew/Desktop/DataProjs/Finance/empirical/APO.csv.\n",
      "Header: ['Ticker', 'Date', 'Open', 'High', 'Low', 'Close', 'Volume']\n",
      "First Line of Data: ['APO', 'APO', '2018-01-04', '26.148834228515625', '26.3469879078319', '26.049755935201375', '26.270775625166923', '550500']\n",
      "Cleaned data has replaced the original file: /home/musiliandrew/Desktop/DataProjs/Finance/empirical/MELI.csv.\n",
      "Header: ['Ticker', 'Date', 'Open', 'High', 'Low', 'Close', 'Volume']\n",
      "First Line of Data: ['MELI', 'MELI', '2018-01-04', '325.8800048828125', '332.94000244140625', '322.54998779296875', '329.8900146484375', '389200']\n",
      "Cleaned data has replaced the original file: /home/musiliandrew/Desktop/DataProjs/Finance/empirical/ADP.csv.\n",
      "Header: ['Ticker', 'Date', 'Open', 'High', 'Low', 'Close', 'Volume']\n",
      "First Line of Data: ['ADP', 'ADP', '2018-01-04', '102.16797637939453', '102.62543098366821', '101.39116356783894', '101.5292599648307', '1236900']\n",
      "Cleaned data has replaced the original file: /home/musiliandrew/Desktop/DataProjs/Finance/empirical/GS.csv.\n",
      "Header: ['Ticker', 'Date', 'Open', 'High', 'Low', 'Close', 'Volume']\n",
      "First Line of Data: ['GS', 'GS', '2018-01-04', '219.63075256347656', '222.1021777293117', '217.484318502078', '218.26250426034045', '2583200']\n",
      "Cleaned data has replaced the original file: /home/musiliandrew/Desktop/DataProjs/Finance/empirical/LMT.csv.\n",
      "Header: ['Ticker', 'Date', 'Open', 'High', 'Low', 'Close', 'Volume']\n",
      "First Line of Data: ['LMT', 'LMT', '2018-01-04', '271.6597900390625', '271.8094496017725', '266.8954242957608', '267.0617296151913', '1443000']\n",
      "Cleaned data has replaced the original file: /home/musiliandrew/Desktop/DataProjs/Finance/empirical/ROST.csv.\n",
      "Header: ['Ticker', 'Date', 'Open', 'High', 'Low', 'Close', 'Volume']\n",
      "First Line of Data: ['ROST', 'ROST', '2018-01-04', '75.55487823486328', '75.6482581902943', '74.34091744095826', '75.13465774877281', '2313200']\n",
      "Cleaned data has replaced the original file: /home/musiliandrew/Desktop/DataProjs/Finance/empirical/DUK.csv.\n",
      "Header: ['Ticker', 'Date', 'Open', 'High', 'Low', 'Close', 'Volume']\n",
      "First Line of Data: ['DUK', 'DUK', '2018-01-04', '61.495426177978516', '62.175225294018304', '61.36843261763445', '61.86894067266968', '2475800']\n",
      "Cleaned data has replaced the original file: /home/musiliandrew/Desktop/DataProjs/Finance/empirical/ACN.csv.\n",
      "Header: ['Ticker', 'Date', 'Open', 'High', 'Low', 'Close', 'Volume']\n",
      "First Line of Data: ['ACN', 'ACN', '2018-01-04', '140.94898986816406', '141.38162134805413', '139.49785831278245', '139.70515889123504', '1777000']\n",
      "Cleaned data has replaced the original file: /home/musiliandrew/Desktop/DataProjs/Finance/empirical/VZ.csv.\n",
      "Header: ['Ticker', 'Date', 'Open', 'High', 'Low', 'Close', 'Volume']\n",
      "First Line of Data: ['VZ', 'VZ', '2018-01-04', '35.92752456665039', '36.12560470579879', '35.40159159873182', '35.770427333879944', '12062800']\n",
      "Cleaned data has replaced the original file: /home/musiliandrew/Desktop/DataProjs/Finance/empirical/CFRUY.csv.\n",
      "Header: ['Ticker', 'Date', 'Open', 'High', 'Low', 'Close', 'Volume']\n",
      "First Line of Data: ['CFRUY', 'CFRUY', '2018-01-04', '7.6864914894104', '7.6864914894104', '7.652815765149047', '7.661234896937534', '537400']\n",
      "Cleaned data has replaced the original file: /home/musiliandrew/Desktop/DataProjs/Finance/empirical/GOOGL.csv.\n",
      "Header: ['Ticker', 'Date', 'Open', 'High', 'Low', 'Close', 'Volume']\n",
      "First Line of Data: ['GOOGL', 'GOOGL', '2018-01-04', '54.59010314941406', '55.00460091622372', '54.515377091244765', '54.656364562031825', '26052000']\n",
      "Cleaned data has replaced the original file: /home/musiliandrew/Desktop/DataProjs/Finance/empirical/BLK.csv.\n",
      "Header: ['Ticker', 'Date', 'Open', 'High', 'Low', 'Close', 'Volume']\n",
      "First Line of Data: ['BLK', 'BLK', '2018-01-04', '435.3639221191406', '435.5142921161598', '430.25113825982726', '431.4959101714016', '389800']\n",
      "Cleaned data has replaced the original file: /home/musiliandrew/Desktop/DataProjs/Finance/empirical/DELL.csv.\n",
      "Header: ['Ticker', 'Date', 'Open', 'High', 'Low', 'Close', 'Volume']\n",
      "First Line of Data: ['DELL', 'DELL', '2018-01-04', '22.208248138427734', '22.25277904814736', '21.81270050357398', '21.849373122184886', '4941498']\n",
      "Cleaned data has replaced the original file: /home/musiliandrew/Desktop/DataProjs/Finance/empirical/SLB.csv.\n",
      "Header: ['Ticker', 'Date', 'Open', 'High', 'Low', 'Close', 'Volume']\n",
      "First Line of Data: ['SLB', 'SLB', '2018-01-04', '59.94579315185547', '60.01960107686702', '58.43690064605861', '58.84692659956857', '12252300']\n",
      "Cleaned data has replaced the original file: /home/musiliandrew/Desktop/DataProjs/Finance/empirical/AZO.csv.\n",
      "Header: ['Ticker', 'Date', 'Open', 'High', 'Low', 'Close', 'Volume']\n",
      "First Line of Data: ['AZO', 'AZO', '2018-01-04', '761.260009765625', '769.1799926757812', '751.219970703125', '759.8900146484375', '641000']\n"
     ]
    },
    {
     "name": "stdout",
     "output_type": "stream",
     "text": [
      "Cleaned data has replaced the original file: /home/musiliandrew/Desktop/DataProjs/Finance/empirical/UBER.csv.\n",
      "Header: ['Ticker', 'Date', 'Open', 'High', 'Low', 'Close', 'Volume']\n",
      "First Line of Data: ['UBER', 'UBER', '2019-05-14', '39.959999084472656', '39.959999084472656', '36.849998474121094', '38.310001373291016', '46661100']\n",
      "Cleaned data has replaced the original file: /home/musiliandrew/Desktop/DataProjs/Finance/empirical/BNS.csv.\n",
      "Header: ['Ticker', 'Date', 'Open', 'High', 'Low', 'Close', 'Volume']\n",
      "First Line of Data: ['BNS', 'BNS', '2018-01-04', '45.27812576293945', '45.38869759301731', '44.93259670247871', '45.105361232709086', '721500']\n",
      "Cleaned data has replaced the original file: /home/musiliandrew/Desktop/DataProjs/Finance/empirical/ITW.csv.\n",
      "Header: ['Ticker', 'Date', 'Open', 'High', 'Low', 'Close', 'Volume']\n",
      "First Line of Data: ['ITW', 'ITW', '2018-01-04', '140.38047790527344', '141.0310561281322', '138.99483898537895', '139.40884565304958', '1392200']\n",
      "Cleaned data has replaced the original file: /home/musiliandrew/Desktop/DataProjs/Finance/empirical/CHTR.csv.\n",
      "Header: ['Ticker', 'Date', 'Open', 'High', 'Low', 'Close', 'Volume']\n",
      "First Line of Data: ['CHTR', 'CHTR', '2018-01-04', '349.7900085449219', '358.0', '346.9700012207031', '356.75', '1176400']\n",
      "Cleaned data has replaced the original file: /home/musiliandrew/Desktop/DataProjs/Finance/empirical/NVS.csv.\n",
      "Header: ['Ticker', 'Date', 'Open', 'High', 'Low', 'Close', 'Volume']\n",
      "First Line of Data: ['NVS', 'NVS', '2018-01-04', '58.7909049987793', '58.866611596294014', '58.61195520635675', '58.8597259819214', '931190']\n",
      "Cleaned data has replaced the original file: /home/musiliandrew/Desktop/DataProjs/Finance/empirical/APD.csv.\n",
      "Header: ['Ticker', 'Date', 'Open', 'High', 'Low', 'Close', 'Volume']\n",
      "First Line of Data: ['APD', 'APD', '2018-01-04', '141.17529296875', '141.85138194297656', '140.86259424216703', '141.39501640486068', '932400']\n",
      "Cleaned data has replaced the original file: /home/musiliandrew/Desktop/DataProjs/Finance/empirical/DASH.csv.\n",
      "Header: ['Ticker', 'Date', 'Open', 'High', 'Low', 'Close', 'Volume']\n",
      "First Line of Data: ['DASH', 'DASH', '2020-12-11', '175.0', '182.0', '168.25', '176.52000427246094', '4760600']\n",
      "Cleaned data has replaced the original file: /home/musiliandrew/Desktop/DataProjs/Finance/empirical/APP.csv.\n",
      "Header: ['Ticker', 'Date', 'Open', 'High', 'Low', 'Close', 'Volume']\n",
      "First Line of Data: ['APP', 'APP', '2021-04-19', '58.86000061035156', '61.0', '55.70500183105469', '60.0', '4642500']\n",
      "Cleaned data has replaced the original file: /home/musiliandrew/Desktop/DataProjs/Finance/empirical/WMB.csv.\n",
      "Header: ['Ticker', 'Date', 'Open', 'High', 'Low', 'Close', 'Volume']\n",
      "First Line of Data: ['WMB', 'WMB', '2018-01-04', '21.6934871673584', '21.726809988647922', '21.206966857900124', '21.366919959405454', '7298600']\n",
      "Cleaned data has replaced the original file: /home/musiliandrew/Desktop/DataProjs/Finance/empirical/CTAS.csv.\n",
      "Header: ['Ticker', 'Date', 'Open', 'High', 'Low', 'Close', 'Volume']\n",
      "First Line of Data: ['CTAS', 'CTAS', '2018-01-04', '33.70249938964844', '33.72759174808809', '33.127442776293016', '33.18390377357043', '2271200']\n",
      "Cleaned data has replaced the original file: /home/musiliandrew/Desktop/DataProjs/Finance/empirical/ISRG.csv.\n",
      "Header: ['Ticker', 'Date', 'Open', 'High', 'Low', 'Close', 'Volume']\n",
      "First Line of Data: ['ISRG', 'ISRG', '2018-01-04', '125.63999938964844', '129.82666015625', '125.02999877929688', '128.57666015625', '2696400']\n",
      "Cleaned data has replaced the original file: /home/musiliandrew/Desktop/DataProjs/Finance/empirical/COP.csv.\n",
      "Header: ['Ticker', 'Date', 'Open', 'High', 'Low', 'Close', 'Volume']\n",
      "First Line of Data: ['COP', 'COP', '2018-01-04', '45.4942741394043', '45.6539287406045', '44.77581625313812', '45.03126726931802', '4897200']\n",
      "Cleaned data has replaced the original file: /home/musiliandrew/Desktop/DataProjs/Finance/empirical/EOG.csv.\n",
      "Header: ['Ticker', 'Date', 'Open', 'High', 'Low', 'Close', 'Volume']\n",
      "First Line of Data: ['EOG', 'EOG', '2018-01-04', '85.32218170166016', '85.52212717367874', '84.39936637515663', '84.89153533157408', '2125000']\n",
      "Cleaned data has replaced the original file: /home/musiliandrew/Desktop/DataProjs/Finance/empirical/UNP.csv.\n",
      "Header: ['Ticker', 'Date', 'Open', 'High', 'Low', 'Close', 'Volume']\n",
      "First Line of Data: ['UNP', 'UNP', '2018-01-04', '116.59796905517578', '118.38385995121347', '116.3575619250559', '117.49090795259163', '4384900']\n",
      "Cleaned data has replaced the original file: /home/musiliandrew/Desktop/DataProjs/Finance/empirical/AMP.csv.\n",
      "Header: ['Ticker', 'Date', 'Open', 'High', 'Low', 'Close', 'Volume']\n",
      "First Line of Data: ['AMP', 'AMP', '2018-01-04', '147.07818603515625', '148.56899077249852', '147.0001820400103', '147.12152599651492', '870200']\n",
      "Cleaned data has replaced the original file: /home/musiliandrew/Desktop/DataProjs/Finance/empirical/IBN.csv.\n",
      "Header: ['Ticker', 'Date', 'Open', 'High', 'Low', 'Close', 'Volume']\n",
      "First Line of Data: ['IBN', 'IBN', '2018-01-04', '9.54744815826416', '9.634950380033233', '9.52800373520733', '9.596060606714238', '5512300']\n",
      "Cleaned data has replaced the original file: /home/musiliandrew/Desktop/DataProjs/Finance/empirical/HLT.csv.\n",
      "Header: ['Ticker', 'Date', 'Open', 'High', 'Low', 'Close', 'Volume']\n",
      "First Line of Data: ['HLT', 'HLT', '2018-01-04', '78.19735717773438', '79.15229390717381', '78.17787201087806', '78.79175512921472', '1548200']\n",
      "Cleaned data has replaced the original file: /home/musiliandrew/Desktop/DataProjs/Finance/empirical/KMI.csv.\n",
      "Header: ['Ticker', 'Date', 'Open', 'High', 'Low', 'Close', 'Volume']\n",
      "First Line of Data: ['KMI', 'KMI', '2018-01-04', '12.635666847229004', '12.6954886215903', '12.53596431255568', '12.622372837862825', '12718900']\n",
      "An error occurred while processing /home/musiliandrew/Desktop/DataProjs/Finance/empirical/GEV.csv: \n",
      "Cleaned data has replaced the original file: /home/musiliandrew/Desktop/DataProjs/Finance/empirical/WELL.csv.\n",
      "Header: ['Ticker', 'Date', 'Open', 'High', 'Low', 'Close', 'Volume']\n",
      "First Line of Data: ['WELL', 'WELL', '2018-01-04', '48.1993293762207', '49.26684410012206', '48.17629048069992', '49.23612361965016', '1993500']\n",
      "Cleaned data has replaced the original file: /home/musiliandrew/Desktop/DataProjs/Finance/empirical/CEG.csv.\n",
      "Header: ['Ticker', 'Date', 'Open', 'High', 'Low', 'Close', 'Volume']\n",
      "First Line of Data: ['CEG', 'CEG', '2022-01-21', '43.75382995605469', '48.56675199303233', '41.76060066653493', '41.80921529134115', '329500']\n",
      "Cleaned data has replaced the original file: /home/musiliandrew/Desktop/DataProjs/Finance/empirical/SONY.csv.\n",
      "Header: ['Ticker', 'Date', 'Open', 'High', 'Low', 'Close', 'Volume']\n",
      "First Line of Data: ['SONY', 'SONY', '2018-01-04', '8.22903060913086', '8.230772076716312', '8.150658754589013', '8.152401052631111', '3853000']\n",
      "Cleaned data has replaced the original file: /home/musiliandrew/Desktop/DataProjs/Finance/empirical/ENB.csv.\n",
      "Header: ['Ticker', 'Date', 'Open', 'High', 'Low', 'Close', 'Volume']\n",
      "First Line of Data: ['ENB', 'ENB', '2018-01-04', '27.27922821044922', '27.299300409058148', '27.091880883656827', '27.158789913963854', '2025700']\n",
      "Cleaned data has replaced the original file: /home/musiliandrew/Desktop/DataProjs/Finance/empirical/DLR.csv.\n",
      "Header: ['Ticker', 'Date', 'Open', 'High', 'Low', 'Close', 'Volume']\n",
      "First Line of Data: ['DLR', 'DLR', '2018-01-04', '87.64566802978516', '88.83998372763104', '87.4349088883118', '88.60580756549382', '1458500']\n",
      "Cleaned data has replaced the original file: /home/musiliandrew/Desktop/DataProjs/Finance/empirical/AMT.csv.\n",
      "Header: ['Ticker', 'Date', 'Open', 'High', 'Low', 'Close', 'Volume']\n",
      "First Line of Data: ['AMT', 'AMT', '2018-01-04', '117.72502899169922', '119.70665305485772', '117.6997327582847', '119.26816356425077', '1729600']\n",
      "Cleaned data has replaced the original file: /home/musiliandrew/Desktop/DataProjs/Finance/empirical/INTC.csv.\n",
      "Header: ['Ticker', 'Date', 'Open', 'High', 'Low', 'Close', 'Volume']\n",
      "First Line of Data: ['INTC', 'INTC', '2018-01-04', '37.29880142211914', '37.48349153661985', '35.83807721249705', '36.53486031544242', '89209100']\n",
      "Cleaned data has replaced the original file: /home/musiliandrew/Desktop/DataProjs/Finance/empirical/SRE.csv.\n",
      "Header: ['Ticker', 'Date', 'Open', 'High', 'Low', 'Close', 'Volume']\n",
      "First Line of Data: ['SRE', 'SRE', '2018-01-04', '42.945858001708984', '43.853391820458974', '42.71797561135148', '43.213719170163635', '7005400']\n",
      "Cleaned data has replaced the original file: /home/musiliandrew/Desktop/DataProjs/Finance/empirical/PM.csv.\n",
      "Header: ['Ticker', 'Date', 'Open', 'High', 'Low', 'Close', 'Volume']\n",
      "First Line of Data: ['PM', 'PM', '2018-01-04', '70.57379150390625', '71.26950069085125', '70.57379150390625', '71.09898317207454', '4170100']\n",
      "Cleaned data has replaced the original file: /home/musiliandrew/Desktop/DataProjs/Finance/empirical/SHOP.csv.\n",
      "Header: ['Ticker', 'Date', 'Open', 'High', 'Low', 'Close', 'Volume']\n",
      "First Line of Data: ['SHOP', 'SHOP', '2018-01-04', '10.994999885559082', '11.005999565124512', '10.720999717712402', '10.833000183105469', '11610000']\n",
      "Cleaned data has replaced the original file: /home/musiliandrew/Desktop/DataProjs/Finance/empirical/ORCL.csv.\n",
      "Header: ['Ticker', 'Date', 'Open', 'High', 'Low', 'Close', 'Volume']\n",
      "First Line of Data: ['ORCL', 'ORCL', '2018-01-04', '43.05428695678711', '43.06322158944901', '42.64322567705902', '42.884501665298735', '19815100']\n",
      "Cleaned data has replaced the original file: /home/musiliandrew/Desktop/DataProjs/Finance/empirical/LLY.csv.\n",
      "Header: ['Ticker', 'Date', 'Open', 'High', 'Low', 'Close', 'Volume']\n",
      "First Line of Data: ['LLY', 'LLY', '2018-01-04', '76.46350860595703', '76.7138625966156', '75.76611097131578', '76.2489262925556', '2462500']\n",
      "Cleaned data has replaced the original file: /home/musiliandrew/Desktop/DataProjs/Finance/empirical/IBKR.csv.\n",
      "Header: ['Ticker', 'Date', 'Open', 'High', 'Low', 'Close', 'Volume']\n",
      "First Line of Data: ['IBKR', 'IBKR', '2018-01-04', '57.068450927734375', '57.50928107912576', '56.541371081007064', '57.07803625817861', '1219800']\n",
      "Cleaned data has replaced the original file: /home/musiliandrew/Desktop/DataProjs/Finance/empirical/RCL.csv.\n",
      "Header: ['Ticker', 'Date', 'Open', 'High', 'Low', 'Close', 'Volume']\n",
      "First Line of Data: ['RCL', 'RCL', '2018-01-04', '115.1065444946289', '116.82665872594004', '114.54257461406007', '116.55407172989078', '1118100']\n",
      "Cleaned data has replaced the original file: /home/musiliandrew/Desktop/DataProjs/Finance/empirical/AMGN.csv.\n",
      "Header: ['Ticker', 'Date', 'Open', 'High', 'Low', 'Close', 'Volume']\n",
      "First Line of Data: ['AMGN', 'AMGN', '2018-01-04', '145.33349609375', '146.36939483355488', '144.6617783821928', '146.18326005891933', '2021100']\n",
      "Cleaned data has replaced the original file: /home/musiliandrew/Desktop/DataProjs/Finance/empirical/TMO.csv.\n",
      "Header: ['Ticker', 'Date', 'Open', 'High', 'Low', 'Close', 'Volume']\n",
      "First Line of Data: ['TMO', 'TMO', '2018-01-04', '195.50537109375', '196.1145547365281', '193.23571112985633', '193.70732508528346', '1566400']\n"
     ]
    },
    {
     "name": "stdout",
     "output_type": "stream",
     "text": [
      "Cleaned data has replaced the original file: /home/musiliandrew/Desktop/DataProjs/Finance/empirical/TJX.csv.\n",
      "Header: ['Ticker', 'Date', 'Open', 'High', 'Low', 'Close', 'Volume']\n",
      "First Line of Data: ['TJX', 'TJX', '2018-01-04', '34.185028076171875', '34.257538600476586', '33.659312079920575', '34.09438905637674', '7599800']\n",
      "Cleaned data has replaced the original file: /home/musiliandrew/Desktop/DataProjs/Finance/empirical/ICE.csv.\n",
      "Header: ['Ticker', 'Date', 'Open', 'High', 'Low', 'Close', 'Volume']\n",
      "First Line of Data: ['ICE', 'ICE', '2018-01-04', '65.9625244140625', '66.59248016336385', '64.47437585180039', '64.7391397614277', '3035000']\n",
      "Cleaned data has replaced the original file: /home/musiliandrew/Desktop/DataProjs/Finance/empirical/EQIX.csv.\n",
      "Header: ['Ticker', 'Date', 'Open', 'High', 'Low', 'Close', 'Volume']\n",
      "First Line of Data: ['EQIX', 'EQIX', '2018-01-04', '392.8290710449219', '395.0301934681457', '392.37304072051205', '394.0392374322157', '450500']\n",
      "Cleaned data has replaced the original file: /home/musiliandrew/Desktop/DataProjs/Finance/empirical/V.csv.\n",
      "Header: ['Ticker', 'Date', 'Open', 'High', 'Low', 'Close', 'Volume']\n",
      "First Line of Data: ['V', 'V', '2018-01-04', '110.60021209716797', '111.81978596209943', '110.55256953994292', '110.76218516095932', '7805300']\n",
      "Cleaned data has replaced the original file: /home/musiliandrew/Desktop/DataProjs/Finance/empirical/ADI.csv.\n",
      "Header: ['Ticker', 'Date', 'Open', 'High', 'Low', 'Close', 'Volume']\n",
      "First Line of Data: ['ADI', 'ADI', '2018-01-04', '80.02306365966797', '80.88201500544835', '79.97923674553606', '80.52265972034994', '1879600']\n",
      "Cleaned data has replaced the original file: /home/musiliandrew/Desktop/DataProjs/Finance/empirical/WMT.csv.\n",
      "Header: ['Ticker', 'Date', 'Open', 'High', 'Low', 'Close', 'Volume']\n",
      "First Line of Data: ['WMT', 'WMT', '2018-01-04', '29.472471237182617', '29.543530285236873', '29.285937424041283', '29.472471237182617', '20491200']\n",
      "Cleaned data has replaced the original file: /home/musiliandrew/Desktop/DataProjs/Finance/empirical/SHW.csv.\n",
      "Header: ['Ticker', 'Date', 'Open', 'High', 'Low', 'Close', 'Volume']\n",
      "First Line of Data: ['SHW', 'SHW', '2018-01-04', '129.3966827392578', '132.07169321210114', '129.36536705428583', '130.922132270904', '1669500']\n",
      "Cleaned data has replaced the original file: /home/musiliandrew/Desktop/DataProjs/Finance/empirical/HD.csv.\n",
      "Header: ['Ticker', 'Date', 'Open', 'High', 'Low', 'Close', 'Volume']\n",
      "First Line of Data: ['HD', 'HD', '2018-01-04', '160.77386474609375', '161.0776739482671', '159.0522878518385', '160.23376092857342', '4047400']\n",
      "Cleaned data has replaced the original file: /home/musiliandrew/Desktop/DataProjs/Finance/empirical/RY.csv.\n",
      "Header: ['Ticker', 'Date', 'Open', 'High', 'Low', 'Close', 'Volume']\n",
      "First Line of Data: ['RY', 'RY', '2018-01-04', '64.97652435302734', '65.1313813905998', '64.2177455440942', '64.41131241066579', '1016600']\n",
      "Cleaned data has replaced the original file: /home/musiliandrew/Desktop/DataProjs/Finance/empirical/OXY.csv.\n",
      "Header: ['Ticker', 'Date', 'Open', 'High', 'Low', 'Close', 'Volume']\n",
      "First Line of Data: ['OXY', 'OXY', '2018-01-04', '62.73230743408203', '62.757412725817396', '62.020963167162066', '62.43103116352629', '2706100']\n",
      "Cleaned data has replaced the original file: /home/musiliandrew/Desktop/DataProjs/Finance/empirical/MRVL.csv.\n",
      "Header: ['Ticker', 'Date', 'Open', 'High', 'Low', 'Close', 'Volume']\n",
      "First Line of Data: ['MRVL', 'MRVL', '2018-01-04', '22.339855194091797', '22.397111895912058', '21.78636888940863', '21.919968467041823', '9221200']\n",
      "Cleaned data has replaced the original file: /home/musiliandrew/Desktop/DataProjs/Finance/empirical/RCIT.csv.\n",
      "Header: ['Ticker', 'Date', 'Open', 'High', 'Low', 'Close', 'Volume']\n",
      "First Line of Data: ['RCIT', 'RCIT', '2018-01-04', '1461.739990234375', '1485.3299560546875', '1461.719970703125', '1485.3299560546875', '0']\n",
      "Cleaned data has replaced the original file: /home/musiliandrew/Desktop/DataProjs/Finance/empirical/MDLZ.csv.\n",
      "Header: ['Ticker', 'Date', 'Open', 'High', 'Low', 'Close', 'Volume']\n",
      "First Line of Data: ['MDLZ', 'MDLZ', '2018-01-04', '36.33490753173828', '36.64989996099664', '36.16464021271952', '36.36896164505783', '8718800']\n",
      "Cleaned data has replaced the original file: /home/musiliandrew/Desktop/DataProjs/Finance/empirical/SHEL.csv.\n",
      "Header: ['Ticker', 'Date', 'Open', 'High', 'Low', 'Close', 'Volume']\n",
      "First Line of Data: ['SHEL', 'SHEL', '2018-01-04', '50.327354431152344', '50.45885304106028', '50.115495249987994', '50.13010930310454', '2638891']\n",
      "Cleaned data has replaced the original file: /home/musiliandrew/Desktop/DataProjs/Finance/empirical/NOW.csv.\n",
      "Header: ['Ticker', 'Date', 'Open', 'High', 'Low', 'Close', 'Volume']\n",
      "First Line of Data: ['NOW', 'NOW', '2018-01-04', '133.85000610351562', '135.08999633789062', '133.77999877929688', '133.8800048828125', '1361900']\n",
      "Cleaned data has replaced the original file: /home/musiliandrew/Desktop/DataProjs/Finance/empirical/CARR.csv.\n",
      "Header: ['Ticker', 'Date', 'Open', 'High', 'Low', 'Close', 'Volume']\n",
      "First Line of Data: ['CARR', 'CARR', '2020-03-23', '10.825389862060547', '11.960461108971174', '10.78786688260145', '11.960461108971174', '18700']\n",
      "Cleaned data has replaced the original file: /home/musiliandrew/Desktop/DataProjs/Finance/empirical/MMM.csv.\n",
      "Header: ['Ticker', 'Date', 'Open', 'High', 'Low', 'Close', 'Volume']\n",
      "First Line of Data: ['MMM', 'MMM', '2018-01-04', '153.67491149902344', '154.14486453046928', '152.23286142680638', '152.5740622952659', '2682748']\n",
      "Cleaned data has replaced the original file: /home/musiliandrew/Desktop/DataProjs/Finance/empirical/CL.csv.\n",
      "Header: ['Ticker', 'Date', 'Open', 'High', 'Low', 'Close', 'Volume']\n",
      "First Line of Data: ['CL', 'CL', '2018-01-04', '63.77682876586914', '64.3102049238084', '63.480508678125105', '63.53977269567391', '2501700']\n",
      "Cleaned data has replaced the original file: /home/musiliandrew/Desktop/DataProjs/Finance/empirical/CSCO.csv.\n",
      "Header: ['Ticker', 'Date', 'Open', 'High', 'Low', 'Close', 'Volume']\n",
      "First Line of Data: ['CSCO', 'CSCO', '2018-01-04', '31.510583877563477', '31.955077243706715', '31.462092515048358', '31.559072157151355', '20731400']\n",
      "Cleaned data has replaced the original file: /home/musiliandrew/Desktop/DataProjs/Finance/empirical/TRI.csv.\n",
      "Header: ['Ticker', 'Date', 'Open', 'High', 'Low', 'Close', 'Volume']\n",
      "First Line of Data: ['TRI', 'TRI', '2018-01-04', '37.51334762573242', '37.547428213766196', '37.24923119373007', '37.36851000174452', '914900']\n",
      "Cleaned data has replaced the original file: /home/musiliandrew/Desktop/DataProjs/Finance/empirical/HDB.csv.\n",
      "Header: ['Ticker', 'Date', 'Open', 'High', 'Low', 'Close', 'Volume']\n",
      "First Line of Data: ['HDB', 'HDB', '2018-01-04', '48.68659973144531', '49.25473858607977', '48.65289673470221', '49.014001845528746', '822200']\n",
      "Cleaned data has replaced the original file: /home/musiliandrew/Desktop/DataProjs/Finance/empirical/CDNS.csv.\n",
      "Header: ['Ticker', 'Date', 'Open', 'High', 'Low', 'Close', 'Volume']\n",
      "First Line of Data: ['CDNS', 'CDNS', '2018-01-04', '43.58000183105469', '43.93000030517578', '43.08000183105469', '43.189998626708984', '3178400']\n",
      "Cleaned data has replaced the original file: /home/musiliandrew/Desktop/DataProjs/Finance/empirical/FMX.csv.\n",
      "Header: ['Ticker', 'Date', 'Open', 'High', 'Low', 'Close', 'Volume']\n",
      "First Line of Data: ['FMX', 'FMX', '2018-01-04', '82.43651580810547', '83.83212929807227', '82.2891545361132', '83.11265022168601', '230200']\n",
      "Cleaned data has replaced the original file: /home/musiliandrew/Desktop/DataProjs/Finance/empirical/TXN.csv.\n",
      "Header: ['Ticker', 'Date', 'Open', 'High', 'Low', 'Close', 'Volume']\n",
      "First Line of Data: ['TXN', 'TXN', '2018-01-04', '89.33680725097656', '90.09578498110358', '89.13881442878655', '89.4935549778361', '5460400']\n",
      "Cleaned data has replaced the original file: /home/musiliandrew/Desktop/DataProjs/Finance/empirical/CVX.csv.\n",
      "Header: ['Ticker', 'Date', 'Open', 'High', 'Low', 'Close', 'Volume']\n",
      "First Line of Data: ['CVX', 'CVX', '2018-01-04', '94.90735626220703', '95.08515882825252', '94.24802062295885', '94.78882121817671', '4598300']\n",
      "Cleaned data has replaced the original file: /home/musiliandrew/Desktop/DataProjs/Finance/empirical/ELV.csv.\n",
      "Header: ['Ticker', 'Date', 'Open', 'High', 'Low', 'Close', 'Volume']\n",
      "First Line of Data: ['ELV', 'ELV', '2018-01-04', '211.3609161376953', '212.46265996700743', '210.12144557382362', '210.80086103979198', '1063000']\n",
      "Cleaned data has replaced the original file: /home/musiliandrew/Desktop/DataProjs/Finance/empirical/VRTX.csv.\n",
      "Header: ['Ticker', 'Date', 'Open', 'High', 'Low', 'Close', 'Volume']\n",
      "First Line of Data: ['VRTX', 'VRTX', '2018-01-04', '153.07000732421875', '153.97000122070312', '151.6300048828125', '153.38999938964844', '1345100']\n",
      "Cleaned data has replaced the original file: /home/musiliandrew/Desktop/DataProjs/Finance/empirical/AXP.csv.\n",
      "Header: ['Ticker', 'Date', 'Open', 'High', 'Low', 'Close', 'Volume']\n",
      "First Line of Data: ['AXP', 'AXP', '2018-01-04', '91.56407165527344', '92.29041313136565', '90.71062838680663', '90.81957475938648', '3122000']\n",
      "Cleaned data has replaced the original file: /home/musiliandrew/Desktop/DataProjs/Finance/empirical/UPS.csv.\n",
      "Header: ['Ticker', 'Date', 'Open', 'High', 'Low', 'Close', 'Volume']\n",
      "First Line of Data: ['UPS', 'UPS', '2018-01-04', '100.15769958496094', '101.51170883483145', '99.7483430626796', '99.9845107490722', '5473100']\n",
      "Cleaned data has replaced the original file: /home/musiliandrew/Desktop/DataProjs/Finance/empirical/WFC.csv.\n",
      "Header: ['Ticker', 'Date', 'Open', 'High', 'Low', 'Close', 'Volume']\n",
      "First Line of Data: ['WFC', 'WFC', '2018-01-04', '50.96886444091797', '51.55762505549317', '50.62541788965331', '50.68265846163455', '18740500']\n",
      "Cleaned data has replaced the original file: /home/musiliandrew/Desktop/DataProjs/Finance/empirical/MMC.csv.\n",
      "Header: ['Ticker', 'Date', 'Open', 'High', 'Low', 'Close', 'Volume']\n",
      "First Line of Data: ['MMC', 'MMC', '2018-01-04', '73.50748443603516', '73.94513339118862', '72.92692580571658', '72.98944708502422', '1600700']\n",
      "Cleaned data has replaced the original file: /home/musiliandrew/Desktop/DataProjs/Finance/empirical/SNY.csv.\n",
      "Header: ['Ticker', 'Date', 'Open', 'High', 'Low', 'Close', 'Volume']\n",
      "First Line of Data: ['SNY', 'SNY', '2018-01-04', '33.15476608276367', '33.47196290651235', '33.13210710893276', '33.358676680323015', '1160100']\n",
      "Cleaned data has replaced the original file: /home/musiliandrew/Desktop/DataProjs/Finance/empirical/CVS.csv.\n",
      "Header: ['Ticker', 'Date', 'Open', 'High', 'Low', 'Close', 'Volume']\n",
      "First Line of Data: ['CVS', 'CVS', '2018-01-04', '60.69976043701172', '61.94397300273274', '60.33619451189191', '60.74824041397193', '13715500']\n",
      "Cleaned data has replaced the original file: /home/musiliandrew/Desktop/DataProjs/Finance/empirical/HCA.csv.\n",
      "Header: ['Ticker', 'Date', 'Open', 'High', 'Low', 'Close', 'Volume']\n",
      "First Line of Data: ['HCA', 'HCA', '2018-01-04', '80.50391387939453', '81.23440428450542', '79.9794606952408', '80.85979180505045', '2750300']\n",
      "Cleaned data has replaced the original file: /home/musiliandrew/Desktop/DataProjs/Finance/empirical/CSX.csv.\n",
      "Header: ['Ticker', 'Date', 'Open', 'High', 'Low', 'Close', 'Volume']\n",
      "First Line of Data: ['CSX', 'CSX', '2018-01-04', '17.2705135345459', '17.629428851196757', '17.22792997789525', '17.44388832490656', '17520900']\n",
      "Cleaned data has replaced the original file: /home/musiliandrew/Desktop/DataProjs/Finance/empirical/QQQ.csv.\n",
      "Header: ['Ticker', 'Date', 'Open', 'High', 'Low', 'Close', 'Volume']\n",
      "First Line of Data: ['QQQ', 'QQQ', '2018-01-04', '152.910400390625', '153.3682404505187', '152.69102081778658', '153.1679417918972', '24776100']\n",
      "Cleaned data has replaced the original file: /home/musiliandrew/Desktop/DataProjs/Finance/empirical/CME.csv.\n",
      "Header: ['Ticker', 'Date', 'Open', 'High', 'Low', 'Close', 'Volume']\n",
      "First Line of Data: ['CME', 'CME', '2018-01-04', '115.11824798583984', '116.40353667729697', '114.29752517291455', '114.81628370911449', '1551000']\n",
      "Cleaned data has replaced the original file: /home/musiliandrew/Desktop/DataProjs/Finance/empirical/CRWD.csv.\n",
      "Header: ['Ticker', 'Date', 'Open', 'High', 'Low', 'Close', 'Volume']\n",
      "First Line of Data: ['CRWD', 'CRWD', '2019-06-14', '64.16000366210938', '70.79000091552734', '63.02000045776367', '69.77999877929688', '6264200']\n",
      "Cleaned data has replaced the original file: /home/musiliandrew/Desktop/DataProjs/Finance/empirical/WDAY.csv.\n",
      "Header: ['Ticker', 'Date', 'Open', 'High', 'Low', 'Close', 'Volume']\n",
      "First Line of Data: ['WDAY', 'WDAY', '2018-01-04', '109.25', '110.19000244140625', '107.30999755859375', '107.54000091552734', '2774000']\n"
     ]
    },
    {
     "name": "stdout",
     "output_type": "stream",
     "text": [
      "Cleaned data has replaced the original file: /home/musiliandrew/Desktop/DataProjs/Finance/empirical/KO.csv.\n",
      "Header: ['Ticker', 'Date', 'Open', 'High', 'Low', 'Close', 'Volume']\n",
      "First Line of Data: ['KO', 'KO', '2018-01-04', '36.973167419433594', '37.085498597089966', '36.46767405918488', '36.55593514471347', '12709400']\n",
      "Cleaned data has replaced the original file: /home/musiliandrew/Desktop/DataProjs/Finance/empirical/AJG.csv.\n",
      "Header: ['Ticker', 'Date', 'Open', 'High', 'Low', 'Close', 'Volume']\n",
      "First Line of Data: ['AJG', 'AJG', '2018-01-04', '56.9660530090332', '57.254397191669206', '56.443427029671824', '56.73177121230783', '931600']\n",
      "Cleaned data has replaced the original file: /home/musiliandrew/Desktop/DataProjs/Finance/empirical/BTI.csv.\n",
      "Header: ['Ticker', 'Date', 'Open', 'High', 'Low', 'Close', 'Volume']\n",
      "First Line of Data: ['BTI', 'BTI', '2018-01-04', '38.75397491455078', '39.09294908494228', '38.736442536581514', '38.929307612034854', '1259300']\n",
      "Cleaned data has replaced the original file: /home/musiliandrew/Desktop/DataProjs/Finance/empirical/AIQUY.csv.\n",
      "Header: ['Ticker', 'Date', 'Open', 'High', 'Low', 'Close', 'Volume']\n",
      "First Line of Data: ['AIQUY', 'AIQUY', '2018-01-04', '20.364471435546875', '20.450795154312658', '20.340929950282742', '20.348777112037453', '66770']\n",
      "Cleaned data has replaced the original file: /home/musiliandrew/Desktop/DataProjs/Finance/empirical/UBS.csv.\n",
      "Header: ['Ticker', 'Date', 'Open', 'High', 'Low', 'Close', 'Volume']\n",
      "First Line of Data: ['UBS', 'UBS', '2018-01-04', '15.244001388549805', '15.300311436155994', '15.21584636474671', '15.244001388549805', '2432900']\n",
      "Cleaned data has replaced the original file: /home/musiliandrew/Desktop/DataProjs/Finance/empirical/TD.csv.\n",
      "Header: ['Ticker', 'Date', 'Open', 'High', 'Low', 'Close', 'Volume']\n",
      "First Line of Data: ['TD', 'TD', '2018-01-04', '44.417213439941406', '44.46175504589788', '44.0014738483839', '44.120256184258295', '1233800']\n",
      "Cleaned data has replaced the original file: /home/musiliandrew/Desktop/DataProjs/Finance/empirical/APH.csv.\n",
      "Header: ['Ticker', 'Date', 'Open', 'High', 'Low', 'Close', 'Volume']\n",
      "First Line of Data: ['APH', 'APH', '2018-01-04', '20.692752838134766', '20.84217571523004', '20.692752838134766', '20.779138662592835', '5593200']\n",
      "Cleaned data has replaced the original file: /home/musiliandrew/Desktop/DataProjs/Finance/empirical/TDG.csv.\n",
      "Header: ['Ticker', 'Date', 'Open', 'High', 'Low', 'Close', 'Volume']\n",
      "First Line of Data: ['TDG', 'TDG', '2018-01-04', '216.42984008789062', '216.9137340872355', '213.08233165208054', '215.55726220973835', '636800']\n",
      "Cleaned data has replaced the original file: /home/musiliandrew/Desktop/DataProjs/Finance/empirical/MDT.csv.\n",
      "Header: ['Ticker', 'Date', 'Open', 'High', 'Low', 'Close', 'Volume']\n",
      "First Line of Data: ['MDT', 'MDT', '2018-01-04', '70.8760986328125', '71.53329393250196', '70.05038759716545', '71.15413834776093', '5943200']\n",
      "Cleaned data has replaced the original file: /home/musiliandrew/Desktop/DataProjs/Finance/empirical/NKE.csv.\n",
      "Header: ['Ticker', 'Date', 'Open', 'High', 'Low', 'Close', 'Volume']\n",
      "First Line of Data: ['NKE', 'NKE', '2018-01-04', '58.60451889038086', '58.70613511022402', '57.78235641919316', '58.56757042093102', '5780500']\n",
      "Cleaned data has replaced the original file: /home/musiliandrew/Desktop/DataProjs/Finance/empirical/ARM.csv.\n",
      "Header: ['Ticker', 'Date', 'Open', 'High', 'Low', 'Close', 'Volume']\n",
      "First Line of Data: ['ARM', 'ARM', '2023-09-18', '58.0', '58.74100112915039', '55.02000045776367', '57.95000076293945', '34571900']\n",
      "Cleaned data has replaced the original file: /home/musiliandrew/Desktop/DataProjs/Finance/empirical/CAT.csv.\n",
      "Header: ['Ticker', 'Date', 'Open', 'High', 'Low', 'Close', 'Volume']\n",
      "First Line of Data: ['CAT', 'CAT', '2018-01-04', '135.88819885253906', '136.0075181237914', '133.82567258956266', '134.56715570342902', '4865800']\n",
      "Cleaned data has replaced the original file: /home/musiliandrew/Desktop/DataProjs/Finance/empirical/ALL.csv.\n",
      "Header: ['Ticker', 'Date', 'Open', 'High', 'Low', 'Close', 'Volume']\n",
      "First Line of Data: ['ALL', 'ALL', '2018-01-04', '85.5024185180664', '87.13951860573607', '85.40911179248334', '86.74084559125286', '2017400']\n",
      "Cleaned data has replaced the original file: /home/musiliandrew/Desktop/DataProjs/Finance/empirical/SAP.csv.\n",
      "Header: ['Ticker', 'Date', 'Open', 'High', 'Low', 'Close', 'Volume']\n",
      "First Line of Data: ['SAP', 'SAP', '2018-01-04', '102.32164764404297', '102.54398933228703', '102.01036385223743', '102.0815148209547', '539300']\n",
      "Cleaned data has replaced the original file: /home/musiliandrew/Desktop/DataProjs/Finance/empirical/KLAC.csv.\n",
      "Header: ['Ticker', 'Date', 'Open', 'High', 'Low', 'Close', 'Volume']\n",
      "First Line of Data: ['KLAC', 'KLAC', '2018-01-04', '95.9089126586914', '97.62094010938786', '94.82998276705985', '96.25666664016912', '1925500']\n",
      "Cleaned data has replaced the original file: /home/musiliandrew/Desktop/DataProjs/Finance/empirical/DIS.csv.\n",
      "Header: ['Ticker', 'Date', 'Open', 'High', 'Low', 'Close', 'Volume']\n",
      "First Line of Data: ['DIS', 'DIS', '2018-01-04', '107.8123550415039', '108.55204272732729', '107.23596665048191', '108.50400791838118', '7417400']\n",
      "Cleaned data has replaced the original file: /home/musiliandrew/Desktop/DataProjs/Finance/empirical/PG.csv.\n",
      "Header: ['Ticker', 'Date', 'Open', 'High', 'Low', 'Close', 'Volume']\n",
      "First Line of Data: ['PG', 'PG', '2018-01-04', '75.71988677978516', '76.20984571547326', '75.24653393692327', '75.42923263693753', '6322500']\n",
      "Cleaned data has replaced the original file: /home/musiliandrew/Desktop/DataProjs/Finance/empirical/AON.csv.\n",
      "Header: ['Ticker', 'Date', 'Open', 'High', 'Low', 'Close', 'Volume']\n",
      "First Line of Data: ['AON', 'AON', '2018-01-04', '127.08819580078125', '128.12990291062297', '125.61479850558945', '126.27172769198013', '1452400']\n",
      "Cleaned data has replaced the original file: /home/musiliandrew/Desktop/DataProjs/Finance/empirical/FANG.csv.\n",
      "Header: ['Ticker', 'Date', 'Open', 'High', 'Low', 'Close', 'Volume']\n",
      "First Line of Data: ['FANG', 'FANG', '2018-01-04', '103.48484802246094', '103.6995546312306', '101.36950133542692', '102.68164581562917', '978500']\n",
      "Cleaned data has replaced the original file: /home/musiliandrew/Desktop/DataProjs/Finance/empirical/BX.csv.\n",
      "Header: ['Ticker', 'Date', 'Open', 'High', 'Low', 'Close', 'Volume']\n",
      "First Line of Data: ['BX', 'BX', '2018-01-04', '24.80717658996582', '24.986183334405712', '24.725134795863866', '24.78480181386671', '3939300']\n",
      "Cleaned data has replaced the original file: /home/musiliandrew/Desktop/DataProjs/Finance/empirical/NVDA.csv.\n",
      "Header: ['Ticker', 'Date', 'Open', 'High', 'Low', 'Close', 'Volume']\n",
      "First Line of Data: ['NVDA', 'NVDA', '2018-01-04', '5.2820329666137695', '5.392328034116821', '5.25977612923325', '5.335696821265977', '583268000']\n",
      "Cleaned data has replaced the original file: /home/musiliandrew/Desktop/DataProjs/Finance/empirical/CRM.csv.\n",
      "Header: ['Ticker', 'Date', 'Open', 'High', 'Low', 'Close', 'Volume']\n",
      "First Line of Data: ['CRM', 'CRM', '2018-01-04', '106.08746337890625', '107.06202346460634', '105.18251418596915', '105.41124002620084', '4540200']\n",
      "Cleaned data has replaced the original file: /home/musiliandrew/Desktop/DataProjs/Finance/empirical/AEP.csv.\n",
      "Header: ['Ticker', 'Date', 'Open', 'High', 'Low', 'Close', 'Volume']\n",
      "First Line of Data: ['AEP', 'AEP', '2018-01-04', '55.29170608520508', '56.09439550120024', '55.26832787859278', '55.860601543822646', '3392100']\n",
      "Cleaned data has replaced the original file: /home/musiliandrew/Desktop/DataProjs/Finance/empirical/BABA.csv.\n",
      "Header: ['Ticker', 'Date', 'Open', 'High', 'Low', 'Close', 'Volume']\n",
      "First Line of Data: ['BABA', 'BABA', '2018-01-04', '179.348815917969', '181.316029573281', '178.112646655196', '179.532295402165', '19473800']\n",
      "Cleaned data has replaced the original file: /home/musiliandrew/Desktop/DataProjs/Finance/empirical/PYPL.csv.\n",
      "Header: ['Ticker', 'Date', 'Open', 'High', 'Low', 'Close', 'Volume']\n",
      "First Line of Data: ['PYPL', 'PYPL', '2018-01-04', '76.7300033569336', '77.92900085449219', '76.26000213623047', '77.33000183105469', '8650000']\n",
      "Cleaned data has replaced the original file: /home/musiliandrew/Desktop/DataProjs/Finance/empirical/USB.csv.\n",
      "Header: ['Ticker', 'Date', 'Open', 'High', 'Low', 'Close', 'Volume']\n",
      "First Line of Data: ['USB', 'USB', '2018-01-04', '41.88233947753906', '42.29369818708077', '41.59286450720183', '41.66142429212545', '7583600']\n",
      "Cleaned data has replaced the original file: /home/musiliandrew/Desktop/DataProjs/Finance/empirical/MS.csv.\n",
      "Header: ['Ticker', 'Date', 'Open', 'High', 'Low', 'Close', 'Volume']\n",
      "First Line of Data: ['MS', 'MS', '2018-01-04', '42.97505569458008', '43.298600275234186', '42.4735565033605', '42.7081284071007', '8678800']\n",
      "Cleaned data has replaced the original file: /home/musiliandrew/Desktop/DataProjs/Finance/empirical/PEP.csv.\n",
      "Header: ['Ticker', 'Date', 'Open', 'High', 'Low', 'Close', 'Volume']\n",
      "First Line of Data: ['PEP', 'PEP', '2018-01-04', '96.33429718017578', '96.96930633290309', '95.73999007934624', '95.90281692056408', '3147000']\n",
      "Cleaned data has replaced the original file: /home/musiliandrew/Desktop/DataProjs/Finance/empirical/AFL.csv.\n",
      "Header: ['Ticker', 'Date', 'Open', 'High', 'Low', 'Close', 'Volume']\n",
      "First Line of Data: ['AFL', 'AFL', '2018-01-04', '37.767356872558594', '38.0639356782012', '37.4792503617344', '37.52585606440203', '3323200']\n",
      "Cleaned data has replaced the original file: /home/musiliandrew/Desktop/DataProjs/Finance/empirical/EMR.csv.\n",
      "Header: ['Ticker', 'Date', 'Open', 'High', 'Low', 'Close', 'Volume']\n",
      "First Line of Data: ['EMR', 'EMR', '2018-01-04', '60.02983856201172', '60.29854090631443', '59.794724811543', '60.03823731206252', '2806400']\n",
      "Cleaned data has replaced the original file: /home/musiliandrew/Desktop/DataProjs/Finance/empirical/NXPI.csv.\n",
      "Header: ['Ticker', 'Date', 'Open', 'High', 'Low', 'Close', 'Volume']\n",
      "First Line of Data: ['NXPI', 'NXPI', '2018-01-04', '107.19950103759766', '107.61785745724787', '107.00851268984798', '107.39957911234288', '2153500']\n",
      "Cleaned data has replaced the original file: /home/musiliandrew/Desktop/DataProjs/Finance/empirical/NOC.csv.\n",
      "Header: ['Ticker', 'Date', 'Open', 'High', 'Low', 'Close', 'Volume']\n",
      "First Line of Data: ['NOC', 'NOC', '2018-01-04', '275.5191345214844', '275.66200949231154', '272.8938648400906', '273.76002561593293', '582400']\n",
      "Cleaned data has replaced the original file: /home/musiliandrew/Desktop/DataProjs/Finance/empirical/NEE.csv.\n",
      "Header: ['Ticker', 'Date', 'Open', 'High', 'Low', 'Close', 'Volume']\n",
      "First Line of Data: ['NEE', 'NEE', '2018-01-04', '31.910120010375977', '32.33482643415289', '31.82771419011654', '32.01365362672133', '13629200']\n",
      "Cleaned data has replaced the original file: /home/musiliandrew/Desktop/DataProjs/Finance/empirical/ABNB.csv.\n",
      "Header: ['Ticker', 'Date', 'Open', 'High', 'Low', 'Close', 'Volume']\n",
      "First Line of Data: ['ABNB', 'ABNB', '2020-12-14', '130.0', '135.3000030517578', '125.16000366210938', '135.0', '16966100']\n",
      "Cleaned data has replaced the original file: /home/musiliandrew/Desktop/DataProjs/Finance/empirical/HSBC.csv.\n",
      "Header: ['Ticker', 'Date', 'Open', 'High', 'Low', 'Close', 'Volume']\n",
      "First Line of Data: ['HSBC', 'HSBC', '2018-01-04', '35.25606918334961', '35.28980265270997', '35.10090500360103', '35.114397876644695', '2857400']\n",
      "Cleaned data has replaced the original file: /home/musiliandrew/Desktop/DataProjs/Finance/empirical/GE.csv.\n",
      "Header: ['Ticker', 'Date', 'Open', 'High', 'Low', 'Close', 'Volume']\n",
      "First Line of Data: ['GE', 'GE', '2018-01-04', '84.13184356689453', '84.54047176557756', '83.0875771253774', '83.45079897842545', '17225995']\n",
      "Cleaned data has replaced the original file: /home/musiliandrew/Desktop/DataProjs/Finance/empirical/TMUS.csv.\n",
      "Header: ['Ticker', 'Date', 'Open', 'High', 'Low', 'Close', 'Volume']\n",
      "First Line of Data: ['TMUS', 'TMUS', '2018-01-04', '61.814266204833984', '62.795445033482146', '61.69652579340826', '62.687514763466815', '2384400']\n"
     ]
    },
    {
     "name": "stdout",
     "output_type": "stream",
     "text": [
      "Cleaned data has replaced the original file: /home/musiliandrew/Desktop/DataProjs/Finance/empirical/SPOT.csv.\n",
      "Header: ['Ticker', 'Date', 'Open', 'High', 'Low', 'Close', 'Volume']\n",
      "First Line of Data: ['SPOT', 'SPOT', '2018-04-05', '143.99000549316406', '152.41000366210938', '141.25', '149.22999572753906', '7372800']\n",
      "Cleaned data has replaced the original file: /home/musiliandrew/Desktop/DataProjs/Finance/empirical/MCO.csv.\n",
      "Header: ['Ticker', 'Date', 'Open', 'High', 'Low', 'Close', 'Volume']\n",
      "First Line of Data: ['MCO', 'MCO', '2018-01-04', '142.2975616455078', '143.38637110912248', '140.0917560721624', '140.0917560721624', '778200']\n",
      "Cleaned data has replaced the original file: /home/musiliandrew/Desktop/DataProjs/Finance/empirical/AMZN.csv.\n",
      "Header: ['Ticker', 'Date', 'Open', 'High', 'Low', 'Close', 'Volume']\n",
      "First Line of Data: ['AMZN', 'AMZN', '2018-01-04', '60.47949981689453', '60.79349899291992', '60.233001708984375', '60.25', '60442000']\n",
      "Cleaned data has replaced the original file: /home/musiliandrew/Desktop/DataProjs/Finance/empirical/MUFG.csv.\n",
      "Header: ['Ticker', 'Date', 'Open', 'High', 'Low', 'Close', 'Volume']\n",
      "First Line of Data: ['MUFG', 'MUFG', '2018-01-04', '7.579999923706055', '7.599999904632568', '7.5', '7.519999980926514', '1553500']\n",
      "Cleaned data has replaced the original file: /home/musiliandrew/Desktop/DataProjs/Finance/empirical/DHR.csv.\n",
      "Header: ['Ticker', 'Date', 'Open', 'High', 'Low', 'Close', 'Volume']\n",
      "First Line of Data: ['DHR', 'DHR', '2018-01-04', '80.89346313476562', '81.57244658899707', '80.80752232237835', '80.89346313476562', '2397226']\n",
      "Cleaned data has replaced the original file: /home/musiliandrew/Desktop/DataProjs/Finance/empirical/BSX.csv.\n",
      "Header: ['Ticker', 'Date', 'Open', 'High', 'Low', 'Close', 'Volume']\n",
      "First Line of Data: ['BSX', 'BSX', '2018-01-04', '25.31999969482422', '25.610000610351562', '25.209999084472656', '25.399999618530273', '7928600']\n",
      "Cleaned data has replaced the original file: /home/musiliandrew/Desktop/DataProjs/Finance/empirical/MAR.csv.\n",
      "Header: ['Ticker', 'Date', 'Open', 'High', 'Low', 'Close', 'Volume']\n",
      "First Line of Data: ['MAR', 'MAR', '2018-01-04', '128.20425415039062', '129.57415674029735', '127.49568235396333', '129.29073955447052', '3187000']\n",
      "Cleaned data has replaced the original file: /home/musiliandrew/Desktop/DataProjs/Finance/empirical/TTE.csv.\n",
      "Header: ['Ticker', 'Date', 'Open', 'High', 'Low', 'Close', 'Volume']\n",
      "First Line of Data: ['TTE', 'TTE', '2018-01-04', '37.53392028808594', '37.612374047988204', '37.403162358915445', '37.44892726002511', '2864200']\n",
      "Cleaned data has replaced the original file: /home/musiliandrew/Desktop/DataProjs/Finance/empirical/COF.csv.\n",
      "Header: ['Ticker', 'Date', 'Open', 'High', 'Low', 'Close', 'Volume']\n",
      "First Line of Data: ['COF', 'COF', '2018-01-04', '89.43804168701172', '90.09062148725954', '87.91243103042063', '88.50327430833643', '2149100']\n",
      "Cleaned data has replaced the original file: /home/musiliandrew/Desktop/DataProjs/Finance/empirical/TFC.csv.\n",
      "Header: ['Ticker', 'Date', 'Open', 'High', 'Low', 'Close', 'Volume']\n",
      "First Line of Data: ['TFC', 'TFC', '2018-01-04', '38.08749771118164', '38.512597813036386', '37.826472331082506', '37.826472331082506', '3809900']\n",
      "Cleaned data has replaced the original file: /home/musiliandrew/Desktop/DataProjs/Finance/empirical/MCD.csv.\n",
      "Header: ['Ticker', 'Date', 'Open', 'High', 'Low', 'Close', 'Volume']\n",
      "First Line of Data: ['MCD', 'MCD', '2018-01-04', '147.33522033691406', '147.69996020392406', '146.51244920225506', '146.94504795016826', '2756400']\n",
      "Cleaned data has replaced the original file: /home/musiliandrew/Desktop/DataProjs/Finance/empirical/ASML.csv.\n",
      "Header: ['Ticker', 'Date', 'Open', 'High', 'Low', 'Close', 'Volume']\n",
      "First Line of Data: ['ASML', 'ASML', '2018-01-04', '168.55380249023438', '169.50498145941597', '167.29488873016476', '168.31135124401712', '915600']\n",
      "Cleaned data has replaced the original file: /home/musiliandrew/Desktop/DataProjs/Finance/empirical/ORLY.csv.\n",
      "Header: ['Ticker', 'Date', 'Open', 'High', 'Low', 'Close', 'Volume']\n",
      "First Line of Data: ['ORLY', 'ORLY', '2018-01-04', '257.67999267578125', '261.2200012207031', '254.22000122070312', '255.55999755859375', '892200']\n",
      "Cleaned data has replaced the original file: /home/musiliandrew/Desktop/DataProjs/Finance/empirical/AAPL.csv.\n",
      "Header: ['Ticker', 'Date', 'Open', 'High', 'Low', 'Close', 'Volume']\n",
      "First Line of Data: ['AAPL', 'AAPL', 'AAPL', '2018-01-08', '41.01602554321289', '41.312440599522134', '40.917216934796684', '41.01602554321289', '82271200']\n",
      "Cleaned data has replaced the original file: /home/musiliandrew/Desktop/DataProjs/Finance/empirical/SCHW.csv.\n",
      "Header: ['Ticker', 'Date', 'Open', 'High', 'Low', 'Close', 'Volume']\n",
      "First Line of Data: ['SCHW', 'SCHW', '2018-01-04', '47.05708694458008', '47.66562122856144', '46.90268049962785', '47.16607748735719', '5310400']\n",
      "Cleaned data has replaced the original file: /home/musiliandrew/Desktop/DataProjs/Finance/empirical/SPY.csv.\n",
      "Header: ['Ticker', 'Date', 'Open', 'High', 'Low', 'Close', 'Volume']\n",
      "First Line of Data: ['SPY', 'SPY', '2018-01-04', '242.52972412109375', '243.02085403646052', '241.57430571335505', '242.1636452616898', '80636400']\n",
      "Cleaned data has replaced the original file: /home/musiliandrew/Desktop/DataProjs/Finance/empirical/MCK.csv.\n",
      "Header: ['Ticker', 'Date', 'Open', 'High', 'Low', 'Close', 'Volume']\n",
      "First Line of Data: ['MCK', 'MCK', '2018-01-04', '146.22547912597656', '149.12999834786464', '143.81133701672462', '147.85690862506254', '1946500']\n",
      "Cleaned data has replaced the original file: /home/musiliandrew/Desktop/DataProjs/Finance/empirical/T.csv.\n",
      "Header: ['Ticker', 'Date', 'Open', 'High', 'Low', 'Close', 'Volume']\n",
      "First Line of Data: ['T', 'T', '2018-01-04', '16.55703353881836', '16.639819031105347', '16.234607163976552', '16.44810566487255', '36894187']\n",
      "Cleaned data has replaced the original file: /home/musiliandrew/Desktop/DataProjs/Finance/empirical/NFLX.csv.\n",
      "Header: ['Ticker', 'Date', 'Open', 'High', 'Low', 'Close', 'Volume']\n",
      "First Line of Data: ['NFLX', 'NFLX', '2018-01-04', '205.6300048828125', '207.0500030517578', '204.0', '206.1999969482422', '6029600']\n",
      "Cleaned data has replaced the original file: /home/musiliandrew/Desktop/DataProjs/Finance/empirical/GD.csv.\n",
      "Header: ['Ticker', 'Date', 'Open', 'High', 'Low', 'Close', 'Volume']\n",
      "First Line of Data: ['GD', 'GD', '2018-01-04', '173.72219848632812', '173.99309036920857', '170.8608278907146', '171.31796359446054', '1473200']\n",
      "Cleaned data has replaced the original file: /home/musiliandrew/Desktop/DataProjs/Finance/empirical/TOELY.csv.\n",
      "Header: ['Ticker', 'Date', 'Open', 'High', 'Low', 'Close', 'Volume']\n",
      "First Line of Data: ['TOELY', 'TOELY', '2018-01-04', '32.27333450317383', '32.32666778564453', '32.16666793823242', '32.18000030517578', '41700']\n",
      "Cleaned data has replaced the original file: /home/musiliandrew/Desktop/DataProjs/Finance/empirical/AMD.csv.\n",
      "Header: ['Ticker', 'Date', 'Open', 'High', 'Low', 'Close', 'Volume']\n",
      "First Line of Data: ['AMD', 'AMD', '2018-01-04', '12.119999885559082', '12.430000305175781', '11.970000267028809', '12.100000381469727', '109503000']\n",
      "Cleaned data has replaced the original file: /home/musiliandrew/Desktop/DataProjs/Finance/empirical/WM.csv.\n",
      "Header: ['Ticker', 'Date', 'Open', 'High', 'Low', 'Close', 'Volume']\n",
      "First Line of Data: ['WM', 'WM', '2018-01-04', '77.9407958984375', '78.21505300970804', '77.48076238053663', '77.57807833137213', '2539400']\n",
      "Cleaned data has replaced the original file: /home/musiliandrew/Desktop/DataProjs/Finance/empirical/JPM.csv.\n",
      "Header: ['Ticker', 'Date', 'Open', 'High', 'Low', 'Close', 'Volume']\n",
      "First Line of Data: ['JPM', 'JPM', '2018-01-04', '89.46460723876953', '90.27687584942349', '88.77540488751136', '88.90668391050467', '12953700']\n",
      "Cleaned data has replaced the original file: /home/musiliandrew/Desktop/DataProjs/Finance/empirical/PGR.csv.\n",
      "Header: ['Ticker', 'Date', 'Open', 'High', 'Low', 'Close', 'Volume']\n",
      "First Line of Data: ['PGR', 'PGR', '2018-01-04', '45.494659423828125', '45.8894066367367', '45.313732441472204', '45.58512291500609', '2573300']\n",
      "Cleaned data has replaced the original file: /home/musiliandrew/Desktop/DataProjs/Finance/empirical/PH.csv.\n",
      "Header: ['Ticker', 'Date', 'Open', 'High', 'Low', 'Close', 'Volume']\n",
      "First Line of Data: ['PH', 'PH', '2018-01-04', '180.9994659423828', '182.4479717146599', '179.77450722318866', '180.1053323036375', '823000']\n",
      "Cleaned data has replaced the original file: /home/musiliandrew/Desktop/DataProjs/Finance/empirical/RACE.csv.\n",
      "Header: ['Ticker', 'Date', 'Open', 'High', 'Low', 'Close', 'Volume']\n",
      "First Line of Data: ['RACE', 'RACE', '2018-01-04', '106.06324005126953', '107.33055032500775', '105.78690874776309', '107.30196558150224', '882800']\n",
      "Cleaned data has replaced the original file: /home/musiliandrew/Desktop/DataProjs/Finance/empirical/GM.csv.\n",
      "Header: ['Ticker', 'Date', 'Open', 'High', 'Low', 'Close', 'Volume']\n",
      "First Line of Data: ['GM', 'GM', '2018-01-04', '39.19132614135742', '39.28899423958235', '38.188013023709935', '38.25904559951702', '17298700']\n",
      "Cleaned data has replaced the original file: /home/musiliandrew/Desktop/DataProjs/Finance/empirical/NVO.csv.\n",
      "Header: ['Ticker', 'Date', 'Open', 'High', 'Low', 'Close', 'Volume']\n",
      "First Line of Data: ['NVO', 'NVO', '2018-01-04', '24.317354202270508', '24.40214524211834', '24.259338384273555', '24.388757631192902', '1208400']\n",
      "Cleaned data has replaced the original file: /home/musiliandrew/Desktop/DataProjs/Finance/empirical/AMAT.csv.\n",
      "Header: ['Ticker', 'Date', 'Open', 'High', 'Low', 'Close', 'Volume']\n",
      "First Line of Data: ['AMAT', 'AMAT', '2018-01-04', '50.07231903076172', '50.671819716241416', '49.786401045835646', '50.26600370522404', '9462800']\n",
      "Cleaned data has replaced the original file: /home/musiliandrew/Desktop/DataProjs/Finance/empirical/SMFG.csv.\n",
      "Header: ['Ticker', 'Date', 'Open', 'High', 'Low', 'Close', 'Volume']\n",
      "First Line of Data: ['SMFG', 'SMFG', '2018-01-04', '9.069999694824219', '9.079999923706055', '8.920000076293945', '8.920000076293945', '1025000']\n",
      "Cleaned data has replaced the original file: /home/musiliandrew/Desktop/DataProjs/Finance/empirical/REGN.csv.\n",
      "Header: ['Ticker', 'Date', 'Open', 'High', 'Low', 'Close', 'Volume']\n",
      "First Line of Data: ['REGN', 'REGN', '2018-01-04', '382.95001220703125', '394.95001220703125', '382.3999938964844', '394.5', '650100']\n",
      "Cleaned data has replaced the original file: /home/musiliandrew/Desktop/DataProjs/Finance/empirical/FICO.csv.\n",
      "Header: ['Ticker', 'Date', 'Open', 'High', 'Low', 'Close', 'Volume']\n",
      "First Line of Data: ['FICO', 'FICO', '2018-01-04', '155.17999267578125', '156.50999450683594', '154.07000732421875', '154.07000732421875', '131900']\n",
      "Cleaned data has replaced the original file: /home/musiliandrew/Desktop/DataProjs/Finance/empirical/SCCO.csv.\n",
      "Header: ['Ticker', 'Date', 'Open', 'High', 'Low', 'Close', 'Volume']\n",
      "First Line of Data: ['SCCO', 'SCCO', '2018-01-04', '35.293025970458984', '35.734731036700744', '35.28578444597623', '35.640596803866195', '639173']\n",
      "Cleaned data has replaced the original file: /home/musiliandrew/Desktop/DataProjs/Finance/empirical/MO.csv.\n",
      "Header: ['Ticker', 'Date', 'Open', 'High', 'Low', 'Close', 'Volume']\n",
      "First Line of Data: ['MO', 'MO', '2018-01-04', '41.460540771484375', '41.81490798799993', '41.41919853035307', '41.69678408050597', '6177300']\n"
     ]
    },
    {
     "name": "stdout",
     "output_type": "stream",
     "text": [
      "Cleaned data has replaced the original file: /home/musiliandrew/Desktop/DataProjs/Finance/empirical/TRV.csv.\n",
      "Header: ['Ticker', 'Date', 'Open', 'High', 'Low', 'Close', 'Volume']\n",
      "First Line of Data: ['TRV', 'TRV', '2018-01-04', '113.12614440917969', '114.2796262253419', '113.09197306121123', '113.79259651351067', '1195500']\n",
      "Cleaned data has replaced the original file: /home/musiliandrew/Desktop/DataProjs/Finance/empirical/LIN.csv.\n",
      "Header: ['Ticker', 'Date', 'Open', 'High', 'Low', 'Close', 'Volume']\n",
      "First Line of Data: ['LIN', 'LIN', '2018-01-04', '142.9662628173828', '144.19063664052317', '141.98317998625268', '142.44791129159438', '1896800']\n",
      "Cleaned data has replaced the original file: /home/musiliandrew/Desktop/DataProjs/Finance/empirical/BP.csv.\n",
      "Header: ['Ticker', 'Date', 'Open', 'High', 'Low', 'Close', 'Volume']\n",
      "First Line of Data: ['BP', 'BP', '2018-01-04', '29.24666404724121', '29.335000151258527', '29.151531263115512', '29.22627659909002', '6113800']\n",
      "Cleaned data has replaced the original file: /home/musiliandrew/Desktop/DataProjs/Finance/empirical/ANET.csv.\n",
      "Header: ['Ticker', 'Date', 'Open', 'High', 'Low', 'Close', 'Volume']\n",
      "First Line of Data: ['ANET', 'ANET', '2018-01-04', '14.54312515258789', '14.864375114440918', '14.463125228881836', '14.765625', '13392000']\n",
      "Cleaned data has replaced the original file: /home/musiliandrew/Desktop/DataProjs/Finance/empirical/FCX.csv.\n",
      "Header: ['Ticker', 'Date', 'Open', 'High', 'Low', 'Close', 'Volume']\n",
      "First Line of Data: ['FCX', 'FCX', '2018-01-04', '18.109420776367188', '18.182812483422317', '17.724113876878683', '18.008506522992764', '19540500']\n",
      "Cleaned data has replaced the original file: /home/musiliandrew/Desktop/DataProjs/Finance/empirical/CMCSA.csv.\n",
      "Header: ['Ticker', 'Date', 'Open', 'High', 'Low', 'Close', 'Volume']\n",
      "First Line of Data: ['CMCSA', 'CMCSA', '2018-01-04', '34.30095672607422', '34.34312915272129', '33.82022066149849', '34.13227988870371', '18143800']\n",
      "Cleaned data has replaced the original file: /home/musiliandrew/Desktop/DataProjs/Finance/empirical/FTNT.csv.\n",
      "Header: ['Ticker', 'Date', 'Open', 'High', 'Low', 'Close', 'Volume']\n",
      "First Line of Data: ['FTNT', 'FTNT', '2018-01-04', '8.800000190734863', '9.045999526977539', '8.791999816894531', '9.022000312805176', '12654500']\n",
      "Cleaned data has replaced the original file: /home/musiliandrew/Desktop/DataProjs/Finance/empirical/MU.csv.\n",
      "Header: ['Ticker', 'Date', 'Open', 'High', 'Low', 'Close', 'Volume']\n",
      "First Line of Data: ['MU', 'MU', '2018-01-04', '45.89058303833008', '45.98847101136346', '44.06004732227409', '45.01936738209787', '52229500']\n",
      "Cleaned data has replaced the original file: /home/musiliandrew/Desktop/DataProjs/Finance/empirical/FI.csv.\n",
      "Header: ['Ticker', 'Date', 'Open', 'High', 'Low', 'Close', 'Volume']\n",
      "First Line of Data: ['FI', 'FI', '2018-01-04', '66.62999725341797', '66.69999694824219', '65.8949966430664', '65.8949966430664', '1496000']\n",
      "Cleaned data has replaced the original file: /home/musiliandrew/Desktop/DataProjs/Finance/empirical/ZTS.csv.\n",
      "Header: ['Ticker', 'Date', 'Open', 'High', 'Low', 'Close', 'Volume']\n",
      "First Line of Data: ['ZTS', 'ZTS', '2018-01-04', '69.010009765625', '69.37157244472657', '68.75311646232582', '69.2193339989725', '2534000']\n",
      "Cleaned data has replaced the original file: /home/musiliandrew/Desktop/DataProjs/Finance/empirical/MRK.csv.\n",
      "Header: ['Ticker', 'Date', 'Open', 'High', 'Low', 'Close', 'Volume']\n",
      "First Line of Data: ['MRK', 'MRK', '2018-01-04', '44.11869430541992', '44.4048283122337', '43.60056083879142', '43.64696011242715', '15751650']\n",
      "Cleaned data has replaced the original file: /home/musiliandrew/Desktop/DataProjs/Finance/empirical/BN.csv.\n",
      "Header: ['Ticker', 'Date', 'Open', 'High', 'Low', 'Close', 'Volume']\n",
      "First Line of Data: ['BN', 'BN', '2018-01-04', '21.79376220703125', '21.828703891375877', '21.619052018702906', '21.713893985724784', '1603894']\n",
      "Cleaned data has replaced the original file: /home/musiliandrew/Desktop/DataProjs/Finance/empirical/KKR.csv.\n",
      "Header: ['Ticker', 'Date', 'Open', 'High', 'Low', 'Close', 'Volume']\n",
      "First Line of Data: ['KKR', 'KKR', '2018-01-04', '19.872798919677734', '20.00835654987815', '19.646868961440777', '19.881836324852266', '1677600']\n",
      "Cleaned data has replaced the original file: /home/musiliandrew/Desktop/DataProjs/Finance/empirical/EADSY.csv.\n",
      "Header: ['Ticker', 'Date', 'Open', 'High', 'Low', 'Close', 'Volume']\n",
      "First Line of Data: ['EADSY', 'EADSY', '2018-01-04', '23.497196197509766', '23.560800084757627', '23.351815388635806', '23.44267709437507', '131100']\n",
      "Cleaned data has replaced the original file: /home/musiliandrew/Desktop/DataProjs/Finance/empirical/DE.csv.\n",
      "Header: ['Ticker', 'Date', 'Open', 'High', 'Low', 'Close', 'Volume']\n",
      "First Line of Data: ['DE', 'DE', '2018-01-04', '143.63194274902344', '144.04582184099883', '141.57158077315884', '143.23606198157717', '1747000']\n",
      "Cleaned data has replaced the original file: /home/musiliandrew/Desktop/DataProjs/Finance/empirical/RIO.csv.\n",
      "Header: ['Ticker', 'Date', 'Open', 'High', 'Low', 'Close', 'Volume']\n",
      "First Line of Data: ['RIO', 'RIO', '2018-01-04', '30.12949562072754', '30.294739232668427', '30.096446057864753', '30.223132897058985', '2377700']\n",
      "Cleaned data has replaced the original file: /home/musiliandrew/Desktop/DataProjs/Finance/empirical/SPG.csv.\n",
      "Header: ['Ticker', 'Date', 'Open', 'High', 'Low', 'Close', 'Volume']\n",
      "First Line of Data: ['SPG', 'SPG', '2018-01-04', '113.54658508300781', '116.87937446722654', '113.50568322091067', '116.87937446722654', '2159500']\n",
      "Cleaned data has replaced the original file: /home/musiliandrew/Desktop/DataProjs/Finance/empirical/IBM.csv.\n",
      "Header: ['Ticker', 'Date', 'Open', 'High', 'Low', 'Close', 'Volume']\n",
      "First Line of Data: ['IBM', 'IBM', '2018-01-04', '111.8425064086914', '112.27133500944849', '110.23091895978104', '110.42458455749198', '7903785']\n",
      "Cleaned data has replaced the original file: /home/musiliandrew/Desktop/DataProjs/Finance/empirical/AVGO.csv.\n",
      "Header: ['Ticker', 'Date', 'Open', 'High', 'Low', 'Close', 'Volume']\n",
      "First Line of Data: ['AVGO', 'AVGO', '2018-01-04', '21.562204360961914', '21.70115032201131', '21.435236027318', '21.68757496684027', '19067000']\n",
      "Cleaned data has replaced the original file: /home/musiliandrew/Desktop/DataProjs/Finance/empirical/AZN.csv.\n",
      "Header: ['Ticker', 'Date', 'Open', 'High', 'Low', 'Close', 'Volume']\n",
      "First Line of Data: ['AZN', 'AZN', '2018-01-04', '29.254444122314453', '29.33684974973677', '29.073147969697537', '29.26268342762741', '3870900']\n",
      "Cleaned data has replaced the original file: /home/musiliandrew/Desktop/DataProjs/Finance/empirical/CMG.csv.\n",
      "Header: ['Ticker', 'Date', 'Open', 'High', 'Low', 'Close', 'Volume']\n",
      "First Line of Data: ['CMG', 'CMG', '2018-01-04', '6.142199993133545', '6.207600116729736', '6.087800025939941', '6.180600166320801', '35165000']\n",
      "Cleaned data has replaced the original file: /home/musiliandrew/Desktop/DataProjs/Finance/empirical/QCOM.csv.\n",
      "Header: ['Ticker', 'Date', 'Open', 'High', 'Low', 'Close', 'Volume']\n",
      "First Line of Data: ['QCOM', 'QCOM', '2018-01-04', '54.826316833496094', '55.24147901619393', '54.726681963966804', '54.95086675527988', '5060100']\n",
      "Cleaned data has replaced the original file: /home/musiliandrew/Desktop/DataProjs/Finance/empirical/BK.csv.\n",
      "Header: ['Ticker', 'Date', 'Open', 'High', 'Low', 'Close', 'Volume']\n",
      "First Line of Data: ['BK', 'BK', '2018-01-04', '44.823707580566406', '45.11876266362401', '44.47128102319325', '44.56143709040651', '2886500']\n",
      "Cleaned data has replaced the original file: /home/musiliandrew/Desktop/DataProjs/Finance/empirical/VST.csv.\n",
      "Header: ['Ticker', 'Date', 'Open', 'High', 'Low', 'Close', 'Volume']\n",
      "First Line of Data: ['VST', 'VST', '2018-01-04', '15.902621269226074', '16.3240534422146', '15.82521519250922', '15.86821947982182', '4480500']\n",
      "Cleaned data has replaced the original file: /home/musiliandrew/Desktop/DataProjs/Finance/empirical/HON.csv.\n",
      "Header: ['Ticker', 'Date', 'Open', 'High', 'Low', 'Close', 'Volume']\n",
      "First Line of Data: ['HON', 'HON', '2018-01-04', '128.2273712158203', '128.2273712158203', '126.74176156123691', '126.82475274939397', '4691432']\n",
      "Cleaned data has replaced the original file: /home/musiliandrew/Desktop/DataProjs/Finance/empirical/RELX.csv.\n",
      "Header: ['Ticker', 'Date', 'Open', 'High', 'Low', 'Close', 'Volume']\n",
      "First Line of Data: ['RELX', 'RELX', '2018-01-04', '20.126705169677734', '20.1437116468797', '19.98215335711489', '19.999159834316856', '115700']\n",
      "Cleaned data has replaced the original file: /home/musiliandrew/Desktop/DataProjs/Finance/empirical/CMI.csv.\n",
      "Header: ['Ticker', 'Date', 'Open', 'High', 'Low', 'Close', 'Volume']\n",
      "First Line of Data: ['CMI', 'CMI', '2018-01-04', '150.3529052734375', '150.43563544239842', '148.26822871956693', '148.59085618195212', '1433800']\n",
      "Cleaned data has replaced the original file: /home/musiliandrew/Desktop/DataProjs/Finance/empirical/META.csv.\n",
      "Header: ['Ticker', 'Date', 'Open', 'High', 'Low', 'Close', 'Volume']\n",
      "First Line of Data: ['META', 'META', '2018-01-04', '183.6285400390625', '185.50139062479394', '183.39941955274074', '184.1963630183333', '13880900']\n",
      "Cleaned data has replaced the original file: /home/musiliandrew/Desktop/DataProjs/Finance/empirical/BUD.csv.\n",
      "Header: ['Ticker', 'Date', 'Open', 'High', 'Low', 'Close', 'Volume']\n",
      "First Line of Data: ['BUD', 'BUD', '2018-01-04', '101.13399505615234', '101.83730447304022', '101.0182631744527', '101.65034983698278', '1314700']\n",
      "Cleaned data has replaced the original file: /home/musiliandrew/Desktop/DataProjs/Finance/empirical/SO.csv.\n",
      "Header: ['Ticker', 'Date', 'Open', 'High', 'Low', 'Close', 'Volume']\n",
      "First Line of Data: ['SO', 'SO', '2018-01-04', '34.74048614501953', '35.03060966046495', '34.65121802590917', '34.881827570092796', '5231500']\n",
      "Cleaned data has replaced the original file: /home/musiliandrew/Desktop/DataProjs/Finance/empirical/PNC.csv.\n",
      "Header: ['Ticker', 'Date', 'Open', 'High', 'Low', 'Close', 'Volume']\n",
      "First Line of Data: ['PNC', 'PNC', '2018-01-04', '112.72936248779297', '114.69393194143537', '112.61241618262336', '113.0957728317899', '3292500']\n"
     ]
    }
   ],
   "source": [
    "import csv\n",
    "import os\n",
    "import re\n",
    "\n",
    "# Regex pattern to match \"{ticker}.csv\" (only uppercase letters)\n",
    "regex_pattern = r\"^[A-Z]+\\.csv$\"\n",
    "\n",
    "def clean_and_overwrite_csv(file_path):\n",
    "    try:\n",
    "        with open(file_path, mode='r') as infile:\n",
    "            csv_reader = csv.reader(infile)\n",
    "            \n",
    "            # Skip the first two irrelevant lines\n",
    "            next(csv_reader)  # Skip \"Price,Close,High,Low,Open,Volume\"\n",
    "            next(csv_reader)  # Skip \"Ticker, AAPL,AAPL,AAPL,AAPL,AAPL\"\n",
    "\n",
    "            # Process the actual header\n",
    "            header = [\"Ticker\", \"Date\", \"Open\", \"High\", \"Low\", \"Close\", \"Volume\"]  # Define a proper header\n",
    "\n",
    "            # Read the actual data\n",
    "            next(csv_reader)  # Skip the incorrect \"Date\" row\n",
    "            cleaned_data = []\n",
    "            \n",
    "            for row in csv_reader:\n",
    "                if row:  # Ensure no empty rows\n",
    "                    # Add the ticker name derived from the filename\n",
    "                    ticker = os.path.basename(file_path).split(\".\")[0]  # Extract ticker from filename\n",
    "                    cleaned_row = [ticker] + row\n",
    "                    cleaned_data.append(cleaned_row)\n",
    "\n",
    "        # Overwrite the original file with cleaned data\n",
    "        with open(file_path, mode='w', newline='') as outfile:\n",
    "            csv_writer = csv.writer(outfile)\n",
    "            csv_writer.writerow(header)  # Write the new header\n",
    "            csv_writer.writerows(cleaned_data)  # Write the cleaned data\n",
    "            \n",
    "        print(f\"Cleaned data has replaced the original file: {file_path}.\")\n",
    "        print(f\"Header: {header}\")\n",
    "        print(f\"First Line of Data: {cleaned_data[0] if cleaned_data else 'No Data'}\")\n",
    "\n",
    "    except FileNotFoundError:\n",
    "        print(f\"Error: The file {file_path} was not found.\")\n",
    "    except Exception as e:\n",
    "        print(f\"An error occurred while processing {file_path}: {e}\")\n",
    "\n",
    "def process_csv_files_in_directory(directory, regex_pattern):\n",
    "    # Compile the regex pattern\n",
    "    pattern = re.compile(regex_pattern)\n",
    "\n",
    "    # Loop through all files in the directory\n",
    "    for filename in os.listdir(directory):\n",
    "        if pattern.match(filename):  # Check if the filename matches the pattern\n",
    "            file_path = os.path.join(directory, filename)\n",
    "            clean_and_overwrite_csv(file_path)\n",
    "\n",
    "# Get the current directory (where the script is located)\n",
    "directory_path = os.getcwd()\n",
    "\n",
    "# Regex pattern to match \"{ticker}.csv\" (only uppercase letters)\n",
    "regex_pattern = r\"^[A-Z]+\\.csv$\"\n",
    "\n",
    "# Call the function to process all matching files\n",
    "process_csv_files_in_directory(directory_path, regex_pattern)\n"
   ]
  },
  {
   "cell_type": "code",
   "execution_count": 21,
   "id": "dd1cc17a",
   "metadata": {},
   "outputs": [
    {
     "name": "stdout",
     "output_type": "stream",
     "text": [
      "Connection established successfully!\n",
      "Processing file: TSLA.csv\n",
      "Headers found: ['Ticker', 'Date', 'Open', 'High', 'Low', 'Close', 'Volume']\n",
      "Error while interacting with the database: column \"ticker\" of relation \"stock_prices\" does not exist\n",
      "LINE 2: ...INSERT INTO \"Financial Data Schema\".stock_prices (ticker, da...\n",
      "                                                             ^\n",
      "\n",
      "Connection closed.\n"
     ]
    }
   ],
   "source": [
    "import os\n",
    "import re\n",
    "\n",
    "# Regex pattern to match \"{ticker}.csv\" (only uppercase letters)\n",
    "regex_pattern = r\"^[A-Z]+\\.csv$\"\n",
    "\n",
    "\n",
    "# Insert data into the \"Financial Data Schema\".stock_prices table\n",
    "def insert_stock_price(cursor, ticker, date, open_price, high, low, close, volume):\n",
    "    query = \"\"\"\n",
    "    INSERT INTO \"Financial Data Schema\".stock_prices (ticker, date, open, high, low, close, volume)\n",
    "    VALUES (%s, %s, %s, %s, %s, %s, %s)\n",
    "    \"\"\"\n",
    "    cursor.execute(query, (ticker, date, open_price, high, low, close, volume))\n",
    "\n",
    "def load_csv_to_db():\n",
    "    try:\n",
    "        # Establish the database connection\n",
    "        conn = psycopg2.connect(**db_params)\n",
    "        cursor = conn.cursor()\n",
    "        print(\"Connection established successfully!\")\n",
    "\n",
    "        # Loop through all files in the current directory\n",
    "        for filename in os.listdir(\".\"):\n",
    "            # Validate filename with regex\n",
    "            if re.match(regex_pattern, filename):\n",
    "                ticker = filename.split(\".\")[0]  # Extract ticker from filename\n",
    "                \n",
    "                print(f\"Processing file: {filename}\")\n",
    "                \n",
    "                # Read the CSV file and insert data into the database\n",
    "                with open(filename, \"r\") as csv_file:\n",
    "                    reader = csv.DictReader(csv_file)\n",
    "                    headers = reader.fieldnames  # Get the headers\n",
    "                    print(f\"Headers found: {headers}\")  # Debug print\n",
    "                    \n",
    "                    for row in reader:\n",
    "                        # Ensure all necessary fields are present\n",
    "                        if \"Ticker\" not in row or \"Date\" not in row or \"Open\" not in row or \"High\" not in row or \"Low\" not in row or \"Close\" not in row or \"Volume\" not in row:\n",
    "                            print(f\"Missing fields in row: {row}\")\n",
    "                            continue\n",
    "                        \n",
    "                        # Ensure no empty values in the row\n",
    "                        if any(not value for value in row.values()):\n",
    "                            print(\"Skipping empty row.\")\n",
    "                            continue\n",
    "                        \n",
    "                        # Insert data into the database\n",
    "                        insert_stock_price(\n",
    "                            cursor,\n",
    "                            row[\"Ticker\"],  # Use the correct key for ticker\n",
    "                            row[\"Date\"],    # Use the correct key for date\n",
    "                            float(row[\"Open\"]),  # Use the correct key for open price\n",
    "                            float(row[\"High\"]),  # Use the correct key for high price\n",
    "                            float(row[\"Low\"]),   # Use the correct key for low price\n",
    "                            float(row[\"Close\"]),  # Use the correct key for close price\n",
    "                            int(row[\"Volume\"]),   # Use the correct key for volume\n",
    "                        )\n",
    "                print(f\"Data from {filename} inserted successfully!\")\n",
    "\n",
    "        # Commit the transaction\n",
    "        conn.commit()\n",
    "        print(\"All data loaded successfully!\")\n",
    "    \n",
    "    except (Exception, psycopg2.Error) as error:\n",
    "        print(f\"Error while interacting with the database: {error}\")\n",
    "    \n",
    "    finally:\n",
    "        # Close the connection\n",
    "        if conn:\n",
    "            cursor.close()\n",
    "            conn.close()\n",
    "            print(\"Connection closed.\")\n",
    "\n",
    "# Load CSV files into the database\n",
    "load_csv_to_db()"
   ]
  },
  {
   "cell_type": "code",
   "execution_count": 18,
   "id": "471785b2",
   "metadata": {},
   "outputs": [
    {
     "name": "stdout",
     "output_type": "stream",
     "text": [
      "Connection established successfully!\n",
      "The schema 'Financial Data Schema' exists.\n",
      "The table 'Financial Data Schema.stock_prices' exists.\n",
      "Connection closed.\n"
     ]
    }
   ],
   "source": [
    "def check_schema_and_table_exists():\n",
    "    try:\n",
    "        # Establish the database connection\n",
    "        conn = psycopg2.connect(**db_params)\n",
    "        cursor = conn.cursor()\n",
    "        print(\"Connection established successfully!\")\n",
    "\n",
    "        # Query to check if the schema exists\n",
    "        schema_query = \"\"\"\n",
    "        SELECT schema_name\n",
    "        FROM information_schema.schemata\n",
    "        WHERE schema_name = 'Financial Data Schema';\n",
    "        \"\"\"\n",
    "        cursor.execute(schema_query)\n",
    "        schema_result = cursor.fetchone()\n",
    "\n",
    "        # Check if the schema exists\n",
    "        if schema_result:\n",
    "            print(\"The schema 'Financial Data Schema' exists.\")\n",
    "        else:\n",
    "            print(\"The schema 'Financial Data Schema' does not exist.\")\n",
    "            return\n",
    "\n",
    "        # Query to check if the table exists within the 'Financial Data' schema\n",
    "        table_query = \"\"\"\n",
    "        SELECT to_regclass('\"Financial Data Schema\".stock_prices');\n",
    "        \"\"\"\n",
    "        cursor.execute(table_query)\n",
    "        table_result = cursor.fetchone()\n",
    "\n",
    "        # Check if the table exists\n",
    "        if table_result[0] is not None:\n",
    "            print(\"The table 'Financial Data Schema.stock_prices' exists.\")\n",
    "        else:\n",
    "            print(\"The table 'Financial Data Schema.stock_prices' does not exist.\")\n",
    "\n",
    "    except (Exception, psycopg2.Error) as error:\n",
    "        print(f\"Error while interacting with the database: {error}\")\n",
    "    \n",
    "    finally:\n",
    "        # Close the connection\n",
    "        if conn:\n",
    "            cursor.close()\n",
    "            conn.close()\n",
    "            print(\"Connection closed.\")\n",
    "\n",
    "# Run the check\n",
    "check_schema_and_table_exists()"
   ]
  },
  {
   "cell_type": "code",
   "execution_count": 25,
   "id": "8f9d901d",
   "metadata": {},
   "outputs": [
    {
     "name": "stdout",
     "output_type": "stream",
     "text": [
      "  Ticker        Date       Open       High        Low      Close     Volume\n",
      "0   TSLA  2018-01-04  20.974667  21.236668  20.378668  20.858000  149194500\n",
      "1   TSLA  2018-01-05  21.105333  21.149332  20.799999  21.108000   68868000\n",
      "2   TSLA  2018-01-08  22.427334  22.468000  21.033333  21.066668  147891000\n",
      "3   TSLA  2018-01-09  22.246000  22.586666  21.826668  22.344000  107199000\n",
      "4   TSLA  2018-01-10  22.320000  22.466667  22.000000  22.146667   64648500\n"
     ]
    }
   ],
   "source": [
    "import pandas as pd\n",
    "import glob\n",
    "import re\n",
    "import os\n",
    "\n",
    "# Step 1: Define the regex pattern to match files of the form \"{TICKER}.csv\"\n",
    "regex_pattern = r\"^[A-Z]+\\.csv$\"\n",
    "\n",
    "# Step 2: Get a list of all CSV files in the current directory\n",
    "all_files = glob.glob(os.path.join(os.getcwd(), '*.csv'))  # Using current working directory\n",
    "\n",
    "# Step 3: Filter files using regex (only matching \"{TICKER}.csv\")\n",
    "filtered_files = [file for file in all_files if re.match(regex_pattern, os.path.basename(file))]\n",
    "\n",
    "# Step 4: Read and merge all filtered CSV files into one DataFrame\n",
    "stock_data_list = [pd.read_csv(file) for file in filtered_files]\n",
    "\n",
    "# Step 5: Concatenate all DataFrames into a single DataFrame\n",
    "merged_stock_data = pd.concat(stock_data_list, ignore_index=True)\n",
    "\n",
    "# Step 6: Show the first few rows of the merged data\n",
    "print(merged_stock_data.head())\n"
   ]
  },
  {
   "cell_type": "code",
   "execution_count": 41,
   "id": "644df05d",
   "metadata": {},
   "outputs": [
    {
     "name": "stdout",
     "output_type": "stream",
     "text": [
      "  Ticker        Date       Open       High        Low      Close     Volume\n",
      "0   TSLA  2018-01-04  20.974667  21.236668  20.378668  20.858000  149194500\n",
      "1   TSLA  2018-01-05  21.105333  21.149332  20.799999  21.108000   68868000\n",
      "2   TSLA  2018-01-08  22.427334  22.468000  21.033333  21.066668  147891000\n",
      "3   TSLA  2018-01-09  22.246000  22.586666  21.826668  22.344000  107199000\n",
      "4   TSLA  2018-01-10  22.320000  22.466667  22.000000  22.146667   64648500\n",
      "  Ticker  Debt-to-Equity Ratio        EPS    Net Income  Gross Profit  \\\n",
      "0   AAPL              5.408780        NaN  9.373600e+10  1.806830e+11   \n",
      "1   NVDA              0.529341   1.193264  2.976000e+10  4.430100e+10   \n",
      "2   MSFT              0.907661  11.800241  8.813600e+10  1.710080e+11   \n",
      "3  GOOGL              0.419978   5.800582  7.379500e+10  1.740620e+11   \n",
      "4   AMZN              1.614757   2.899828  3.042500e+10  9.380500e+10   \n",
      "\n",
      "   Operating Income  \n",
      "0      1.232160e+11  \n",
      "1      3.297200e+10  \n",
      "2      1.094330e+11  \n",
      "3      8.429300e+10  \n",
      "4      3.685200e+10  \n",
      "       Ticker       Date       Open       High        Low      Close  \\\n",
      "292980   AAPL 2018-01-08  41.016026  41.312441  40.917217  41.016026   \n",
      "292981   AAPL 2018-01-09  41.011314  41.183047  40.794884  41.063070   \n",
      "292982   AAPL 2018-01-10  41.001907  41.004262  40.698435  40.736076   \n",
      "292983   AAPL 2018-01-11  41.234806  41.284210  41.048959  41.072482   \n",
      "292984   AAPL 2018-01-12  41.660603  41.724121  41.321841  41.446523   \n",
      "\n",
      "           Volume    Return   Illiquidity  \n",
      "292980   82271200       NaN           NaN  \n",
      "292981   86336000  0.001147  1.328502e-11  \n",
      "292982   95839600 -0.007963  8.308893e-11  \n",
      "292983   74670800  0.008258  1.105946e-10  \n",
      "292984  101672400  0.009107  8.957054e-11  \n",
      "                            OLS Regression Results                            \n",
      "==============================================================================\n",
      "Dep. Variable:      Return_Volatility   R-squared:                       0.015\n",
      "Model:                            OLS   Adj. R-squared:                  0.015\n",
      "Method:                 Least Squares   F-statistic:                     1787.\n",
      "Date:                Mon, 20 Jan 2025   Prob (F-statistic):               0.00\n",
      "Time:                        11:28:16   Log-Likelihood:             8.2722e+05\n",
      "No. Observations:              234763   AIC:                        -1.654e+06\n",
      "Df Residuals:                  234760   BIC:                        -1.654e+06\n",
      "Df Model:                           2                                         \n",
      "Covariance Type:            nonrobust                                         \n",
      "========================================================================================\n",
      "                           coef    std err          t      P>|t|      [0.025      0.975]\n",
      "----------------------------------------------------------------------------------------\n",
      "const                    0.0211    1.5e-05   1402.120      0.000       0.021       0.021\n",
      "EPS                  -1.941e-06   5.02e-08    -38.690      0.000   -2.04e-06   -1.84e-06\n",
      "Debt-to-Equity Ratio -6.544e-05   1.43e-06    -45.666      0.000   -6.83e-05   -6.26e-05\n",
      "==============================================================================\n",
      "Omnibus:                    72914.235   Durbin-Watson:                   0.002\n",
      "Prob(Omnibus):                  0.000   Jarque-Bera (JB):           205397.284\n",
      "Skew:                           1.663   Prob(JB):                         0.00\n",
      "Kurtosis:                       6.153   Cond. No.                         301.\n",
      "==============================================================================\n",
      "\n",
      "Notes:\n",
      "[1] Standard Errors assume that the covariance matrix of the errors is correctly specified.\n"
     ]
    }
   ],
   "source": [
    "import pandas as pd\n",
    "import numpy as np\n",
    "from glob import glob\n",
    "import statsmodels.api as sm\n",
    "import os\n",
    "import re\n",
    "from scipy.stats import kurtosis\n",
    "\n",
    "regex_pattern = r\"^[A-Z]+\\.csv$\"\n",
    "\n",
    "all_files = glob(os.path.join(os.getcwd(), '*.csv'))  # Using current working directory\n",
    "\n",
    "filtered_files = [file for file in all_files if re.match(regex_pattern, os.path.basename(file))]\n",
    "\n",
    "stock_data_list = [pd.read_csv(file) for file in filtered_files]\n",
    "\n",
    "merged_stock_data = pd.concat(stock_data_list, ignore_index=True)\n",
    "\n",
    "print(merged_stock_data.head())\n",
    "\n",
    "# Step 2: Read financial data\n",
    "financial_data = pd.read_csv(\"financial_data.csv\")\n",
    "\n",
    "# Step 3: Calculate daily returns for each stock\n",
    "merged_stock_data['Date'] = pd.to_datetime(merged_stock_data['Date'])\n",
    "merged_stock_data = merged_stock_data.sort_values(by=['Ticker', 'Date'])\n",
    "merged_stock_data['Return'] = merged_stock_data.groupby('Ticker')['Close'].pct_change()\n",
    "\n",
    "# Step 4: Calculate liquidity (Illiquidity Ratio)\n",
    "merged_stock_data['Illiquidity'] = abs(merged_stock_data['Return']) / merged_stock_data['Volume']\n",
    "print(financial_data.head())\n",
    "print(merged_stock_data.head())\n",
    "\n",
    "# Step 5: Merge stock data with financial data on 'Ticker'\n",
    "merged_data = pd.merge(merged_stock_data, financial_data, on='Ticker')\n",
    "\n",
    "# Step 6: Summary statistics for stock characteristics\n",
    "summary = merged_data.groupby('Ticker').agg({\n",
    "    'Return': ['mean', 'std', 'min', 'max', 'skew', lambda x: kurtosis(x, fisher=False)],  # Using kurtosis from scipy\n",
    "    'Volume': ['mean', 'median', 'std'],\n",
    "    'Illiquidity': 'mean'\n",
    "})\n",
    "\n",
    "# Flatten the multi-level columns and rename them\n",
    "summary.columns = ['_'.join(col).strip() for col in summary.columns]\n",
    "\n",
    "# Step 7: Econometric Analysis\n",
    "# Example: Relationship between return volatility and EPS\n",
    "merged_data['Return_Volatility'] = merged_data.groupby('Ticker')['Return'].transform('std')\n",
    "\n",
    "econ_data = merged_data[['EPS', 'Debt-to-Equity Ratio', 'Return_Volatility']].dropna()\n",
    "\n",
    "if not econ_data.empty:\n",
    "    # Define the independent (X) and dependent (y) variables for regression\n",
    "    X = econ_data[['EPS', 'Debt-to-Equity Ratio']]\n",
    "    y = econ_data['Return_Volatility']\n",
    "\n",
    "    # Add constant to the model (for the intercept)\n",
    "    X = sm.add_constant(X)\n",
    "\n",
    "    # Step 8: Run OLS regression to analyze relationships\n",
    "    model = sm.OLS(y, X).fit()\n",
    "\n",
    "    # Step 9: Output the regression results\n",
    "    print(model.summary())\n",
    "else:\n",
    "    print(\"No data available for regression analysis.\")"
   ]
  },
  {
   "cell_type": "code",
   "execution_count": 43,
   "id": "36768e50",
   "metadata": {},
   "outputs": [
    {
     "data": {
      "image/png": "[encoded data removed]",
      "text/plain": [
       "<Figure size 800x600 with 1 Axes>"
      ]
     },
     "metadata": {},
     "output_type": "display_data"
    }
   ],
   "source": [
    "import matplotlib.pyplot as plt\n",
    "\n",
    "# Step 10: Predict return volatility using the regression model\n",
    "econ_data['Predicted_Volatility'] = model.predict(sm.add_constant(econ_data[['EPS', 'Debt-to-Equity Ratio']]))\n",
    "\n",
    "# Step 11: Plot Predicted vs. Actual Return Volatility\n",
    "plt.figure(figsize=(8, 6))\n",
    "plt.scatter(econ_data['Return_Volatility'], econ_data['Predicted_Volatility'], alpha=0.6, color='b', label='Actual vs Predicted')\n",
    "plt.plot([econ_data['Return_Volatility'].min(), econ_data['Return_Volatility'].max()], \n",
    "         [econ_data['Return_Volatility'].min(), econ_data['Return_Volatility'].max()], \n",
    "         color='r', linestyle='--', label='Perfect Prediction')\n",
    "\n",
    "plt.xlabel('Actual Return Volatility')\n",
    "plt.ylabel('Predicted Return Volatility')\n",
    "plt.legend()\n",
    "plt.grid(True)\n",
    "plt.show()\n"
   ]
  },
  {
   "cell_type": "code",
   "execution_count": 44,
   "id": "75f19273",
   "metadata": {},
   "outputs": [
    {
     "name": "stdout",
     "output_type": "stream",
     "text": [
      "Regression Results for Return Volatility vs. Financial Characteristics\n",
      "                      Coefficient    Std. Error  t-Statistic  P-value  \\\n",
      "const                    0.021053  1.501501e-05  1402.119700      0.0   \n",
      "EPS                     -0.000002  5.017324e-08   -38.689615      0.0   \n",
      "Debt-to-Equity Ratio    -0.000065  1.433052e-06   -45.666365      0.0   \n",
      "\n",
      "                      95% Conf. Interval (Lower)  95% Conf. Interval (Upper)  \n",
      "const                                   0.021023                    0.021082  \n",
      "EPS                                    -0.000002                   -0.000002  \n",
      "Debt-to-Equity Ratio                   -0.000068                   -0.000063  \n"
     ]
    }
   ],
   "source": [
    "# Step 12: Display Regression Results in Table Format\n",
    "regression_results = model.summary2().tables[1]\n",
    "\n",
    "# Rename the table to match your description\n",
    "regression_results = regression_results[['Coef.', 'Std.Err.', 't', 'P>|t|', '[0.025', '0.975]']]\n",
    "regression_results.columns = ['Coefficient', 'Std. Error', 't-Statistic', 'P-value', '95% Conf. Interval (Lower)', '95% Conf. Interval (Upper)']\n",
    "\n",
    "# Display the table\n",
    "print(\"Regression Results for Return Volatility vs. Financial Characteristics\")\n",
    "print(regression_results)\n"
   ]
  },
  {
   "cell_type": "code",
   "execution_count": null,
   "id": "9b7f17d9",
   "metadata": {},
   "outputs": [],
   "source": []
  }
 ],
 "metadata": {
  "kernelspec": {
   "display_name": "Python 3 (ipykernel)",
   "language": "python",
   "name": "python3"
  },
  "language_info": {
   "codemirror_mode": {
    "name": "ipython",
    "version": 3
   },
   "file_extension": ".py",
   "mimetype": "text/x-python",
   "name": "python",
   "nbconvert_exporter": "python",
   "pygments_lexer": "ipython3",
   "version": "3.10.9"
  }
 },
 "nbformat": 4,
 "nbformat_minor": 5
}
